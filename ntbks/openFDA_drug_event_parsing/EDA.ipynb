{
 "cells": [
  {
   "cell_type": "markdown",
   "metadata": {},
   "source": [
    "#### EDA Dataset\n",
    "\n",
    "ไฟล์ชุดข้อมูลที่ไม่ได้ถูก Standardize\n",
    "\n",
    "report.csv.gzข้อมูลรายงาน เช่น วันที่รับรายงาน, วันที่ได้รับ, วันที่อัปเดตล่าสุด\n",
    "report_serious.csv.gzข้อมูลความรุนแรง เช่น congenital anomaly, life-threatening, disabling, death\n",
    "reporter.csv.gzข้อมูลผู้รายงาน เช่น บริษัท, คุณสมบัติ, ประเทศ\n",
    "patient.csv.gzข้อมูลผู้ป่วย เช่น อายุเริ่มป่วย, เพศ, น้ำหนัก\n",
    "drugcharacteristics.csv.gzลักษณะของยา เช่น ชื่อผลิตภัณฑ์ยา, ลักษณะการใช้, วิธีบริหารยา, ข้อบ่งใช้\n",
    "drugs.csv.gzข้อมูลยาพร้อม RxCUI แต่ยังไม่ถูก standardize อย่างเต็มรูปแบบ\n",
    "reactions.csv.gzข้อมูลปฏิกิริยา เช่น MedDRA preferred term และผลลัพธ์ แต่ยังไม่ถูก standardize\n",
    "\n",
    "ไฟล์ชุดข้อมูลที่ถูก Standardize\n",
    "\n",
    "standard_drugs.csv.gzข้อมูลยาที่ถูก standardize ด้วย RxNorm concepts\n",
    "standard_reactions.csv.gzข้อมูลปฏิกิริยาที่ถูก standardize ด้วย MedDRA concepts\n",
    "standard_drugs_atc.csv.gzข้อมูลยาที่ถูก standardize ด้วย ATC classification\n",
    "standard_drugs_rxnorm_ingredients.csv.gzข้อมูลยาที่ถูก standardize ด้วย RxNorm ingredients\n",
    "standard_reactions_meddra_relationships.csv.gzความสัมพันธ์ระหว่าง MedDRA concepts สำหรับปฏิกิริยา\n",
    "standard_reactions_meddra_hlt.csv.gzปฏิกิริยาที่ map ไปยัง MedDRA High-Level Terms (HLT)\n",
    "standard_reactions_meddra_hlgt.csv.gzปฏิกิริยาที่ map ไปยัง MedDRA High-Level Group Terms (HLGT)\n",
    "standard_reactions_meddra_soc.csv.gzปฏิกิริยาที่ map ไปยัง MedDRA System Organ Class (SOC)\n",
    "standard_reactions_snomed.csv.gzปฏิกิริยาที่ map ไปยัง SNOMED concepts\n",
    "\n"
   ]
  },
  {
   "cell_type": "code",
   "execution_count": 1,
   "metadata": {},
   "outputs": [],
   "source": [
    "import pandas as pd\n",
    "import numpy as np\n",
    "import dask.dataframe as dd\n",
    "import matplotlib.pyplot as plt\n"
   ]
  },
  {
   "cell_type": "markdown",
   "metadata": {},
   "source": [
    "#### Load Raw Data"
   ]
  },
  {
   "cell_type": "markdown",
   "metadata": {},
   "source": [
    "##### Report"
   ]
  },
  {
   "cell_type": "code",
   "execution_count": 2,
   "metadata": {},
   "outputs": [],
   "source": [
    "report_df = pd.read_csv(\"../../data/openFDA_drug_event/er_tables_memory_efficient/report.csv.gz\", compression='gzip', low_memory=False)\n",
    "report_serious_df = pd.read_csv(\"../../data/openFDA_drug_event/er_tables_memory_efficient/report_serious.csv.gz\", compression='gzip', low_memory=False)\n",
    "reporter_df = pd.read_csv(\"../../data/openFDA_drug_event/er_tables_memory_efficient/reporter.csv.gz\", compression='gzip', low_memory=False)"
   ]
  },
  {
   "cell_type": "code",
   "execution_count": 3,
   "metadata": {},
   "outputs": [
    {
     "data": {
      "text/html": [
       "<div>\n",
       "<style scoped>\n",
       "    .dataframe tbody tr th:only-of-type {\n",
       "        vertical-align: middle;\n",
       "    }\n",
       "\n",
       "    .dataframe tbody tr th {\n",
       "        vertical-align: top;\n",
       "    }\n",
       "\n",
       "    .dataframe thead th {\n",
       "        text-align: right;\n",
       "    }\n",
       "</style>\n",
       "<table border=\"1\" class=\"dataframe\">\n",
       "  <thead>\n",
       "    <tr style=\"text-align: right;\">\n",
       "      <th></th>\n",
       "      <th>safetyreportid</th>\n",
       "      <th>lastupdate_date</th>\n",
       "      <th>mostrecent_receive_date</th>\n",
       "      <th>receive_date</th>\n",
       "    </tr>\n",
       "  </thead>\n",
       "  <tbody>\n",
       "    <tr>\n",
       "      <th>0</th>\n",
       "      <td>10003300</td>\n",
       "      <td>20141002</td>\n",
       "      <td>20140306</td>\n",
       "      <td>20140306</td>\n",
       "    </tr>\n",
       "    <tr>\n",
       "      <th>1</th>\n",
       "      <td>10003301</td>\n",
       "      <td>20141002</td>\n",
       "      <td>20140228</td>\n",
       "      <td>20140228</td>\n",
       "    </tr>\n",
       "    <tr>\n",
       "      <th>2</th>\n",
       "      <td>10003302</td>\n",
       "      <td>20141002</td>\n",
       "      <td>20140312</td>\n",
       "      <td>20140312</td>\n",
       "    </tr>\n",
       "    <tr>\n",
       "      <th>3</th>\n",
       "      <td>10003304</td>\n",
       "      <td>20141212</td>\n",
       "      <td>20140424</td>\n",
       "      <td>20140312</td>\n",
       "    </tr>\n",
       "    <tr>\n",
       "      <th>4</th>\n",
       "      <td>10003305</td>\n",
       "      <td>20141002</td>\n",
       "      <td>20140312</td>\n",
       "      <td>20140312</td>\n",
       "    </tr>\n",
       "    <tr>\n",
       "      <th>...</th>\n",
       "      <td>...</td>\n",
       "      <td>...</td>\n",
       "      <td>...</td>\n",
       "      <td>...</td>\n",
       "    </tr>\n",
       "    <tr>\n",
       "      <th>19026488</th>\n",
       "      <td>9999995</td>\n",
       "      <td>20151125</td>\n",
       "      <td>20150812</td>\n",
       "      <td>20140312</td>\n",
       "    </tr>\n",
       "    <tr>\n",
       "      <th>19026489</th>\n",
       "      <td>9999996</td>\n",
       "      <td>20151125</td>\n",
       "      <td>20150812</td>\n",
       "      <td>20140312</td>\n",
       "    </tr>\n",
       "    <tr>\n",
       "      <th>19026490</th>\n",
       "      <td>9999997</td>\n",
       "      <td>20151125</td>\n",
       "      <td>20150812</td>\n",
       "      <td>20140312</td>\n",
       "    </tr>\n",
       "    <tr>\n",
       "      <th>19026491</th>\n",
       "      <td>9999998</td>\n",
       "      <td>20151125</td>\n",
       "      <td>20150812</td>\n",
       "      <td>20140312</td>\n",
       "    </tr>\n",
       "    <tr>\n",
       "      <th>19026492</th>\n",
       "      <td>9999999</td>\n",
       "      <td>20151125</td>\n",
       "      <td>20150812</td>\n",
       "      <td>20140312</td>\n",
       "    </tr>\n",
       "  </tbody>\n",
       "</table>\n",
       "<p>19026493 rows × 4 columns</p>\n",
       "</div>"
      ],
      "text/plain": [
       "         safetyreportid  lastupdate_date  mostrecent_receive_date  \\\n",
       "0              10003300         20141002                 20140306   \n",
       "1              10003301         20141002                 20140228   \n",
       "2              10003302         20141002                 20140312   \n",
       "3              10003304         20141212                 20140424   \n",
       "4              10003305         20141002                 20140312   \n",
       "...                 ...              ...                      ...   \n",
       "19026488        9999995         20151125                 20150812   \n",
       "19026489        9999996         20151125                 20150812   \n",
       "19026490        9999997         20151125                 20150812   \n",
       "19026491        9999998         20151125                 20150812   \n",
       "19026492        9999999         20151125                 20150812   \n",
       "\n",
       "          receive_date  \n",
       "0             20140306  \n",
       "1             20140228  \n",
       "2             20140312  \n",
       "3             20140312  \n",
       "4             20140312  \n",
       "...                ...  \n",
       "19026488      20140312  \n",
       "19026489      20140312  \n",
       "19026490      20140312  \n",
       "19026491      20140312  \n",
       "19026492      20140312  \n",
       "\n",
       "[19026493 rows x 4 columns]"
      ]
     },
     "execution_count": 3,
     "metadata": {},
     "output_type": "execute_result"
    }
   ],
   "source": [
    "report_df"
   ]
  },
  {
   "cell_type": "code",
   "execution_count": 25,
   "metadata": {},
   "outputs": [],
   "source": [
    "report_df.receive_date = pd.to_datetime(report_df.receive_date,format='%Y%m%d')\n",
    "report_df['Year'] = report_df.receive_date.apply(lambda x : x.year)"
   ]
  },
  {
   "cell_type": "code",
   "execution_count": 27,
   "metadata": {},
   "outputs": [
    {
     "data": {
      "text/plain": [
       "Text(0.5, 0, '')"
      ]
     },
     "execution_count": 27,
     "metadata": {},
     "output_type": "execute_result"
    },
    {
     "data": {
      "image/png": "[encoded data removed]",
      "text/plain": [
       "<Figure size 1280x960 with 1 Axes>"
      ]
     },
     "metadata": {},
     "output_type": "display_data"
    }
   ],
   "source": [
    "import matplotlib.dates as mdates\n",
    "\n",
    "nreportoverdates = (report_df.\n",
    "                    groupby('Year').\n",
    "                    safetyreportid.\n",
    "                    count()\n",
    "                   )\n",
    "nreportoverdates.head()\n",
    "fig,ax = plt.subplots(dpi=200)\n",
    "nreportoverdates.plot(kind='bar',ax=ax)\n",
    "ax.set_yscale('log')\n",
    "ax.set_xlabel('')"
   ]
  },
  {
   "cell_type": "code",
   "execution_count": 4,
   "metadata": {},
   "outputs": [
    {
     "data": {
      "text/html": [
       "<div>\n",
       "<style scoped>\n",
       "    .dataframe tbody tr th:only-of-type {\n",
       "        vertical-align: middle;\n",
       "    }\n",
       "\n",
       "    .dataframe tbody tr th {\n",
       "        vertical-align: top;\n",
       "    }\n",
       "\n",
       "    .dataframe thead th {\n",
       "        text-align: right;\n",
       "    }\n",
       "</style>\n",
       "<table border=\"1\" class=\"dataframe\">\n",
       "  <thead>\n",
       "    <tr style=\"text-align: right;\">\n",
       "      <th></th>\n",
       "      <th>congenital_anomali</th>\n",
       "      <th>death</th>\n",
       "      <th>disabling</th>\n",
       "      <th>life_threatening</th>\n",
       "      <th>other</th>\n",
       "      <th>safetyreportid</th>\n",
       "      <th>serious</th>\n",
       "    </tr>\n",
       "  </thead>\n",
       "  <tbody>\n",
       "    <tr>\n",
       "      <th>0</th>\n",
       "      <td>NaN</td>\n",
       "      <td>NaN</td>\n",
       "      <td>1.0</td>\n",
       "      <td>NaN</td>\n",
       "      <td>NaN</td>\n",
       "      <td>10003300</td>\n",
       "      <td>The adverse event resulted in death, a life th...</td>\n",
       "    </tr>\n",
       "    <tr>\n",
       "      <th>1</th>\n",
       "      <td>NaN</td>\n",
       "      <td>NaN</td>\n",
       "      <td>NaN</td>\n",
       "      <td>NaN</td>\n",
       "      <td>1.0</td>\n",
       "      <td>10003301</td>\n",
       "      <td>The adverse event resulted in death, a life th...</td>\n",
       "    </tr>\n",
       "    <tr>\n",
       "      <th>2</th>\n",
       "      <td>NaN</td>\n",
       "      <td>NaN</td>\n",
       "      <td>NaN</td>\n",
       "      <td>NaN</td>\n",
       "      <td>NaN</td>\n",
       "      <td>10003302</td>\n",
       "      <td>The adverse event did not result in any of the...</td>\n",
       "    </tr>\n",
       "    <tr>\n",
       "      <th>3</th>\n",
       "      <td>NaN</td>\n",
       "      <td>NaN</td>\n",
       "      <td>NaN</td>\n",
       "      <td>NaN</td>\n",
       "      <td>NaN</td>\n",
       "      <td>10003304</td>\n",
       "      <td>The adverse event did not result in any of the...</td>\n",
       "    </tr>\n",
       "    <tr>\n",
       "      <th>4</th>\n",
       "      <td>NaN</td>\n",
       "      <td>NaN</td>\n",
       "      <td>NaN</td>\n",
       "      <td>NaN</td>\n",
       "      <td>NaN</td>\n",
       "      <td>10003305</td>\n",
       "      <td>The adverse event did not result in any of the...</td>\n",
       "    </tr>\n",
       "    <tr>\n",
       "      <th>...</th>\n",
       "      <td>...</td>\n",
       "      <td>...</td>\n",
       "      <td>...</td>\n",
       "      <td>...</td>\n",
       "      <td>...</td>\n",
       "      <td>...</td>\n",
       "      <td>...</td>\n",
       "    </tr>\n",
       "    <tr>\n",
       "      <th>19026488</th>\n",
       "      <td>NaN</td>\n",
       "      <td>NaN</td>\n",
       "      <td>NaN</td>\n",
       "      <td>NaN</td>\n",
       "      <td>NaN</td>\n",
       "      <td>9999995</td>\n",
       "      <td>The adverse event did not result in any of the...</td>\n",
       "    </tr>\n",
       "    <tr>\n",
       "      <th>19026489</th>\n",
       "      <td>NaN</td>\n",
       "      <td>NaN</td>\n",
       "      <td>NaN</td>\n",
       "      <td>NaN</td>\n",
       "      <td>NaN</td>\n",
       "      <td>9999996</td>\n",
       "      <td>The adverse event did not result in any of the...</td>\n",
       "    </tr>\n",
       "    <tr>\n",
       "      <th>19026490</th>\n",
       "      <td>NaN</td>\n",
       "      <td>NaN</td>\n",
       "      <td>NaN</td>\n",
       "      <td>NaN</td>\n",
       "      <td>NaN</td>\n",
       "      <td>9999997</td>\n",
       "      <td>The adverse event did not result in any of the...</td>\n",
       "    </tr>\n",
       "    <tr>\n",
       "      <th>19026491</th>\n",
       "      <td>NaN</td>\n",
       "      <td>NaN</td>\n",
       "      <td>NaN</td>\n",
       "      <td>NaN</td>\n",
       "      <td>NaN</td>\n",
       "      <td>9999998</td>\n",
       "      <td>The adverse event did not result in any of the...</td>\n",
       "    </tr>\n",
       "    <tr>\n",
       "      <th>19026492</th>\n",
       "      <td>NaN</td>\n",
       "      <td>NaN</td>\n",
       "      <td>NaN</td>\n",
       "      <td>NaN</td>\n",
       "      <td>NaN</td>\n",
       "      <td>9999999</td>\n",
       "      <td>The adverse event did not result in any of the...</td>\n",
       "    </tr>\n",
       "  </tbody>\n",
       "</table>\n",
       "<p>19026493 rows × 7 columns</p>\n",
       "</div>"
      ],
      "text/plain": [
       "          congenital_anomali  death  disabling  life_threatening  other  \\\n",
       "0                        NaN    NaN        1.0               NaN    NaN   \n",
       "1                        NaN    NaN        NaN               NaN    1.0   \n",
       "2                        NaN    NaN        NaN               NaN    NaN   \n",
       "3                        NaN    NaN        NaN               NaN    NaN   \n",
       "4                        NaN    NaN        NaN               NaN    NaN   \n",
       "...                      ...    ...        ...               ...    ...   \n",
       "19026488                 NaN    NaN        NaN               NaN    NaN   \n",
       "19026489                 NaN    NaN        NaN               NaN    NaN   \n",
       "19026490                 NaN    NaN        NaN               NaN    NaN   \n",
       "19026491                 NaN    NaN        NaN               NaN    NaN   \n",
       "19026492                 NaN    NaN        NaN               NaN    NaN   \n",
       "\n",
       "         safetyreportid                                            serious  \n",
       "0              10003300  The adverse event resulted in death, a life th...  \n",
       "1              10003301  The adverse event resulted in death, a life th...  \n",
       "2              10003302  The adverse event did not result in any of the...  \n",
       "3              10003304  The adverse event did not result in any of the...  \n",
       "4              10003305  The adverse event did not result in any of the...  \n",
       "...                 ...                                                ...  \n",
       "19026488        9999995  The adverse event did not result in any of the...  \n",
       "19026489        9999996  The adverse event did not result in any of the...  \n",
       "19026490        9999997  The adverse event did not result in any of the...  \n",
       "19026491        9999998  The adverse event did not result in any of the...  \n",
       "19026492        9999999  The adverse event did not result in any of the...  \n",
       "\n",
       "[19026493 rows x 7 columns]"
      ]
     },
     "execution_count": 4,
     "metadata": {},
     "output_type": "execute_result"
    }
   ],
   "source": [
    "report_serious_df"
   ]
  },
  {
   "cell_type": "code",
   "execution_count": 5,
   "metadata": {},
   "outputs": [
    {
     "data": {
      "text/html": [
       "<div>\n",
       "<style scoped>\n",
       "    .dataframe tbody tr th:only-of-type {\n",
       "        vertical-align: middle;\n",
       "    }\n",
       "\n",
       "    .dataframe tbody tr th {\n",
       "        vertical-align: top;\n",
       "    }\n",
       "\n",
       "    .dataframe thead th {\n",
       "        text-align: right;\n",
       "    }\n",
       "</style>\n",
       "<table border=\"1\" class=\"dataframe\">\n",
       "  <thead>\n",
       "    <tr style=\"text-align: right;\">\n",
       "      <th></th>\n",
       "      <th>reporter_company</th>\n",
       "      <th>reporter_country</th>\n",
       "      <th>reporter_qualification</th>\n",
       "      <th>safetyreportid</th>\n",
       "    </tr>\n",
       "  </thead>\n",
       "  <tbody>\n",
       "    <tr>\n",
       "      <th>0</th>\n",
       "      <td>1289378</td>\n",
       "      <td>US</td>\n",
       "      <td>Consumer or non-health professional</td>\n",
       "      <td>10003300</td>\n",
       "    </tr>\n",
       "    <tr>\n",
       "      <th>1</th>\n",
       "      <td>US-JNJFOC-20130719067</td>\n",
       "      <td>US</td>\n",
       "      <td>Consumer or non-health professional</td>\n",
       "      <td>10003301</td>\n",
       "    </tr>\n",
       "    <tr>\n",
       "      <th>2</th>\n",
       "      <td>US-PFIZER INC-2014068976</td>\n",
       "      <td>US</td>\n",
       "      <td>Consumer or non-health professional</td>\n",
       "      <td>10003302</td>\n",
       "    </tr>\n",
       "    <tr>\n",
       "      <th>3</th>\n",
       "      <td>US-PFIZER INC-2014063856</td>\n",
       "      <td>US</td>\n",
       "      <td>Physician</td>\n",
       "      <td>10003304</td>\n",
       "    </tr>\n",
       "    <tr>\n",
       "      <th>4</th>\n",
       "      <td>US-PFIZER INC-2014069067</td>\n",
       "      <td>US</td>\n",
       "      <td>Physician</td>\n",
       "      <td>10003305</td>\n",
       "    </tr>\n",
       "    <tr>\n",
       "      <th>...</th>\n",
       "      <td>...</td>\n",
       "      <td>...</td>\n",
       "      <td>...</td>\n",
       "      <td>...</td>\n",
       "    </tr>\n",
       "    <tr>\n",
       "      <th>19026488</th>\n",
       "      <td>US-GILEAD-2012-0057367</td>\n",
       "      <td>US</td>\n",
       "      <td>Other health professional</td>\n",
       "      <td>9999995</td>\n",
       "    </tr>\n",
       "    <tr>\n",
       "      <th>19026489</th>\n",
       "      <td>US-GILEAD-2012-0057033</td>\n",
       "      <td>US</td>\n",
       "      <td>Consumer or non-health professional</td>\n",
       "      <td>9999996</td>\n",
       "    </tr>\n",
       "    <tr>\n",
       "      <th>19026490</th>\n",
       "      <td>US-GILEAD-2012-0058165</td>\n",
       "      <td>US</td>\n",
       "      <td>Consumer or non-health professional</td>\n",
       "      <td>9999997</td>\n",
       "    </tr>\n",
       "    <tr>\n",
       "      <th>19026491</th>\n",
       "      <td>US-GILEAD-2012-0058899</td>\n",
       "      <td>US</td>\n",
       "      <td>Physician</td>\n",
       "      <td>9999998</td>\n",
       "    </tr>\n",
       "    <tr>\n",
       "      <th>19026492</th>\n",
       "      <td>US-GILEAD-2012-0058298</td>\n",
       "      <td>US</td>\n",
       "      <td>Consumer or non-health professional</td>\n",
       "      <td>9999999</td>\n",
       "    </tr>\n",
       "  </tbody>\n",
       "</table>\n",
       "<p>19026493 rows × 4 columns</p>\n",
       "</div>"
      ],
      "text/plain": [
       "                  reporter_company reporter_country  \\\n",
       "0                          1289378               US   \n",
       "1            US-JNJFOC-20130719067               US   \n",
       "2         US-PFIZER INC-2014068976               US   \n",
       "3         US-PFIZER INC-2014063856               US   \n",
       "4         US-PFIZER INC-2014069067               US   \n",
       "...                            ...              ...   \n",
       "19026488    US-GILEAD-2012-0057367               US   \n",
       "19026489    US-GILEAD-2012-0057033               US   \n",
       "19026490    US-GILEAD-2012-0058165               US   \n",
       "19026491    US-GILEAD-2012-0058899               US   \n",
       "19026492    US-GILEAD-2012-0058298               US   \n",
       "\n",
       "                       reporter_qualification safetyreportid  \n",
       "0         Consumer or non-health professional       10003300  \n",
       "1         Consumer or non-health professional       10003301  \n",
       "2         Consumer or non-health professional       10003302  \n",
       "3                                   Physician       10003304  \n",
       "4                                   Physician       10003305  \n",
       "...                                       ...            ...  \n",
       "19026488            Other health professional        9999995  \n",
       "19026489  Consumer or non-health professional        9999996  \n",
       "19026490  Consumer or non-health professional        9999997  \n",
       "19026491                            Physician        9999998  \n",
       "19026492  Consumer or non-health professional        9999999  \n",
       "\n",
       "[19026493 rows x 4 columns]"
      ]
     },
     "execution_count": 5,
     "metadata": {},
     "output_type": "execute_result"
    }
   ],
   "source": [
    "reporter_df"
   ]
  },
  {
   "cell_type": "code",
   "execution_count": 6,
   "metadata": {},
   "outputs": [
    {
     "data": {
      "text/html": [
       "<div>\n",
       "<style scoped>\n",
       "    .dataframe tbody tr th:only-of-type {\n",
       "        vertical-align: middle;\n",
       "    }\n",
       "\n",
       "    .dataframe tbody tr th {\n",
       "        vertical-align: top;\n",
       "    }\n",
       "\n",
       "    .dataframe thead th {\n",
       "        text-align: right;\n",
       "    }\n",
       "</style>\n",
       "<table border=\"1\" class=\"dataframe\">\n",
       "  <thead>\n",
       "    <tr style=\"text-align: right;\">\n",
       "      <th></th>\n",
       "      <th>safetyreportid</th>\n",
       "      <th>lastupdate_date</th>\n",
       "      <th>mostrecent_receive_date</th>\n",
       "      <th>receive_date</th>\n",
       "      <th>congenital_anomali</th>\n",
       "      <th>death</th>\n",
       "      <th>disabling</th>\n",
       "      <th>life_threatening</th>\n",
       "      <th>other</th>\n",
       "      <th>serious</th>\n",
       "      <th>reporter_company</th>\n",
       "      <th>reporter_country</th>\n",
       "      <th>reporter_qualification</th>\n",
       "    </tr>\n",
       "  </thead>\n",
       "  <tbody>\n",
       "    <tr>\n",
       "      <th>0</th>\n",
       "      <td>10003300</td>\n",
       "      <td>20141002</td>\n",
       "      <td>20140306</td>\n",
       "      <td>20140306</td>\n",
       "      <td>NaN</td>\n",
       "      <td>NaN</td>\n",
       "      <td>1.0</td>\n",
       "      <td>NaN</td>\n",
       "      <td>NaN</td>\n",
       "      <td>The adverse event resulted in death, a life th...</td>\n",
       "      <td>1289378</td>\n",
       "      <td>US</td>\n",
       "      <td>Consumer or non-health professional</td>\n",
       "    </tr>\n",
       "    <tr>\n",
       "      <th>1</th>\n",
       "      <td>10003301</td>\n",
       "      <td>20141002</td>\n",
       "      <td>20140228</td>\n",
       "      <td>20140228</td>\n",
       "      <td>NaN</td>\n",
       "      <td>NaN</td>\n",
       "      <td>NaN</td>\n",
       "      <td>NaN</td>\n",
       "      <td>1.0</td>\n",
       "      <td>The adverse event resulted in death, a life th...</td>\n",
       "      <td>US-JNJFOC-20130719067</td>\n",
       "      <td>US</td>\n",
       "      <td>Consumer or non-health professional</td>\n",
       "    </tr>\n",
       "    <tr>\n",
       "      <th>2</th>\n",
       "      <td>10003302</td>\n",
       "      <td>20141002</td>\n",
       "      <td>20140312</td>\n",
       "      <td>20140312</td>\n",
       "      <td>NaN</td>\n",
       "      <td>NaN</td>\n",
       "      <td>NaN</td>\n",
       "      <td>NaN</td>\n",
       "      <td>NaN</td>\n",
       "      <td>The adverse event did not result in any of the...</td>\n",
       "      <td>US-PFIZER INC-2014068976</td>\n",
       "      <td>US</td>\n",
       "      <td>Consumer or non-health professional</td>\n",
       "    </tr>\n",
       "    <tr>\n",
       "      <th>3</th>\n",
       "      <td>10003304</td>\n",
       "      <td>20141212</td>\n",
       "      <td>20140424</td>\n",
       "      <td>20140312</td>\n",
       "      <td>NaN</td>\n",
       "      <td>NaN</td>\n",
       "      <td>NaN</td>\n",
       "      <td>NaN</td>\n",
       "      <td>NaN</td>\n",
       "      <td>The adverse event did not result in any of the...</td>\n",
       "      <td>US-PFIZER INC-2014063856</td>\n",
       "      <td>US</td>\n",
       "      <td>Physician</td>\n",
       "    </tr>\n",
       "    <tr>\n",
       "      <th>4</th>\n",
       "      <td>10003305</td>\n",
       "      <td>20141002</td>\n",
       "      <td>20140312</td>\n",
       "      <td>20140312</td>\n",
       "      <td>NaN</td>\n",
       "      <td>NaN</td>\n",
       "      <td>NaN</td>\n",
       "      <td>NaN</td>\n",
       "      <td>NaN</td>\n",
       "      <td>The adverse event did not result in any of the...</td>\n",
       "      <td>US-PFIZER INC-2014069067</td>\n",
       "      <td>US</td>\n",
       "      <td>Physician</td>\n",
       "    </tr>\n",
       "  </tbody>\n",
       "</table>\n",
       "</div>"
      ],
      "text/plain": [
       "  safetyreportid  lastupdate_date  mostrecent_receive_date  receive_date  \\\n",
       "0       10003300         20141002                 20140306      20140306   \n",
       "1       10003301         20141002                 20140228      20140228   \n",
       "2       10003302         20141002                 20140312      20140312   \n",
       "3       10003304         20141212                 20140424      20140312   \n",
       "4       10003305         20141002                 20140312      20140312   \n",
       "\n",
       "   congenital_anomali  death  disabling  life_threatening  other  \\\n",
       "0                 NaN    NaN        1.0               NaN    NaN   \n",
       "1                 NaN    NaN        NaN               NaN    1.0   \n",
       "2                 NaN    NaN        NaN               NaN    NaN   \n",
       "3                 NaN    NaN        NaN               NaN    NaN   \n",
       "4                 NaN    NaN        NaN               NaN    NaN   \n",
       "\n",
       "                                             serious  \\\n",
       "0  The adverse event resulted in death, a life th...   \n",
       "1  The adverse event resulted in death, a life th...   \n",
       "2  The adverse event did not result in any of the...   \n",
       "3  The adverse event did not result in any of the...   \n",
       "4  The adverse event did not result in any of the...   \n",
       "\n",
       "           reporter_company reporter_country  \\\n",
       "0                   1289378               US   \n",
       "1     US-JNJFOC-20130719067               US   \n",
       "2  US-PFIZER INC-2014068976               US   \n",
       "3  US-PFIZER INC-2014063856               US   \n",
       "4  US-PFIZER INC-2014069067               US   \n",
       "\n",
       "                reporter_qualification  \n",
       "0  Consumer or non-health professional  \n",
       "1  Consumer or non-health professional  \n",
       "2  Consumer or non-health professional  \n",
       "3                            Physician  \n",
       "4                            Physician  "
      ]
     },
     "execution_count": 6,
     "metadata": {},
     "output_type": "execute_result"
    }
   ],
   "source": [
    "report_merge = report_df.merge(report_serious_df, on='safetyreportid', how='left')\n",
    "report_merge = report_merge.merge(reporter_df, on='safetyreportid', how='left')\n",
    "report_merge.head()"
   ]
  },
  {
   "cell_type": "code",
   "execution_count": 7,
   "metadata": {},
   "outputs": [
    {
     "name": "stdout",
     "output_type": "stream",
     "text": [
      "<class 'pandas.core.frame.DataFrame'>\n",
      "RangeIndex: 19026493 entries, 0 to 19026492\n",
      "Data columns (total 13 columns):\n",
      " #   Column                   Dtype  \n",
      "---  ------                   -----  \n",
      " 0   safetyreportid           object \n",
      " 1   lastupdate_date          int64  \n",
      " 2   mostrecent_receive_date  int64  \n",
      " 3   receive_date             int64  \n",
      " 4   congenital_anomali       float64\n",
      " 5   death                    float64\n",
      " 6   disabling                float64\n",
      " 7   life_threatening         float64\n",
      " 8   other                    float64\n",
      " 9   serious                  object \n",
      " 10  reporter_company         object \n",
      " 11  reporter_country         object \n",
      " 12  reporter_qualification   object \n",
      "dtypes: float64(5), int64(3), object(5)\n",
      "memory usage: 1.8+ GB\n"
     ]
    }
   ],
   "source": [
    "report_merge.info()"
   ]
  },
  {
   "cell_type": "code",
   "execution_count": 8,
   "metadata": {},
   "outputs": [
    {
     "data": {
      "text/plain": [
       "congenital_anomali         14130322\n",
       "disabling                  13901050\n",
       "life_threatening           13774745\n",
       "death                      12814817\n",
       "other                       9136830\n",
       "reporter_company            1272650\n",
       "reporter_qualification       735234\n",
       "reporter_country             373496\n",
       "safetyreportid                    0\n",
       "receive_date                      0\n",
       "mostrecent_receive_date           0\n",
       "lastupdate_date                   0\n",
       "serious                           0\n",
       "dtype: int64"
      ]
     },
     "execution_count": 8,
     "metadata": {},
     "output_type": "execute_result"
    }
   ],
   "source": [
    "report_merge.isna().sum().sort_values(ascending=False)"
   ]
  },
  {
   "cell_type": "code",
   "execution_count": 9,
   "metadata": {},
   "outputs": [
    {
     "name": "stdout",
     "output_type": "stream",
     "text": [
      "[nan  1.  2.]\n",
      "[ 1. nan  2.]\n",
      "[nan  1.  2.]\n"
     ]
    },
    {
     "name": "stdout",
     "output_type": "stream",
     "text": [
      "[nan  1.  2.]\n",
      "[nan  1.  2.]\n",
      "\n",
      "After filling NA : \n",
      "\n",
      "[0 1 2]\n",
      "[1 0 2]\n",
      "[0 1 2]\n",
      "[0 1 2]\n",
      "[0 1 2]\n"
     ]
    }
   ],
   "source": [
    "outcome_cols = ['congenital_anomali', 'disabling', 'life_threatening', 'death', 'other']\n",
    "\n",
    "for i in outcome_cols:\n",
    "    print(report_merge[i].unique())\n",
    "\n",
    "existing_outcome_cols = [col for col in outcome_cols if col in report_merge.columns]\n",
    "\n",
    "for col in existing_outcome_cols:\n",
    "    report_merge[col] = report_merge[col].fillna(0).astype(int)\n",
    "    \n",
    "# After filling na\n",
    "print('')\n",
    "print('After filling NA : \\n')\n",
    "for i in outcome_cols:\n",
    "    print(report_merge[i].unique())\n"
   ]
  },
  {
   "cell_type": "code",
   "execution_count": 10,
   "metadata": {},
   "outputs": [
    {
     "data": {
      "text/plain": [
       "reporter_company           1272650\n",
       "reporter_qualification      735234\n",
       "reporter_country            373496\n",
       "lastupdate_date                  0\n",
       "safetyreportid                   0\n",
       "congenital_anomali               0\n",
       "receive_date                     0\n",
       "mostrecent_receive_date          0\n",
       "death                            0\n",
       "other                            0\n",
       "life_threatening                 0\n",
       "disabling                        0\n",
       "serious                          0\n",
       "dtype: int64"
      ]
     },
     "execution_count": 10,
     "metadata": {},
     "output_type": "execute_result"
    }
   ],
   "source": [
    "report_merge.isna().sum().sort_values(ascending=False)"
   ]
  },
  {
   "cell_type": "code",
   "execution_count": 11,
   "metadata": {},
   "outputs": [
    {
     "name": "stdout",
     "output_type": "stream",
     "text": [
      "\n",
      "ข้อมูลที่เตรียมสำหรับ plot (จำนวนของ 0, 1, 2 ในแต่ละคอลัมน์):\n",
      "                    Count of 0  Count of 1  Count of 2\n",
      "congenital_anomali    14130322       63120     4833051\n",
      "disabling             13901050      359735     4765708\n",
      "life_threatening      13774745      521969     4729779\n",
      "death                 12814817     1762105     4449571\n",
      "other                  9136830     7057337     2832326\n"
     ]
    },
    {
     "data": {
      "image/png": "[encoded data removed]",
      "text/plain": [
       "<Figure size 1400x800 with 1 Axes>"
      ]
     },
     "metadata": {},
     "output_type": "display_data"
    }
   ],
   "source": [
    "outcome_cols = ['congenital_anomali', 'disabling', 'life_threatening', 'death', 'other']\n",
    "counts_data = {}\n",
    "\n",
    "for i in outcome_cols:\n",
    "    counts = report_merge[i].value_counts().reindex([0, 1, 2], fill_value=0).sort_index()\n",
    "    counts_data[i] = counts\n",
    "\n",
    "plot_df = pd.DataFrame(counts_data)\n",
    "plot_df_transposed = plot_df.transpose()\n",
    "plot_df_transposed.columns = ['Count of 0', 'Count of 1', 'Count of 2']\n",
    "\n",
    "print(\"\\nข้อมูลที่เตรียมสำหรับ plot (จำนวนของ 0, 1, 2 ในแต่ละคอลัมน์):\")\n",
    "print(plot_df_transposed)\n",
    "\n",
    "plt.style.use('seaborn-v0_8-whitegrid')\n",
    "ax = plot_df_transposed.plot(kind='bar', figsize=(14, 8), width=0.8)\n",
    "\n",
    "plt.title('Distribution of Values (0, 1, 2) Across Outcome Columns', fontsize=16)\n",
    "plt.ylabel('Count', fontsize=12)\n",
    "plt.xlabel('Outcome Columns', fontsize=12)\n",
    "plt.xticks(rotation=35, ha='right', fontsize=10)\n",
    "plt.yticks(fontsize=10)\n",
    "plt.legend(title='Value', title_fontsize='13', fontsize='11', loc='upper right')\n",
    "plt.grid(axis='y', linestyle='--', alpha=0.7)\n",
    "plt.tight_layout()\n",
    "\n",
    "plt.show()"
   ]
  },
  {
   "cell_type": "code",
   "execution_count": 12,
   "metadata": {},
   "outputs": [
    {
     "name": "stdout",
     "output_type": "stream",
     "text": [
      "<class 'pandas.core.frame.DataFrame'>\n",
      "RangeIndex: 19026493 entries, 0 to 19026492\n",
      "Data columns (total 13 columns):\n",
      " #   Column                   Dtype \n",
      "---  ------                   ----- \n",
      " 0   safetyreportid           object\n",
      " 1   lastupdate_date          int64 \n",
      " 2   mostrecent_receive_date  int64 \n",
      " 3   receive_date             int64 \n",
      " 4   congenital_anomali       int64 \n",
      " 5   death                    int64 \n",
      " 6   disabling                int64 \n",
      " 7   life_threatening         int64 \n",
      " 8   other                    int64 \n",
      " 9   serious                  object\n",
      " 10  reporter_company         object\n",
      " 11  reporter_country         object\n",
      " 12  reporter_qualification   object\n",
      "dtypes: int64(8), object(5)\n",
      "memory usage: 1.8+ GB\n"
     ]
    }
   ],
   "source": [
    "report_merge.info()"
   ]
  },
  {
   "cell_type": "code",
   "execution_count": 13,
   "metadata": {},
   "outputs": [
    {
     "name": "stdout",
     "output_type": "stream",
     "text": [
      "   lastupdate_date  mostrecent_receive_date  receive_date\n",
      "0         20141002                 20140306      20140306\n",
      "1         20141002                 20140228      20140228\n",
      "2         20141002                 20140312      20140312\n",
      "3         20141212                 20140424      20140312\n",
      "4         20141002                 20140312      20140312\n"
     ]
    }
   ],
   "source": [
    "print(report_merge[['lastupdate_date', 'mostrecent_receive_date', 'receive_date']].head())\n",
    "date_cols_to_convert = ['lastupdate_date', 'mostrecent_receive_date', 'receive_date']\n",
    "\n",
    "for col in date_cols_to_convert:\n",
    "    report_merge[col] = pd.to_datetime(report_merge[col].astype(str), format='%Y%m%d', errors='coerce')"
   ]
  },
  {
   "cell_type": "code",
   "execution_count": 14,
   "metadata": {},
   "outputs": [
    {
     "name": "stdout",
     "output_type": "stream",
     "text": [
      "  lastupdate_date mostrecent_receive_date receive_date\n",
      "0      2014-10-02              2014-03-06   2014-03-06\n",
      "1      2014-10-02              2014-02-28   2014-02-28\n",
      "2      2014-10-02              2014-03-12   2014-03-12\n",
      "3      2014-12-12              2014-04-24   2014-03-12\n",
      "4      2014-10-02              2014-03-12   2014-03-12\n",
      "<class 'pandas.core.frame.DataFrame'>\n",
      "RangeIndex: 19026493 entries, 0 to 19026492\n",
      "Data columns (total 13 columns):\n",
      " #   Column                   Dtype         \n",
      "---  ------                   -----         \n",
      " 0   safetyreportid           object        \n",
      " 1   lastupdate_date          datetime64[ns]\n",
      " 2   mostrecent_receive_date  datetime64[ns]\n",
      " 3   receive_date             datetime64[ns]\n",
      " 4   congenital_anomali       int64         \n",
      " 5   death                    int64         \n",
      " 6   disabling                int64         \n",
      " 7   life_threatening         int64         \n",
      " 8   other                    int64         \n",
      " 9   serious                  object        \n",
      " 10  reporter_company         object        \n",
      " 11  reporter_country         object        \n",
      " 12  reporter_qualification   object        \n",
      "dtypes: datetime64[ns](3), int64(5), object(5)\n",
      "memory usage: 1.8+ GB\n",
      "None\n"
     ]
    }
   ],
   "source": [
    "print(report_merge[['lastupdate_date', 'mostrecent_receive_date', 'receive_date']].head())\n",
    "print(report_merge.info())"
   ]
  },
  {
   "cell_type": "code",
   "execution_count": 15,
   "metadata": {},
   "outputs": [
    {
     "data": {
      "text/plain": [
       "reporter_company           1272650\n",
       "reporter_qualification      735234\n",
       "reporter_country            373496\n",
       "mostrecent_receive_date         44\n",
       "safetyreportid                   0\n",
       "congenital_anomali               0\n",
       "receive_date                     0\n",
       "lastupdate_date                  0\n",
       "death                            0\n",
       "other                            0\n",
       "life_threatening                 0\n",
       "disabling                        0\n",
       "serious                          0\n",
       "dtype: int64"
      ]
     },
     "execution_count": 15,
     "metadata": {},
     "output_type": "execute_result"
    }
   ],
   "source": [
    "report_merge.isna().sum().sort_values(ascending=False)"
   ]
  },
  {
   "cell_type": "code",
   "execution_count": 18,
   "metadata": {},
   "outputs": [],
   "source": [
    "categorical_cols_to_fill_unknown = ['reporter_company', 'reporter_qualification', 'reporter_country']\n",
    "for col in categorical_cols_to_fill_unknown:\n",
    "    report_merge[col] = report_merge[col].fillna('Unknown')"
   ]
  },
  {
   "cell_type": "code",
   "execution_count": null,
   "metadata": {},
   "outputs": [
    {
     "name": "stdout",
     "output_type": "stream",
     "text": [
      "\n",
      "จำนวนแถวที่จะถูกลบเนื่องจาก mostrecent_receive_date เป็น NaN: 44\n",
      "\n",
      "--- จำนวนข้อมูลที่หายไป (หลังลบแถวที่ mostrecent_receive_date เป็น NaT) ---\n",
      "safetyreportid             0\n",
      "lastupdate_date            0\n",
      "mostrecent_receive_date    0\n",
      "receive_date               0\n",
      "congenital_anomali         0\n",
      "death                      0\n",
      "disabling                  0\n",
      "life_threatening           0\n",
      "other                      0\n",
      "serious                    0\n",
      "reporter_company           0\n",
      "reporter_country           0\n",
      "reporter_qualification     0\n",
      "dtype: int64\n",
      "จำนวนแถวทั้งหมดหลังการดำเนินการ: 19026449\n"
     ]
    }
   ],
   "source": [
    "rows_with_nat_mostrecent_date = report_merge['mostrecent_receive_date'].isnull().sum()\n",
    "print(f\"\\nจำนวนแถวที่จะถูกลบเนื่องจาก mostrecent_receive_date เป็น NaN: {rows_with_nat_mostrecent_date}\")\n",
    "report_merge = report_merge.dropna(subset=['mostrecent_receive_date'])\n",
    "\n",
    "print(\"\\n--- จำนวนข้อมูลที่หายไป (หลังลบแถวที่ mostrecent_receive_date เป็น NaN) ---\")\n",
    "print(report_merge.isnull().sum())\n",
    "print(f\"จำนวนแถวทั้งหมดหลังการดำเนินการ: {len(report_merge)}\")\n"
   ]
  },
  {
   "cell_type": "code",
   "execution_count": 23,
   "metadata": {},
   "outputs": [
    {
     "name": "stdout",
     "output_type": "stream",
     "text": [
      "\n",
      "--- ตัวอย่างข้อมูล 5 แถวแรกหลังการจัดการ ---\n",
      "<class 'pandas.core.frame.DataFrame'>\n",
      "Index: 19026449 entries, 0 to 19026492\n",
      "Data columns (total 13 columns):\n",
      " #   Column                   Dtype         \n",
      "---  ------                   -----         \n",
      " 0   safetyreportid           object        \n",
      " 1   lastupdate_date          datetime64[ns]\n",
      " 2   mostrecent_receive_date  datetime64[ns]\n",
      " 3   receive_date             datetime64[ns]\n",
      " 4   congenital_anomali       int64         \n",
      " 5   death                    int64         \n",
      " 6   disabling                int64         \n",
      " 7   life_threatening         int64         \n",
      " 8   other                    int64         \n",
      " 9   serious                  object        \n",
      " 10  reporter_company         object        \n",
      " 11  reporter_country         object        \n",
      " 12  reporter_qualification   object        \n",
      "dtypes: datetime64[ns](3), int64(5), object(5)\n",
      "memory usage: 2.0+ GB\n"
     ]
    }
   ],
   "source": [
    "print(\"\\n--- ตัวอย่างข้อมูล 5 แถวแรกหลังการจัดการ ---\")\n",
    "report_merge.info()"
   ]
  },
  {
   "cell_type": "markdown",
   "metadata": {},
   "source": [
    "##### Patien"
   ]
  },
  {
   "cell_type": "code",
   "execution_count": 31,
   "metadata": {},
   "outputs": [],
   "source": [
    "patient_df = pd.read_csv(\"../../data/openFDA_drug_event/er_tables_memory_efficient/patient.csv.gz\", compression='gzip', low_memory=False)"
   ]
  },
  {
   "cell_type": "code",
   "execution_count": 60,
   "metadata": {},
   "outputs": [
    {
     "name": "stdout",
     "output_type": "stream",
     "text": [
      "<class 'pandas.core.frame.DataFrame'>\n",
      "RangeIndex: 19026493 entries, 0 to 19026492\n",
      "Data columns (total 6 columns):\n",
      " #   Column                     Dtype  \n",
      "---  ------                     -----  \n",
      " 0   patient_custom_master_age  float64\n",
      " 1   patient_onsetage           float64\n",
      " 2   patient_onsetageunit       object \n",
      " 3   patient_sex                object \n",
      " 4   patient_weight             float64\n",
      " 5   safetyreportid             object \n",
      "dtypes: float64(3), object(3)\n",
      "memory usage: 871.0+ MB\n"
     ]
    }
   ],
   "source": [
    "patient_df.info()"
   ]
  },
  {
   "cell_type": "code",
   "execution_count": 61,
   "metadata": {},
   "outputs": [
    {
     "data": {
      "text/plain": [
       "patient_weight               15195269\n",
       "patient_custom_master_age     8339615\n",
       "patient_onsetageunit          8339172\n",
       "patient_onsetage              8326269\n",
       "patient_sex                   2209484\n",
       "safetyreportid                      0\n",
       "dtype: int64"
      ]
     },
     "execution_count": 61,
     "metadata": {},
     "output_type": "execute_result"
    }
   ],
   "source": [
    "patient_df.isna().sum().sort_values(ascending=False)"
   ]
  },
  {
   "cell_type": "code",
   "execution_count": 69,
   "metadata": {},
   "outputs": [],
   "source": [
    "patient_df= patient_df.dropna(subset=['patient_custom_master_age'])\n",
    "patient_df= patient_df.dropna(subset=['patient_sex'])\n",
    "patient_df= patient_df.dropna(subset=['patient_weight'])"
   ]
  },
  {
   "cell_type": "code",
   "execution_count": 70,
   "metadata": {},
   "outputs": [
    {
     "data": {
      "text/plain": [
       "patient_custom_master_age    0\n",
       "patient_onsetage             0\n",
       "patient_onsetageunit         0\n",
       "patient_sex                  0\n",
       "patient_weight               0\n",
       "safetyreportid               0\n",
       "dtype: int64"
      ]
     },
     "execution_count": 70,
     "metadata": {},
     "output_type": "execute_result"
    }
   ],
   "source": [
    "patient_df.isna().sum().sort_values(ascending=False)"
   ]
  },
  {
   "cell_type": "code",
   "execution_count": 72,
   "metadata": {},
   "outputs": [
    {
     "name": "stdout",
     "output_type": "stream",
     "text": [
      "<class 'pandas.core.frame.DataFrame'>\n",
      "Index: 2947791 entries, 11 to 19026479\n",
      "Data columns (total 6 columns):\n",
      " #   Column                     Dtype  \n",
      "---  ------                     -----  \n",
      " 0   patient_custom_master_age  float64\n",
      " 1   patient_onsetage           float64\n",
      " 2   patient_onsetageunit       object \n",
      " 3   patient_sex                object \n",
      " 4   patient_weight             float64\n",
      " 5   safetyreportid             object \n",
      "dtypes: float64(3), object(3)\n",
      "memory usage: 157.4+ MB\n"
     ]
    }
   ],
   "source": [
    "patient_df.info()"
   ]
  },
  {
   "cell_type": "code",
   "execution_count": 100,
   "metadata": {},
   "outputs": [
    {
     "data": {
      "text/html": [
       "<div>\n",
       "<style scoped>\n",
       "    .dataframe tbody tr th:only-of-type {\n",
       "        vertical-align: middle;\n",
       "    }\n",
       "\n",
       "    .dataframe tbody tr th {\n",
       "        vertical-align: top;\n",
       "    }\n",
       "\n",
       "    .dataframe thead th {\n",
       "        text-align: right;\n",
       "    }\n",
       "</style>\n",
       "<table border=\"1\" class=\"dataframe\">\n",
       "  <thead>\n",
       "    <tr style=\"text-align: right;\">\n",
       "      <th></th>\n",
       "      <th>patient_custom_master_age</th>\n",
       "      <th>patient_onsetage</th>\n",
       "      <th>patient_onsetageunit</th>\n",
       "      <th>patient_sex</th>\n",
       "      <th>patient_weight</th>\n",
       "      <th>safetyreportid</th>\n",
       "    </tr>\n",
       "  </thead>\n",
       "  <tbody>\n",
       "    <tr>\n",
       "      <th>11</th>\n",
       "      <td>43.0</td>\n",
       "      <td>43.0</td>\n",
       "      <td>Year</td>\n",
       "      <td>Female</td>\n",
       "      <td>41.8</td>\n",
       "      <td>10003312</td>\n",
       "    </tr>\n",
       "    <tr>\n",
       "      <th>16</th>\n",
       "      <td>46.0</td>\n",
       "      <td>46.0</td>\n",
       "      <td>Year</td>\n",
       "      <td>Male</td>\n",
       "      <td>65.5</td>\n",
       "      <td>10003317</td>\n",
       "    </tr>\n",
       "    <tr>\n",
       "      <th>17</th>\n",
       "      <td>59.0</td>\n",
       "      <td>59.0</td>\n",
       "      <td>Year</td>\n",
       "      <td>Female</td>\n",
       "      <td>57.8</td>\n",
       "      <td>10003318</td>\n",
       "    </tr>\n",
       "    <tr>\n",
       "      <th>22</th>\n",
       "      <td>73.0</td>\n",
       "      <td>73.0</td>\n",
       "      <td>Year</td>\n",
       "      <td>Female</td>\n",
       "      <td>57.0</td>\n",
       "      <td>10003323</td>\n",
       "    </tr>\n",
       "    <tr>\n",
       "      <th>28</th>\n",
       "      <td>79.0</td>\n",
       "      <td>79.0</td>\n",
       "      <td>Year</td>\n",
       "      <td>Female</td>\n",
       "      <td>61.0</td>\n",
       "      <td>10003329</td>\n",
       "    </tr>\n",
       "  </tbody>\n",
       "</table>\n",
       "</div>"
      ],
      "text/plain": [
       "    patient_custom_master_age  patient_onsetage patient_onsetageunit  \\\n",
       "11                       43.0              43.0                 Year   \n",
       "16                       46.0              46.0                 Year   \n",
       "17                       59.0              59.0                 Year   \n",
       "22                       73.0              73.0                 Year   \n",
       "28                       79.0              79.0                 Year   \n",
       "\n",
       "   patient_sex  patient_weight safetyreportid  \n",
       "11      Female            41.8       10003312  \n",
       "16        Male            65.5       10003317  \n",
       "17      Female            57.8       10003318  \n",
       "22      Female            57.0       10003323  \n",
       "28      Female            61.0       10003329  "
      ]
     },
     "execution_count": 100,
     "metadata": {},
     "output_type": "execute_result"
    }
   ],
   "source": [
    "patient_df.head()"
   ]
  },
  {
   "cell_type": "code",
   "execution_count": 107,
   "metadata": {},
   "outputs": [
    {
     "data": {
      "text/plain": [
       "(257249, 6)"
      ]
     },
     "execution_count": 107,
     "metadata": {},
     "output_type": "execute_result"
    }
   ],
   "source": [
    "ped_age = patient_df[(patient_df['patient_custom_master_age'] >= 0) & (patient_df['patient_custom_master_age'] <= 21)]\n",
    "ped_age.shape\n"
   ]
  },
  {
   "cell_type": "code",
   "execution_count": 103,
   "metadata": {},
   "outputs": [],
   "source": [
    "# patient_df['patient_sex'].value_counts().plot.bar()\n",
    "# plt(x='patient_sex',y='patient_custom_master_age',data=patient_df, xlabel='Patient Sex', ylabel='Patient Age')\n"
   ]
  },
  {
   "cell_type": "code",
   "execution_count": 73,
   "metadata": {},
   "outputs": [],
   "source": [
    "ped_reports = (patient_df.\n",
    "               query('patient_custom_master_age>0 & patient_custom_master_age<21').\n",
    "               safetyreportid.unique()\n",
    "              )"
   ]
  },
  {
   "cell_type": "code",
   "execution_count": null,
   "metadata": {},
   "outputs": [],
   "source": []
  },
  {
   "cell_type": "code",
   "execution_count": 74,
   "metadata": {},
   "outputs": [
    {
     "data": {
      "text/plain": [
       "Text(0.5, 0, '')"
      ]
     },
     "execution_count": 74,
     "metadata": {},
     "output_type": "execute_result"
    },
    {
     "data": {
      "image/png": "[encoded data removed]",
      "text/plain": [
       "<Figure size 1280x960 with 1 Axes>"
      ]
     },
     "metadata": {},
     "output_type": "display_data"
    }
   ],
   "source": [
    "npedreportoverdates = (report_df.\n",
    "                    query('safetyreportid in @ped_reports').\n",
    "                    groupby('Year').\n",
    "                    safetyreportid.\n",
    "                    count()\n",
    "                   )\n",
    "fig,ax = plt.subplots(dpi=200)\n",
    "npedreportoverdates.plot(kind='bar',ax=ax)\n",
    "ax.set_yscale('log')\n",
    "ax.set_xlabel('')"
   ]
  },
  {
   "cell_type": "code",
   "execution_count": 75,
   "metadata": {},
   "outputs": [
    {
     "data": {
      "text/plain": [
       "2947791"
      ]
     },
     "metadata": {},
     "output_type": "display_data"
    }
   ],
   "source": [
    "col = 'patient_custom_master_age'\n",
    "display(patient_df[col].astype(float).dropna().shape[0])"
   ]
  },
  {
   "cell_type": "code",
   "execution_count": 76,
   "metadata": {},
   "outputs": [],
   "source": [
    "values = patient_df.groupby('safetyreportid')[col].agg('mean').dropna().values"
   ]
  },
  {
   "cell_type": "code",
   "execution_count": 77,
   "metadata": {},
   "outputs": [
    {
     "name": "stdout",
     "output_type": "stream",
     "text": [
      "2947791\n",
      "1.0\n"
     ]
    }
   ],
   "source": [
    "print(len(values))\n",
    "print(len(values)/patient_df.shape[0])"
   ]
  },
  {
   "cell_type": "code",
   "execution_count": 78,
   "metadata": {},
   "outputs": [
    {
     "data": {
      "text/plain": [
       "np.int64(337)"
      ]
     },
     "execution_count": 78,
     "metadata": {},
     "output_type": "execute_result"
    }
   ],
   "source": [
    "gt_100 = values>100\n",
    "sum(gt_100)"
   ]
  },
  {
   "cell_type": "code",
   "execution_count": 79,
   "metadata": {},
   "outputs": [
    {
     "data": {
      "text/plain": [
       "np.int64(35)"
      ]
     },
     "execution_count": 79,
     "metadata": {},
     "output_type": "execute_result"
    }
   ],
   "source": [
    "gt_115 = values>115\n",
    "sum(gt_115)"
   ]
  },
  {
   "cell_type": "code",
   "execution_count": 80,
   "metadata": {},
   "outputs": [
    {
     "data": {
      "text/plain": [
       "np.int64(0)"
      ]
     },
     "execution_count": 80,
     "metadata": {},
     "output_type": "execute_result"
    }
   ],
   "source": [
    "lt_0 = values<0\n",
    "sum(lt_0)"
   ]
  },
  {
   "cell_type": "code",
   "execution_count": 81,
   "metadata": {},
   "outputs": [
    {
     "data": {
      "text/plain": [
       "np.int64(6816)"
      ]
     },
     "execution_count": 81,
     "metadata": {},
     "output_type": "execute_result"
    }
   ],
   "source": [
    "eq_0 = values==0\n",
    "sum(eq_0)"
   ]
  },
  {
   "cell_type": "code",
   "execution_count": 82,
   "metadata": {},
   "outputs": [
    {
     "data": {
      "text/plain": [
       "np.int64(272)"
      ]
     },
     "execution_count": 82,
     "metadata": {},
     "output_type": "execute_result"
    }
   ],
   "source": [
    "eq_100 = values==100\n",
    "sum(eq_100)"
   ]
  },
  {
   "cell_type": "code",
   "execution_count": 83,
   "metadata": {},
   "outputs": [
    {
     "name": "stdout",
     "output_type": "stream",
     "text": [
      "2940366\n"
     ]
    },
    {
     "data": {
      "text/plain": [
       "np.float64(0.9974811647094384)"
      ]
     },
     "execution_count": 83,
     "metadata": {},
     "output_type": "execute_result"
    }
   ],
   "source": [
    "lt_100 = values<100\n",
    "gt_0 = values>0\n",
    "num = sum(np.logical_and(gt_0,lt_100))\n",
    "print(num)\n",
    "num/len(values)"
   ]
  },
  {
   "cell_type": "code",
   "execution_count": 84,
   "metadata": {},
   "outputs": [
    {
     "name": "stdout",
     "output_type": "stream",
     "text": [
      "184992\n"
     ]
    },
    {
     "data": {
      "text/plain": [
       "np.float64(0.06275614519482554)"
      ]
     },
     "execution_count": 84,
     "metadata": {},
     "output_type": "execute_result"
    }
   ],
   "source": [
    "lt_18 = values<18\n",
    "num = sum(np.logical_and(gt_0,lt_18))\n",
    "print(num)\n",
    "num/len(values)"
   ]
  },
  {
   "cell_type": "code",
   "execution_count": 85,
   "metadata": {},
   "outputs": [
    {
     "name": "stdout",
     "output_type": "stream",
     "text": [
      "2755374\n"
     ]
    },
    {
     "data": {
      "text/plain": [
       "np.float64(0.9347250195146128)"
      ]
     },
     "execution_count": 85,
     "metadata": {},
     "output_type": "execute_result"
    }
   ],
   "source": [
    "gtoeq_18 = values>=18\n",
    "num = sum(np.logical_and(gtoeq_18,lt_100))\n",
    "print(num)\n",
    "num/len(values)"
   ]
  },
  {
   "cell_type": "code",
   "execution_count": 86,
   "metadata": {},
   "outputs": [],
   "source": [
    "sensical_values = values[np.logical_and(gt_0,lt_100)]"
   ]
  },
  {
   "cell_type": "code",
   "execution_count": 87,
   "metadata": {},
   "outputs": [
    {
     "data": {
      "text/plain": [
       "(array([ 0.,  1.,  2.,  3.,  4.,  5.,  6.,  7.,  8.,  9., 10., 11., 12.,\n",
       "        13., 14., 15., 16., 17., 18., 19., 20., 21., 22., 23., 24., 25.,\n",
       "        26., 27., 28., 29., 30., 31., 32., 33., 34., 35., 36., 37., 38.,\n",
       "        39., 40., 41., 42., 43., 44., 45., 46., 47., 48., 49., 50., 51.,\n",
       "        52., 53., 54., 55., 56., 57., 58., 59., 60., 61., 62., 63., 64.,\n",
       "        65., 66., 67., 68., 69., 70., 71., 72., 73., 74., 75., 76., 77.,\n",
       "        78., 79., 80., 81., 82., 83., 84., 85., 86., 87., 88., 89., 90.,\n",
       "        91., 92., 93., 94., 95., 96., 97., 98., 99.]),\n",
       " array([21262,  8945,  7738,  7154,  6900,  7042,  7534,  7618,  7993,\n",
       "         8195,  8645,  8680,  9542, 10370, 12259, 13857, 15116, 16142,\n",
       "        15685, 15868, 16760, 17177, 17772, 18743, 18934, 19884, 20115,\n",
       "        20921, 21327, 21795, 23971, 23043, 24221, 24209, 25123, 26045,\n",
       "        25418, 26037, 26651, 26718, 29658, 28445, 30007, 31768, 32773,\n",
       "        33880, 34752, 36987, 38662, 40794, 44866, 44510, 47070, 48791,\n",
       "        51039, 53660, 55216, 56743, 58081, 59844, 62748, 61122, 62834,\n",
       "        63447, 63723, 65724, 63727, 64268, 64349, 63456, 64006, 60110,\n",
       "        59553, 56689, 54767, 52649, 49714, 46376, 43222, 39604, 37628,\n",
       "        32555, 29930, 27395, 23725, 20868, 17928, 15099, 12594, 10290,\n",
       "         8733,  6269,  4805,  3644,  2631,  2035,  1416,   881,   549,\n",
       "          348]))"
      ]
     },
     "execution_count": 87,
     "metadata": {},
     "output_type": "execute_result"
    }
   ],
   "source": [
    "integer_year_counts = np.unique(np.floor(sensical_values),return_counts=True)\n",
    "integer_year_counts"
   ]
  },
  {
   "cell_type": "code",
   "execution_count": 88,
   "metadata": {},
   "outputs": [
    {
     "data": {
      "text/plain": [
       "[<matplotlib.lines.Line2D at 0x7fd6a4714a40>]"
      ]
     },
     "execution_count": 88,
     "metadata": {},
     "output_type": "execute_result"
    },
    {
     "data": {
      "image/png": "[encoded data removed]",
      "text/plain": [
       "<Figure size 1280x960 with 1 Axes>"
      ]
     },
     "metadata": {},
     "output_type": "display_data"
    }
   ],
   "source": [
    "plt.figure(dpi=200)\n",
    "plt.plot(integer_year_counts[0],integer_year_counts[1])"
   ]
  },
  {
   "cell_type": "code",
   "execution_count": 93,
   "metadata": {},
   "outputs": [
    {
     "data": {
      "text/plain": [
       "([<matplotlib.axis.XTick at 0x7fd6afd504a0>,\n",
       "  <matplotlib.axis.XTick at 0x7fd6afd22f00>,\n",
       "  <matplotlib.axis.XTick at 0x7fd6a48d4ec0>,\n",
       "  <matplotlib.axis.XTick at 0x7fd6afae58e0>,\n",
       "  <matplotlib.axis.XTick at 0x7fd6afae63c0>,\n",
       "  <matplotlib.axis.XTick at 0x7fd6afae6db0>,\n",
       "  <matplotlib.axis.XTick at 0x7fd6afae7890>,\n",
       "  <matplotlib.axis.XTick at 0x7fd6afae6000>,\n",
       "  <matplotlib.axis.XTick at 0x7fd6afb6c560>,\n",
       "  <matplotlib.axis.XTick at 0x7fd6afb6cfe0>,\n",
       "  <matplotlib.axis.XTick at 0x7fd6afb6da90>,\n",
       "  <matplotlib.axis.XTick at 0x7fd6afb6e540>,\n",
       "  <matplotlib.axis.XTick at 0x7fd6afb6d310>,\n",
       "  <matplotlib.axis.XTick at 0x7fd6afb6f110>,\n",
       "  <matplotlib.axis.XTick at 0x7fd6afb6fb90>,\n",
       "  <matplotlib.axis.XTick at 0x7fd6afb746e0>,\n",
       "  <matplotlib.axis.XTick at 0x7fd6afb751f0>,\n",
       "  <matplotlib.axis.XTick at 0x7fd6afad9520>,\n",
       "  <matplotlib.axis.XTick at 0x7fd6afb75c40>,\n",
       "  <matplotlib.axis.XTick at 0x7fd6afb766f0>,\n",
       "  <matplotlib.axis.XTick at 0x7fd6afb77140>],\n",
       " [Text(0.0, 0, '0'),\n",
       "  Text(1.0, 0, '1'),\n",
       "  Text(2.0, 0, '2'),\n",
       "  Text(3.0, 0, '3'),\n",
       "  Text(4.0, 0, '4'),\n",
       "  Text(5.0, 0, '5'),\n",
       "  Text(6.0, 0, '6'),\n",
       "  Text(7.0, 0, '7'),\n",
       "  Text(8.0, 0, '8'),\n",
       "  Text(9.0, 0, '9'),\n",
       "  Text(10.0, 0, '10'),\n",
       "  Text(11.0, 0, '11'),\n",
       "  Text(12.0, 0, '12'),\n",
       "  Text(13.0, 0, '13'),\n",
       "  Text(14.0, 0, '14'),\n",
       "  Text(15.0, 0, '15'),\n",
       "  Text(16.0, 0, '16'),\n",
       "  Text(17.0, 0, '17'),\n",
       "  Text(18.0, 0, '18'),\n",
       "  Text(19.0, 0, '19'),\n",
       "  Text(20.0, 0, '20')])"
      ]
     },
     "execution_count": 93,
     "metadata": {},
     "output_type": "execute_result"
    },
    {
     "data": {
      "image/png": "[encoded data removed]",
      "text/plain": [
       "<Figure size 1280x960 with 1 Axes>"
      ]
     },
     "metadata": {},
     "output_type": "display_data"
    }
   ],
   "source": [
    "plt.figure(dpi=200)\n",
    "plt.bar(integer_year_counts[0][:21],integer_year_counts[1][:21])\n",
    "plt.xticks(integer_year_counts[0][:21])"
   ]
  },
  {
   "cell_type": "code",
   "execution_count": 96,
   "metadata": {},
   "outputs": [
    {
     "name": "stderr",
     "output_type": "stream",
     "text": [
      "/tmp/ipykernel_755/3481712632.py:6: FutureWarning: The provided callable <built-in function sum> is currently using DataFrameGroupBy.sum. In a future version of pandas, the provided callable will be used directly. To keep current behavior pass the string \"sum\" instead.\n",
      "  df_pivot = df.pivot_table(index='patient_custom_master_age',columns='patient_onsetageunit',\n"
     ]
    },
    {
     "data": {
      "text/html": [
       "<div>\n",
       "<style scoped>\n",
       "    .dataframe tbody tr th:only-of-type {\n",
       "        vertical-align: middle;\n",
       "    }\n",
       "\n",
       "    .dataframe tbody tr th {\n",
       "        vertical-align: top;\n",
       "    }\n",
       "\n",
       "    .dataframe thead th {\n",
       "        text-align: right;\n",
       "    }\n",
       "</style>\n",
       "<table border=\"1\" class=\"dataframe\">\n",
       "  <thead>\n",
       "    <tr style=\"text-align: right;\">\n",
       "      <th>patient_custom_master_age</th>\n",
       "      <th>0.0</th>\n",
       "      <th>1.0</th>\n",
       "      <th>2.0</th>\n",
       "      <th>3.0</th>\n",
       "      <th>4.0</th>\n",
       "      <th>5.0</th>\n",
       "      <th>6.0</th>\n",
       "      <th>7.0</th>\n",
       "      <th>8.0</th>\n",
       "      <th>9.0</th>\n",
       "      <th>...</th>\n",
       "      <th>11.0</th>\n",
       "      <th>12.0</th>\n",
       "      <th>13.0</th>\n",
       "      <th>14.0</th>\n",
       "      <th>15.0</th>\n",
       "      <th>16.0</th>\n",
       "      <th>17.0</th>\n",
       "      <th>18.0</th>\n",
       "      <th>19.0</th>\n",
       "      <th>20.0</th>\n",
       "    </tr>\n",
       "    <tr>\n",
       "      <th>patient_onsetageunit</th>\n",
       "      <th></th>\n",
       "      <th></th>\n",
       "      <th></th>\n",
       "      <th></th>\n",
       "      <th></th>\n",
       "      <th></th>\n",
       "      <th></th>\n",
       "      <th></th>\n",
       "      <th></th>\n",
       "      <th></th>\n",
       "      <th></th>\n",
       "      <th></th>\n",
       "      <th></th>\n",
       "      <th></th>\n",
       "      <th></th>\n",
       "      <th></th>\n",
       "      <th></th>\n",
       "      <th></th>\n",
       "      <th></th>\n",
       "      <th></th>\n",
       "      <th></th>\n",
       "    </tr>\n",
       "  </thead>\n",
       "  <tbody>\n",
       "    <tr>\n",
       "      <th>Decade</th>\n",
       "      <td>0.00</td>\n",
       "      <td>0.00</td>\n",
       "      <td>0.0</td>\n",
       "      <td>0.00</td>\n",
       "      <td>0.00</td>\n",
       "      <td>0.00</td>\n",
       "      <td>0.00</td>\n",
       "      <td>0.00</td>\n",
       "      <td>0.0</td>\n",
       "      <td>0.0</td>\n",
       "      <td>...</td>\n",
       "      <td>0.0</td>\n",
       "      <td>0.0</td>\n",
       "      <td>0.0</td>\n",
       "      <td>0.0</td>\n",
       "      <td>0.0</td>\n",
       "      <td>0.0</td>\n",
       "      <td>0.0</td>\n",
       "      <td>0.0</td>\n",
       "      <td>0.0</td>\n",
       "      <td>0.01</td>\n",
       "    </tr>\n",
       "    <tr>\n",
       "      <th>Year</th>\n",
       "      <td>0.00</td>\n",
       "      <td>0.44</td>\n",
       "      <td>0.8</td>\n",
       "      <td>0.96</td>\n",
       "      <td>0.98</td>\n",
       "      <td>0.98</td>\n",
       "      <td>0.99</td>\n",
       "      <td>0.99</td>\n",
       "      <td>1.0</td>\n",
       "      <td>1.0</td>\n",
       "      <td>...</td>\n",
       "      <td>1.0</td>\n",
       "      <td>1.0</td>\n",
       "      <td>1.0</td>\n",
       "      <td>1.0</td>\n",
       "      <td>1.0</td>\n",
       "      <td>1.0</td>\n",
       "      <td>1.0</td>\n",
       "      <td>1.0</td>\n",
       "      <td>1.0</td>\n",
       "      <td>0.99</td>\n",
       "    </tr>\n",
       "    <tr>\n",
       "      <th>Month</th>\n",
       "      <td>0.45</td>\n",
       "      <td>0.52</td>\n",
       "      <td>0.2</td>\n",
       "      <td>0.04</td>\n",
       "      <td>0.02</td>\n",
       "      <td>0.01</td>\n",
       "      <td>0.01</td>\n",
       "      <td>0.00</td>\n",
       "      <td>0.0</td>\n",
       "      <td>0.0</td>\n",
       "      <td>...</td>\n",
       "      <td>0.0</td>\n",
       "      <td>0.0</td>\n",
       "      <td>0.0</td>\n",
       "      <td>0.0</td>\n",
       "      <td>0.0</td>\n",
       "      <td>0.0</td>\n",
       "      <td>0.0</td>\n",
       "      <td>0.0</td>\n",
       "      <td>0.0</td>\n",
       "      <td>0.00</td>\n",
       "    </tr>\n",
       "    <tr>\n",
       "      <th>Week</th>\n",
       "      <td>0.08</td>\n",
       "      <td>0.02</td>\n",
       "      <td>0.0</td>\n",
       "      <td>0.00</td>\n",
       "      <td>0.00</td>\n",
       "      <td>0.00</td>\n",
       "      <td>0.00</td>\n",
       "      <td>0.00</td>\n",
       "      <td>0.0</td>\n",
       "      <td>0.0</td>\n",
       "      <td>...</td>\n",
       "      <td>0.0</td>\n",
       "      <td>0.0</td>\n",
       "      <td>0.0</td>\n",
       "      <td>0.0</td>\n",
       "      <td>0.0</td>\n",
       "      <td>0.0</td>\n",
       "      <td>0.0</td>\n",
       "      <td>0.0</td>\n",
       "      <td>0.0</td>\n",
       "      <td>0.00</td>\n",
       "    </tr>\n",
       "    <tr>\n",
       "      <th>Day</th>\n",
       "      <td>0.46</td>\n",
       "      <td>0.02</td>\n",
       "      <td>0.0</td>\n",
       "      <td>0.00</td>\n",
       "      <td>0.00</td>\n",
       "      <td>0.00</td>\n",
       "      <td>0.00</td>\n",
       "      <td>0.00</td>\n",
       "      <td>0.0</td>\n",
       "      <td>0.0</td>\n",
       "      <td>...</td>\n",
       "      <td>0.0</td>\n",
       "      <td>0.0</td>\n",
       "      <td>0.0</td>\n",
       "      <td>0.0</td>\n",
       "      <td>0.0</td>\n",
       "      <td>0.0</td>\n",
       "      <td>0.0</td>\n",
       "      <td>0.0</td>\n",
       "      <td>0.0</td>\n",
       "      <td>0.00</td>\n",
       "    </tr>\n",
       "    <tr>\n",
       "      <th>Hour</th>\n",
       "      <td>0.02</td>\n",
       "      <td>0.00</td>\n",
       "      <td>0.0</td>\n",
       "      <td>0.00</td>\n",
       "      <td>0.00</td>\n",
       "      <td>0.00</td>\n",
       "      <td>0.00</td>\n",
       "      <td>0.00</td>\n",
       "      <td>0.0</td>\n",
       "      <td>0.0</td>\n",
       "      <td>...</td>\n",
       "      <td>0.0</td>\n",
       "      <td>0.0</td>\n",
       "      <td>0.0</td>\n",
       "      <td>0.0</td>\n",
       "      <td>0.0</td>\n",
       "      <td>0.0</td>\n",
       "      <td>0.0</td>\n",
       "      <td>0.0</td>\n",
       "      <td>0.0</td>\n",
       "      <td>0.00</td>\n",
       "    </tr>\n",
       "  </tbody>\n",
       "</table>\n",
       "<p>6 rows × 21 columns</p>\n",
       "</div>"
      ],
      "text/plain": [
       "patient_custom_master_age  0.0   1.0   2.0   3.0   4.0   5.0   6.0   7.0   \\\n",
       "patient_onsetageunit                                                        \n",
       "Decade                     0.00  0.00   0.0  0.00  0.00  0.00  0.00  0.00   \n",
       "Year                       0.00  0.44   0.8  0.96  0.98  0.98  0.99  0.99   \n",
       "Month                      0.45  0.52   0.2  0.04  0.02  0.01  0.01  0.00   \n",
       "Week                       0.08  0.02   0.0  0.00  0.00  0.00  0.00  0.00   \n",
       "Day                        0.46  0.02   0.0  0.00  0.00  0.00  0.00  0.00   \n",
       "Hour                       0.02  0.00   0.0  0.00  0.00  0.00  0.00  0.00   \n",
       "\n",
       "patient_custom_master_age  8.0   9.0   ...  11.0  12.0  13.0  14.0  15.0  \\\n",
       "patient_onsetageunit                   ...                                 \n",
       "Decade                      0.0   0.0  ...   0.0   0.0   0.0   0.0   0.0   \n",
       "Year                        1.0   1.0  ...   1.0   1.0   1.0   1.0   1.0   \n",
       "Month                       0.0   0.0  ...   0.0   0.0   0.0   0.0   0.0   \n",
       "Week                        0.0   0.0  ...   0.0   0.0   0.0   0.0   0.0   \n",
       "Day                         0.0   0.0  ...   0.0   0.0   0.0   0.0   0.0   \n",
       "Hour                        0.0   0.0  ...   0.0   0.0   0.0   0.0   0.0   \n",
       "\n",
       "patient_custom_master_age  16.0  17.0  18.0  19.0  20.0  \n",
       "patient_onsetageunit                                     \n",
       "Decade                      0.0   0.0   0.0   0.0  0.01  \n",
       "Year                        1.0   1.0   1.0   1.0  0.99  \n",
       "Month                       0.0   0.0   0.0   0.0  0.00  \n",
       "Week                        0.0   0.0   0.0   0.0  0.00  \n",
       "Day                         0.0   0.0   0.0   0.0  0.00  \n",
       "Hour                        0.0   0.0   0.0   0.0  0.00  \n",
       "\n",
       "[6 rows x 21 columns]"
      ]
     },
     "metadata": {},
     "output_type": "display_data"
    },
    {
     "data": {
      "image/png": "[encoded data removed]",
      "text/plain": [
       "<Figure size 1280x960 with 1 Axes>"
      ]
     },
     "metadata": {},
     "output_type": "display_data"
    }
   ],
   "source": [
    "pediatric_patient_df = (patient_df.\n",
    "                        query('patient_custom_master_age>0 & patient_custom_master_age<21'))\n",
    "df = pediatric_patient_df[['patient_onsetageunit','patient_custom_master_age']].query('patient_custom_master_age<21').copy()\n",
    "df['patient_custom_master_age'] = np.floor(df['patient_custom_master_age'])\n",
    "df['mem'] = 1.\n",
    "df_pivot = df.pivot_table(index='patient_custom_master_age',columns='patient_onsetageunit',\n",
    "                          values='mem',aggfunc=sum,fill_value=0)\n",
    "order=['Decade','Year','Month','Week','Day','Hour']\n",
    "df_pivot = df_pivot[order].apply(lambda x : x / sum(x),axis=1).round(2)\n",
    "display(df_pivot.T)\n",
    "fig,ax=plt.subplots(dpi=200)\n",
    "g = df_pivot.plot(kind='bar',stacked=True,ax=ax)\n",
    "g.legend(bbox_to_anchor=(1,1))\n",
    "g = g.set_xticklabels(g.get_xticklabels(),rotation=30)"
   ]
  },
  {
   "cell_type": "code",
   "execution_count": null,
   "metadata": {},
   "outputs": [],
   "source": []
  },
  {
   "cell_type": "code",
   "execution_count": null,
   "metadata": {},
   "outputs": [],
   "source": []
  },
  {
   "cell_type": "markdown",
   "metadata": {},
   "source": [
    "##### Drug"
   ]
  },
  {
   "cell_type": "code",
   "execution_count": null,
   "metadata": {},
   "outputs": [],
   "source": [
    "drug_df = pd.read_csv(\"../../data/openFDA_drug_event/er_tables_memory_efficient/drugs.csv.gz\", compression='gzip', low_memory=False)\n",
    "drug_characteristics_df = pd.read_csv(\"../../data/openFDA_drug_event/er_tables_memory_efficient/drugcharacteristics.csv.gz\", compression='gzip', low_memory=False)"
   ]
  },
  {
   "cell_type": "code",
   "execution_count": 4,
   "metadata": {},
   "outputs": [
    {
     "data": {
      "text/html": [
       "<div>\n",
       "<style scoped>\n",
       "    .dataframe tbody tr th:only-of-type {\n",
       "        vertical-align: middle;\n",
       "    }\n",
       "\n",
       "    .dataframe tbody tr th {\n",
       "        vertical-align: top;\n",
       "    }\n",
       "\n",
       "    .dataframe thead th {\n",
       "        text-align: right;\n",
       "    }\n",
       "</style>\n",
       "<table border=\"1\" class=\"dataframe\">\n",
       "  <thead>\n",
       "    <tr style=\"text-align: right;\">\n",
       "      <th></th>\n",
       "      <th>rxcui</th>\n",
       "      <th>safetyreportid</th>\n",
       "    </tr>\n",
       "  </thead>\n",
       "  <tbody>\n",
       "    <tr>\n",
       "      <th>0</th>\n",
       "      <td>197807</td>\n",
       "      <td>10003301</td>\n",
       "    </tr>\n",
       "    <tr>\n",
       "      <th>1</th>\n",
       "      <td>854183</td>\n",
       "      <td>10003301</td>\n",
       "    </tr>\n",
       "    <tr>\n",
       "      <th>2</th>\n",
       "      <td>731533</td>\n",
       "      <td>10003301</td>\n",
       "    </tr>\n",
       "    <tr>\n",
       "      <th>3</th>\n",
       "      <td>544393</td>\n",
       "      <td>10003301</td>\n",
       "    </tr>\n",
       "    <tr>\n",
       "      <th>4</th>\n",
       "      <td>206878</td>\n",
       "      <td>10003301</td>\n",
       "    </tr>\n",
       "  </tbody>\n",
       "</table>\n",
       "</div>"
      ],
      "text/plain": [
       "    rxcui safetyreportid\n",
       "0  197807       10003301\n",
       "1  854183       10003301\n",
       "2  731533       10003301\n",
       "3  544393       10003301\n",
       "4  206878       10003301"
      ]
     },
     "execution_count": 4,
     "metadata": {},
     "output_type": "execute_result"
    }
   ],
   "source": [
    "drug_df.head()"
   ]
  },
  {
   "cell_type": "code",
   "execution_count": 5,
   "metadata": {},
   "outputs": [
    {
     "data": {
      "text/html": [
       "<div>\n",
       "<style scoped>\n",
       "    .dataframe tbody tr th:only-of-type {\n",
       "        vertical-align: middle;\n",
       "    }\n",
       "\n",
       "    .dataframe tbody tr th {\n",
       "        vertical-align: top;\n",
       "    }\n",
       "\n",
       "    .dataframe thead th {\n",
       "        text-align: right;\n",
       "    }\n",
       "</style>\n",
       "<table border=\"1\" class=\"dataframe\">\n",
       "  <thead>\n",
       "    <tr style=\"text-align: right;\">\n",
       "      <th></th>\n",
       "      <th>drug_administration</th>\n",
       "      <th>drug_characterization</th>\n",
       "      <th>drug_indication</th>\n",
       "      <th>medicinal_product</th>\n",
       "      <th>safetyreportid</th>\n",
       "    </tr>\n",
       "  </thead>\n",
       "  <tbody>\n",
       "    <tr>\n",
       "      <th>0</th>\n",
       "      <td>Intravenous (not otherwise specified)</td>\n",
       "      <td>Suspect (the drug was considered by the report...</td>\n",
       "      <td>OSTEOPOROSIS</td>\n",
       "      <td>BONIVA</td>\n",
       "      <td>10003300</td>\n",
       "    </tr>\n",
       "    <tr>\n",
       "      <th>1</th>\n",
       "      <td>NaN</td>\n",
       "      <td>Suspect (the drug was considered by the report...</td>\n",
       "      <td>PRODUCT USED FOR UNKNOWN INDICATION</td>\n",
       "      <td>IBUPROFEN</td>\n",
       "      <td>10003301</td>\n",
       "    </tr>\n",
       "    <tr>\n",
       "      <th>2</th>\n",
       "      <td>NaN</td>\n",
       "      <td>Suspect (the drug was considered by the report...</td>\n",
       "      <td>NaN</td>\n",
       "      <td>LYRICA</td>\n",
       "      <td>10003302</td>\n",
       "    </tr>\n",
       "    <tr>\n",
       "      <th>3</th>\n",
       "      <td>NaN</td>\n",
       "      <td>Suspect (the drug was considered by the report...</td>\n",
       "      <td>NaN</td>\n",
       "      <td>FIORINAL</td>\n",
       "      <td>10003304</td>\n",
       "    </tr>\n",
       "    <tr>\n",
       "      <th>4</th>\n",
       "      <td>NaN</td>\n",
       "      <td>Suspect (the drug was considered by the report...</td>\n",
       "      <td>NaN</td>\n",
       "      <td>DOXYCYCLINE HYCLATE</td>\n",
       "      <td>10003304</td>\n",
       "    </tr>\n",
       "  </tbody>\n",
       "</table>\n",
       "</div>"
      ],
      "text/plain": [
       "                     drug_administration  \\\n",
       "0  Intravenous (not otherwise specified)   \n",
       "1                                    NaN   \n",
       "2                                    NaN   \n",
       "3                                    NaN   \n",
       "4                                    NaN   \n",
       "\n",
       "                               drug_characterization  \\\n",
       "0  Suspect (the drug was considered by the report...   \n",
       "1  Suspect (the drug was considered by the report...   \n",
       "2  Suspect (the drug was considered by the report...   \n",
       "3  Suspect (the drug was considered by the report...   \n",
       "4  Suspect (the drug was considered by the report...   \n",
       "\n",
       "                       drug_indication    medicinal_product safetyreportid  \n",
       "0                         OSTEOPOROSIS               BONIVA       10003300  \n",
       "1  PRODUCT USED FOR UNKNOWN INDICATION            IBUPROFEN       10003301  \n",
       "2                                  NaN               LYRICA       10003302  \n",
       "3                                  NaN             FIORINAL       10003304  \n",
       "4                                  NaN  DOXYCYCLINE HYCLATE       10003304  "
      ]
     },
     "execution_count": 5,
     "metadata": {},
     "output_type": "execute_result"
    }
   ],
   "source": [
    "drug_characteristics_df.head()"
   ]
  },
  {
   "cell_type": "code",
   "execution_count": 50,
   "metadata": {},
   "outputs": [
    {
     "data": {
      "text/html": [
       "<div>\n",
       "<style scoped>\n",
       "    .dataframe tbody tr th:only-of-type {\n",
       "        vertical-align: middle;\n",
       "    }\n",
       "\n",
       "    .dataframe tbody tr th {\n",
       "        vertical-align: top;\n",
       "    }\n",
       "\n",
       "    .dataframe thead th {\n",
       "        text-align: right;\n",
       "    }\n",
       "</style>\n",
       "<table border=\"1\" class=\"dataframe\">\n",
       "  <thead>\n",
       "    <tr style=\"text-align: right;\">\n",
       "      <th></th>\n",
       "      <th>patient_custom_master_age</th>\n",
       "      <th>patient_onsetage</th>\n",
       "      <th>patient_onsetageunit</th>\n",
       "      <th>patient_sex</th>\n",
       "      <th>patient_weight</th>\n",
       "      <th>drug_administration</th>\n",
       "      <th>drug_characterization</th>\n",
       "      <th>drug_indication</th>\n",
       "      <th>medicinal_product</th>\n",
       "    </tr>\n",
       "    <tr>\n",
       "      <th>safetyreportid</th>\n",
       "      <th></th>\n",
       "      <th></th>\n",
       "      <th></th>\n",
       "      <th></th>\n",
       "      <th></th>\n",
       "      <th></th>\n",
       "      <th></th>\n",
       "      <th></th>\n",
       "      <th></th>\n",
       "    </tr>\n",
       "  </thead>\n",
       "  <tbody>\n",
       "    <tr>\n",
       "      <th>10003300</th>\n",
       "      <td>77.0</td>\n",
       "      <td>77.0</td>\n",
       "      <td>Year</td>\n",
       "      <td>Female</td>\n",
       "      <td>NaN</td>\n",
       "      <td>Intravenous (not otherwise specified)</td>\n",
       "      <td>Suspect (the drug was considered by the report...</td>\n",
       "      <td>OSTEOPOROSIS</td>\n",
       "      <td>BONIVA</td>\n",
       "    </tr>\n",
       "    <tr>\n",
       "      <th>10003301</th>\n",
       "      <td>NaN</td>\n",
       "      <td>NaN</td>\n",
       "      <td>NaN</td>\n",
       "      <td>Female</td>\n",
       "      <td>NaN</td>\n",
       "      <td>NaN</td>\n",
       "      <td>Suspect (the drug was considered by the report...</td>\n",
       "      <td>PRODUCT USED FOR UNKNOWN INDICATION</td>\n",
       "      <td>IBUPROFEN</td>\n",
       "    </tr>\n",
       "    <tr>\n",
       "      <th>10003302</th>\n",
       "      <td>NaN</td>\n",
       "      <td>NaN</td>\n",
       "      <td>NaN</td>\n",
       "      <td>Male</td>\n",
       "      <td>NaN</td>\n",
       "      <td>NaN</td>\n",
       "      <td>Suspect (the drug was considered by the report...</td>\n",
       "      <td>NaN</td>\n",
       "      <td>LYRICA</td>\n",
       "    </tr>\n",
       "    <tr>\n",
       "      <th>10003304</th>\n",
       "      <td>NaN</td>\n",
       "      <td>NaN</td>\n",
       "      <td>NaN</td>\n",
       "      <td>Female</td>\n",
       "      <td>NaN</td>\n",
       "      <td>NaN</td>\n",
       "      <td>Suspect (the drug was considered by the report...</td>\n",
       "      <td>NaN</td>\n",
       "      <td>FIORINAL</td>\n",
       "    </tr>\n",
       "    <tr>\n",
       "      <th>10003304</th>\n",
       "      <td>NaN</td>\n",
       "      <td>NaN</td>\n",
       "      <td>NaN</td>\n",
       "      <td>Female</td>\n",
       "      <td>NaN</td>\n",
       "      <td>NaN</td>\n",
       "      <td>Suspect (the drug was considered by the report...</td>\n",
       "      <td>NaN</td>\n",
       "      <td>DOXYCYCLINE HYCLATE</td>\n",
       "    </tr>\n",
       "  </tbody>\n",
       "</table>\n",
       "</div>"
      ],
      "text/plain": [
       "                patient_custom_master_age  patient_onsetage  \\\n",
       "safetyreportid                                                \n",
       "10003300                             77.0              77.0   \n",
       "10003301                              NaN               NaN   \n",
       "10003302                              NaN               NaN   \n",
       "10003304                              NaN               NaN   \n",
       "10003304                              NaN               NaN   \n",
       "\n",
       "               patient_onsetageunit patient_sex  patient_weight  \\\n",
       "safetyreportid                                                    \n",
       "10003300                       Year      Female             NaN   \n",
       "10003301                        NaN      Female             NaN   \n",
       "10003302                        NaN        Male             NaN   \n",
       "10003304                        NaN      Female             NaN   \n",
       "10003304                        NaN      Female             NaN   \n",
       "\n",
       "                                  drug_administration  \\\n",
       "safetyreportid                                          \n",
       "10003300        Intravenous (not otherwise specified)   \n",
       "10003301                                          NaN   \n",
       "10003302                                          NaN   \n",
       "10003304                                          NaN   \n",
       "10003304                                          NaN   \n",
       "\n",
       "                                            drug_characterization  \\\n",
       "safetyreportid                                                      \n",
       "10003300        Suspect (the drug was considered by the report...   \n",
       "10003301        Suspect (the drug was considered by the report...   \n",
       "10003302        Suspect (the drug was considered by the report...   \n",
       "10003304        Suspect (the drug was considered by the report...   \n",
       "10003304        Suspect (the drug was considered by the report...   \n",
       "\n",
       "                                    drug_indication    medicinal_product  \n",
       "safetyreportid                                                            \n",
       "10003300                               OSTEOPOROSIS               BONIVA  \n",
       "10003301        PRODUCT USED FOR UNKNOWN INDICATION            IBUPROFEN  \n",
       "10003302                                        NaN               LYRICA  \n",
       "10003304                                        NaN             FIORINAL  \n",
       "10003304                                        NaN  DOXYCYCLINE HYCLATE  "
      ]
     },
     "execution_count": 50,
     "metadata": {},
     "output_type": "execute_result"
    }
   ],
   "source": [
    "patient_drugcharacteristics = (patient_df.\n",
    "                               set_index('safetyreportid').\n",
    "                               join(drug_characteristics_df.\n",
    "                               set_index('safetyreportid')\n",
    "                                   )\n",
    "                              )\n",
    "patient_drugcharacteristics.head()"
   ]
  },
  {
   "cell_type": "code",
   "execution_count": 52,
   "metadata": {},
   "outputs": [],
   "source": [
    "pediatric_patient_df = (patient_drugcharacteristics.\n",
    "                        loc[:,['patient_custom_master_age','drug_indication']].\n",
    "                        dropna().\n",
    "                        query('patient_custom_master_age>0 & patient_custom_master_age<21').\n",
    "                        reset_index()\n",
    "                       )\n",
    "pediatric_patient_df['year'] = np.floor(pediatric_patient_df.patient_custom_master_age).astype(int)"
   ]
  },
  {
   "cell_type": "code",
   "execution_count": 53,
   "metadata": {},
   "outputs": [
    {
     "data": {
      "text/plain": [
       "Text(0, 0.5, 'Age')"
      ]
     },
     "execution_count": 53,
     "metadata": {},
     "output_type": "execute_result"
    },
    {
     "data": {
      "image/png": "[encoded data removed]",
      "text/plain": [
       "<Figure size 1280x960 with 1 Axes>"
      ]
     },
     "metadata": {},
     "output_type": "display_data"
    }
   ],
   "source": [
    "fig,ax = plt.subplots(dpi=200)\n",
    "(pediatric_patient_df.\n",
    " loc[:,['year','drug_indication']].\n",
    " drop_duplicates().\n",
    " groupby('year')['drug_indication'].\n",
    " count()\n",
    ").plot.barh(ax=ax)\n",
    "ax.set_xlabel('Number of Drug Indications')\n",
    "ax.set_ylabel('Age')"
   ]
  },
  {
   "cell_type": "code",
   "execution_count": null,
   "metadata": {},
   "outputs": [],
   "source": []
  },
  {
   "cell_type": "code",
   "execution_count": null,
   "metadata": {},
   "outputs": [],
   "source": []
  },
  {
   "cell_type": "markdown",
   "metadata": {},
   "source": [
    "##### Reaction"
   ]
  },
  {
   "cell_type": "code",
   "execution_count": 108,
   "metadata": {},
   "outputs": [],
   "source": [
    "reaction_df = pd.read_csv(\"../../data/openFDA_drug_event/er_tables_memory_efficient/reactions.csv.gz\", compression='gzip', low_memory=False)"
   ]
  },
  {
   "cell_type": "code",
   "execution_count": 109,
   "metadata": {},
   "outputs": [
    {
     "data": {
      "text/html": [
       "<div>\n",
       "<style scoped>\n",
       "    .dataframe tbody tr th:only-of-type {\n",
       "        vertical-align: middle;\n",
       "    }\n",
       "\n",
       "    .dataframe tbody tr th {\n",
       "        vertical-align: top;\n",
       "    }\n",
       "\n",
       "    .dataframe thead th {\n",
       "        text-align: right;\n",
       "    }\n",
       "</style>\n",
       "<table border=\"1\" class=\"dataframe\">\n",
       "  <thead>\n",
       "    <tr style=\"text-align: right;\">\n",
       "      <th></th>\n",
       "      <th>reaction_meddrapt</th>\n",
       "      <th>reaction_outcome</th>\n",
       "      <th>safetyreportid</th>\n",
       "    </tr>\n",
       "  </thead>\n",
       "  <tbody>\n",
       "    <tr>\n",
       "      <th>0</th>\n",
       "      <td>Diarrhoea</td>\n",
       "      <td>NaN</td>\n",
       "      <td>10003300</td>\n",
       "    </tr>\n",
       "    <tr>\n",
       "      <th>1</th>\n",
       "      <td>Arthralgia</td>\n",
       "      <td>NaN</td>\n",
       "      <td>10003300</td>\n",
       "    </tr>\n",
       "    <tr>\n",
       "      <th>2</th>\n",
       "      <td>Headache</td>\n",
       "      <td>NaN</td>\n",
       "      <td>10003300</td>\n",
       "    </tr>\n",
       "    <tr>\n",
       "      <th>3</th>\n",
       "      <td>Vomiting</td>\n",
       "      <td>NaN</td>\n",
       "      <td>10003300</td>\n",
       "    </tr>\n",
       "    <tr>\n",
       "      <th>4</th>\n",
       "      <td>Dyspepsia</td>\n",
       "      <td>NaN</td>\n",
       "      <td>10003301</td>\n",
       "    </tr>\n",
       "    <tr>\n",
       "      <th>...</th>\n",
       "      <td>...</td>\n",
       "      <td>...</td>\n",
       "      <td>...</td>\n",
       "    </tr>\n",
       "    <tr>\n",
       "      <th>56821719</th>\n",
       "      <td>Dizziness</td>\n",
       "      <td>Unknown</td>\n",
       "      <td>9999997</td>\n",
       "    </tr>\n",
       "    <tr>\n",
       "      <th>56821720</th>\n",
       "      <td>Cough</td>\n",
       "      <td>Unknown</td>\n",
       "      <td>9999997</td>\n",
       "    </tr>\n",
       "    <tr>\n",
       "      <th>56821721</th>\n",
       "      <td>Oedema</td>\n",
       "      <td>Unknown</td>\n",
       "      <td>9999998</td>\n",
       "    </tr>\n",
       "    <tr>\n",
       "      <th>56821722</th>\n",
       "      <td>Chest pain</td>\n",
       "      <td>Unknown</td>\n",
       "      <td>9999999</td>\n",
       "    </tr>\n",
       "    <tr>\n",
       "      <th>56821723</th>\n",
       "      <td>Middle insomnia</td>\n",
       "      <td>Unknown</td>\n",
       "      <td>9999999</td>\n",
       "    </tr>\n",
       "  </tbody>\n",
       "</table>\n",
       "<p>56821724 rows × 3 columns</p>\n",
       "</div>"
      ],
      "text/plain": [
       "         reaction_meddrapt reaction_outcome safetyreportid\n",
       "0                Diarrhoea              NaN       10003300\n",
       "1               Arthralgia              NaN       10003300\n",
       "2                 Headache              NaN       10003300\n",
       "3                 Vomiting              NaN       10003300\n",
       "4                Dyspepsia              NaN       10003301\n",
       "...                    ...              ...            ...\n",
       "56821719         Dizziness          Unknown        9999997\n",
       "56821720             Cough          Unknown        9999997\n",
       "56821721            Oedema          Unknown        9999998\n",
       "56821722        Chest pain          Unknown        9999999\n",
       "56821723   Middle insomnia          Unknown        9999999\n",
       "\n",
       "[56821724 rows x 3 columns]"
      ]
     },
     "execution_count": 109,
     "metadata": {},
     "output_type": "execute_result"
    }
   ],
   "source": [
    "reaction_df"
   ]
  },
  {
   "cell_type": "code",
   "execution_count": 110,
   "metadata": {},
   "outputs": [
    {
     "name": "stdout",
     "output_type": "stream",
     "text": [
      "<class 'pandas.core.frame.DataFrame'>\n",
      "RangeIndex: 56821724 entries, 0 to 56821723\n",
      "Data columns (total 3 columns):\n",
      " #   Column             Dtype \n",
      "---  ------             ----- \n",
      " 0   reaction_meddrapt  object\n",
      " 1   reaction_outcome   object\n",
      " 2   safetyreportid     object\n",
      "dtypes: object(3)\n",
      "memory usage: 1.3+ GB\n"
     ]
    }
   ],
   "source": [
    "reaction_df.info()"
   ]
  },
  {
   "cell_type": "code",
   "execution_count": 111,
   "metadata": {},
   "outputs": [
    {
     "data": {
      "text/plain": [
       "reaction_outcome     13030856\n",
       "reaction_meddrapt          24\n",
       "safetyreportid              0\n",
       "dtype: int64"
      ]
     },
     "execution_count": 111,
     "metadata": {},
     "output_type": "execute_result"
    }
   ],
   "source": [
    "reaction_df.isna().sum().sort_values(ascending=False)"
   ]
  },
  {
   "cell_type": "code",
   "execution_count": 112,
   "metadata": {},
   "outputs": [
    {
     "data": {
      "text/plain": [
       "reaction_outcome\n",
       "Unknown                                                        24355566\n",
       "Not recovered/not resolved                                      7289045\n",
       "Recovered/resolved                                              6951188\n",
       "Recovering/resolving                                            2861943\n",
       "Fatal                                                           2153316\n",
       "Recovered/resolved with sequelae (consequent health issues)      179810\n",
       "Name: count, dtype: int64"
      ]
     },
     "execution_count": 112,
     "metadata": {},
     "output_type": "execute_result"
    }
   ],
   "source": [
    "reaction_df['reaction_outcome'].value_counts()"
   ]
  },
  {
   "cell_type": "code",
   "execution_count": null,
   "metadata": {},
   "outputs": [],
   "source": []
  },
  {
   "cell_type": "markdown",
   "metadata": {},
   "source": [
    "#### Load Standard Data"
   ]
  },
  {
   "cell_type": "markdown",
   "metadata": {},
   "source": [
    "##### Standard Drugs"
   ]
  },
  {
   "cell_type": "code",
   "execution_count": null,
   "metadata": {},
   "outputs": [],
   "source": [
    "standard_drugs = pd.read_csv(\"../../data/openFDA_drug_event/er_tables_memory_efficient/standard_drugs.csv.gz\", compression='gzip', low_memory=False)\n",
    "standard_drugs_atc = pd.read_csv(\"../../data/openFDA_drug_event/er_tables_memory_efficient/standard_drugs_atc.csv.gz\", compression='gzip', low_memory=False)\n",
    "standard_drugs_rxnorm_ingredients = pd.read_csv(\"../../data/openFDA_drug_event/er_tables_memory_efficient/standard_drugs_rxnorm_ingredients.csv.gz\", compression='gzip', low_memory=False)\n"
   ]
  },
  {
   "cell_type": "markdown",
   "metadata": {},
   "source": [
    "##### Standard Reaction"
   ]
  },
  {
   "cell_type": "code",
   "execution_count": null,
   "metadata": {},
   "outputs": [],
   "source": [
    "standard_reactions = pd.read_csv(\"../../data/openFDA_drug_event/er_tables_memory_efficient/standard_reactions.csv.gz\", compression='gzip', low_memory=False)\n",
    "standard_reactions_meddra_relationships = pd.read_csv(\"../../data/openFDA_drug_event/er_tables_memory_efficient/standard_reactions_meddra_relationships.csv.gz\", compression='gzip', low_memory=False)"
   ]
  },
  {
   "cell_type": "code",
   "execution_count": null,
   "metadata": {},
   "outputs": [],
   "source": [
    "standard_reactions_meddra_hlt = pd.read_csv(\"../../data/openFDA_drug_event/er_tables_memory_efficient/standard_reactions_meddra_hlt.csv.gz\", compression='gzip', low_memory=False)\n",
    "standard_reactions_meddra_hlgt = pd.read_csv(\"../../data/openFDA_drug_event/er_tables_memory_efficient/standard_reactions_meddra_hlgt.csv.gz\", compression='gzip', low_memory=False)\n",
    "standard_reactions_meddra_soc = pd.read_csv(\"../../data/openFDA_drug_event/er_tables_memory_efficient/standard_reactions_meddra_soc.csv.gz\", compression='gzip', low_memory=False)\n",
    "standard_reactions_snomed = pd.read_csv(\"../../data/openFDA_drug_event/er_tables_memory_efficient/standard_reactions_snomed.csv.gz\", compression='gzip', low_memory=False)"
   ]
  },
  {
   "cell_type": "code",
   "execution_count": null,
   "metadata": {},
   "outputs": [],
   "source": []
  }
 ],
 "metadata": {
  "kernelspec": {
   "display_name": "Python 3",
   "language": "python",
   "name": "python3"
  },
  "language_info": {
   "codemirror_mode": {
    "name": "ipython",
    "version": 3
   },
   "file_extension": ".py",
   "mimetype": "text/x-python",
   "name": "python",
   "nbconvert_exporter": "python",
   "pygments_lexer": "ipython3",
   "version": "3.12.8"
  }
 },
 "nbformat": 4,
 "nbformat_minor": 2
}
