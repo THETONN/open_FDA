{
 "cells": [
  {
   "cell_type": "code",
   "execution_count": 33,
   "metadata": {},
   "outputs": [],
   "source": [
    "import pandas as pd\n",
    "import matplotlib.pyplot as plt\n",
    "import numpy as np\n",
    "from tqdm import tqdm\n",
    "\n"
   ]
  },
  {
   "cell_type": "code",
   "execution_count": 23,
   "metadata": {},
   "outputs": [],
   "source": [
    "ped_data = pd.read_csv('../../data/pediatric_patients_report_drug_reaction.csv.gz',compression='gzip', index_col=0)"
   ]
  },
  {
   "cell_type": "code",
   "execution_count": 24,
   "metadata": {},
   "outputs": [
    {
     "name": "stdout",
     "output_type": "stream",
     "text": [
      "Ped Data: 881,396 rows\n"
     ]
    }
   ],
   "source": [
    "print(f'Ped Data: {len(ped_data):,} rows')"
   ]
  },
  {
   "cell_type": "code",
   "execution_count": 50,
   "metadata": {},
   "outputs": [
    {
     "name": "stdout",
     "output_type": "stream",
     "text": [
      "<class 'pandas.core.frame.DataFrame'>\n",
      "Index: 881396 entries, 1 to 1754669\n",
      "Data columns (total 28 columns):\n",
      " #   Column                          Non-Null Count   Dtype  \n",
      "---  ------                          --------------   -----  \n",
      " 0   patient_custom_master_age       881396 non-null  float64\n",
      " 1   patient_custom_master_age_unit  881396 non-null  object \n",
      " 2   patient_onsetage                881396 non-null  float64\n",
      " 3   patient_onsetageunit            881396 non-null  object \n",
      " 4   patient_sex                     881396 non-null  object \n",
      " 5   safetyreportid                  881396 non-null  object \n",
      " 6   nichd                           881396 non-null  object \n",
      " 7   ich_ema                         639944 non-null  object \n",
      " 8   fda                             529859 non-null  object \n",
      " 9   lastupdate_date                 881396 non-null  object \n",
      " 10  mostrecent_receive_date         881396 non-null  object \n",
      " 11  receive_date                    881396 non-null  object \n",
      " 12  congenital_anomali              881396 non-null  int64  \n",
      " 13  death                           881396 non-null  int64  \n",
      " 14  disabling                       881396 non-null  int64  \n",
      " 15  hospitalization                 881396 non-null  int64  \n",
      " 16  life_threatening                881396 non-null  int64  \n",
      " 17  other                           881396 non-null  int64  \n",
      " 18  serious                         881396 non-null  object \n",
      " 19  reporter_company                881396 non-null  object \n",
      " 20  reporter_country                881396 non-null  object \n",
      " 21  reporter_qualification          881396 non-null  object \n",
      " 22  drug_administration             881396 non-null  object \n",
      " 23  drug_characterization           881396 non-null  object \n",
      " 24  drug_indication                 881396 non-null  object \n",
      " 25  medicinal_product               881396 non-null  object \n",
      " 26  reaction_meddrapt               881396 non-null  object \n",
      " 27  reaction_outcome                881396 non-null  object \n",
      "dtypes: float64(2), int64(6), object(20)\n",
      "memory usage: 195.0+ MB\n"
     ]
    }
   ],
   "source": [
    "ped_data.info()"
   ]
  },
  {
   "cell_type": "code",
   "execution_count": 25,
   "metadata": {},
   "outputs": [
    {
     "name": "stdout",
     "output_type": "stream",
     "text": [
      "['Suspect (the drug was considered by the reporter to be the cause)'\n",
      " 'Concomitant (the drug was reported as being taken along with the suspect drug)'\n",
      " 'Interacting (the drug was considered by the reporter to have interacted with the suspect drug)']\n"
     ]
    }
   ],
   "source": [
    "print(ped_data['drug_characterization'].unique()) "
   ]
  },
  {
   "cell_type": "code",
   "execution_count": 51,
   "metadata": {},
   "outputs": [
    {
     "name": "stdout",
     "output_type": "stream",
     "text": [
      "After filtering 'Primary Suspect Drug'  704,273 rows\n"
     ]
    }
   ],
   "source": [
    "df_filtered = ped_data[ped_data['drug_characterization'].isin([ped_data['drug_characterization'].unique()[0], 'Primary Suspect Drug'])].copy()\n",
    "print(f\"After filtering 'Primary Suspect Drug'  {len(df_filtered):,} rows\")\n"
   ]
  },
  {
   "cell_type": "code",
   "execution_count": 52,
   "metadata": {},
   "outputs": [],
   "source": [
    "df_filtered = df_filtered.rename(columns={\n",
    "    'medicinal_product': 'drug_name',\n",
    "    'reaction_meddrapt': 'adr_name'\n",
    "})"
   ]
  },
  {
   "cell_type": "code",
   "execution_count": 53,
   "metadata": {},
   "outputs": [],
   "source": [
    "df_filtered['serious'] = df_filtered['serious'].apply(lambda x: 1 if str(x) == '1' else 0)"
   ]
  },
  {
   "cell_type": "code",
   "execution_count": 54,
   "metadata": {},
   "outputs": [],
   "source": [
    "seriousness_columns = [\n",
    "    'death',\n",
    "    'life_threatening',\n",
    "    'hospitalization',\n",
    "    'disabling',\n",
    "    'congenital_anomali',\n",
    "    'other',\n",
    "]"
   ]
  },
  {
   "cell_type": "code",
   "execution_count": 55,
   "metadata": {},
   "outputs": [],
   "source": [
    "    # 1:'other',\n",
    "    # 2:'congenital_anomali',\n",
    "    # 3:'disabling',\n",
    "    # 4:'hospitalization',\n",
    "    # 5:'life_threatening',\n",
    "    # 6:'death'"
   ]
  },
  {
   "cell_type": "code",
   "execution_count": null,
   "metadata": {},
   "outputs": [],
   "source": []
  },
  {
   "cell_type": "markdown",
   "metadata": {},
   "source": [
    "## ADR Filtering"
   ]
  },
  {
   "cell_type": "code",
   "execution_count": 56,
   "metadata": {},
   "outputs": [
    {
     "name": "stdout",
     "output_type": "stream",
     "text": [
      "\n",
      "--- step 1: Filtering ADR (> 50 Associated Drugs) ---\n",
      "Total ADR before filtering: 12208\n",
      "Total ADR with more than 50 associated drugs: 1228\n",
      "Total rows after filtering ADR: 556872\n"
     ]
    }
   ],
   "source": [
    "print(\"\\n--- step 1: Filtering ADR (> 50 Associated Drugs) ---\")\n",
    "\n",
    "# Count the number of unique drugs for each ADR\n",
    "adr_drug_counts = df_filtered.groupby('adr_name')['drug_name'].nunique()\n",
    "\n",
    "# Filter ADR with more than 50 associated drugs\n",
    "qualified_adrs = adr_drug_counts[adr_drug_counts > 50].index.tolist()\n",
    "\n",
    "# Filter main DataFrame to keep only ADRs that meet the criteria\n",
    "df_final = df_filtered[df_filtered['adr_name'].isin(qualified_adrs)].copy()\n",
    "\n",
    "print(f\"Total ADR before filtering: {len(adr_drug_counts)}\")\n",
    "print(f\"Total ADR with more than 50 associated drugs: {len(qualified_adrs)}\")\n",
    "print(f\"Total rows after filtering ADR: {len(df_final)}\")"
   ]
  },
  {
   "cell_type": "markdown",
   "metadata": {},
   "source": [
    "## Seriousness PRR"
   ]
  },
  {
   "cell_type": "code",
   "execution_count": 57,
   "metadata": {},
   "outputs": [
    {
     "name": "stdout",
     "output_type": "stream",
     "text": [
      "\n",
      "--- step 2: Seriousness PRR ---\n",
      "Function 'calculate_seriousness_prr' is ready to use\n"
     ]
    }
   ],
   "source": [
    "def calculate_seriousness_prr(df, drug, adr, seriousness_outcome):\n",
    "\n",
    "    N_di_sj_plus = len(df[(df['drug_name'] == drug) & (df['adr_name'] == adr)])\n",
    "    N_di_sj_k = len(df[(df['drug_name'] == drug) & (df['adr_name'] == adr) & (df[seriousness_outcome] == 1)])\n",
    "    N_plus_k = len(df[df[seriousness_outcome] == 1])\n",
    "    N_plus_plus = len(df)\n",
    "\n",
    "    a = N_di_sj_k\n",
    "    b = N_di_sj_plus - N_di_sj_k\n",
    "    c = N_plus_k - N_di_sj_k\n",
    "    d = N_plus_plus - N_di_sj_plus - c\n",
    "    \n",
    "    # Prevent division by zero\n",
    "    if a == 0 or b < 0 or c < 0 or d < 0 or (a + b) == 0 or (c + d) == 0:\n",
    "        return {'prr': 0, 'ci_lower': 0, 'significant': 0}\n",
    "\n",
    "    numerator = a / (a + b)\n",
    "    denominator = c / (c + d)\n",
    "    \n",
    "    if denominator == 0:\n",
    "        return {'prr': 0, 'ci_lower': 0, 'significant': 0}\n",
    "        \n",
    "    prr = numerator / denominator\n",
    "\n",
    "    # Calculate 95% CI according to the formula SE specified in the article\n",
    "    # SE = sqrt(1/a - 1/(a+b) + 1/c - 1/(c+d))\n",
    "    # Note: This SE formula is specific and may not be the standard formula\n",
    "    try:\n",
    "        se_term1 = 1/a\n",
    "        se_term2 = 1/(a+b)\n",
    "        se_term3 = 1/c\n",
    "        se_term4 = 1/(c+d)\n",
    "        \n",
    "        # Check if the values under sqrt are non-negative\n",
    "        se_value = se_term1 - se_term2 + se_term3 - se_term4\n",
    "        if se_value < 0:\n",
    "            return {'prr': prr, 'ci_lower': 0, 'significant': 0}\n",
    "\n",
    "        se = np.sqrt(se_value)\n",
    "        ci_lower = np.exp(np.log(prr) - 1.96 * se)\n",
    "    except (ValueError, ZeroDivisionError):\n",
    "        ci_lower = 0\n",
    "\n",
    "    significant = 1 if ci_lower > 1 else 0\n",
    "\n",
    "    return {'prr': prr, 'ci_lower': ci_lower, 'significant': significant}\n",
    "\n",
    "print(\"Function 'calculate_seriousness_prr' is ready to use\")"
   ]
  },
  {
   "cell_type": "code",
   "execution_count": 58,
   "metadata": {},
   "outputs": [
    {
     "data": {
      "text/plain": [
       "['death',\n",
       " 'life_threatening',\n",
       " 'hospitalization',\n",
       " 'disabling',\n",
       " 'congenital_anomali',\n",
       " 'other']"
      ]
     },
     "execution_count": 58,
     "metadata": {},
     "output_type": "execute_result"
    }
   ],
   "source": [
    "seriousness_columns"
   ]
  },
  {
   "cell_type": "markdown",
   "metadata": {},
   "source": []
  },
  {
   "cell_type": "markdown",
   "metadata": {},
   "source": [
    "## Main Processing Loop"
   ]
  },
  {
   "cell_type": "code",
   "execution_count": null,
   "metadata": {},
   "outputs": [
    {
     "name": "stdout",
     "output_type": "stream",
     "text": [
      "\n",
      "--- step 3: Start creating labels for all drug-ADR pairs ---\n"
     ]
    },
    {
     "name": "stderr",
     "output_type": "stream",
     "text": [
      "Processing Drug-ADR Pairs:  12%|█▏        | 26841/227012 [4:42:34<38:43:51,  1.44it/s]"
     ]
    }
   ],
   "source": [
    "print(\"\\n--- step 3: Start creating labels for all drug-ADR pairs ---\")\n",
    "\n",
    "# Get all unique drug-ADR pairs from the filtered data\n",
    "unique_drug_adr_pairs = df_final[['drug_name', 'adr_name']].drop_duplicates().to_records(index=False)\n",
    "\n",
    "# Prepare list to store final results\n",
    "final_labels_data = []\n",
    "\n",
    "# Use tqdm to show progress bar\n",
    "for drug, adr in tqdm(unique_drug_adr_pairs, desc=\"Processing Drug-ADR Pairs\"):\n",
    "    \n",
    "    # 1. Calculate Label Vector (Task 2)\n",
    "    seriousness_vector = []\n",
    "    for outcome in seriousness_columns:\n",
    "        # print(outcome)\n",
    "        result = calculate_seriousness_prr(df_final, drug, adr, outcome)\n",
    "        seriousness_vector.append(result['significant'])\n",
    "        \n",
    "    # 2. Create Label Serious (Task 1) from Vector\n",
    "    # If there is 1 in the vector, even if it is only one, set label_serious to 1\n",
    "    label_serious = 1 if sum(seriousness_vector) > 0 else 0\n",
    "    \n",
    "    # 3.  save results\n",
    "    final_labels_data.append({\n",
    "        'drug_name': drug,\n",
    "        'adr_name': adr,\n",
    "        'label_serious': label_serious,\n",
    "        'label_vector': seriousness_vector\n",
    "    })\n",
    "\n",
    "print(f\"\\nProcess of creating Label is complete! Total {len(final_labels_data)} pairs\")"
   ]
  },
  {
   "cell_type": "code",
   "execution_count": null,
   "metadata": {},
   "outputs": [],
   "source": []
  }
 ],
 "metadata": {
  "kernelspec": {
   "display_name": "Python 3",
   "language": "python",
   "name": "python3"
  },
  "language_info": {
   "codemirror_mode": {
    "name": "ipython",
    "version": 3
   },
   "file_extension": ".py",
   "mimetype": "text/x-python",
   "name": "python",
   "nbconvert_exporter": "python",
   "pygments_lexer": "ipython3",
   "version": "3.12.8"
  }
 },
 "nbformat": 4,
 "nbformat_minor": 2
}
