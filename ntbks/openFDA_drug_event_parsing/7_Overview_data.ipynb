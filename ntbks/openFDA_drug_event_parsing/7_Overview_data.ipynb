{
 "cells": [
  {
   "cell_type": "markdown",
   "metadata": {},
   "source": [
    "## Overview Data"
   ]
  },
  {
   "cell_type": "markdown",
   "metadata": {},
   "source": []
  },
  {
   "cell_type": "code",
   "execution_count": 1,
   "metadata": {},
   "outputs": [],
   "source": [
    "import pandas as pd\n",
    "import numpy as np\n",
    "import matplotlib.pyplot as plt\n",
    "import seaborn as sns   "
   ]
  },
  {
   "cell_type": "code",
   "execution_count": 2,
   "metadata": {},
   "outputs": [],
   "source": [
    "ped_data = pd.read_csv('../../data/pediatric_patients_report_drug_reaction.csv.gz',compression='gzip', index_col=0)"
   ]
  },
  {
   "cell_type": "code",
   "execution_count": 3,
   "metadata": {},
   "outputs": [
    {
     "name": "stdout",
     "output_type": "stream",
     "text": [
      "<class 'pandas.core.frame.DataFrame'>\n",
      "Index: 881396 entries, 1 to 1754669\n",
      "Data columns (total 27 columns):\n",
      " #   Column                          Non-Null Count   Dtype  \n",
      "---  ------                          --------------   -----  \n",
      " 0   patient_custom_master_age       881396 non-null  float64\n",
      " 1   patient_custom_master_age_unit  881396 non-null  object \n",
      " 2   patient_onsetage                881396 non-null  float64\n",
      " 3   patient_onsetageunit            881396 non-null  object \n",
      " 4   patient_sex                     881396 non-null  object \n",
      " 5   safetyreportid                  881396 non-null  object \n",
      " 6   nichd                           881396 non-null  object \n",
      " 7   ich_ema                         639944 non-null  object \n",
      " 8   fda                             529859 non-null  object \n",
      " 9   lastupdate_date                 881396 non-null  object \n",
      " 10  mostrecent_receive_date         881396 non-null  object \n",
      " 11  receive_date                    881396 non-null  object \n",
      " 12  congenital_anomali              881396 non-null  int64  \n",
      " 13  death                           881396 non-null  int64  \n",
      " 14  disabling                       881396 non-null  int64  \n",
      " 15  life_threatening                881396 non-null  int64  \n",
      " 16  other                           881396 non-null  int64  \n",
      " 17  serious                         881396 non-null  object \n",
      " 18  reporter_company                881396 non-null  object \n",
      " 19  reporter_country                881396 non-null  object \n",
      " 20  reporter_qualification          881396 non-null  object \n",
      " 21  drug_administration             881396 non-null  object \n",
      " 22  drug_characterization           881396 non-null  object \n",
      " 23  drug_indication                 881396 non-null  object \n",
      " 24  medicinal_product               881396 non-null  object \n",
      " 25  reaction_meddrapt               881396 non-null  object \n",
      " 26  reaction_outcome                881396 non-null  object \n",
      "dtypes: float64(2), int64(5), object(20)\n",
      "memory usage: 188.3+ MB\n"
     ]
    }
   ],
   "source": [
    "ped_data.info()"
   ]
  },
  {
   "cell_type": "code",
   "execution_count": null,
   "metadata": {},
   "outputs": [],
   "source": []
  },
  {
   "cell_type": "code",
   "execution_count": null,
   "metadata": {},
   "outputs": [],
   "source": []
  },
  {
   "cell_type": "code",
   "execution_count": null,
   "metadata": {},
   "outputs": [],
   "source": []
  }
 ],
 "metadata": {
  "kernelspec": {
   "display_name": "Python 3",
   "language": "python",
   "name": "python3"
  },
  "language_info": {
   "codemirror_mode": {
    "name": "ipython",
    "version": 3
   },
   "file_extension": ".py",
   "mimetype": "text/x-python",
   "name": "python",
   "nbconvert_exporter": "python",
   "pygments_lexer": "ipython3",
   "version": "3.12.8"
  }
 },
 "nbformat": 4,
 "nbformat_minor": 2
}
