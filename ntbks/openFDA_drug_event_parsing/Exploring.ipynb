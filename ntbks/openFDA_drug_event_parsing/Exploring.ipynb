{
 "cells": [
  {
   "cell_type": "markdown",
   "metadata": {
    "heading_collapsed": true
   },
   "source": [
    "# EDA of processed openFDA drug event data"
   ]
  },
  {
   "cell_type": "code",
   "execution_count": 1,
   "metadata": {
    "hidden": true
   },
   "outputs": [
    {
     "name": "stderr",
     "output_type": "stream",
     "text": [
      "/anaconda3/lib/python3.7/site-packages/dask/config.py:168: YAMLLoadWarning: calling yaml.load() without Loader=... is deprecated, as the default Loader is unsafe. Please read https://msg.pyyaml.org/load for full details.\n",
      "  data = yaml.load(f.read()) or {}\n"
     ]
    }
   ],
   "source": [
    "import os\n",
    "import numpy as np\n",
    "import pandas as pd\n",
    "\n",
    "import pickle\n",
    "\n",
    "import matplotlib.pyplot as plt\n",
    "import seaborn as sns\n",
    "\n",
    "sns.set_style('white')\n",
    "\n",
    "%matplotlib inline\n",
    "\n",
    "data_dir = \"../../data/openFDA_drug_event/\""
   ]
  },
  {
   "cell_type": "markdown",
   "metadata": {
    "heading_collapsed": true,
    "hidden": true
   },
   "source": [
    "## Standard mappings"
   ]
  },
  {
   "cell_type": "markdown",
   "metadata": {
    "heading_collapsed": true,
    "hidden": true
   },
   "source": [
    "### drugs"
   ]
  },
  {
   "cell_type": "code",
   "execution_count": 2,
   "metadata": {
    "hidden": true
   },
   "outputs": [
    {
     "name": "stderr",
     "output_type": "stream",
     "text": [
      "/anaconda3/lib/python3.7/site-packages/IPython/core/interactiveshell.py:3049: DtypeWarning: Columns (1) have mixed types. Specify dtype option on import or set low_memory=False.\n",
      "  interactivity=interactivity, compiler=compiler, result=result)\n",
      "/anaconda3/lib/python3.7/site-packages/numpy/lib/arraysetops.py:569: FutureWarning: elementwise comparison failed; returning scalar instead, but in the future will perform elementwise comparison\n",
      "  mask |= (ar1 == a)\n"
     ]
    }
   ],
   "source": [
    "drugs = (pd.\n",
    "        read_csv('../../data/openFDA_drug_event/er_tables/drugs.csv.gz',\n",
    "                 compression='gzip',index_col=0))"
   ]
  },
  {
   "cell_type": "code",
   "execution_count": 3,
   "metadata": {
    "hidden": true
   },
   "outputs": [
    {
     "name": "stdout",
     "output_type": "stream",
     "text": [
      "(247682846, 2)\n"
     ]
    },
    {
     "data": {
      "text/html": [
       "<div>\n",
       "<style scoped>\n",
       "    .dataframe tbody tr th:only-of-type {\n",
       "        vertical-align: middle;\n",
       "    }\n",
       "\n",
       "    .dataframe tbody tr th {\n",
       "        vertical-align: top;\n",
       "    }\n",
       "\n",
       "    .dataframe thead th {\n",
       "        text-align: right;\n",
       "    }\n",
       "</style>\n",
       "<table border=\"1\" class=\"dataframe\">\n",
       "  <thead>\n",
       "    <tr style=\"text-align: right;\">\n",
       "      <th></th>\n",
       "      <th>safetyreportid</th>\n",
       "      <th>rxcui</th>\n",
       "    </tr>\n",
       "  </thead>\n",
       "  <tbody>\n",
       "    <tr>\n",
       "      <th>0</th>\n",
       "      <td>10003300</td>\n",
       "      <td>904954</td>\n",
       "    </tr>\n",
       "    <tr>\n",
       "      <th>1</th>\n",
       "      <td>10003300</td>\n",
       "      <td>904934</td>\n",
       "    </tr>\n",
       "    <tr>\n",
       "      <th>2</th>\n",
       "      <td>10003300</td>\n",
       "      <td>904952</td>\n",
       "    </tr>\n",
       "    <tr>\n",
       "      <th>3</th>\n",
       "      <td>10003300</td>\n",
       "      <td>904932</td>\n",
       "    </tr>\n",
       "    <tr>\n",
       "      <th>4</th>\n",
       "      <td>10003301</td>\n",
       "      <td>1300267</td>\n",
       "    </tr>\n",
       "  </tbody>\n",
       "</table>\n",
       "</div>"
      ],
      "text/plain": [
       "  safetyreportid    rxcui\n",
       "0       10003300   904954\n",
       "1       10003300   904934\n",
       "2       10003300   904952\n",
       "3       10003300   904932\n",
       "4       10003301  1300267"
      ]
     },
     "execution_count": 3,
     "metadata": {},
     "output_type": "execute_result"
    }
   ],
   "source": [
    "print(drugs.shape)\n",
    "drugs.head()"
   ]
  },
  {
   "cell_type": "code",
   "execution_count": 4,
   "metadata": {
    "hidden": true
   },
   "outputs": [],
   "source": [
    "drugs_reports = drugs.safetyreportid.astype(str).unique()"
   ]
  },
  {
   "cell_type": "code",
   "execution_count": 5,
   "metadata": {
    "hidden": true
   },
   "outputs": [
    {
     "name": "stdout",
     "output_type": "stream",
     "text": [
      "9312520\n"
     ]
    },
    {
     "data": {
      "text/plain": [
       "array(['10003300', '10003301', '10003302', '10003304', '10003305'],\n",
       "      dtype=object)"
      ]
     },
     "execution_count": 5,
     "metadata": {},
     "output_type": "execute_result"
    }
   ],
   "source": [
    "print(len(drugs_reports))\n",
    "drugs_reports[:5]"
   ]
  },
  {
   "cell_type": "code",
   "execution_count": 6,
   "metadata": {
    "hidden": true
   },
   "outputs": [],
   "source": [
    "drugs_rxcuis = drugs.rxcui.astype(int).unique()"
   ]
  },
  {
   "cell_type": "code",
   "execution_count": 7,
   "metadata": {
    "hidden": true
   },
   "outputs": [
    {
     "name": "stdout",
     "output_type": "stream",
     "text": [
      "17400\n"
     ]
    },
    {
     "data": {
      "text/plain": [
       "array([ 904954,  904934,  904952,  904932, 1300267])"
      ]
     },
     "execution_count": 7,
     "metadata": {},
     "output_type": "execute_result"
    }
   ],
   "source": [
    "print(len(drugs_rxcuis))\n",
    "drugs_rxcuis[:5]"
   ]
  },
  {
   "cell_type": "code",
   "execution_count": 8,
   "metadata": {
    "hidden": true
   },
   "outputs": [],
   "source": [
    "del drugs"
   ]
  },
  {
   "cell_type": "code",
   "execution_count": 14,
   "metadata": {
    "hidden": true
   },
   "outputs": [
    {
     "data": {
      "text/html": [
       "<div>\n",
       "<style scoped>\n",
       "    .dataframe tbody tr th:only-of-type {\n",
       "        vertical-align: middle;\n",
       "    }\n",
       "\n",
       "    .dataframe tbody tr th {\n",
       "        vertical-align: top;\n",
       "    }\n",
       "\n",
       "    .dataframe thead th {\n",
       "        text-align: right;\n",
       "    }\n",
       "</style>\n",
       "<table border=\"1\" class=\"dataframe\">\n",
       "  <thead>\n",
       "    <tr style=\"text-align: right;\">\n",
       "      <th></th>\n",
       "      <th>RxNorm_concept_class_id</th>\n",
       "      <th>RxNorm_concept_code</th>\n",
       "      <th>RxNorm_concept_id</th>\n",
       "      <th>RxNorm_concept_name</th>\n",
       "      <th>safetyreportid</th>\n",
       "    </tr>\n",
       "  </thead>\n",
       "  <tbody>\n",
       "    <tr>\n",
       "      <th>0</th>\n",
       "      <td>Clinical Drug</td>\n",
       "      <td>91349</td>\n",
       "      <td>1776544.0</td>\n",
       "      <td>Hydrogen Peroxide 30 MG/ML Topical Solution</td>\n",
       "      <td>10024478</td>\n",
       "    </tr>\n",
       "    <tr>\n",
       "      <th>1</th>\n",
       "      <td>Clinical Drug</td>\n",
       "      <td>91349</td>\n",
       "      <td>1776544.0</td>\n",
       "      <td>Hydrogen Peroxide 30 MG/ML Topical Solution</td>\n",
       "      <td>10037760</td>\n",
       "    </tr>\n",
       "    <tr>\n",
       "      <th>2</th>\n",
       "      <td>Clinical Drug</td>\n",
       "      <td>91349</td>\n",
       "      <td>1776544.0</td>\n",
       "      <td>Hydrogen Peroxide 30 MG/ML Topical Solution</td>\n",
       "      <td>10162316</td>\n",
       "    </tr>\n",
       "    <tr>\n",
       "      <th>3</th>\n",
       "      <td>Clinical Drug</td>\n",
       "      <td>91349</td>\n",
       "      <td>1776544.0</td>\n",
       "      <td>Hydrogen Peroxide 30 MG/ML Topical Solution</td>\n",
       "      <td>10235601</td>\n",
       "    </tr>\n",
       "    <tr>\n",
       "      <th>4</th>\n",
       "      <td>Clinical Drug</td>\n",
       "      <td>91349</td>\n",
       "      <td>1776544.0</td>\n",
       "      <td>Hydrogen Peroxide 30 MG/ML Topical Solution</td>\n",
       "      <td>10284414</td>\n",
       "    </tr>\n",
       "  </tbody>\n",
       "</table>\n",
       "</div>"
      ],
      "text/plain": [
       "  RxNorm_concept_class_id  RxNorm_concept_code  RxNorm_concept_id  \\\n",
       "0           Clinical Drug                91349          1776544.0   \n",
       "1           Clinical Drug                91349          1776544.0   \n",
       "2           Clinical Drug                91349          1776544.0   \n",
       "3           Clinical Drug                91349          1776544.0   \n",
       "4           Clinical Drug                91349          1776544.0   \n",
       "\n",
       "                           RxNorm_concept_name safetyreportid  \n",
       "0  Hydrogen Peroxide 30 MG/ML Topical Solution       10024478  \n",
       "1  Hydrogen Peroxide 30 MG/ML Topical Solution       10037760  \n",
       "2  Hydrogen Peroxide 30 MG/ML Topical Solution       10162316  \n",
       "3  Hydrogen Peroxide 30 MG/ML Topical Solution       10235601  \n",
       "4  Hydrogen Peroxide 30 MG/ML Topical Solution       10284414  "
      ]
     },
     "execution_count": 14,
     "metadata": {},
     "output_type": "execute_result"
    }
   ],
   "source": [
    "standard_drugs = (pd.\n",
    "        read_csv('../../data/openFDA_drug_event/er_tables/standard_drugs.csv.gz',\n",
    "                 compression='gzip',\n",
    "                 index_col=0,\n",
    "                dtype={\n",
    "                    'safetyreportid' : 'str'\n",
    "                }))\n",
    "standard_drugs.head()"
   ]
  },
  {
   "cell_type": "code",
   "execution_count": 15,
   "metadata": {
    "hidden": true
   },
   "outputs": [
    {
     "name": "stdout",
     "output_type": "stream",
     "text": [
      "(245577694, 5)\n"
     ]
    }
   ],
   "source": [
    "print(standard_drugs.shape)"
   ]
  },
  {
   "cell_type": "code",
   "execution_count": 16,
   "metadata": {
    "hidden": true
   },
   "outputs": [],
   "source": [
    "standard_drugs_reports = standard_drugs.safetyreportid.astype(str).unique()"
   ]
  },
  {
   "cell_type": "code",
   "execution_count": 17,
   "metadata": {
    "hidden": true
   },
   "outputs": [
    {
     "name": "stdout",
     "output_type": "stream",
     "text": [
      "9312077\n"
     ]
    }
   ],
   "source": [
    "print(len(standard_drugs_reports))"
   ]
  },
  {
   "cell_type": "code",
   "execution_count": 18,
   "metadata": {
    "hidden": true
   },
   "outputs": [
    {
     "name": "stdout",
     "output_type": "stream",
     "text": [
      "17073\n",
      "17073\n"
     ]
    }
   ],
   "source": [
    "print(standard_drugs.RxNorm_concept_id.nunique())\n",
    "print(standard_drugs.RxNorm_concept_code.nunique())"
   ]
  },
  {
   "cell_type": "code",
   "execution_count": 19,
   "metadata": {
    "hidden": true
   },
   "outputs": [],
   "source": [
    "standard_drugs_rxids = standard_drugs.RxNorm_concept_id.dropna().astype(int).unique()\n",
    "standard_drugs_rxcuis = standard_drugs.RxNorm_concept_code.dropna().astype(int).unique()"
   ]
  },
  {
   "cell_type": "code",
   "execution_count": 20,
   "metadata": {
    "hidden": true
   },
   "outputs": [],
   "source": [
    "del standard_drugs"
   ]
  },
  {
   "cell_type": "code",
   "execution_count": 21,
   "metadata": {
    "hidden": true
   },
   "outputs": [
    {
     "name": "stdout",
     "output_type": "stream",
     "text": [
      "0.9999524296323659\n"
     ]
    }
   ],
   "source": [
    "print(len(standard_drugs_reports)/len(drugs_reports))"
   ]
  },
  {
   "cell_type": "code",
   "execution_count": 22,
   "metadata": {
    "hidden": true
   },
   "outputs": [
    {
     "name": "stdout",
     "output_type": "stream",
     "text": [
      "0.9812068965517241\n",
      "1.0\n"
     ]
    }
   ],
   "source": [
    "print(len(np.intersect1d(standard_drugs_rxcuis,drugs_rxcuis))/len(drugs_rxcuis))\n",
    "print(len(np.intersect1d(standard_drugs_rxcuis,drugs_rxcuis))/len(standard_drugs_rxcuis))"
   ]
  },
  {
   "cell_type": "code",
   "execution_count": 19,
   "metadata": {
    "hidden": true
   },
   "outputs": [
    {
     "name": "stderr",
     "output_type": "stream",
     "text": [
      "/anaconda3/lib/python3.7/site-packages/IPython/core/interactiveshell.py:3049: DtypeWarning: Columns (10) have mixed types. Specify dtype option on import or set low_memory=False.\n",
      "  interactivity=interactivity, compiler=compiler, result=result)\n"
     ]
    },
    {
     "name": "stdout",
     "output_type": "stream",
     "text": [
      "(167607408, 10)\n",
      "  ATC_concept_class_id ATC_concept_code  ATC_concept_id ATC_concept_name  \\\n",
      "0              ATC 5th          N05AC02        21604512     thioridazine   \n",
      "1              ATC 5th          N05AC02        21604512     thioridazine   \n",
      "2              ATC 5th          N05AC02        21604512     thioridazine   \n",
      "3              ATC 5th          N05AC02        21604512     thioridazine   \n",
      "4              ATC 5th          N05AC02        21604512     thioridazine   \n",
      "\n",
      "  RxNorm_concept_class_id  RxNorm_concept_code  RxNorm_concept_id  \\\n",
      "0           Clinical Drug               198274             700325   \n",
      "1           Clinical Drug               198274             700325   \n",
      "2           Clinical Drug               198274             700325   \n",
      "3           Clinical Drug               198274             700325   \n",
      "4           Clinical Drug               198274             700325   \n",
      "\n",
      "              RxNorm_concept_name      relationship_id safetyreportid  \n",
      "0  Thioridazine 25 MG Oral Tablet  Drug has drug class       11660526  \n",
      "1  Thioridazine 25 MG Oral Tablet         RxNorm - ATC       11660526  \n",
      "2  Thioridazine 25 MG Oral Tablet  Drug has drug class       11837467  \n",
      "3  Thioridazine 25 MG Oral Tablet         RxNorm - ATC       11837467  \n",
      "4  Thioridazine 25 MG Oral Tablet  Drug has drug class       12445546  \n",
      "(5739, 2)\n",
      "(5739, 2)\n",
      "(5739, 2)\n",
      "(5739, 2)\n"
     ]
    }
   ],
   "source": [
    "standard_drugs_atc = (pd.\n",
    "        read_csv('../../data/openFDA_drug_event/er_tables/standard_drugs_atc.csv.gzip',\n",
    "                 compression='gzip',index_col=0))\n",
    "print(standard_drugs_atc.shape)\n",
    "print(standard_drugs_atc.head())\n",
    "tmp = standard_drugs_atc[['RxNorm_concept_id','ATC_concept_id']].drop_duplicates()\n",
    "print(tmp.shape)\n",
    "tmp = tmp[tmp.RxNorm_concept_id.notnull()]\n",
    "print(tmp.shape)\n",
    "print(tmp.shape)\n",
    "print(tmp.dropna().shape)"
   ]
  },
  {
   "cell_type": "code",
   "execution_count": 21,
   "metadata": {
    "hidden": true
   },
   "outputs": [],
   "source": [
    "standard_drugs_atc_reports = standard_drugs_atc.safetyreportid.astype(str).unique()"
   ]
  },
  {
   "cell_type": "code",
   "execution_count": 22,
   "metadata": {
    "hidden": true
   },
   "outputs": [],
   "source": [
    "del standard_drugs_atc"
   ]
  },
  {
   "cell_type": "code",
   "execution_count": 23,
   "metadata": {
    "hidden": true
   },
   "outputs": [],
   "source": [
    "standard_drugs_rxnorm_ingredients = (pd.\n",
    "        read_csv('../../data/openFDA_drug_event/er_tables/standard_drug_rxnorm_ingredients.csv.gzip',\n",
    "                 compression='gzip',index_col=0))"
   ]
  },
  {
   "cell_type": "code",
   "execution_count": 25,
   "metadata": {
    "hidden": true
   },
   "outputs": [
    {
     "data": {
      "text/html": [
       "<div>\n",
       "<style scoped>\n",
       "    .dataframe tbody tr th:only-of-type {\n",
       "        vertical-align: middle;\n",
       "    }\n",
       "\n",
       "    .dataframe tbody tr th {\n",
       "        vertical-align: top;\n",
       "    }\n",
       "\n",
       "    .dataframe thead th {\n",
       "        text-align: right;\n",
       "    }\n",
       "</style>\n",
       "<table border=\"1\" class=\"dataframe\">\n",
       "  <thead>\n",
       "    <tr style=\"text-align: right;\">\n",
       "      <th></th>\n",
       "      <th>safetyreportid</th>\n",
       "      <th>RxNorm_concept_id</th>\n",
       "      <th>RxNorm_concept_code</th>\n",
       "      <th>RxNorm_concept_name</th>\n",
       "      <th>RxNorm_concept_class_id</th>\n",
       "    </tr>\n",
       "  </thead>\n",
       "  <tbody>\n",
       "    <tr>\n",
       "      <th>700325</th>\n",
       "      <td>11660526</td>\n",
       "      <td>700299.0</td>\n",
       "      <td>10502.0</td>\n",
       "      <td>Thioridazine</td>\n",
       "      <td>Ingredient</td>\n",
       "    </tr>\n",
       "    <tr>\n",
       "      <th>700325</th>\n",
       "      <td>11837467</td>\n",
       "      <td>700299.0</td>\n",
       "      <td>10502.0</td>\n",
       "      <td>Thioridazine</td>\n",
       "      <td>Ingredient</td>\n",
       "    </tr>\n",
       "    <tr>\n",
       "      <th>700325</th>\n",
       "      <td>12445546</td>\n",
       "      <td>700299.0</td>\n",
       "      <td>10502.0</td>\n",
       "      <td>Thioridazine</td>\n",
       "      <td>Ingredient</td>\n",
       "    </tr>\n",
       "    <tr>\n",
       "      <th>700325</th>\n",
       "      <td>13059492</td>\n",
       "      <td>700299.0</td>\n",
       "      <td>10502.0</td>\n",
       "      <td>Thioridazine</td>\n",
       "      <td>Ingredient</td>\n",
       "    </tr>\n",
       "    <tr>\n",
       "      <th>700325</th>\n",
       "      <td>13360543</td>\n",
       "      <td>700299.0</td>\n",
       "      <td>10502.0</td>\n",
       "      <td>Thioridazine</td>\n",
       "      <td>Ingredient</td>\n",
       "    </tr>\n",
       "  </tbody>\n",
       "</table>\n",
       "</div>"
      ],
      "text/plain": [
       "       safetyreportid  RxNorm_concept_id  RxNorm_concept_code  \\\n",
       "700325       11660526           700299.0              10502.0   \n",
       "700325       11837467           700299.0              10502.0   \n",
       "700325       12445546           700299.0              10502.0   \n",
       "700325       13059492           700299.0              10502.0   \n",
       "700325       13360543           700299.0              10502.0   \n",
       "\n",
       "       RxNorm_concept_name RxNorm_concept_class_id  \n",
       "700325        Thioridazine              Ingredient  \n",
       "700325        Thioridazine              Ingredient  \n",
       "700325        Thioridazine              Ingredient  \n",
       "700325        Thioridazine              Ingredient  \n",
       "700325        Thioridazine              Ingredient  "
      ]
     },
     "execution_count": 25,
     "metadata": {},
     "output_type": "execute_result"
    }
   ],
   "source": [
    "standard_drugs_rxnorm_ingredients.head()"
   ]
  },
  {
   "cell_type": "code",
   "execution_count": 26,
   "metadata": {
    "hidden": true
   },
   "outputs": [],
   "source": [
    "standard_drugs_rxnorm_ingredients_reports = (standard_drugs_rxnorm_ingredients.\n",
    "                                             safetyreportid.astype(str).unique()\n",
    "                                            )"
   ]
  },
  {
   "cell_type": "code",
   "execution_count": 27,
   "metadata": {
    "hidden": true
   },
   "outputs": [
    {
     "name": "stdout",
     "output_type": "stream",
     "text": [
      "9312077\n",
      "9312520\n",
      "0.9999524296323659\n"
     ]
    }
   ],
   "source": [
    "print(len(standard_drugs_rxnorm_ingredients_reports))\n",
    "print(len(drugs_reports))\n",
    "print(len(np.intersect1d(standard_drugs_rxnorm_ingredients_reports,drugs_reports))/ \\\n",
    "      len(drugs_reports))"
   ]
  },
  {
   "cell_type": "code",
   "execution_count": 28,
   "metadata": {
    "hidden": true
   },
   "outputs": [],
   "source": [
    "del standard_drugs_rxnorm_ingredients"
   ]
  },
  {
   "cell_type": "markdown",
   "metadata": {
    "heading_collapsed": true,
    "hidden": true
   },
   "source": [
    "### reactions"
   ]
  },
  {
   "cell_type": "code",
   "execution_count": 48,
   "metadata": {
    "hidden": true
   },
   "outputs": [
    {
     "name": "stderr",
     "output_type": "stream",
     "text": [
      "/anaconda3/lib/python3.7/site-packages/IPython/core/interactiveshell.py:3049: DtypeWarning: Columns (3) have mixed types. Specify dtype option on import or set low_memory=False.\n",
      "  interactivity=interactivity, compiler=compiler, result=result)\n"
     ]
    },
    {
     "data": {
      "text/html": [
       "<div>\n",
       "<style scoped>\n",
       "    .dataframe tbody tr th:only-of-type {\n",
       "        vertical-align: middle;\n",
       "    }\n",
       "\n",
       "    .dataframe tbody tr th {\n",
       "        vertical-align: top;\n",
       "    }\n",
       "\n",
       "    .dataframe thead th {\n",
       "        text-align: right;\n",
       "    }\n",
       "</style>\n",
       "<table border=\"1\" class=\"dataframe\">\n",
       "  <thead>\n",
       "    <tr style=\"text-align: right;\">\n",
       "      <th></th>\n",
       "      <th>safetyreportid</th>\n",
       "      <th>reaction_meddrapt</th>\n",
       "      <th>reaction_outcome</th>\n",
       "    </tr>\n",
       "  </thead>\n",
       "  <tbody>\n",
       "    <tr>\n",
       "      <th>0</th>\n",
       "      <td>10003300</td>\n",
       "      <td>Headache</td>\n",
       "      <td>NaN</td>\n",
       "    </tr>\n",
       "    <tr>\n",
       "      <th>1</th>\n",
       "      <td>10003300</td>\n",
       "      <td>Arthralgia</td>\n",
       "      <td>NaN</td>\n",
       "    </tr>\n",
       "    <tr>\n",
       "      <th>2</th>\n",
       "      <td>10003300</td>\n",
       "      <td>Diarrhoea</td>\n",
       "      <td>NaN</td>\n",
       "    </tr>\n",
       "    <tr>\n",
       "      <th>3</th>\n",
       "      <td>10003300</td>\n",
       "      <td>Vomiting</td>\n",
       "      <td>NaN</td>\n",
       "    </tr>\n",
       "    <tr>\n",
       "      <th>4</th>\n",
       "      <td>10003301</td>\n",
       "      <td>Dyspepsia</td>\n",
       "      <td>NaN</td>\n",
       "    </tr>\n",
       "  </tbody>\n",
       "</table>\n",
       "</div>"
      ],
      "text/plain": [
       "  safetyreportid reaction_meddrapt reaction_outcome\n",
       "0       10003300          Headache              NaN\n",
       "1       10003300        Arthralgia              NaN\n",
       "2       10003300         Diarrhoea              NaN\n",
       "3       10003300          Vomiting              NaN\n",
       "4       10003301         Dyspepsia              NaN"
      ]
     },
     "execution_count": 48,
     "metadata": {},
     "output_type": "execute_result"
    }
   ],
   "source": [
    "reactions = (pd.\n",
    "        read_csv('../../data/openFDA_drug_event/er_tables/reactions.csv.gz',\n",
    "                 compression='gzip',\n",
    "                 index_col=0,\n",
    "                 dtype={\n",
    "                     'safetyreportid' : 'str',\n",
    "                 }))\n",
    "reactions.head()"
   ]
  },
  {
   "cell_type": "code",
   "execution_count": 54,
   "metadata": {
    "hidden": true
   },
   "outputs": [
    {
     "name": "stdout",
     "output_type": "stream",
     "text": [
      "21099\n"
     ]
    },
    {
     "data": {
      "text/plain": [
       "array(['Headache', 'Arthralgia', 'Diarrhoea', 'Vomiting', 'Dyspepsia'],\n",
       "      dtype=object)"
      ]
     },
     "execution_count": 54,
     "metadata": {},
     "output_type": "execute_result"
    }
   ],
   "source": [
    "reactions_meddraptnames = reactions.reaction_meddrapt.dropna().astype(str).str.title().unique()\n",
    "print(len(reactions_meddraptnames))\n",
    "reactions_meddraptnames[:5]"
   ]
  },
  {
   "cell_type": "code",
   "execution_count": 55,
   "metadata": {
    "hidden": true
   },
   "outputs": [],
   "source": [
    "reactions_reports = reactions.safetyreportid.unique()"
   ]
  },
  {
   "cell_type": "code",
   "execution_count": 56,
   "metadata": {
    "hidden": true
   },
   "outputs": [
    {
     "name": "stdout",
     "output_type": "stream",
     "text": [
      "10392389\n"
     ]
    }
   ],
   "source": [
    "print(len(reactions_reports))"
   ]
  },
  {
   "cell_type": "code",
   "execution_count": 57,
   "metadata": {
    "hidden": true
   },
   "outputs": [],
   "source": [
    "del reactions"
   ]
  },
  {
   "cell_type": "code",
   "execution_count": 59,
   "metadata": {
    "hidden": true
   },
   "outputs": [
    {
     "data": {
      "text/html": [
       "<div>\n",
       "<style scoped>\n",
       "    .dataframe tbody tr th:only-of-type {\n",
       "        vertical-align: middle;\n",
       "    }\n",
       "\n",
       "    .dataframe tbody tr th {\n",
       "        vertical-align: top;\n",
       "    }\n",
       "\n",
       "    .dataframe thead th {\n",
       "        text-align: right;\n",
       "    }\n",
       "</style>\n",
       "<table border=\"1\" class=\"dataframe\">\n",
       "  <thead>\n",
       "    <tr style=\"text-align: right;\">\n",
       "      <th></th>\n",
       "      <th>MedDRA_concept_name</th>\n",
       "      <th>safetyreportid</th>\n",
       "      <th>reaction_outcome</th>\n",
       "      <th>MedDRA_concept_id</th>\n",
       "      <th>MedDRA_concept_code</th>\n",
       "      <th>MedDRA_concept_class_id</th>\n",
       "    </tr>\n",
       "  </thead>\n",
       "  <tbody>\n",
       "    <tr>\n",
       "      <th>0</th>\n",
       "      <td>11-Beta-Hydroxylase Deficiency</td>\n",
       "      <td>7999037-5</td>\n",
       "      <td>NaN</td>\n",
       "      <td>35305836</td>\n",
       "      <td>10000002</td>\n",
       "      <td>PT</td>\n",
       "    </tr>\n",
       "    <tr>\n",
       "      <th>1</th>\n",
       "      <td>17 Ketosteroids Urine Abnormal</td>\n",
       "      <td>13978283</td>\n",
       "      <td>Recovered/resolved</td>\n",
       "      <td>36312356</td>\n",
       "      <td>10061608</td>\n",
       "      <td>PT</td>\n",
       "    </tr>\n",
       "    <tr>\n",
       "      <th>2</th>\n",
       "      <td>17 Ketosteroids Urine Abnormal</td>\n",
       "      <td>13983944</td>\n",
       "      <td>Recovered/resolved</td>\n",
       "      <td>36312356</td>\n",
       "      <td>10061608</td>\n",
       "      <td>PT</td>\n",
       "    </tr>\n",
       "    <tr>\n",
       "      <th>3</th>\n",
       "      <td>17 Ketosteroids Urine Abnormal</td>\n",
       "      <td>13988153</td>\n",
       "      <td>Recovered/resolved</td>\n",
       "      <td>36312356</td>\n",
       "      <td>10061608</td>\n",
       "      <td>PT</td>\n",
       "    </tr>\n",
       "    <tr>\n",
       "      <th>4</th>\n",
       "      <td>17 Ketosteroids Urine Abnormal</td>\n",
       "      <td>13993404</td>\n",
       "      <td>Recovered/resolved</td>\n",
       "      <td>36312356</td>\n",
       "      <td>10061608</td>\n",
       "      <td>PT</td>\n",
       "    </tr>\n",
       "  </tbody>\n",
       "</table>\n",
       "</div>"
      ],
      "text/plain": [
       "              MedDRA_concept_name safetyreportid    reaction_outcome  \\\n",
       "0  11-Beta-Hydroxylase Deficiency      7999037-5                 NaN   \n",
       "1  17 Ketosteroids Urine Abnormal       13978283  Recovered/resolved   \n",
       "2  17 Ketosteroids Urine Abnormal       13983944  Recovered/resolved   \n",
       "3  17 Ketosteroids Urine Abnormal       13988153  Recovered/resolved   \n",
       "4  17 Ketosteroids Urine Abnormal       13993404  Recovered/resolved   \n",
       "\n",
       "   MedDRA_concept_id  MedDRA_concept_code MedDRA_concept_class_id  \n",
       "0           35305836             10000002                      PT  \n",
       "1           36312356             10061608                      PT  \n",
       "2           36312356             10061608                      PT  \n",
       "3           36312356             10061608                      PT  \n",
       "4           36312356             10061608                      PT  "
      ]
     },
     "execution_count": 59,
     "metadata": {},
     "output_type": "execute_result"
    }
   ],
   "source": [
    "standard_reactions = (pd.\n",
    "        read_csv('../../data/openFDA_drug_event/er_tables/standard_reactions.csv.gz',\n",
    "                 compression='gzip',\n",
    "                 index_col=0,\n",
    "                 dtype={\n",
    "                     'safetyreportid' : 'str',\n",
    "                     'MedDRA_concept_id' : 'int',\n",
    "                     'MedDRA_concept_code' : 'int'\n",
    "                 }))\n",
    "standard_reactions.head()"
   ]
  },
  {
   "cell_type": "code",
   "execution_count": 60,
   "metadata": {
    "hidden": true
   },
   "outputs": [
    {
     "data": {
      "text/plain": [
       "PT    30461034\n",
       "Name: MedDRA_concept_class_id, dtype: int64"
      ]
     },
     "execution_count": 60,
     "metadata": {},
     "output_type": "execute_result"
    }
   ],
   "source": [
    "standard_reactions.MedDRA_concept_class_id.value_counts()"
   ]
  },
  {
   "cell_type": "code",
   "execution_count": 61,
   "metadata": {
    "hidden": true
   },
   "outputs": [],
   "source": [
    "standard_reactions_reports = standard_reactions.safetyreportid.unique()"
   ]
  },
  {
   "cell_type": "code",
   "execution_count": 62,
   "metadata": {
    "hidden": true
   },
   "outputs": [
    {
     "data": {
      "text/plain": [
       "10288539"
      ]
     },
     "execution_count": 62,
     "metadata": {},
     "output_type": "execute_result"
    }
   ],
   "source": [
    "len(standard_reactions_reports)"
   ]
  },
  {
   "cell_type": "code",
   "execution_count": 63,
   "metadata": {
    "hidden": true
   },
   "outputs": [
    {
     "data": {
      "text/plain": [
       "0.9900071100109897"
      ]
     },
     "execution_count": 63,
     "metadata": {},
     "output_type": "execute_result"
    }
   ],
   "source": [
    "len(standard_reactions_reports)/len(reactions_reports)"
   ]
  },
  {
   "cell_type": "code",
   "execution_count": 64,
   "metadata": {
    "hidden": true
   },
   "outputs": [
    {
     "name": "stdout",
     "output_type": "stream",
     "text": [
      "18661\n"
     ]
    },
    {
     "data": {
      "text/plain": [
       "array(['11-Beta-Hydroxylase Deficiency', '17 Ketosteroids Urine Abnormal',\n",
       "       '17 Ketosteroids Urine Decreased',\n",
       "       '17-Alpha-Hydroxylase Deficiency',\n",
       "       '17-Hydroxyprogesterone Decreased'], dtype=object)"
      ]
     },
     "execution_count": 64,
     "metadata": {},
     "output_type": "execute_result"
    }
   ],
   "source": [
    "standard_reactions_meddraptids = standard_reactions.MedDRA_concept_id.unique()\n",
    "standard_reactions_meddraptnames = standard_reactions.MedDRA_concept_name.unique()\n",
    "print(len(standard_reactions_meddraptnames))\n",
    "standard_reactions_meddraptnames[:5]"
   ]
  },
  {
   "cell_type": "code",
   "execution_count": 65,
   "metadata": {
    "hidden": true
   },
   "outputs": [],
   "source": [
    "del standard_reactions"
   ]
  },
  {
   "cell_type": "code",
   "execution_count": 66,
   "metadata": {
    "hidden": true
   },
   "outputs": [
    {
     "data": {
      "text/plain": [
       "array(['Headache', 'Arthralgia', 'Diarrhoea', ..., 'Antimetropia',\n",
       "       'Non-Hodgkin^S Lymphoma Unspecified Histology Indolent Stage Iv',\n",
       "       'Leukoplakia Of Penis'], dtype=object)"
      ]
     },
     "execution_count": 66,
     "metadata": {},
     "output_type": "execute_result"
    }
   ],
   "source": [
    "reactions_meddraptnames"
   ]
  },
  {
   "cell_type": "code",
   "execution_count": 67,
   "metadata": {
    "hidden": true
   },
   "outputs": [
    {
     "name": "stdout",
     "output_type": "stream",
     "text": [
      "0.8844494999763022\n",
      "1.0\n"
     ]
    }
   ],
   "source": [
    "print(len(np.intersect1d(standard_reactions_meddraptnames,reactions_meddraptnames))/ \\\n",
    "      len(reactions_meddraptnames))\n",
    "print(len(np.intersect1d(standard_reactions_meddraptnames,reactions_meddraptnames))/ \\\n",
    "      len(standard_reactions_meddraptnames))"
   ]
  },
  {
   "cell_type": "code",
   "execution_count": 34,
   "metadata": {
    "hidden": true
   },
   "outputs": [
    {
     "data": {
      "text/html": [
       "<div>\n",
       "<style scoped>\n",
       "    .dataframe tbody tr th:only-of-type {\n",
       "        vertical-align: middle;\n",
       "    }\n",
       "\n",
       "    .dataframe tbody tr th {\n",
       "        vertical-align: top;\n",
       "    }\n",
       "\n",
       "    .dataframe thead th {\n",
       "        text-align: right;\n",
       "    }\n",
       "</style>\n",
       "<table border=\"1\" class=\"dataframe\">\n",
       "  <thead>\n",
       "    <tr style=\"text-align: right;\">\n",
       "      <th></th>\n",
       "      <th>safetyreportid</th>\n",
       "      <th>MedDRA_concept_id</th>\n",
       "      <th>MedDRA_concept_code</th>\n",
       "      <th>MedDRA_concept_name</th>\n",
       "      <th>MedDRA_concept_class_id</th>\n",
       "    </tr>\n",
       "  </thead>\n",
       "  <tbody>\n",
       "    <tr>\n",
       "      <th>0</th>\n",
       "      <td>12319163</td>\n",
       "      <td>37003657</td>\n",
       "      <td>10005037</td>\n",
       "      <td>Bladder disorders NEC</td>\n",
       "      <td>HLT</td>\n",
       "    </tr>\n",
       "    <tr>\n",
       "      <th>1</th>\n",
       "      <td>13726679</td>\n",
       "      <td>37003657</td>\n",
       "      <td>10005037</td>\n",
       "      <td>Bladder disorders NEC</td>\n",
       "      <td>HLT</td>\n",
       "    </tr>\n",
       "    <tr>\n",
       "      <th>2</th>\n",
       "      <td>12319163</td>\n",
       "      <td>37503912</td>\n",
       "      <td>10028752</td>\n",
       "      <td>Nasal therapeutic procedures</td>\n",
       "      <td>HLT</td>\n",
       "    </tr>\n",
       "    <tr>\n",
       "      <th>3</th>\n",
       "      <td>12779257</td>\n",
       "      <td>37503912</td>\n",
       "      <td>10028752</td>\n",
       "      <td>Nasal therapeutic procedures</td>\n",
       "      <td>HLT</td>\n",
       "    </tr>\n",
       "    <tr>\n",
       "      <th>4</th>\n",
       "      <td>13585856</td>\n",
       "      <td>37503912</td>\n",
       "      <td>10028752</td>\n",
       "      <td>Nasal therapeutic procedures</td>\n",
       "      <td>HLT</td>\n",
       "    </tr>\n",
       "  </tbody>\n",
       "</table>\n",
       "</div>"
      ],
      "text/plain": [
       "  safetyreportid  MedDRA_concept_id  MedDRA_concept_code  \\\n",
       "0       12319163           37003657             10005037   \n",
       "1       13726679           37003657             10005037   \n",
       "2       12319163           37503912             10028752   \n",
       "3       12779257           37503912             10028752   \n",
       "4       13585856           37503912             10028752   \n",
       "\n",
       "            MedDRA_concept_name MedDRA_concept_class_id  \n",
       "0         Bladder disorders NEC                     HLT  \n",
       "1         Bladder disorders NEC                     HLT  \n",
       "2  Nasal therapeutic procedures                     HLT  \n",
       "3  Nasal therapeutic procedures                     HLT  \n",
       "4  Nasal therapeutic procedures                     HLT  "
      ]
     },
     "execution_count": 34,
     "metadata": {},
     "output_type": "execute_result"
    }
   ],
   "source": [
    "standard_reactions_meddra_hlt = (pd.\n",
    "        read_csv('../../data/openFDA_drug_event/er_tables/standard_reactions_meddra_hlt.csv.gz',\n",
    "                 compression='gzip',index_col=0,\n",
    "                 dtype={\n",
    "                     'safetyreportid' : 'str',\n",
    "                     'MedDRA_concept_id' : 'int',\n",
    "                     'MedDRA_concept_code' : 'int'\n",
    "                 }))\n",
    "standard_reactions_meddra_hlt.head()"
   ]
  },
  {
   "cell_type": "code",
   "execution_count": 35,
   "metadata": {
    "hidden": true
   },
   "outputs": [],
   "source": [
    "standard_reactions_meddra_hlt_reports = standard_reactions_meddra_hlt.safetyreportid.unique()"
   ]
  },
  {
   "cell_type": "code",
   "execution_count": 39,
   "metadata": {
    "hidden": true
   },
   "outputs": [
    {
     "name": "stdout",
     "output_type": "stream",
     "text": [
      "10287519\n"
     ]
    }
   ],
   "source": [
    "print(len(standard_reactions_meddra_hlt_reports))"
   ]
  },
  {
   "cell_type": "code",
   "execution_count": 40,
   "metadata": {
    "hidden": true
   },
   "outputs": [
    {
     "data": {
      "text/plain": [
       "0.9899089612600144"
      ]
     },
     "execution_count": 40,
     "metadata": {},
     "output_type": "execute_result"
    }
   ],
   "source": [
    "len(standard_reactions_meddra_hlt_reports)/len(reactions_reports)"
   ]
  },
  {
   "cell_type": "code",
   "execution_count": 80,
   "metadata": {
    "hidden": true
   },
   "outputs": [],
   "source": [
    "del standard_reactions_meddra_hlt"
   ]
  },
  {
   "cell_type": "code",
   "execution_count": 38,
   "metadata": {
    "hidden": true
   },
   "outputs": [
    {
     "data": {
      "text/html": [
       "<div>\n",
       "<style scoped>\n",
       "    .dataframe tbody tr th:only-of-type {\n",
       "        vertical-align: middle;\n",
       "    }\n",
       "\n",
       "    .dataframe tbody tr th {\n",
       "        vertical-align: top;\n",
       "    }\n",
       "\n",
       "    .dataframe thead th {\n",
       "        text-align: right;\n",
       "    }\n",
       "</style>\n",
       "<table border=\"1\" class=\"dataframe\">\n",
       "  <thead>\n",
       "    <tr style=\"text-align: right;\">\n",
       "      <th></th>\n",
       "      <th>safetyreportid</th>\n",
       "      <th>MedDRA_concept_id</th>\n",
       "      <th>MedDRA_concept_code</th>\n",
       "      <th>MedDRA_concept_name</th>\n",
       "      <th>MedDRA_concept_class_id</th>\n",
       "    </tr>\n",
       "  </thead>\n",
       "  <tbody>\n",
       "    <tr>\n",
       "      <th>0</th>\n",
       "      <td>12319163</td>\n",
       "      <td>37002286</td>\n",
       "      <td>10004994</td>\n",
       "      <td>Bladder and bladder neck disorders (excl calculi)</td>\n",
       "      <td>HLGT</td>\n",
       "    </tr>\n",
       "    <tr>\n",
       "      <th>1</th>\n",
       "      <td>13726679</td>\n",
       "      <td>37002286</td>\n",
       "      <td>10004994</td>\n",
       "      <td>Bladder and bladder neck disorders (excl calculi)</td>\n",
       "      <td>HLGT</td>\n",
       "    </tr>\n",
       "    <tr>\n",
       "      <th>2</th>\n",
       "      <td>12319163</td>\n",
       "      <td>37502343</td>\n",
       "      <td>10019190</td>\n",
       "      <td>Head and neck therapeutic procedures</td>\n",
       "      <td>HLGT</td>\n",
       "    </tr>\n",
       "    <tr>\n",
       "      <th>3</th>\n",
       "      <td>12779257</td>\n",
       "      <td>37502343</td>\n",
       "      <td>10019190</td>\n",
       "      <td>Head and neck therapeutic procedures</td>\n",
       "      <td>HLGT</td>\n",
       "    </tr>\n",
       "    <tr>\n",
       "      <th>4</th>\n",
       "      <td>13585856</td>\n",
       "      <td>37502343</td>\n",
       "      <td>10019190</td>\n",
       "      <td>Head and neck therapeutic procedures</td>\n",
       "      <td>HLGT</td>\n",
       "    </tr>\n",
       "  </tbody>\n",
       "</table>\n",
       "</div>"
      ],
      "text/plain": [
       "  safetyreportid  MedDRA_concept_id  MedDRA_concept_code  \\\n",
       "0       12319163           37002286             10004994   \n",
       "1       13726679           37002286             10004994   \n",
       "2       12319163           37502343             10019190   \n",
       "3       12779257           37502343             10019190   \n",
       "4       13585856           37502343             10019190   \n",
       "\n",
       "                                 MedDRA_concept_name MedDRA_concept_class_id  \n",
       "0  Bladder and bladder neck disorders (excl calculi)                    HLGT  \n",
       "1  Bladder and bladder neck disorders (excl calculi)                    HLGT  \n",
       "2               Head and neck therapeutic procedures                    HLGT  \n",
       "3               Head and neck therapeutic procedures                    HLGT  \n",
       "4               Head and neck therapeutic procedures                    HLGT  "
      ]
     },
     "execution_count": 38,
     "metadata": {},
     "output_type": "execute_result"
    }
   ],
   "source": [
    "standard_reactions_meddra_hlgt = (pd.\n",
    "        read_csv('../../data/openFDA_drug_event/er_tables/standard_reactions_meddra_hlgt.csv.gz',\n",
    "                 compression='gzip',index_col=0,\n",
    "                 dtype={\n",
    "                     'safetyreportid' : 'str',\n",
    "                     'MedDRA_concept_id' : 'int',\n",
    "                     'MedDRA_concept_code' : 'int'\n",
    "                 }))\n",
    "standard_reactions_meddra_hlgt.head()"
   ]
  },
  {
   "cell_type": "code",
   "execution_count": 41,
   "metadata": {
    "hidden": true
   },
   "outputs": [],
   "source": [
    "standard_reactions_meddra_hlgt_reports = standard_reactions_meddra_hlgt.safetyreportid.unique()"
   ]
  },
  {
   "cell_type": "code",
   "execution_count": 42,
   "metadata": {
    "hidden": true
   },
   "outputs": [
    {
     "name": "stdout",
     "output_type": "stream",
     "text": [
      "10287519\n"
     ]
    }
   ],
   "source": [
    "print(len(standard_reactions_meddra_hlgt_reports))"
   ]
  },
  {
   "cell_type": "code",
   "execution_count": 43,
   "metadata": {
    "hidden": true
   },
   "outputs": [
    {
     "data": {
      "text/plain": [
       "0.9899089612600144"
      ]
     },
     "execution_count": 43,
     "metadata": {},
     "output_type": "execute_result"
    }
   ],
   "source": [
    "len(standard_reactions_meddra_hlgt_reports)/len(reactions_reports)"
   ]
  },
  {
   "cell_type": "code",
   "execution_count": 79,
   "metadata": {
    "hidden": true
   },
   "outputs": [],
   "source": [
    "del standard_reactions_meddra_hlgt"
   ]
  },
  {
   "cell_type": "code",
   "execution_count": 44,
   "metadata": {
    "hidden": true
   },
   "outputs": [
    {
     "data": {
      "text/html": [
       "<div>\n",
       "<style scoped>\n",
       "    .dataframe tbody tr th:only-of-type {\n",
       "        vertical-align: middle;\n",
       "    }\n",
       "\n",
       "    .dataframe tbody tr th {\n",
       "        vertical-align: top;\n",
       "    }\n",
       "\n",
       "    .dataframe thead th {\n",
       "        text-align: right;\n",
       "    }\n",
       "</style>\n",
       "<table border=\"1\" class=\"dataframe\">\n",
       "  <thead>\n",
       "    <tr style=\"text-align: right;\">\n",
       "      <th></th>\n",
       "      <th>safetyreportid</th>\n",
       "      <th>MedDRA_concept_id</th>\n",
       "      <th>MedDRA_concept_code</th>\n",
       "      <th>MedDRA_concept_name</th>\n",
       "      <th>MedDRA_concept_class_id</th>\n",
       "    </tr>\n",
       "  </thead>\n",
       "  <tbody>\n",
       "    <tr>\n",
       "      <th>0</th>\n",
       "      <td>12319163</td>\n",
       "      <td>37000000</td>\n",
       "      <td>10038359</td>\n",
       "      <td>Renal and urinary disorders</td>\n",
       "      <td>SOC</td>\n",
       "    </tr>\n",
       "    <tr>\n",
       "      <th>1</th>\n",
       "      <td>13726679</td>\n",
       "      <td>37000000</td>\n",
       "      <td>10038359</td>\n",
       "      <td>Renal and urinary disorders</td>\n",
       "      <td>SOC</td>\n",
       "    </tr>\n",
       "    <tr>\n",
       "      <th>2</th>\n",
       "      <td>12319163</td>\n",
       "      <td>37500000</td>\n",
       "      <td>10042613</td>\n",
       "      <td>Surgical and medical procedures</td>\n",
       "      <td>SOC</td>\n",
       "    </tr>\n",
       "    <tr>\n",
       "      <th>3</th>\n",
       "      <td>12779257</td>\n",
       "      <td>37500000</td>\n",
       "      <td>10042613</td>\n",
       "      <td>Surgical and medical procedures</td>\n",
       "      <td>SOC</td>\n",
       "    </tr>\n",
       "    <tr>\n",
       "      <th>4</th>\n",
       "      <td>13585856</td>\n",
       "      <td>37500000</td>\n",
       "      <td>10042613</td>\n",
       "      <td>Surgical and medical procedures</td>\n",
       "      <td>SOC</td>\n",
       "    </tr>\n",
       "  </tbody>\n",
       "</table>\n",
       "</div>"
      ],
      "text/plain": [
       "  safetyreportid  MedDRA_concept_id  MedDRA_concept_code  \\\n",
       "0       12319163           37000000             10038359   \n",
       "1       13726679           37000000             10038359   \n",
       "2       12319163           37500000             10042613   \n",
       "3       12779257           37500000             10042613   \n",
       "4       13585856           37500000             10042613   \n",
       "\n",
       "               MedDRA_concept_name MedDRA_concept_class_id  \n",
       "0      Renal and urinary disorders                     SOC  \n",
       "1      Renal and urinary disorders                     SOC  \n",
       "2  Surgical and medical procedures                     SOC  \n",
       "3  Surgical and medical procedures                     SOC  \n",
       "4  Surgical and medical procedures                     SOC  "
      ]
     },
     "execution_count": 44,
     "metadata": {},
     "output_type": "execute_result"
    }
   ],
   "source": [
    "standard_reactions_meddra_soc = (pd.\n",
    "        read_csv('../../data/openFDA_drug_event/er_tables/standard_reactions_meddra_soc.csv.gz',\n",
    "                 compression='gzip',index_col=0,\n",
    "                 dtype={\n",
    "                     'safetyreportid' : 'str',\n",
    "                     'MedDRA_concept_id' : 'int',\n",
    "                     'MedDRA_concept_code' : 'int'\n",
    "                 }\n",
    "                ))\n",
    "standard_reactions_meddra_soc.head()"
   ]
  },
  {
   "cell_type": "code",
   "execution_count": 45,
   "metadata": {
    "hidden": true
   },
   "outputs": [],
   "source": [
    "standard_reactions_meddra_soc_reports = standard_reactions_meddra_soc.safetyreportid.unique()"
   ]
  },
  {
   "cell_type": "code",
   "execution_count": 46,
   "metadata": {
    "hidden": true
   },
   "outputs": [
    {
     "name": "stdout",
     "output_type": "stream",
     "text": [
      "10287519\n"
     ]
    }
   ],
   "source": [
    "print(len(standard_reactions_meddra_soc_reports))"
   ]
  },
  {
   "cell_type": "code",
   "execution_count": 47,
   "metadata": {
    "hidden": true
   },
   "outputs": [
    {
     "data": {
      "text/plain": [
       "0.9899089612600144"
      ]
     },
     "execution_count": 47,
     "metadata": {},
     "output_type": "execute_result"
    }
   ],
   "source": [
    "len(standard_reactions_meddra_soc_reports)/len(reactions_reports)"
   ]
  },
  {
   "cell_type": "code",
   "execution_count": 78,
   "metadata": {
    "hidden": true
   },
   "outputs": [],
   "source": [
    "del standard_reactions_meddra_soc"
   ]
  },
  {
   "cell_type": "code",
   "execution_count": 70,
   "metadata": {
    "hidden": true
   },
   "outputs": [
    {
     "data": {
      "text/html": [
       "<div>\n",
       "<style scoped>\n",
       "    .dataframe tbody tr th:only-of-type {\n",
       "        vertical-align: middle;\n",
       "    }\n",
       "\n",
       "    .dataframe tbody tr th {\n",
       "        vertical-align: top;\n",
       "    }\n",
       "\n",
       "    .dataframe thead th {\n",
       "        text-align: right;\n",
       "    }\n",
       "</style>\n",
       "<table border=\"1\" class=\"dataframe\">\n",
       "  <thead>\n",
       "    <tr style=\"text-align: right;\">\n",
       "      <th></th>\n",
       "      <th>SNOMED_concept_class_id</th>\n",
       "      <th>SNOMED_concept_code</th>\n",
       "      <th>SNOMED_concept_id</th>\n",
       "      <th>SNOMED_concept_name</th>\n",
       "      <th>reaction_outcome</th>\n",
       "      <th>safetyreportid</th>\n",
       "    </tr>\n",
       "  </thead>\n",
       "  <tbody>\n",
       "    <tr>\n",
       "      <th>0</th>\n",
       "      <td>Clinical Finding</td>\n",
       "      <td>85649008</td>\n",
       "      <td>440977</td>\n",
       "      <td>Megaloblastic anemia due to folate deficiency</td>\n",
       "      <td>Unknown</td>\n",
       "      <td>10590475</td>\n",
       "    </tr>\n",
       "    <tr>\n",
       "      <th>1</th>\n",
       "      <td>Clinical Finding</td>\n",
       "      <td>85649008</td>\n",
       "      <td>440977</td>\n",
       "      <td>Megaloblastic anemia due to folate deficiency</td>\n",
       "      <td>Not recovered/not resolved</td>\n",
       "      <td>10590516</td>\n",
       "    </tr>\n",
       "    <tr>\n",
       "      <th>2</th>\n",
       "      <td>Clinical Finding</td>\n",
       "      <td>85649008</td>\n",
       "      <td>440977</td>\n",
       "      <td>Megaloblastic anemia due to folate deficiency</td>\n",
       "      <td>Recovered/resolved</td>\n",
       "      <td>10596674</td>\n",
       "    </tr>\n",
       "    <tr>\n",
       "      <th>3</th>\n",
       "      <td>Clinical Finding</td>\n",
       "      <td>85649008</td>\n",
       "      <td>440977</td>\n",
       "      <td>Megaloblastic anemia due to folate deficiency</td>\n",
       "      <td>Unknown</td>\n",
       "      <td>10991215</td>\n",
       "    </tr>\n",
       "    <tr>\n",
       "      <th>4</th>\n",
       "      <td>Clinical Finding</td>\n",
       "      <td>85649008</td>\n",
       "      <td>440977</td>\n",
       "      <td>Megaloblastic anemia due to folate deficiency</td>\n",
       "      <td>Unknown</td>\n",
       "      <td>11109819</td>\n",
       "    </tr>\n",
       "  </tbody>\n",
       "</table>\n",
       "</div>"
      ],
      "text/plain": [
       "  SNOMED_concept_class_id  SNOMED_concept_code  SNOMED_concept_id  \\\n",
       "0        Clinical Finding             85649008             440977   \n",
       "1        Clinical Finding             85649008             440977   \n",
       "2        Clinical Finding             85649008             440977   \n",
       "3        Clinical Finding             85649008             440977   \n",
       "4        Clinical Finding             85649008             440977   \n",
       "\n",
       "                             SNOMED_concept_name            reaction_outcome  \\\n",
       "0  Megaloblastic anemia due to folate deficiency                     Unknown   \n",
       "1  Megaloblastic anemia due to folate deficiency  Not recovered/not resolved   \n",
       "2  Megaloblastic anemia due to folate deficiency          Recovered/resolved   \n",
       "3  Megaloblastic anemia due to folate deficiency                     Unknown   \n",
       "4  Megaloblastic anemia due to folate deficiency                     Unknown   \n",
       "\n",
       "  safetyreportid  \n",
       "0       10590475  \n",
       "1       10590516  \n",
       "2       10596674  \n",
       "3       10991215  \n",
       "4       11109819  "
      ]
     },
     "execution_count": 70,
     "metadata": {},
     "output_type": "execute_result"
    }
   ],
   "source": [
    "standard_reactions_snomed = (pd.\n",
    "        read_csv('../../data/openFDA_drug_event/er_tables/'+\n",
    "                 'standard_reactions_snomed.csv.gz',\n",
    "                 compression='gzip',index_col=0,\n",
    "                 dtype={\n",
    "                     'safetyreportid' : 'str',\n",
    "                     'SNOMED_concept_id' : 'int',\n",
    "                     'SNOMED_concept_code' : 'int'\n",
    "                 }\n",
    "                ))\n",
    "standard_reactions_snomed.head()"
   ]
  },
  {
   "cell_type": "code",
   "execution_count": 73,
   "metadata": {
    "hidden": true
   },
   "outputs": [
    {
     "data": {
      "text/plain": [
       "8927224"
      ]
     },
     "execution_count": 73,
     "metadata": {},
     "output_type": "execute_result"
    }
   ],
   "source": [
    "standard_reactions_snomed_reports = (standard_reactions_snomed.safetyreportid.unique())\n",
    "len(standard_reactions_snomed_reports)"
   ]
  },
  {
   "cell_type": "code",
   "execution_count": 74,
   "metadata": {
    "hidden": true
   },
   "outputs": [
    {
     "data": {
      "text/plain": [
       "0.8590155738011731"
      ]
     },
     "execution_count": 74,
     "metadata": {},
     "output_type": "execute_result"
    }
   ],
   "source": [
    "len(np.intersect1d(standard_reactions_snomed_reports,reactions_reports))/ \\\n",
    "len(reactions_reports)"
   ]
  },
  {
   "cell_type": "code",
   "execution_count": 75,
   "metadata": {
    "hidden": true
   },
   "outputs": [],
   "source": [
    "del standard_reactions_meddrapt_to_snomed"
   ]
  },
  {
   "cell_type": "markdown",
   "metadata": {
    "heading_collapsed": true,
    "hidden": true
   },
   "source": [
    "## Number of reports over the years"
   ]
  },
  {
   "cell_type": "code",
   "execution_count": 4,
   "metadata": {
    "hidden": true
   },
   "outputs": [
    {
     "name": "stderr",
     "output_type": "stream",
     "text": [
      "/anaconda3/lib/python3.7/site-packages/IPython/core/interactiveshell.py:3049: DtypeWarning: Columns (1) have mixed types. Specify dtype option on import or set low_memory=False.\n",
      "  interactivity=interactivity, compiler=compiler, result=result)\n",
      "/anaconda3/lib/python3.7/site-packages/numpy/lib/arraysetops.py:569: FutureWarning: elementwise comparison failed; returning scalar instead, but in the future will perform elementwise comparison\n",
      "  mask |= (ar1 == a)\n"
     ]
    },
    {
     "data": {
      "text/html": [
       "<div>\n",
       "<style scoped>\n",
       "    .dataframe tbody tr th:only-of-type {\n",
       "        vertical-align: middle;\n",
       "    }\n",
       "\n",
       "    .dataframe tbody tr th {\n",
       "        vertical-align: top;\n",
       "    }\n",
       "\n",
       "    .dataframe thead th {\n",
       "        text-align: right;\n",
       "    }\n",
       "</style>\n",
       "<table border=\"1\" class=\"dataframe\">\n",
       "  <thead>\n",
       "    <tr style=\"text-align: right;\">\n",
       "      <th></th>\n",
       "      <th>safetyreportid</th>\n",
       "      <th>lastupdate_date</th>\n",
       "      <th>mostrecent_receive_date</th>\n",
       "      <th>receive_date</th>\n",
       "    </tr>\n",
       "  </thead>\n",
       "  <tbody>\n",
       "    <tr>\n",
       "      <th>0</th>\n",
       "      <td>10003300</td>\n",
       "      <td>20141002</td>\n",
       "      <td>20140306</td>\n",
       "      <td>20140306</td>\n",
       "    </tr>\n",
       "    <tr>\n",
       "      <th>1</th>\n",
       "      <td>10003301</td>\n",
       "      <td>20141002</td>\n",
       "      <td>20140228</td>\n",
       "      <td>20140228</td>\n",
       "    </tr>\n",
       "    <tr>\n",
       "      <th>2</th>\n",
       "      <td>10003302</td>\n",
       "      <td>20141002</td>\n",
       "      <td>20140312</td>\n",
       "      <td>20140312</td>\n",
       "    </tr>\n",
       "    <tr>\n",
       "      <th>3</th>\n",
       "      <td>10003304</td>\n",
       "      <td>20141212</td>\n",
       "      <td>20140424</td>\n",
       "      <td>20140312</td>\n",
       "    </tr>\n",
       "    <tr>\n",
       "      <th>4</th>\n",
       "      <td>10003305</td>\n",
       "      <td>20141002</td>\n",
       "      <td>20140312</td>\n",
       "      <td>20140312</td>\n",
       "    </tr>\n",
       "  </tbody>\n",
       "</table>\n",
       "</div>"
      ],
      "text/plain": [
       "  safetyreportid  lastupdate_date  mostrecent_receive_date  receive_date\n",
       "0       10003300         20141002                 20140306      20140306\n",
       "1       10003301         20141002                 20140228      20140228\n",
       "2       10003302         20141002                 20140312      20140312\n",
       "3       10003304         20141212                 20140424      20140312\n",
       "4       10003305         20141002                 20140312      20140312"
      ]
     },
     "execution_count": 4,
     "metadata": {},
     "output_type": "execute_result"
    }
   ],
   "source": [
    "report = (pd.\n",
    "        read_csv('../../data/openFDA_drug_event/er_tables/report.csv.gzip',\n",
    "                 compression='gzip',index_col=0))\n",
    "report.head()"
   ]
  },
  {
   "cell_type": "code",
   "execution_count": 42,
   "metadata": {
    "hidden": true
   },
   "outputs": [],
   "source": [
    "report.receive_date = pd.to_datetime(report.receive_date,format='%Y%m%d')\n",
    "report['Year'] = report.receive_date.apply(lambda x : x.year)"
   ]
  },
  {
   "cell_type": "code",
   "execution_count": null,
   "metadata": {
    "hidden": true
   },
   "outputs": [],
   "source": [
    "import matplotlib.dates as mdates"
   ]
  },
  {
   "cell_type": "code",
   "execution_count": 49,
   "metadata": {
    "hidden": true
   },
   "outputs": [
    {
     "data": {
      "text/plain": [
       "Text(0.5, 0, '')"
      ]
     },
     "execution_count": 49,
     "metadata": {},
     "output_type": "execute_result"
    },
    {
     "data": {
      "image/png": "[encoded data removed]",
      "text/plain": [
       "<Figure size 1200x800 with 1 Axes>"
      ]
     },
     "metadata": {
      "needs_background": "light"
     },
     "output_type": "display_data"
    }
   ],
   "source": [
    "nreportoverdates = (report.\n",
    "                    groupby('Year').\n",
    "                    safetyreportid.\n",
    "                    count()\n",
    "                   )\n",
    "nreportoverdates.head()\n",
    "fig,ax = plt.subplots(dpi=200)\n",
    "nreportoverdates.plot(kind='bar',ax=ax)\n",
    "ax.set_yscale('log')\n",
    "ax.set_xlabel('')"
   ]
  },
  {
   "cell_type": "code",
   "execution_count": 52,
   "metadata": {
    "hidden": true
   },
   "outputs": [
    {
     "name": "stderr",
     "output_type": "stream",
     "text": [
      "/anaconda3/lib/python3.7/site-packages/IPython/core/interactiveshell.py:3049: DtypeWarning: Columns (1) have mixed types. Specify dtype option on import or set low_memory=False.\n",
      "  interactivity=interactivity, compiler=compiler, result=result)\n",
      "/anaconda3/lib/python3.7/site-packages/numpy/lib/arraysetops.py:569: FutureWarning: elementwise comparison failed; returning scalar instead, but in the future will perform elementwise comparison\n",
      "  mask |= (ar1 == a)\n"
     ]
    },
    {
     "data": {
      "text/html": [
       "<div>\n",
       "<style scoped>\n",
       "    .dataframe tbody tr th:only-of-type {\n",
       "        vertical-align: middle;\n",
       "    }\n",
       "\n",
       "    .dataframe tbody tr th {\n",
       "        vertical-align: top;\n",
       "    }\n",
       "\n",
       "    .dataframe thead th {\n",
       "        text-align: right;\n",
       "    }\n",
       "</style>\n",
       "<table border=\"1\" class=\"dataframe\">\n",
       "  <thead>\n",
       "    <tr style=\"text-align: right;\">\n",
       "      <th></th>\n",
       "      <th>safetyreportid</th>\n",
       "      <th>patient_onsetage</th>\n",
       "      <th>patient_onsetageunit</th>\n",
       "      <th>patient_custom_master_age</th>\n",
       "      <th>patient_sex</th>\n",
       "      <th>patient_weight</th>\n",
       "    </tr>\n",
       "  </thead>\n",
       "  <tbody>\n",
       "    <tr>\n",
       "      <th>0</th>\n",
       "      <td>10003300</td>\n",
       "      <td>77.0</td>\n",
       "      <td>Year</td>\n",
       "      <td>77.0</td>\n",
       "      <td>Female</td>\n",
       "      <td>NaN</td>\n",
       "    </tr>\n",
       "    <tr>\n",
       "      <th>1</th>\n",
       "      <td>10003301</td>\n",
       "      <td>NaN</td>\n",
       "      <td>NaN</td>\n",
       "      <td>NaN</td>\n",
       "      <td>Female</td>\n",
       "      <td>NaN</td>\n",
       "    </tr>\n",
       "    <tr>\n",
       "      <th>2</th>\n",
       "      <td>10003302</td>\n",
       "      <td>NaN</td>\n",
       "      <td>NaN</td>\n",
       "      <td>NaN</td>\n",
       "      <td>Male</td>\n",
       "      <td>NaN</td>\n",
       "    </tr>\n",
       "    <tr>\n",
       "      <th>3</th>\n",
       "      <td>10003304</td>\n",
       "      <td>NaN</td>\n",
       "      <td>NaN</td>\n",
       "      <td>NaN</td>\n",
       "      <td>Female</td>\n",
       "      <td>NaN</td>\n",
       "    </tr>\n",
       "    <tr>\n",
       "      <th>4</th>\n",
       "      <td>10003305</td>\n",
       "      <td>48.0</td>\n",
       "      <td>Year</td>\n",
       "      <td>48.0</td>\n",
       "      <td>Female</td>\n",
       "      <td>NaN</td>\n",
       "    </tr>\n",
       "  </tbody>\n",
       "</table>\n",
       "</div>"
      ],
      "text/plain": [
       "  safetyreportid  patient_onsetage patient_onsetageunit  \\\n",
       "0       10003300              77.0                 Year   \n",
       "1       10003301               NaN                  NaN   \n",
       "2       10003302               NaN                  NaN   \n",
       "3       10003304               NaN                  NaN   \n",
       "4       10003305              48.0                 Year   \n",
       "\n",
       "   patient_custom_master_age patient_sex  patient_weight  \n",
       "0                       77.0      Female             NaN  \n",
       "1                        NaN      Female             NaN  \n",
       "2                        NaN        Male             NaN  \n",
       "3                        NaN      Female             NaN  \n",
       "4                       48.0      Female             NaN  "
      ]
     },
     "execution_count": 52,
     "metadata": {},
     "output_type": "execute_result"
    }
   ],
   "source": [
    "patient = (pd.\n",
    "        read_csv('../../data/openFDA_drug_event/er_tables/patient.csv.gzip',\n",
    "                 compression='gzip',index_col=0))\n",
    "patient.head()"
   ]
  },
  {
   "cell_type": "code",
   "execution_count": 53,
   "metadata": {
    "hidden": true
   },
   "outputs": [],
   "source": [
    "ped_reports = (patient.\n",
    "               query('patient_custom_master_age>0 & patient_custom_master_age<18').\n",
    "               safetyreportid.unique()\n",
    "              )"
   ]
  },
  {
   "cell_type": "code",
   "execution_count": 55,
   "metadata": {
    "hidden": true
   },
   "outputs": [
    {
     "data": {
      "text/plain": [
       "Text(0.5, 0, '')"
      ]
     },
     "execution_count": 55,
     "metadata": {},
     "output_type": "execute_result"
    },
    {
     "data": {
      "image/png": "[encoded data removed]",
      "text/plain": [
       "<Figure size 1200x800 with 1 Axes>"
      ]
     },
     "metadata": {
      "needs_background": "light"
     },
     "output_type": "display_data"
    }
   ],
   "source": [
    "npedreportoverdates = (report.\n",
    "                    query('safetyreportid in @ped_reports').\n",
    "                    groupby('Year').\n",
    "                    safetyreportid.\n",
    "                    count()\n",
    "                   )\n",
    "fig,ax = plt.subplots(dpi=200)\n",
    "npedreportoverdates.plot(kind='bar',ax=ax)\n",
    "ax.set_yscale('log')\n",
    "ax.set_xlabel('')"
   ]
  },
  {
   "cell_type": "markdown",
   "metadata": {
    "heading_collapsed": true,
    "hidden": true
   },
   "source": [
    "## Age distribution"
   ]
  },
  {
   "cell_type": "code",
   "execution_count": 14,
   "metadata": {
    "hidden": true
   },
   "outputs": [
    {
     "name": "stderr",
     "output_type": "stream",
     "text": [
      "/anaconda3/lib/python3.7/site-packages/numpy/lib/arraysetops.py:569: FutureWarning: elementwise comparison failed; returning scalar instead, but in the future will perform elementwise comparison\n",
      "  mask |= (ar1 == a)\n"
     ]
    },
    {
     "data": {
      "text/html": [
       "<div>\n",
       "<style scoped>\n",
       "    .dataframe tbody tr th:only-of-type {\n",
       "        vertical-align: middle;\n",
       "    }\n",
       "\n",
       "    .dataframe tbody tr th {\n",
       "        vertical-align: top;\n",
       "    }\n",
       "\n",
       "    .dataframe thead th {\n",
       "        text-align: right;\n",
       "    }\n",
       "</style>\n",
       "<table border=\"1\" class=\"dataframe\">\n",
       "  <thead>\n",
       "    <tr style=\"text-align: right;\">\n",
       "      <th></th>\n",
       "      <th>safetyreportid</th>\n",
       "      <th>patient_onsetage</th>\n",
       "      <th>patient_onsetageunit</th>\n",
       "      <th>patient_custom_master_age</th>\n",
       "      <th>patient_sex</th>\n",
       "      <th>patient_weight</th>\n",
       "    </tr>\n",
       "  </thead>\n",
       "  <tbody>\n",
       "    <tr>\n",
       "      <th>0</th>\n",
       "      <td>10003300</td>\n",
       "      <td>77.0</td>\n",
       "      <td>Year</td>\n",
       "      <td>77.0</td>\n",
       "      <td>Female</td>\n",
       "      <td>NaN</td>\n",
       "    </tr>\n",
       "    <tr>\n",
       "      <th>1</th>\n",
       "      <td>10003301</td>\n",
       "      <td>NaN</td>\n",
       "      <td>NaN</td>\n",
       "      <td>NaN</td>\n",
       "      <td>Female</td>\n",
       "      <td>NaN</td>\n",
       "    </tr>\n",
       "    <tr>\n",
       "      <th>2</th>\n",
       "      <td>10003302</td>\n",
       "      <td>NaN</td>\n",
       "      <td>NaN</td>\n",
       "      <td>NaN</td>\n",
       "      <td>Male</td>\n",
       "      <td>NaN</td>\n",
       "    </tr>\n",
       "    <tr>\n",
       "      <th>3</th>\n",
       "      <td>10003304</td>\n",
       "      <td>NaN</td>\n",
       "      <td>NaN</td>\n",
       "      <td>NaN</td>\n",
       "      <td>Female</td>\n",
       "      <td>NaN</td>\n",
       "    </tr>\n",
       "    <tr>\n",
       "      <th>4</th>\n",
       "      <td>10003305</td>\n",
       "      <td>48.0</td>\n",
       "      <td>Year</td>\n",
       "      <td>48.0</td>\n",
       "      <td>Female</td>\n",
       "      <td>NaN</td>\n",
       "    </tr>\n",
       "  </tbody>\n",
       "</table>\n",
       "</div>"
      ],
      "text/plain": [
       "  safetyreportid  patient_onsetage patient_onsetageunit  \\\n",
       "0       10003300              77.0                 Year   \n",
       "1       10003301               NaN                  NaN   \n",
       "2       10003302               NaN                  NaN   \n",
       "3       10003304               NaN                  NaN   \n",
       "4       10003305              48.0                 Year   \n",
       "\n",
       "   patient_custom_master_age patient_sex  patient_weight  \n",
       "0                       77.0      Female             NaN  \n",
       "1                        NaN      Female             NaN  \n",
       "2                        NaN        Male             NaN  \n",
       "3                        NaN      Female             NaN  \n",
       "4                       48.0      Female             NaN  "
      ]
     },
     "execution_count": 14,
     "metadata": {},
     "output_type": "execute_result"
    }
   ],
   "source": [
    "patient_df = (pd.\n",
    "              read_csv('../../data/openFDA_drug_event/er_tables/patient.csv.gzip',\n",
    "                       compression=\"gzip\",index_col=0))\n",
    "patient_df.head()"
   ]
  },
  {
   "cell_type": "code",
   "execution_count": 15,
   "metadata": {
    "hidden": true
   },
   "outputs": [
    {
     "data": {
      "text/plain": [
       "5840942"
      ]
     },
     "metadata": {},
     "output_type": "display_data"
    }
   ],
   "source": [
    "col = 'patient_custom_master_age'\n",
    "display(patient_df[col].astype(float).dropna().shape[0])"
   ]
  },
  {
   "cell_type": "code",
   "execution_count": 16,
   "metadata": {
    "hidden": true
   },
   "outputs": [],
   "source": [
    "values = patient_df.groupby('safetyreportid')[col].agg('mean').dropna().values"
   ]
  },
  {
   "cell_type": "code",
   "execution_count": 17,
   "metadata": {
    "hidden": true
   },
   "outputs": [
    {
     "name": "stdout",
     "output_type": "stream",
     "text": [
      "5840942\n",
      "0.5620403547249819\n"
     ]
    }
   ],
   "source": [
    "print(len(values))\n",
    "print(len(values)/patient_df.shape[0])"
   ]
  },
  {
   "cell_type": "code",
   "execution_count": 18,
   "metadata": {
    "hidden": true
   },
   "outputs": [
    {
     "data": {
      "text/plain": [
       "767"
      ]
     },
     "execution_count": 18,
     "metadata": {},
     "output_type": "execute_result"
    }
   ],
   "source": [
    "gt_100 = values>100\n",
    "sum(gt_100)"
   ]
  },
  {
   "cell_type": "code",
   "execution_count": 19,
   "metadata": {
    "hidden": true
   },
   "outputs": [
    {
     "data": {
      "text/plain": [
       "60"
      ]
     },
     "execution_count": 19,
     "metadata": {},
     "output_type": "execute_result"
    }
   ],
   "source": [
    "gt_115 = values>115\n",
    "sum(gt_115)"
   ]
  },
  {
   "cell_type": "code",
   "execution_count": 20,
   "metadata": {
    "hidden": true
   },
   "outputs": [
    {
     "data": {
      "text/plain": [
       "0"
      ]
     },
     "execution_count": 20,
     "metadata": {},
     "output_type": "execute_result"
    }
   ],
   "source": [
    "lt_0 = values<0\n",
    "sum(lt_0)"
   ]
  },
  {
   "cell_type": "code",
   "execution_count": 21,
   "metadata": {
    "hidden": true
   },
   "outputs": [
    {
     "data": {
      "text/plain": [
       "8316"
      ]
     },
     "execution_count": 21,
     "metadata": {},
     "output_type": "execute_result"
    }
   ],
   "source": [
    "eq_0 = values==0\n",
    "sum(eq_0)"
   ]
  },
  {
   "cell_type": "code",
   "execution_count": 22,
   "metadata": {
    "hidden": true
   },
   "outputs": [
    {
     "data": {
      "text/plain": [
       "872"
      ]
     },
     "execution_count": 22,
     "metadata": {},
     "output_type": "execute_result"
    }
   ],
   "source": [
    "eq_100 = values==100\n",
    "sum(eq_100)"
   ]
  },
  {
   "cell_type": "code",
   "execution_count": 23,
   "metadata": {
    "hidden": true
   },
   "outputs": [
    {
     "name": "stdout",
     "output_type": "stream",
     "text": [
      "5830987\n"
     ]
    },
    {
     "data": {
      "text/plain": [
       "0.9982956516260562"
      ]
     },
     "execution_count": 23,
     "metadata": {},
     "output_type": "execute_result"
    }
   ],
   "source": [
    "lt_100 = values<100\n",
    "gt_0 = values>0\n",
    "num = sum(np.logical_and(gt_0,lt_100))\n",
    "print(num)\n",
    "num/len(values)"
   ]
  },
  {
   "cell_type": "code",
   "execution_count": 24,
   "metadata": {
    "hidden": true
   },
   "outputs": [
    {
     "name": "stdout",
     "output_type": "stream",
     "text": [
      "316462\n"
     ]
    },
    {
     "data": {
      "text/plain": [
       "0.05417995932847818"
      ]
     },
     "execution_count": 24,
     "metadata": {},
     "output_type": "execute_result"
    }
   ],
   "source": [
    "lt_18 = values<18\n",
    "num = sum(np.logical_and(gt_0,lt_18))\n",
    "print(num)\n",
    "num/len(values)"
   ]
  },
  {
   "cell_type": "code",
   "execution_count": 25,
   "metadata": {
    "hidden": true
   },
   "outputs": [
    {
     "name": "stdout",
     "output_type": "stream",
     "text": [
      "5514525\n"
     ]
    },
    {
     "data": {
      "text/plain": [
       "0.9441156922975781"
      ]
     },
     "execution_count": 25,
     "metadata": {},
     "output_type": "execute_result"
    }
   ],
   "source": [
    "gtoeq_18 = values>=18\n",
    "num = sum(np.logical_and(gtoeq_18,lt_100))\n",
    "print(num)\n",
    "num/len(values)"
   ]
  },
  {
   "cell_type": "code",
   "execution_count": 26,
   "metadata": {
    "hidden": true
   },
   "outputs": [],
   "source": [
    "sensical_values = values[np.logical_and(gt_0,lt_100)]"
   ]
  },
  {
   "cell_type": "code",
   "execution_count": 27,
   "metadata": {
    "hidden": true
   },
   "outputs": [
    {
     "data": {
      "text/plain": [
       "(array([ 0.,  1.,  2.,  3.,  4.,  5.,  6.,  7.,  8.,  9., 10., 11., 12.,\n",
       "        13., 14., 15., 16., 17., 18., 19., 20., 21., 22., 23., 24., 25.,\n",
       "        26., 27., 28., 29., 30., 31., 32., 33., 34., 35., 36., 37., 38.,\n",
       "        39., 40., 41., 42., 43., 44., 45., 46., 47., 48., 49., 50., 51.,\n",
       "        52., 53., 54., 55., 56., 57., 58., 59., 60., 61., 62., 63., 64.,\n",
       "        65., 66., 67., 68., 69., 70., 71., 72., 73., 74., 75., 76., 77.,\n",
       "        78., 79., 80., 81., 82., 83., 84., 85., 86., 87., 88., 89., 90.,\n",
       "        91., 92., 93., 94., 95., 96., 97., 98., 99.]),\n",
       " array([ 31076,  15534,  13901,  12533,  11748,  11839,  12675,  13053,\n",
       "         13791,  14128,  15049,  14742,  16813,  18124,  21264,  23643,\n",
       "         27363,  29186,  28441,  29817,  31973,  32173,  33878,  35529,\n",
       "         37199,  39853,  39965,  41550,  43590,  44068,  52581,  46315,\n",
       "         49512,  48919,  50960,  56405,  53191,  54811,  56578,  56780,\n",
       "         69955,  59899,  66008,  67370,  69274,  79104,  76787,  82334,\n",
       "         85737,  88696, 107994,  96074, 104372, 106427, 110304, 119797,\n",
       "        117116, 118986, 122028, 121533, 140736, 122010, 126364, 124263,\n",
       "        123436, 128911, 117194, 116152, 114843, 110285, 123942, 102363,\n",
       "        101681,  96699,  94747,  95611,  86125,  80956,  78277,  71757,\n",
       "         78233,  60440,  58088,  52824,  47402,  43266,  36614,  30831,\n",
       "         26078,  21306,  21006,  13135,  10678,   7806,   5742,   4164,\n",
       "          2763,   1777,   1176,    961]))"
      ]
     },
     "execution_count": 27,
     "metadata": {},
     "output_type": "execute_result"
    }
   ],
   "source": [
    "integer_year_counts = np.unique(np.floor(sensical_values),return_counts=True)\n",
    "integer_year_counts"
   ]
  },
  {
   "cell_type": "code",
   "execution_count": 28,
   "metadata": {
    "hidden": true
   },
   "outputs": [
    {
     "data": {
      "text/plain": [
       "[<matplotlib.lines.Line2D at 0x1a1ce927b8>]"
      ]
     },
     "execution_count": 28,
     "metadata": {},
     "output_type": "execute_result"
    },
    {
     "data": {
      "image/png": "[encoded data removed]",
      "text/plain": [
       "<Figure size 1200x800 with 1 Axes>"
      ]
     },
     "metadata": {
      "needs_background": "light"
     },
     "output_type": "display_data"
    }
   ],
   "source": [
    "plt.figure(dpi=200)\n",
    "plt.plot(integer_year_counts[0],integer_year_counts[1])"
   ]
  },
  {
   "cell_type": "code",
   "execution_count": 29,
   "metadata": {
    "hidden": true
   },
   "outputs": [
    {
     "data": {
      "text/plain": [
       "([<matplotlib.axis.XTick at 0x1a1cec5160>,\n",
       "  <matplotlib.axis.XTick at 0x1a1cebf9e8>,\n",
       "  <matplotlib.axis.XTick at 0x1a1cebf6a0>,\n",
       "  <matplotlib.axis.XTick at 0x1a1cf02f60>,\n",
       "  <matplotlib.axis.XTick at 0x1a1cf0c4a8>,\n",
       "  <matplotlib.axis.XTick at 0x1a1cf0c978>,\n",
       "  <matplotlib.axis.XTick at 0x1a1cf0ce48>,\n",
       "  <matplotlib.axis.XTick at 0x1a1cf15358>,\n",
       "  <matplotlib.axis.XTick at 0x1a1cf15828>,\n",
       "  <matplotlib.axis.XTick at 0x1a1cf0cd68>,\n",
       "  <matplotlib.axis.XTick at 0x1a1cf158d0>,\n",
       "  <matplotlib.axis.XTick at 0x1a1cf15eb8>,\n",
       "  <matplotlib.axis.XTick at 0x1a1cf1d3c8>,\n",
       "  <matplotlib.axis.XTick at 0x1a1cf1d898>,\n",
       "  <matplotlib.axis.XTick at 0x1a1cf1dd68>,\n",
       "  <matplotlib.axis.XTick at 0x1a1cf262b0>,\n",
       "  <matplotlib.axis.XTick at 0x1a1cf26748>,\n",
       "  <matplotlib.axis.XTick at 0x1a1cf26c18>,\n",
       "  <matplotlib.axis.XTick at 0x1a1cf26588>],\n",
       " <a list of 19 Text xticklabel objects>)"
      ]
     },
     "execution_count": 29,
     "metadata": {},
     "output_type": "execute_result"
    },
    {
     "data": {
      "image/png": "[encoded data removed]",
      "text/plain": [
       "<Figure size 1200x800 with 1 Axes>"
      ]
     },
     "metadata": {
      "needs_background": "light"
     },
     "output_type": "display_data"
    }
   ],
   "source": [
    "plt.figure(dpi=200)\n",
    "plt.bar(integer_year_counts[0][:19],integer_year_counts[1][:19])\n",
    "plt.xticks(integer_year_counts[0][:19])"
   ]
  },
  {
   "cell_type": "markdown",
   "metadata": {
    "heading_collapsed": true,
    "hidden": true
   },
   "source": [
    "## Age units used across childhood"
   ]
  },
  {
   "cell_type": "code",
   "execution_count": 32,
   "metadata": {
    "hidden": true
   },
   "outputs": [
    {
     "data": {
      "text/html": [
       "<div>\n",
       "<style scoped>\n",
       "    .dataframe tbody tr th:only-of-type {\n",
       "        vertical-align: middle;\n",
       "    }\n",
       "\n",
       "    .dataframe tbody tr th {\n",
       "        vertical-align: top;\n",
       "    }\n",
       "\n",
       "    .dataframe thead th {\n",
       "        text-align: right;\n",
       "    }\n",
       "</style>\n",
       "<table border=\"1\" class=\"dataframe\">\n",
       "  <thead>\n",
       "    <tr style=\"text-align: right;\">\n",
       "      <th>patient_custom_master_age</th>\n",
       "      <th>0.0</th>\n",
       "      <th>1.0</th>\n",
       "      <th>2.0</th>\n",
       "      <th>3.0</th>\n",
       "      <th>4.0</th>\n",
       "      <th>5.0</th>\n",
       "      <th>6.0</th>\n",
       "      <th>7.0</th>\n",
       "      <th>8.0</th>\n",
       "      <th>9.0</th>\n",
       "      <th>10.0</th>\n",
       "      <th>11.0</th>\n",
       "      <th>12.0</th>\n",
       "      <th>13.0</th>\n",
       "      <th>14.0</th>\n",
       "      <th>15.0</th>\n",
       "      <th>16.0</th>\n",
       "      <th>17.0</th>\n",
       "    </tr>\n",
       "    <tr>\n",
       "      <th>patient_onsetageunit</th>\n",
       "      <th></th>\n",
       "      <th></th>\n",
       "      <th></th>\n",
       "      <th></th>\n",
       "      <th></th>\n",
       "      <th></th>\n",
       "      <th></th>\n",
       "      <th></th>\n",
       "      <th></th>\n",
       "      <th></th>\n",
       "      <th></th>\n",
       "      <th></th>\n",
       "      <th></th>\n",
       "      <th></th>\n",
       "      <th></th>\n",
       "      <th></th>\n",
       "      <th></th>\n",
       "      <th></th>\n",
       "    </tr>\n",
       "  </thead>\n",
       "  <tbody>\n",
       "    <tr>\n",
       "      <th>Decade</th>\n",
       "      <td>0.00</td>\n",
       "      <td>0.00</td>\n",
       "      <td>0.00</td>\n",
       "      <td>0.00</td>\n",
       "      <td>0.00</td>\n",
       "      <td>0.00</td>\n",
       "      <td>0.00</td>\n",
       "      <td>0.00</td>\n",
       "      <td>0.00</td>\n",
       "      <td>0.00</td>\n",
       "      <td>0.01</td>\n",
       "      <td>0.00</td>\n",
       "      <td>0.0</td>\n",
       "      <td>0.0</td>\n",
       "      <td>0.0</td>\n",
       "      <td>0.0</td>\n",
       "      <td>0.0</td>\n",
       "      <td>0.0</td>\n",
       "    </tr>\n",
       "    <tr>\n",
       "      <th>Year</th>\n",
       "      <td>0.00</td>\n",
       "      <td>0.38</td>\n",
       "      <td>0.76</td>\n",
       "      <td>0.94</td>\n",
       "      <td>0.97</td>\n",
       "      <td>0.98</td>\n",
       "      <td>0.99</td>\n",
       "      <td>0.99</td>\n",
       "      <td>0.99</td>\n",
       "      <td>0.99</td>\n",
       "      <td>0.98</td>\n",
       "      <td>0.99</td>\n",
       "      <td>1.0</td>\n",
       "      <td>1.0</td>\n",
       "      <td>1.0</td>\n",
       "      <td>1.0</td>\n",
       "      <td>1.0</td>\n",
       "      <td>1.0</td>\n",
       "    </tr>\n",
       "    <tr>\n",
       "      <th>Month</th>\n",
       "      <td>0.55</td>\n",
       "      <td>0.61</td>\n",
       "      <td>0.23</td>\n",
       "      <td>0.05</td>\n",
       "      <td>0.02</td>\n",
       "      <td>0.01</td>\n",
       "      <td>0.01</td>\n",
       "      <td>0.00</td>\n",
       "      <td>0.00</td>\n",
       "      <td>0.00</td>\n",
       "      <td>0.00</td>\n",
       "      <td>0.00</td>\n",
       "      <td>0.0</td>\n",
       "      <td>0.0</td>\n",
       "      <td>0.0</td>\n",
       "      <td>0.0</td>\n",
       "      <td>0.0</td>\n",
       "      <td>0.0</td>\n",
       "    </tr>\n",
       "    <tr>\n",
       "      <th>Week</th>\n",
       "      <td>0.08</td>\n",
       "      <td>0.00</td>\n",
       "      <td>0.00</td>\n",
       "      <td>0.00</td>\n",
       "      <td>0.00</td>\n",
       "      <td>0.00</td>\n",
       "      <td>0.00</td>\n",
       "      <td>0.00</td>\n",
       "      <td>0.00</td>\n",
       "      <td>0.01</td>\n",
       "      <td>0.01</td>\n",
       "      <td>0.00</td>\n",
       "      <td>0.0</td>\n",
       "      <td>0.0</td>\n",
       "      <td>0.0</td>\n",
       "      <td>0.0</td>\n",
       "      <td>0.0</td>\n",
       "      <td>0.0</td>\n",
       "    </tr>\n",
       "    <tr>\n",
       "      <th>Day</th>\n",
       "      <td>0.35</td>\n",
       "      <td>0.01</td>\n",
       "      <td>0.00</td>\n",
       "      <td>0.00</td>\n",
       "      <td>0.00</td>\n",
       "      <td>0.00</td>\n",
       "      <td>0.00</td>\n",
       "      <td>0.00</td>\n",
       "      <td>0.00</td>\n",
       "      <td>0.00</td>\n",
       "      <td>0.00</td>\n",
       "      <td>0.00</td>\n",
       "      <td>0.0</td>\n",
       "      <td>0.0</td>\n",
       "      <td>0.0</td>\n",
       "      <td>0.0</td>\n",
       "      <td>0.0</td>\n",
       "      <td>0.0</td>\n",
       "    </tr>\n",
       "    <tr>\n",
       "      <th>Hour</th>\n",
       "      <td>0.02</td>\n",
       "      <td>0.00</td>\n",
       "      <td>0.00</td>\n",
       "      <td>0.00</td>\n",
       "      <td>0.00</td>\n",
       "      <td>0.00</td>\n",
       "      <td>0.00</td>\n",
       "      <td>0.00</td>\n",
       "      <td>0.00</td>\n",
       "      <td>0.00</td>\n",
       "      <td>0.00</td>\n",
       "      <td>0.00</td>\n",
       "      <td>0.0</td>\n",
       "      <td>0.0</td>\n",
       "      <td>0.0</td>\n",
       "      <td>0.0</td>\n",
       "      <td>0.0</td>\n",
       "      <td>0.0</td>\n",
       "    </tr>\n",
       "  </tbody>\n",
       "</table>\n",
       "</div>"
      ],
      "text/plain": [
       "patient_custom_master_age  0.0   1.0   2.0   3.0   4.0   5.0   6.0   7.0   \\\n",
       "patient_onsetageunit                                                        \n",
       "Decade                     0.00  0.00  0.00  0.00  0.00  0.00  0.00  0.00   \n",
       "Year                       0.00  0.38  0.76  0.94  0.97  0.98  0.99  0.99   \n",
       "Month                      0.55  0.61  0.23  0.05  0.02  0.01  0.01  0.00   \n",
       "Week                       0.08  0.00  0.00  0.00  0.00  0.00  0.00  0.00   \n",
       "Day                        0.35  0.01  0.00  0.00  0.00  0.00  0.00  0.00   \n",
       "Hour                       0.02  0.00  0.00  0.00  0.00  0.00  0.00  0.00   \n",
       "\n",
       "patient_custom_master_age  8.0   9.0   10.0  11.0  12.0  13.0  14.0  15.0  \\\n",
       "patient_onsetageunit                                                        \n",
       "Decade                     0.00  0.00  0.01  0.00   0.0   0.0   0.0   0.0   \n",
       "Year                       0.99  0.99  0.98  0.99   1.0   1.0   1.0   1.0   \n",
       "Month                      0.00  0.00  0.00  0.00   0.0   0.0   0.0   0.0   \n",
       "Week                       0.00  0.01  0.01  0.00   0.0   0.0   0.0   0.0   \n",
       "Day                        0.00  0.00  0.00  0.00   0.0   0.0   0.0   0.0   \n",
       "Hour                       0.00  0.00  0.00  0.00   0.0   0.0   0.0   0.0   \n",
       "\n",
       "patient_custom_master_age  16.0  17.0  \n",
       "patient_onsetageunit                   \n",
       "Decade                      0.0   0.0  \n",
       "Year                        1.0   1.0  \n",
       "Month                       0.0   0.0  \n",
       "Week                        0.0   0.0  \n",
       "Day                         0.0   0.0  \n",
       "Hour                        0.0   0.0  "
      ]
     },
     "metadata": {},
     "output_type": "display_data"
    },
    {
     "data": {
      "image/png": "[encoded data removed]",
      "text/plain": [
       "<Figure size 1200x800 with 1 Axes>"
      ]
     },
     "metadata": {
      "needs_background": "light"
     },
     "output_type": "display_data"
    }
   ],
   "source": [
    "pediatric_patient_df = (patient_df.\n",
    "                        query('patient_custom_master_age>0 & patient_custom_master_age<18'))\n",
    "df = pediatric_patient_df[['patient_onsetageunit','patient_custom_master_age']].query('patient_custom_master_age<18').copy()\n",
    "df['patient_custom_master_age'] = np.floor(df['patient_custom_master_age'])\n",
    "df['mem'] = 1.\n",
    "df_pivot = df.pivot_table(index='patient_custom_master_age',columns='patient_onsetageunit',\n",
    "                          values='mem',aggfunc=sum,fill_value=0)\n",
    "order=['Decade','Year','Month','Week','Day','Hour']\n",
    "df_pivot = df_pivot[order].apply(lambda x : x / sum(x),axis=1).round(2)\n",
    "display(df_pivot.T)\n",
    "fig,ax=plt.subplots(dpi=200)\n",
    "g = df_pivot.plot(kind='bar',stacked=True,ax=ax)\n",
    "g.legend(bbox_to_anchor=(1,1))\n",
    "g = g.set_xticklabels(g.get_xticklabels(),rotation=30)"
   ]
  },
  {
   "cell_type": "markdown",
   "metadata": {
    "heading_collapsed": true,
    "hidden": true
   },
   "source": [
    "## NDrugindications across childhood"
   ]
  },
  {
   "cell_type": "code",
   "execution_count": 3,
   "metadata": {
    "hidden": true
   },
   "outputs": [
    {
     "name": "stderr",
     "output_type": "stream",
     "text": [
      "/anaconda3/lib/python3.7/site-packages/IPython/core/interactiveshell.py:3049: DtypeWarning: Columns (1) have mixed types. Specify dtype option on import or set low_memory=False.\n",
      "  interactivity=interactivity, compiler=compiler, result=result)\n",
      "/anaconda3/lib/python3.7/site-packages/numpy/lib/arraysetops.py:569: FutureWarning: elementwise comparison failed; returning scalar instead, but in the future will perform elementwise comparison\n",
      "  mask |= (ar1 == a)\n"
     ]
    },
    {
     "data": {
      "text/html": [
       "<div>\n",
       "<style scoped>\n",
       "    .dataframe tbody tr th:only-of-type {\n",
       "        vertical-align: middle;\n",
       "    }\n",
       "\n",
       "    .dataframe tbody tr th {\n",
       "        vertical-align: top;\n",
       "    }\n",
       "\n",
       "    .dataframe thead th {\n",
       "        text-align: right;\n",
       "    }\n",
       "</style>\n",
       "<table border=\"1\" class=\"dataframe\">\n",
       "  <thead>\n",
       "    <tr style=\"text-align: right;\">\n",
       "      <th></th>\n",
       "      <th>safetyreportid</th>\n",
       "      <th>medicinal_product</th>\n",
       "      <th>drug_characterization</th>\n",
       "      <th>drug_administration</th>\n",
       "      <th>drug_indication</th>\n",
       "    </tr>\n",
       "  </thead>\n",
       "  <tbody>\n",
       "    <tr>\n",
       "      <th>0</th>\n",
       "      <td>14646783</td>\n",
       "      <td>LANITOP</td>\n",
       "      <td>Concomitant (the drug was reported as being ta...</td>\n",
       "      <td>Oral</td>\n",
       "      <td>ATRIAL FIBRILLATION</td>\n",
       "    </tr>\n",
       "    <tr>\n",
       "      <th>1</th>\n",
       "      <td>14646783</td>\n",
       "      <td>BELOC ZOK MITE</td>\n",
       "      <td>Concomitant (the drug was reported as being ta...</td>\n",
       "      <td>Oral</td>\n",
       "      <td>ATRIAL FIBRILLATION</td>\n",
       "    </tr>\n",
       "    <tr>\n",
       "      <th>2</th>\n",
       "      <td>14646783</td>\n",
       "      <td>PRAXBIND</td>\n",
       "      <td>Suspect (the drug was considered by the report...</td>\n",
       "      <td>Oral</td>\n",
       "      <td>SHOCK HAEMORRHAGIC</td>\n",
       "    </tr>\n",
       "    <tr>\n",
       "      <th>3</th>\n",
       "      <td>14646783</td>\n",
       "      <td>LANITOP</td>\n",
       "      <td>Concomitant (the drug was reported as being ta...</td>\n",
       "      <td>NaN</td>\n",
       "      <td>ATRIAL FIBRILLATION</td>\n",
       "    </tr>\n",
       "    <tr>\n",
       "      <th>4</th>\n",
       "      <td>14646783</td>\n",
       "      <td>LANITOP</td>\n",
       "      <td>Concomitant (the drug was reported as being ta...</td>\n",
       "      <td>NaN</td>\n",
       "      <td>CARDIAC FAILURE</td>\n",
       "    </tr>\n",
       "  </tbody>\n",
       "</table>\n",
       "</div>"
      ],
      "text/plain": [
       "  safetyreportid medicinal_product  \\\n",
       "0       14646783           LANITOP   \n",
       "1       14646783    BELOC ZOK MITE   \n",
       "2       14646783          PRAXBIND   \n",
       "3       14646783           LANITOP   \n",
       "4       14646783           LANITOP   \n",
       "\n",
       "                               drug_characterization drug_administration  \\\n",
       "0  Concomitant (the drug was reported as being ta...                Oral   \n",
       "1  Concomitant (the drug was reported as being ta...                Oral   \n",
       "2  Suspect (the drug was considered by the report...                Oral   \n",
       "3  Concomitant (the drug was reported as being ta...                 NaN   \n",
       "4  Concomitant (the drug was reported as being ta...                 NaN   \n",
       "\n",
       "       drug_indication  \n",
       "0  ATRIAL FIBRILLATION  \n",
       "1  ATRIAL FIBRILLATION  \n",
       "2   SHOCK HAEMORRHAGIC  \n",
       "3  ATRIAL FIBRILLATION  \n",
       "4      CARDIAC FAILURE  "
      ]
     },
     "execution_count": 3,
     "metadata": {},
     "output_type": "execute_result"
    }
   ],
   "source": [
    "drugcharacteristics = (pd.\n",
    "                       read_csv('../../data/openFDA_drug_event/er_tables/drugcharacteristics.csv.gzip',\n",
    "                               compression='gzip',\n",
    "                               index_col=0)\n",
    "                      )\n",
    "drugcharacteristics.head()"
   ]
  },
  {
   "cell_type": "code",
   "execution_count": 4,
   "metadata": {
    "hidden": true
   },
   "outputs": [
    {
     "data": {
      "text/html": [
       "<div>\n",
       "<style scoped>\n",
       "    .dataframe tbody tr th:only-of-type {\n",
       "        vertical-align: middle;\n",
       "    }\n",
       "\n",
       "    .dataframe tbody tr th {\n",
       "        vertical-align: top;\n",
       "    }\n",
       "\n",
       "    .dataframe thead th {\n",
       "        text-align: right;\n",
       "    }\n",
       "</style>\n",
       "<table border=\"1\" class=\"dataframe\">\n",
       "  <thead>\n",
       "    <tr style=\"text-align: right;\">\n",
       "      <th></th>\n",
       "      <th>safetyreportid</th>\n",
       "      <th>patient_onsetage</th>\n",
       "      <th>patient_onsetageunit</th>\n",
       "      <th>patient_custom_master_age</th>\n",
       "      <th>patient_sex</th>\n",
       "      <th>patient_weight</th>\n",
       "    </tr>\n",
       "  </thead>\n",
       "  <tbody>\n",
       "    <tr>\n",
       "      <th>0</th>\n",
       "      <td>10003300</td>\n",
       "      <td>77.0</td>\n",
       "      <td>Year</td>\n",
       "      <td>77.0</td>\n",
       "      <td>Female</td>\n",
       "      <td>NaN</td>\n",
       "    </tr>\n",
       "    <tr>\n",
       "      <th>1</th>\n",
       "      <td>10003301</td>\n",
       "      <td>NaN</td>\n",
       "      <td>NaN</td>\n",
       "      <td>NaN</td>\n",
       "      <td>Female</td>\n",
       "      <td>NaN</td>\n",
       "    </tr>\n",
       "    <tr>\n",
       "      <th>2</th>\n",
       "      <td>10003302</td>\n",
       "      <td>NaN</td>\n",
       "      <td>NaN</td>\n",
       "      <td>NaN</td>\n",
       "      <td>Male</td>\n",
       "      <td>NaN</td>\n",
       "    </tr>\n",
       "    <tr>\n",
       "      <th>3</th>\n",
       "      <td>10003304</td>\n",
       "      <td>NaN</td>\n",
       "      <td>NaN</td>\n",
       "      <td>NaN</td>\n",
       "      <td>Female</td>\n",
       "      <td>NaN</td>\n",
       "    </tr>\n",
       "    <tr>\n",
       "      <th>4</th>\n",
       "      <td>10003305</td>\n",
       "      <td>48.0</td>\n",
       "      <td>Year</td>\n",
       "      <td>48.0</td>\n",
       "      <td>Female</td>\n",
       "      <td>NaN</td>\n",
       "    </tr>\n",
       "  </tbody>\n",
       "</table>\n",
       "</div>"
      ],
      "text/plain": [
       "  safetyreportid  patient_onsetage patient_onsetageunit  \\\n",
       "0       10003300              77.0                 Year   \n",
       "1       10003301               NaN                  NaN   \n",
       "2       10003302               NaN                  NaN   \n",
       "3       10003304               NaN                  NaN   \n",
       "4       10003305              48.0                 Year   \n",
       "\n",
       "   patient_custom_master_age patient_sex  patient_weight  \n",
       "0                       77.0      Female             NaN  \n",
       "1                        NaN      Female             NaN  \n",
       "2                        NaN        Male             NaN  \n",
       "3                        NaN      Female             NaN  \n",
       "4                       48.0      Female             NaN  "
      ]
     },
     "execution_count": 4,
     "metadata": {},
     "output_type": "execute_result"
    }
   ],
   "source": [
    "patients = (pd.\n",
    "            read_csv('../../data/openFDA_drug_event/er_tables/patient.csv.gzip',\n",
    "                     compression='gzip',\n",
    "                     index_col=0)\n",
    "           )\n",
    "patients.head()"
   ]
  },
  {
   "cell_type": "code",
   "execution_count": 5,
   "metadata": {
    "hidden": true
   },
   "outputs": [
    {
     "data": {
      "text/html": [
       "<div>\n",
       "<style scoped>\n",
       "    .dataframe tbody tr th:only-of-type {\n",
       "        vertical-align: middle;\n",
       "    }\n",
       "\n",
       "    .dataframe tbody tr th {\n",
       "        vertical-align: top;\n",
       "    }\n",
       "\n",
       "    .dataframe thead th {\n",
       "        text-align: right;\n",
       "    }\n",
       "</style>\n",
       "<table border=\"1\" class=\"dataframe\">\n",
       "  <thead>\n",
       "    <tr style=\"text-align: right;\">\n",
       "      <th></th>\n",
       "      <th>patient_onsetage</th>\n",
       "      <th>patient_onsetageunit</th>\n",
       "      <th>patient_custom_master_age</th>\n",
       "      <th>patient_sex</th>\n",
       "      <th>patient_weight</th>\n",
       "      <th>medicinal_product</th>\n",
       "      <th>drug_characterization</th>\n",
       "      <th>drug_administration</th>\n",
       "      <th>drug_indication</th>\n",
       "    </tr>\n",
       "    <tr>\n",
       "      <th>safetyreportid</th>\n",
       "      <th></th>\n",
       "      <th></th>\n",
       "      <th></th>\n",
       "      <th></th>\n",
       "      <th></th>\n",
       "      <th></th>\n",
       "      <th></th>\n",
       "      <th></th>\n",
       "      <th></th>\n",
       "    </tr>\n",
       "  </thead>\n",
       "  <tbody>\n",
       "    <tr>\n",
       "      <th>8760265</th>\n",
       "      <td>36.0</td>\n",
       "      <td>Year</td>\n",
       "      <td>36.0</td>\n",
       "      <td>Female</td>\n",
       "      <td>NaN</td>\n",
       "      <td>NaN</td>\n",
       "      <td>NaN</td>\n",
       "      <td>NaN</td>\n",
       "      <td>NaN</td>\n",
       "    </tr>\n",
       "    <tr>\n",
       "      <th>8760266</th>\n",
       "      <td>NaN</td>\n",
       "      <td>NaN</td>\n",
       "      <td>NaN</td>\n",
       "      <td>Female</td>\n",
       "      <td>142.31</td>\n",
       "      <td>NaN</td>\n",
       "      <td>NaN</td>\n",
       "      <td>NaN</td>\n",
       "      <td>NaN</td>\n",
       "    </tr>\n",
       "    <tr>\n",
       "      <th>8760267</th>\n",
       "      <td>NaN</td>\n",
       "      <td>NaN</td>\n",
       "      <td>NaN</td>\n",
       "      <td>Female</td>\n",
       "      <td>NaN</td>\n",
       "      <td>NaN</td>\n",
       "      <td>NaN</td>\n",
       "      <td>NaN</td>\n",
       "      <td>NaN</td>\n",
       "    </tr>\n",
       "    <tr>\n",
       "      <th>8760268</th>\n",
       "      <td>21.0</td>\n",
       "      <td>Year</td>\n",
       "      <td>21.0</td>\n",
       "      <td>Female</td>\n",
       "      <td>NaN</td>\n",
       "      <td>NaN</td>\n",
       "      <td>NaN</td>\n",
       "      <td>NaN</td>\n",
       "      <td>NaN</td>\n",
       "    </tr>\n",
       "    <tr>\n",
       "      <th>8760269</th>\n",
       "      <td>NaN</td>\n",
       "      <td>NaN</td>\n",
       "      <td>NaN</td>\n",
       "      <td>Female</td>\n",
       "      <td>NaN</td>\n",
       "      <td>NaN</td>\n",
       "      <td>NaN</td>\n",
       "      <td>NaN</td>\n",
       "      <td>NaN</td>\n",
       "    </tr>\n",
       "  </tbody>\n",
       "</table>\n",
       "</div>"
      ],
      "text/plain": [
       "                patient_onsetage patient_onsetageunit  \\\n",
       "safetyreportid                                          \n",
       "8760265                     36.0                 Year   \n",
       "8760266                      NaN                  NaN   \n",
       "8760267                      NaN                  NaN   \n",
       "8760268                     21.0                 Year   \n",
       "8760269                      NaN                  NaN   \n",
       "\n",
       "                patient_custom_master_age patient_sex  patient_weight  \\\n",
       "safetyreportid                                                          \n",
       "8760265                              36.0      Female             NaN   \n",
       "8760266                               NaN      Female          142.31   \n",
       "8760267                               NaN      Female             NaN   \n",
       "8760268                              21.0      Female             NaN   \n",
       "8760269                               NaN      Female             NaN   \n",
       "\n",
       "               medicinal_product drug_characterization drug_administration  \\\n",
       "safetyreportid                                                               \n",
       "8760265                      NaN                   NaN                 NaN   \n",
       "8760266                      NaN                   NaN                 NaN   \n",
       "8760267                      NaN                   NaN                 NaN   \n",
       "8760268                      NaN                   NaN                 NaN   \n",
       "8760269                      NaN                   NaN                 NaN   \n",
       "\n",
       "               drug_indication  \n",
       "safetyreportid                  \n",
       "8760265                    NaN  \n",
       "8760266                    NaN  \n",
       "8760267                    NaN  \n",
       "8760268                    NaN  \n",
       "8760269                    NaN  "
      ]
     },
     "execution_count": 5,
     "metadata": {},
     "output_type": "execute_result"
    }
   ],
   "source": [
    "patient_drugcharacteristics = (patients.\n",
    "                               set_index('safetyreportid').\n",
    "                               join(drugcharacteristics.\n",
    "                               set_index('safetyreportid')\n",
    "                                   )\n",
    "                              )\n",
    "patient_drugcharacteristics.head()"
   ]
  },
  {
   "cell_type": "code",
   "execution_count": 8,
   "metadata": {
    "hidden": true
   },
   "outputs": [],
   "source": [
    "pediatric_patient_df = (patient_drugcharacteristics.\n",
    "                        loc[:,['patient_custom_master_age','drug_indication']].\n",
    "                        dropna().\n",
    "                        query('patient_custom_master_age>0 & patient_custom_master_age<25').\n",
    "                        reset_index()\n",
    "                       )\n",
    "pediatric_patient_df['year'] = np.floor(pediatric_patient_df.patient_custom_master_age).astype(int)"
   ]
  },
  {
   "cell_type": "code",
   "execution_count": 9,
   "metadata": {
    "hidden": true
   },
   "outputs": [
    {
     "data": {
      "text/plain": [
       "Text(0, 0.5, 'Age')"
      ]
     },
     "execution_count": 9,
     "metadata": {},
     "output_type": "execute_result"
    },
    {
     "data": {
      "image/png": "[encoded data removed]",
      "text/plain": [
       "<Figure size 1200x800 with 1 Axes>"
      ]
     },
     "metadata": {
      "needs_background": "light"
     },
     "output_type": "display_data"
    }
   ],
   "source": [
    "fig,ax = plt.subplots(dpi=200)\n",
    "(pediatric_patient_df.\n",
    " loc[:,['year','drug_indication']].\n",
    " drop_duplicates().\n",
    " groupby('year')['drug_indication'].\n",
    " count()\n",
    ").plot.barh(ax=ax)\n",
    "ax.set_xlabel('Number of Drug Indications')\n",
    "ax.set_ylabel('Age')"
   ]
  },
  {
   "cell_type": "markdown",
   "metadata": {
    "heading_collapsed": true,
    "hidden": true
   },
   "source": [
    "## NDrugs across childhood"
   ]
  },
  {
   "cell_type": "code",
   "execution_count": 73,
   "metadata": {
    "hidden": true
   },
   "outputs": [
    {
     "name": "stderr",
     "output_type": "stream",
     "text": [
      "/anaconda3/lib/python3.7/site-packages/IPython/core/interactiveshell.py:3049: DtypeWarning: Columns (1) have mixed types. Specify dtype option on import or set low_memory=False.\n",
      "  interactivity=interactivity, compiler=compiler, result=result)\n",
      "/anaconda3/lib/python3.7/site-packages/numpy/lib/arraysetops.py:569: FutureWarning: elementwise comparison failed; returning scalar instead, but in the future will perform elementwise comparison\n",
      "  mask |= (ar1 == a)\n"
     ]
    },
    {
     "data": {
      "text/html": [
       "<div>\n",
       "<style scoped>\n",
       "    .dataframe tbody tr th:only-of-type {\n",
       "        vertical-align: middle;\n",
       "    }\n",
       "\n",
       "    .dataframe tbody tr th {\n",
       "        vertical-align: top;\n",
       "    }\n",
       "\n",
       "    .dataframe thead th {\n",
       "        text-align: right;\n",
       "    }\n",
       "</style>\n",
       "<table border=\"1\" class=\"dataframe\">\n",
       "  <thead>\n",
       "    <tr style=\"text-align: right;\">\n",
       "      <th></th>\n",
       "      <th>safetyreportid</th>\n",
       "      <th>patient_onsetage</th>\n",
       "      <th>patient_onsetageunit</th>\n",
       "      <th>patient_custom_master_age</th>\n",
       "      <th>patient_sex</th>\n",
       "      <th>patient_weight</th>\n",
       "    </tr>\n",
       "  </thead>\n",
       "  <tbody>\n",
       "    <tr>\n",
       "      <th>39</th>\n",
       "      <td>10003340</td>\n",
       "      <td>22.0</td>\n",
       "      <td>Year</td>\n",
       "      <td>22.0</td>\n",
       "      <td>Female</td>\n",
       "      <td>NaN</td>\n",
       "    </tr>\n",
       "    <tr>\n",
       "      <th>56</th>\n",
       "      <td>10003357</td>\n",
       "      <td>10.0</td>\n",
       "      <td>Year</td>\n",
       "      <td>10.0</td>\n",
       "      <td>Male</td>\n",
       "      <td>28.0</td>\n",
       "    </tr>\n",
       "    <tr>\n",
       "      <th>86</th>\n",
       "      <td>10003388</td>\n",
       "      <td>19.0</td>\n",
       "      <td>Year</td>\n",
       "      <td>19.0</td>\n",
       "      <td>Female</td>\n",
       "      <td>NaN</td>\n",
       "    </tr>\n",
       "    <tr>\n",
       "      <th>99</th>\n",
       "      <td>10003401</td>\n",
       "      <td>18.0</td>\n",
       "      <td>Year</td>\n",
       "      <td>18.0</td>\n",
       "      <td>Female</td>\n",
       "      <td>NaN</td>\n",
       "    </tr>\n",
       "    <tr>\n",
       "      <th>128</th>\n",
       "      <td>10003430</td>\n",
       "      <td>10.0</td>\n",
       "      <td>Year</td>\n",
       "      <td>10.0</td>\n",
       "      <td>Male</td>\n",
       "      <td>NaN</td>\n",
       "    </tr>\n",
       "  </tbody>\n",
       "</table>\n",
       "</div>"
      ],
      "text/plain": [
       "    safetyreportid  patient_onsetage patient_onsetageunit  \\\n",
       "39        10003340              22.0                 Year   \n",
       "56        10003357              10.0                 Year   \n",
       "86        10003388              19.0                 Year   \n",
       "99        10003401              18.0                 Year   \n",
       "128       10003430              10.0                 Year   \n",
       "\n",
       "     patient_custom_master_age patient_sex  patient_weight  \n",
       "39                        22.0      Female             NaN  \n",
       "56                        10.0        Male            28.0  \n",
       "86                        19.0      Female             NaN  \n",
       "99                        18.0      Female             NaN  \n",
       "128                       10.0        Male             NaN  "
      ]
     },
     "execution_count": 73,
     "metadata": {},
     "output_type": "execute_result"
    }
   ],
   "source": [
    "pediatric_patients = (pd.\n",
    "            read_csv('../../data/openFDA_drug_event/er_tables/patient.csv.gzip',\n",
    "                     compression='gzip',\n",
    "                     index_col=0)\n",
    "           ).query('patient_custom_master_age<25')\n",
    "pediatric_patients.head()"
   ]
  },
  {
   "cell_type": "code",
   "execution_count": 74,
   "metadata": {
    "hidden": true
   },
   "outputs": [
    {
     "data": {
      "text/plain": [
       "553788"
      ]
     },
     "execution_count": 74,
     "metadata": {},
     "output_type": "execute_result"
    }
   ],
   "source": [
    "ped_reports = pediatric_patients.safetyreportid.astype(str).unique()\n",
    "len(ped_reports)"
   ]
  },
  {
   "cell_type": "code",
   "execution_count": 75,
   "metadata": {
    "hidden": true
   },
   "outputs": [
    {
     "name": "stderr",
     "output_type": "stream",
     "text": [
      "/anaconda3/lib/python3.7/site-packages/IPython/core/interactiveshell.py:3049: DtypeWarning: Columns (5) have mixed types. Specify dtype option on import or set low_memory=False.\n",
      "  interactivity=interactivity, compiler=compiler, result=result)\n"
     ]
    },
    {
     "data": {
      "text/html": [
       "<div>\n",
       "<style scoped>\n",
       "    .dataframe tbody tr th:only-of-type {\n",
       "        vertical-align: middle;\n",
       "    }\n",
       "\n",
       "    .dataframe tbody tr th {\n",
       "        vertical-align: top;\n",
       "    }\n",
       "\n",
       "    .dataframe thead th {\n",
       "        text-align: right;\n",
       "    }\n",
       "</style>\n",
       "<table border=\"1\" class=\"dataframe\">\n",
       "  <thead>\n",
       "    <tr style=\"text-align: right;\">\n",
       "      <th></th>\n",
       "      <th>RxNorm_concept_class_id</th>\n",
       "      <th>RxNorm_concept_code</th>\n",
       "      <th>RxNorm_concept_id</th>\n",
       "      <th>RxNorm_concept_name</th>\n",
       "      <th>safetyreportid</th>\n",
       "    </tr>\n",
       "  </thead>\n",
       "  <tbody>\n",
       "    <tr>\n",
       "      <th>1</th>\n",
       "      <td>Clinical Drug</td>\n",
       "      <td>91349</td>\n",
       "      <td>1776544</td>\n",
       "      <td>Hydrogen Peroxide 30 MG/ML Topical Solution</td>\n",
       "      <td>10037760</td>\n",
       "    </tr>\n",
       "    <tr>\n",
       "      <th>6</th>\n",
       "      <td>Clinical Drug</td>\n",
       "      <td>91349</td>\n",
       "      <td>1776544</td>\n",
       "      <td>Hydrogen Peroxide 30 MG/ML Topical Solution</td>\n",
       "      <td>10403090</td>\n",
       "    </tr>\n",
       "    <tr>\n",
       "      <th>7</th>\n",
       "      <td>Clinical Drug</td>\n",
       "      <td>91349</td>\n",
       "      <td>1776544</td>\n",
       "      <td>Hydrogen Peroxide 30 MG/ML Topical Solution</td>\n",
       "      <td>10417567</td>\n",
       "    </tr>\n",
       "    <tr>\n",
       "      <th>8</th>\n",
       "      <td>Clinical Drug</td>\n",
       "      <td>91349</td>\n",
       "      <td>1776544</td>\n",
       "      <td>Hydrogen Peroxide 30 MG/ML Topical Solution</td>\n",
       "      <td>10434099</td>\n",
       "    </tr>\n",
       "    <tr>\n",
       "      <th>38</th>\n",
       "      <td>Clinical Drug</td>\n",
       "      <td>91349</td>\n",
       "      <td>1776544</td>\n",
       "      <td>Hydrogen Peroxide 30 MG/ML Topical Solution</td>\n",
       "      <td>12963875</td>\n",
       "    </tr>\n",
       "  </tbody>\n",
       "</table>\n",
       "</div>"
      ],
      "text/plain": [
       "   RxNorm_concept_class_id  RxNorm_concept_code  RxNorm_concept_id  \\\n",
       "1            Clinical Drug                91349            1776544   \n",
       "6            Clinical Drug                91349            1776544   \n",
       "7            Clinical Drug                91349            1776544   \n",
       "8            Clinical Drug                91349            1776544   \n",
       "38           Clinical Drug                91349            1776544   \n",
       "\n",
       "                            RxNorm_concept_name safetyreportid  \n",
       "1   Hydrogen Peroxide 30 MG/ML Topical Solution       10037760  \n",
       "6   Hydrogen Peroxide 30 MG/ML Topical Solution       10403090  \n",
       "7   Hydrogen Peroxide 30 MG/ML Topical Solution       10417567  \n",
       "8   Hydrogen Peroxide 30 MG/ML Topical Solution       10434099  \n",
       "38  Hydrogen Peroxide 30 MG/ML Topical Solution       12963875  "
      ]
     },
     "execution_count": 75,
     "metadata": {},
     "output_type": "execute_result"
    }
   ],
   "source": [
    "pediatric_standard_drugs = (pd.\n",
    "                  read_csv('../../data/openFDA_drug_event/er_tables/standard_drugs.csv.gzip',\n",
    "                           compression='gzip',\n",
    "                           index_col=0)\n",
    "                      ).query('safetyreportid in @ped_reports')\n",
    "pediatric_standard_drugs.safetyreportid = pediatric_standard_drugs.safetyreportid.astype(str) \n",
    "pediatric_standard_drugs.RxNorm_concept_id = pediatric_standard_drugs.RxNorm_concept_id.astype(int)\n",
    "pediatric_standard_drugs.head()"
   ]
  },
  {
   "cell_type": "code",
   "execution_count": 76,
   "metadata": {
    "hidden": true
   },
   "outputs": [
    {
     "data": {
      "text/html": [
       "<div>\n",
       "<style scoped>\n",
       "    .dataframe tbody tr th:only-of-type {\n",
       "        vertical-align: middle;\n",
       "    }\n",
       "\n",
       "    .dataframe tbody tr th {\n",
       "        vertical-align: top;\n",
       "    }\n",
       "\n",
       "    .dataframe thead th {\n",
       "        text-align: right;\n",
       "    }\n",
       "</style>\n",
       "<table border=\"1\" class=\"dataframe\">\n",
       "  <thead>\n",
       "    <tr style=\"text-align: right;\">\n",
       "      <th></th>\n",
       "      <th>patient_custom_master_age</th>\n",
       "      <th>RxNorm_concept_class_id</th>\n",
       "      <th>RxNorm_concept_code</th>\n",
       "      <th>RxNorm_concept_id</th>\n",
       "      <th>RxNorm_concept_name</th>\n",
       "      <th>year</th>\n",
       "    </tr>\n",
       "    <tr>\n",
       "      <th>safetyreportid</th>\n",
       "      <th></th>\n",
       "      <th></th>\n",
       "      <th></th>\n",
       "      <th></th>\n",
       "      <th></th>\n",
       "      <th></th>\n",
       "    </tr>\n",
       "  </thead>\n",
       "  <tbody>\n",
       "    <tr>\n",
       "      <th>16103222</th>\n",
       "      <td>19.0</td>\n",
       "      <td>Branded Drug</td>\n",
       "      <td>105899</td>\n",
       "      <td>19008027</td>\n",
       "      <td>Naproxen 500 MG Oral Tablet [Naprosyn]</td>\n",
       "      <td>19.0</td>\n",
       "    </tr>\n",
       "    <tr>\n",
       "      <th>16103222</th>\n",
       "      <td>19.0</td>\n",
       "      <td>Clinical Drug</td>\n",
       "      <td>198012</td>\n",
       "      <td>19019271</td>\n",
       "      <td>Naproxen 375 MG Oral Tablet</td>\n",
       "      <td>19.0</td>\n",
       "    </tr>\n",
       "    <tr>\n",
       "      <th>16103222</th>\n",
       "      <td>19.0</td>\n",
       "      <td>Clinical Drug</td>\n",
       "      <td>198013</td>\n",
       "      <td>19019272</td>\n",
       "      <td>Naproxen 250 MG Oral Tablet</td>\n",
       "      <td>19.0</td>\n",
       "    </tr>\n",
       "    <tr>\n",
       "      <th>16103222</th>\n",
       "      <td>19.0</td>\n",
       "      <td>Clinical Drug</td>\n",
       "      <td>198014</td>\n",
       "      <td>19019273</td>\n",
       "      <td>Naproxen 500 MG Oral Tablet</td>\n",
       "      <td>19.0</td>\n",
       "    </tr>\n",
       "    <tr>\n",
       "      <th>16103222</th>\n",
       "      <td>19.0</td>\n",
       "      <td>Branded Drug</td>\n",
       "      <td>207093</td>\n",
       "      <td>19034478</td>\n",
       "      <td>Naproxen 25 MG/ML Oral Suspension [Naprosyn]</td>\n",
       "      <td>19.0</td>\n",
       "    </tr>\n",
       "  </tbody>\n",
       "</table>\n",
       "</div>"
      ],
      "text/plain": [
       "                patient_custom_master_age RxNorm_concept_class_id  \\\n",
       "safetyreportid                                                      \n",
       "16103222                             19.0            Branded Drug   \n",
       "16103222                             19.0           Clinical Drug   \n",
       "16103222                             19.0           Clinical Drug   \n",
       "16103222                             19.0           Clinical Drug   \n",
       "16103222                             19.0            Branded Drug   \n",
       "\n",
       "                RxNorm_concept_code  RxNorm_concept_id  \\\n",
       "safetyreportid                                           \n",
       "16103222                     105899           19008027   \n",
       "16103222                     198012           19019271   \n",
       "16103222                     198013           19019272   \n",
       "16103222                     198014           19019273   \n",
       "16103222                     207093           19034478   \n",
       "\n",
       "                                         RxNorm_concept_name  year  \n",
       "safetyreportid                                                      \n",
       "16103222              Naproxen 500 MG Oral Tablet [Naprosyn]  19.0  \n",
       "16103222                         Naproxen 375 MG Oral Tablet  19.0  \n",
       "16103222                         Naproxen 250 MG Oral Tablet  19.0  \n",
       "16103222                         Naproxen 500 MG Oral Tablet  19.0  \n",
       "16103222        Naproxen 25 MG/ML Oral Suspension [Naprosyn]  19.0  "
      ]
     },
     "execution_count": 76,
     "metadata": {},
     "output_type": "execute_result"
    }
   ],
   "source": [
    "pediatric_patient_drugs = (pediatric_patients.\n",
    "                           loc[:,['patient_custom_master_age','safetyreportid']].\n",
    "                           drop_duplicates().\n",
    "                           set_index('safetyreportid').\n",
    "                           join(pediatric_standard_drugs.\n",
    "                                set_index('safetyreportid')\n",
    "                               ).\n",
    "                           dropna()\n",
    "                          )\n",
    "pediatric_patient_drugs.RxNorm_concept_id = pediatric_patient_drugs.RxNorm_concept_id.astype(int)\n",
    "pediatric_patient_drugs.RxNorm_concept_code = pediatric_patient_drugs.RxNorm_concept_code.astype(int)\n",
    "pediatric_patient_drugs['year'] = np.floor(pediatric_patient_drugs.patient_custom_master_age).astype(int)\n",
    "pediatric_patient_drugs.head()"
   ]
  },
  {
   "cell_type": "code",
   "execution_count": 80,
   "metadata": {
    "hidden": true
   },
   "outputs": [
    {
     "data": {
      "text/plain": [
       "Text(0, 0.5, 'Age')"
      ]
     },
     "execution_count": 80,
     "metadata": {},
     "output_type": "execute_result"
    },
    {
     "data": {
      "image/png": "[encoded data removed]",
      "text/plain": [
       "<Figure size 1200x800 with 1 Axes>"
      ]
     },
     "metadata": {
      "needs_background": "light"
     },
     "output_type": "display_data"
    }
   ],
   "source": [
    "fig,ax = plt.subplots(dpi=200)\n",
    "(pediatric_patient_drugs.\n",
    " loc[:,['year','RxNorm_concept_id']].\n",
    " drop_duplicates().\n",
    " groupby('year')['RxNorm_concept_id'].\n",
    " count()\n",
    ").plot.barh(ax=ax)\n",
    "ax.set_xlabel('Number of Drugs')\n",
    "ax.set_ylabel('Age')\n"
   ]
  },
  {
   "cell_type": "code",
   "execution_count": 81,
   "metadata": {
    "hidden": true
   },
   "outputs": [],
   "source": [
    "del pediatric_patient_drugs\n",
    "del pediatric_standard_drugs\n",
    "del pediatric_patients"
   ]
  },
  {
   "cell_type": "markdown",
   "metadata": {
    "heading_collapsed": true,
    "hidden": true
   },
   "source": [
    "## NReactions across Childhood"
   ]
  },
  {
   "cell_type": "code",
   "execution_count": 82,
   "metadata": {
    "hidden": true
   },
   "outputs": [
    {
     "data": {
      "text/html": [
       "<div>\n",
       "<style scoped>\n",
       "    .dataframe tbody tr th:only-of-type {\n",
       "        vertical-align: middle;\n",
       "    }\n",
       "\n",
       "    .dataframe tbody tr th {\n",
       "        vertical-align: top;\n",
       "    }\n",
       "\n",
       "    .dataframe thead th {\n",
       "        text-align: right;\n",
       "    }\n",
       "</style>\n",
       "<table border=\"1\" class=\"dataframe\">\n",
       "  <thead>\n",
       "    <tr style=\"text-align: right;\">\n",
       "      <th></th>\n",
       "      <th>safetyreportid</th>\n",
       "      <th>patient_onsetage</th>\n",
       "      <th>patient_onsetageunit</th>\n",
       "      <th>patient_custom_master_age</th>\n",
       "      <th>patient_sex</th>\n",
       "      <th>patient_weight</th>\n",
       "    </tr>\n",
       "  </thead>\n",
       "  <tbody>\n",
       "    <tr>\n",
       "      <th>39</th>\n",
       "      <td>10003340</td>\n",
       "      <td>22.0</td>\n",
       "      <td>Year</td>\n",
       "      <td>22.0</td>\n",
       "      <td>Female</td>\n",
       "      <td>NaN</td>\n",
       "    </tr>\n",
       "    <tr>\n",
       "      <th>56</th>\n",
       "      <td>10003357</td>\n",
       "      <td>10.0</td>\n",
       "      <td>Year</td>\n",
       "      <td>10.0</td>\n",
       "      <td>Male</td>\n",
       "      <td>28.0</td>\n",
       "    </tr>\n",
       "    <tr>\n",
       "      <th>86</th>\n",
       "      <td>10003388</td>\n",
       "      <td>19.0</td>\n",
       "      <td>Year</td>\n",
       "      <td>19.0</td>\n",
       "      <td>Female</td>\n",
       "      <td>NaN</td>\n",
       "    </tr>\n",
       "    <tr>\n",
       "      <th>99</th>\n",
       "      <td>10003401</td>\n",
       "      <td>18.0</td>\n",
       "      <td>Year</td>\n",
       "      <td>18.0</td>\n",
       "      <td>Female</td>\n",
       "      <td>NaN</td>\n",
       "    </tr>\n",
       "    <tr>\n",
       "      <th>128</th>\n",
       "      <td>10003430</td>\n",
       "      <td>10.0</td>\n",
       "      <td>Year</td>\n",
       "      <td>10.0</td>\n",
       "      <td>Male</td>\n",
       "      <td>NaN</td>\n",
       "    </tr>\n",
       "  </tbody>\n",
       "</table>\n",
       "</div>"
      ],
      "text/plain": [
       "    safetyreportid  patient_onsetage patient_onsetageunit  \\\n",
       "39        10003340              22.0                 Year   \n",
       "56        10003357              10.0                 Year   \n",
       "86        10003388              19.0                 Year   \n",
       "99        10003401              18.0                 Year   \n",
       "128       10003430              10.0                 Year   \n",
       "\n",
       "     patient_custom_master_age patient_sex  patient_weight  \n",
       "39                        22.0      Female             NaN  \n",
       "56                        10.0        Male            28.0  \n",
       "86                        19.0      Female             NaN  \n",
       "99                        18.0      Female             NaN  \n",
       "128                       10.0        Male             NaN  "
      ]
     },
     "execution_count": 82,
     "metadata": {},
     "output_type": "execute_result"
    }
   ],
   "source": [
    "pediatric_patients = (pd.\n",
    "            read_csv('../../data/openFDA_drug_event/er_tables/patient.csv.gzip',\n",
    "                     compression='gzip',\n",
    "                     index_col=0)\n",
    "           ).query('patient_custom_master_age<25')\n",
    "pediatric_patients.head()"
   ]
  },
  {
   "cell_type": "code",
   "execution_count": 83,
   "metadata": {
    "hidden": true
   },
   "outputs": [
    {
     "data": {
      "text/plain": [
       "553788"
      ]
     },
     "execution_count": 83,
     "metadata": {},
     "output_type": "execute_result"
    }
   ],
   "source": [
    "ped_reports = pediatric_patients.safetyreportid.astype(str).unique()\n",
    "len(ped_reports)"
   ]
  },
  {
   "cell_type": "code",
   "execution_count": 84,
   "metadata": {
    "hidden": true
   },
   "outputs": [
    {
     "name": "stderr",
     "output_type": "stream",
     "text": [
      "/anaconda3/lib/python3.7/site-packages/IPython/core/interactiveshell.py:3049: DtypeWarning: Columns (2) have mixed types. Specify dtype option on import or set low_memory=False.\n",
      "  interactivity=interactivity, compiler=compiler, result=result)\n"
     ]
    },
    {
     "data": {
      "text/html": [
       "<div>\n",
       "<style scoped>\n",
       "    .dataframe tbody tr th:only-of-type {\n",
       "        vertical-align: middle;\n",
       "    }\n",
       "\n",
       "    .dataframe tbody tr th {\n",
       "        vertical-align: top;\n",
       "    }\n",
       "\n",
       "    .dataframe thead th {\n",
       "        text-align: right;\n",
       "    }\n",
       "</style>\n",
       "<table border=\"1\" class=\"dataframe\">\n",
       "  <thead>\n",
       "    <tr style=\"text-align: right;\">\n",
       "      <th></th>\n",
       "      <th>MedDRA_concept_name</th>\n",
       "      <th>safetyreportid</th>\n",
       "      <th>reaction_outcome</th>\n",
       "      <th>MedDRA_concept_id</th>\n",
       "      <th>MedDRA_concept_code</th>\n",
       "      <th>MedDRA_concept_class_id</th>\n",
       "    </tr>\n",
       "  </thead>\n",
       "  <tbody>\n",
       "    <tr>\n",
       "      <th>9</th>\n",
       "      <td>17 Ketosteroids Urine Decreased</td>\n",
       "      <td>9602484</td>\n",
       "      <td>Recovering/resolving</td>\n",
       "      <td>36312357</td>\n",
       "      <td>10000007</td>\n",
       "      <td>PT</td>\n",
       "    </tr>\n",
       "    <tr>\n",
       "      <th>11</th>\n",
       "      <td>17-Hydroxyprogesterone Decreased</td>\n",
       "      <td>13096952</td>\n",
       "      <td>NaN</td>\n",
       "      <td>36312139</td>\n",
       "      <td>10063264</td>\n",
       "      <td>PT</td>\n",
       "    </tr>\n",
       "    <tr>\n",
       "      <th>12</th>\n",
       "      <td>17-Hydroxyprogesterone Decreased</td>\n",
       "      <td>13282231</td>\n",
       "      <td>Recovering/resolving</td>\n",
       "      <td>36312139</td>\n",
       "      <td>10063264</td>\n",
       "      <td>PT</td>\n",
       "    </tr>\n",
       "    <tr>\n",
       "      <th>14</th>\n",
       "      <td>17-Hydroxyprogesterone Increased</td>\n",
       "      <td>10723227</td>\n",
       "      <td>Recovered/resolved</td>\n",
       "      <td>36312140</td>\n",
       "      <td>10063263</td>\n",
       "      <td>PT</td>\n",
       "    </tr>\n",
       "    <tr>\n",
       "      <th>16</th>\n",
       "      <td>17-Hydroxyprogesterone Increased</td>\n",
       "      <td>12428891</td>\n",
       "      <td>Unknown</td>\n",
       "      <td>36312140</td>\n",
       "      <td>10063263</td>\n",
       "      <td>PT</td>\n",
       "    </tr>\n",
       "  </tbody>\n",
       "</table>\n",
       "</div>"
      ],
      "text/plain": [
       "                 MedDRA_concept_name safetyreportid      reaction_outcome  \\\n",
       "9    17 Ketosteroids Urine Decreased        9602484  Recovering/resolving   \n",
       "11  17-Hydroxyprogesterone Decreased       13096952                   NaN   \n",
       "12  17-Hydroxyprogesterone Decreased       13282231  Recovering/resolving   \n",
       "14  17-Hydroxyprogesterone Increased       10723227    Recovered/resolved   \n",
       "16  17-Hydroxyprogesterone Increased       12428891               Unknown   \n",
       "\n",
       "    MedDRA_concept_id  MedDRA_concept_code MedDRA_concept_class_id  \n",
       "9            36312357             10000007                      PT  \n",
       "11           36312139             10063264                      PT  \n",
       "12           36312139             10063264                      PT  \n",
       "14           36312140             10063263                      PT  \n",
       "16           36312140             10063263                      PT  "
      ]
     },
     "execution_count": 84,
     "metadata": {},
     "output_type": "execute_result"
    }
   ],
   "source": [
    "pediatric_standard_reactions = (pd.\n",
    "                  read_csv('../../data/openFDA_drug_event/er_tables/standard_reactions.csv.gzip',\n",
    "                           compression='gzip',\n",
    "                           index_col=0)\n",
    "                      ).query('safetyreportid in @ped_reports')\n",
    "pediatric_standard_reactions.safetyreportid = pediatric_standard_reactions.safetyreportid.astype(str) \n",
    "pediatric_standard_reactions.MedDRA_concept_id = pediatric_standard_reactions.MedDRA_concept_id.astype(int)\n",
    "pediatric_standard_reactions.head()"
   ]
  },
  {
   "cell_type": "code",
   "execution_count": 85,
   "metadata": {
    "hidden": true
   },
   "outputs": [
    {
     "data": {
      "text/html": [
       "<div>\n",
       "<style scoped>\n",
       "    .dataframe tbody tr th:only-of-type {\n",
       "        vertical-align: middle;\n",
       "    }\n",
       "\n",
       "    .dataframe tbody tr th {\n",
       "        vertical-align: top;\n",
       "    }\n",
       "\n",
       "    .dataframe thead th {\n",
       "        text-align: right;\n",
       "    }\n",
       "</style>\n",
       "<table border=\"1\" class=\"dataframe\">\n",
       "  <thead>\n",
       "    <tr style=\"text-align: right;\">\n",
       "      <th></th>\n",
       "      <th>patient_custom_master_age</th>\n",
       "      <th>MedDRA_concept_name</th>\n",
       "      <th>reaction_outcome</th>\n",
       "      <th>MedDRA_concept_id</th>\n",
       "      <th>MedDRA_concept_code</th>\n",
       "      <th>MedDRA_concept_class_id</th>\n",
       "      <th>year</th>\n",
       "    </tr>\n",
       "    <tr>\n",
       "      <th>safetyreportid</th>\n",
       "      <th></th>\n",
       "      <th></th>\n",
       "      <th></th>\n",
       "      <th></th>\n",
       "      <th></th>\n",
       "      <th></th>\n",
       "      <th></th>\n",
       "    </tr>\n",
       "  </thead>\n",
       "  <tbody>\n",
       "    <tr>\n",
       "      <th>16103222</th>\n",
       "      <td>19.0</td>\n",
       "      <td>Dizziness</td>\n",
       "      <td>Not recovered/not resolved</td>\n",
       "      <td>35205025</td>\n",
       "      <td>10013573</td>\n",
       "      <td>PT</td>\n",
       "      <td>19</td>\n",
       "    </tr>\n",
       "    <tr>\n",
       "      <th>16103222</th>\n",
       "      <td>19.0</td>\n",
       "      <td>Duodenal Ulcer</td>\n",
       "      <td>Recovering/resolving</td>\n",
       "      <td>35708270</td>\n",
       "      <td>10013836</td>\n",
       "      <td>PT</td>\n",
       "      <td>19</td>\n",
       "    </tr>\n",
       "    <tr>\n",
       "      <th>16103222</th>\n",
       "      <td>19.0</td>\n",
       "      <td>Faeces Discoloured</td>\n",
       "      <td>Recovering/resolving</td>\n",
       "      <td>35708147</td>\n",
       "      <td>10016100</td>\n",
       "      <td>PT</td>\n",
       "      <td>19</td>\n",
       "    </tr>\n",
       "    <tr>\n",
       "      <th>16103222</th>\n",
       "      <td>19.0</td>\n",
       "      <td>Malaise</td>\n",
       "      <td>Not recovered/not resolved</td>\n",
       "      <td>35809079</td>\n",
       "      <td>10025482</td>\n",
       "      <td>PT</td>\n",
       "      <td>19</td>\n",
       "    </tr>\n",
       "    <tr>\n",
       "      <th>16103257</th>\n",
       "      <td>24.0</td>\n",
       "      <td>Contusion</td>\n",
       "      <td>Unknown</td>\n",
       "      <td>36211385</td>\n",
       "      <td>10050584</td>\n",
       "      <td>PT</td>\n",
       "      <td>24</td>\n",
       "    </tr>\n",
       "  </tbody>\n",
       "</table>\n",
       "</div>"
      ],
      "text/plain": [
       "                patient_custom_master_age MedDRA_concept_name  \\\n",
       "safetyreportid                                                  \n",
       "16103222                             19.0           Dizziness   \n",
       "16103222                             19.0      Duodenal Ulcer   \n",
       "16103222                             19.0  Faeces Discoloured   \n",
       "16103222                             19.0             Malaise   \n",
       "16103257                             24.0           Contusion   \n",
       "\n",
       "                          reaction_outcome  MedDRA_concept_id  \\\n",
       "safetyreportid                                                  \n",
       "16103222        Not recovered/not resolved           35205025   \n",
       "16103222              Recovering/resolving           35708270   \n",
       "16103222              Recovering/resolving           35708147   \n",
       "16103222        Not recovered/not resolved           35809079   \n",
       "16103257                           Unknown           36211385   \n",
       "\n",
       "                MedDRA_concept_code MedDRA_concept_class_id  year  \n",
       "safetyreportid                                                     \n",
       "16103222                   10013573                      PT    19  \n",
       "16103222                   10013836                      PT    19  \n",
       "16103222                   10016100                      PT    19  \n",
       "16103222                   10025482                      PT    19  \n",
       "16103257                   10050584                      PT    24  "
      ]
     },
     "execution_count": 85,
     "metadata": {},
     "output_type": "execute_result"
    }
   ],
   "source": [
    "pediatric_patient_reactions = (pediatric_patients.\n",
    "                           loc[:,['patient_custom_master_age','safetyreportid']].\n",
    "                           drop_duplicates().\n",
    "                           set_index('safetyreportid').\n",
    "                           join(pediatric_standard_reactions.\n",
    "                                set_index('safetyreportid')\n",
    "                               ).\n",
    "                           dropna()\n",
    "                          )\n",
    "pediatric_patient_reactions.MedDRA_concept_id = pediatric_patient_reactions.MedDRA_concept_id.astype(int)\n",
    "pediatric_patient_reactions.MedDRA_concept_code = pediatric_patient_reactions.MedDRA_concept_code.astype(int)\n",
    "pediatric_patient_reactions['year'] = np.floor(pediatric_patient_reactions.patient_custom_master_age).astype(int)\n",
    "pediatric_patient_reactions.head()"
   ]
  },
  {
   "cell_type": "code",
   "execution_count": 86,
   "metadata": {
    "hidden": true
   },
   "outputs": [
    {
     "data": {
      "text/plain": [
       "Text(0, 0.5, 'Age')"
      ]
     },
     "execution_count": 86,
     "metadata": {},
     "output_type": "execute_result"
    },
    {
     "data": {
      "image/png": "[encoded data removed]",
      "text/plain": [
       "<Figure size 1200x800 with 1 Axes>"
      ]
     },
     "metadata": {
      "needs_background": "light"
     },
     "output_type": "display_data"
    }
   ],
   "source": [
    "fig,ax = plt.subplots(dpi=200)\n",
    "(pediatric_patient_reactions.\n",
    " loc[:,['year','MedDRA_concept_id']].\n",
    " drop_duplicates().\n",
    " groupby('year')['MedDRA_concept_id'].\n",
    " count()\n",
    ").plot.barh(ax=ax)\n",
    "ax.set_xlabel('Number of Reactions')\n",
    "ax.set_ylabel('Age')"
   ]
  },
  {
   "cell_type": "code",
   "execution_count": 65,
   "metadata": {
    "hidden": true
   },
   "outputs": [],
   "source": [
    "del pediatric_patient_drugs\n",
    "del pediatric_standard_drugs\n",
    "del pediatric_patients"
   ]
  },
  {
   "cell_type": "code",
   "execution_count": null,
   "metadata": {
    "hidden": true
   },
   "outputs": [],
   "source": []
  },
  {
   "cell_type": "markdown",
   "metadata": {
    "heading_collapsed": true,
    "hidden": true
   },
   "source": [
    "## Medicinal product frequency across childhood"
   ]
  },
  {
   "cell_type": "code",
   "execution_count": 33,
   "metadata": {
    "hidden": true
   },
   "outputs": [
    {
     "data": {
      "text/html": [
       "<div>\n",
       "<style scoped>\n",
       "    .dataframe tbody tr th:only-of-type {\n",
       "        vertical-align: middle;\n",
       "    }\n",
       "\n",
       "    .dataframe tbody tr th {\n",
       "        vertical-align: top;\n",
       "    }\n",
       "\n",
       "    .dataframe thead th {\n",
       "        text-align: right;\n",
       "    }\n",
       "</style>\n",
       "<table border=\"1\" class=\"dataframe\">\n",
       "  <thead>\n",
       "    <tr style=\"text-align: right;\">\n",
       "      <th>medicinalproduct</th>\n",
       "      <th>(METHOTREXATE)</th>\n",
       "      <th>.</th>\n",
       "      <th>..</th>\n",
       "      <th>0.9% SODIUM CHLORIDE INJECTION</th>\n",
       "      <th>1 CONCOMITANT DRUG</th>\n",
       "      <th>20% MANNITOL INJECTION</th>\n",
       "      <th>5% GLUCOSE  INJECTION</th>\n",
       "      <th>5-AMINOSALICYLIC ACID</th>\n",
       "      <th>5-ASA</th>\n",
       "      <th>5-FLUOROURACIL</th>\n",
       "      <th>...</th>\n",
       "      <th>ZYLORIC</th>\n",
       "      <th>ZYMAD</th>\n",
       "      <th>ZYPREXA</th>\n",
       "      <th>ZYPREXA ZYDIS</th>\n",
       "      <th>ZYRTEC</th>\n",
       "      <th>ZYRTEC 10MG IR TABLET</th>\n",
       "      <th>ZYRTEC-D</th>\n",
       "      <th>ZYVOX</th>\n",
       "      <th>ZYVOXID</th>\n",
       "      <th>[THERAPY UNSPECIFIED]</th>\n",
       "    </tr>\n",
       "    <tr>\n",
       "      <th>master_age</th>\n",
       "      <th></th>\n",
       "      <th></th>\n",
       "      <th></th>\n",
       "      <th></th>\n",
       "      <th></th>\n",
       "      <th></th>\n",
       "      <th></th>\n",
       "      <th></th>\n",
       "      <th></th>\n",
       "      <th></th>\n",
       "      <th></th>\n",
       "      <th></th>\n",
       "      <th></th>\n",
       "      <th></th>\n",
       "      <th></th>\n",
       "      <th></th>\n",
       "      <th></th>\n",
       "      <th></th>\n",
       "      <th></th>\n",
       "      <th></th>\n",
       "      <th></th>\n",
       "    </tr>\n",
       "  </thead>\n",
       "  <tbody>\n",
       "    <tr>\n",
       "      <th>0.0</th>\n",
       "      <td>1</td>\n",
       "      <td>7</td>\n",
       "      <td>2</td>\n",
       "      <td>12</td>\n",
       "      <td>3</td>\n",
       "      <td>1</td>\n",
       "      <td>6</td>\n",
       "      <td>2</td>\n",
       "      <td>0</td>\n",
       "      <td>2</td>\n",
       "      <td>...</td>\n",
       "      <td>1</td>\n",
       "      <td>12</td>\n",
       "      <td>125</td>\n",
       "      <td>2</td>\n",
       "      <td>84</td>\n",
       "      <td>0</td>\n",
       "      <td>0</td>\n",
       "      <td>21</td>\n",
       "      <td>4</td>\n",
       "      <td>7</td>\n",
       "    </tr>\n",
       "    <tr>\n",
       "      <th>1.0</th>\n",
       "      <td>0</td>\n",
       "      <td>4</td>\n",
       "      <td>2</td>\n",
       "      <td>11</td>\n",
       "      <td>0</td>\n",
       "      <td>0</td>\n",
       "      <td>3</td>\n",
       "      <td>0</td>\n",
       "      <td>0</td>\n",
       "      <td>2</td>\n",
       "      <td>...</td>\n",
       "      <td>1</td>\n",
       "      <td>1</td>\n",
       "      <td>15</td>\n",
       "      <td>0</td>\n",
       "      <td>123</td>\n",
       "      <td>0</td>\n",
       "      <td>0</td>\n",
       "      <td>10</td>\n",
       "      <td>1</td>\n",
       "      <td>5</td>\n",
       "    </tr>\n",
       "    <tr>\n",
       "      <th>2.0</th>\n",
       "      <td>1</td>\n",
       "      <td>3</td>\n",
       "      <td>0</td>\n",
       "      <td>11</td>\n",
       "      <td>4</td>\n",
       "      <td>0</td>\n",
       "      <td>4</td>\n",
       "      <td>0</td>\n",
       "      <td>2</td>\n",
       "      <td>4</td>\n",
       "      <td>...</td>\n",
       "      <td>1</td>\n",
       "      <td>0</td>\n",
       "      <td>6</td>\n",
       "      <td>0</td>\n",
       "      <td>171</td>\n",
       "      <td>2</td>\n",
       "      <td>0</td>\n",
       "      <td>4</td>\n",
       "      <td>2</td>\n",
       "      <td>3</td>\n",
       "    </tr>\n",
       "    <tr>\n",
       "      <th>3.0</th>\n",
       "      <td>0</td>\n",
       "      <td>3</td>\n",
       "      <td>1</td>\n",
       "      <td>2</td>\n",
       "      <td>0</td>\n",
       "      <td>2</td>\n",
       "      <td>5</td>\n",
       "      <td>0</td>\n",
       "      <td>2</td>\n",
       "      <td>0</td>\n",
       "      <td>...</td>\n",
       "      <td>4</td>\n",
       "      <td>0</td>\n",
       "      <td>10</td>\n",
       "      <td>0</td>\n",
       "      <td>160</td>\n",
       "      <td>2</td>\n",
       "      <td>0</td>\n",
       "      <td>8</td>\n",
       "      <td>1</td>\n",
       "      <td>3</td>\n",
       "    </tr>\n",
       "    <tr>\n",
       "      <th>4.0</th>\n",
       "      <td>1</td>\n",
       "      <td>1</td>\n",
       "      <td>1</td>\n",
       "      <td>2</td>\n",
       "      <td>0</td>\n",
       "      <td>0</td>\n",
       "      <td>3</td>\n",
       "      <td>0</td>\n",
       "      <td>3</td>\n",
       "      <td>1</td>\n",
       "      <td>...</td>\n",
       "      <td>2</td>\n",
       "      <td>0</td>\n",
       "      <td>9</td>\n",
       "      <td>1</td>\n",
       "      <td>167</td>\n",
       "      <td>0</td>\n",
       "      <td>0</td>\n",
       "      <td>5</td>\n",
       "      <td>0</td>\n",
       "      <td>5</td>\n",
       "    </tr>\n",
       "    <tr>\n",
       "      <th>5.0</th>\n",
       "      <td>1</td>\n",
       "      <td>3</td>\n",
       "      <td>0</td>\n",
       "      <td>6</td>\n",
       "      <td>4</td>\n",
       "      <td>3</td>\n",
       "      <td>1</td>\n",
       "      <td>0</td>\n",
       "      <td>15</td>\n",
       "      <td>0</td>\n",
       "      <td>...</td>\n",
       "      <td>2</td>\n",
       "      <td>0</td>\n",
       "      <td>20</td>\n",
       "      <td>0</td>\n",
       "      <td>184</td>\n",
       "      <td>0</td>\n",
       "      <td>0</td>\n",
       "      <td>6</td>\n",
       "      <td>3</td>\n",
       "      <td>4</td>\n",
       "    </tr>\n",
       "    <tr>\n",
       "      <th>6.0</th>\n",
       "      <td>1</td>\n",
       "      <td>5</td>\n",
       "      <td>1</td>\n",
       "      <td>0</td>\n",
       "      <td>2</td>\n",
       "      <td>0</td>\n",
       "      <td>0</td>\n",
       "      <td>0</td>\n",
       "      <td>7</td>\n",
       "      <td>0</td>\n",
       "      <td>...</td>\n",
       "      <td>1</td>\n",
       "      <td>0</td>\n",
       "      <td>32</td>\n",
       "      <td>2</td>\n",
       "      <td>235</td>\n",
       "      <td>0</td>\n",
       "      <td>0</td>\n",
       "      <td>7</td>\n",
       "      <td>0</td>\n",
       "      <td>3</td>\n",
       "    </tr>\n",
       "    <tr>\n",
       "      <th>7.0</th>\n",
       "      <td>3</td>\n",
       "      <td>3</td>\n",
       "      <td>2</td>\n",
       "      <td>2</td>\n",
       "      <td>1</td>\n",
       "      <td>2</td>\n",
       "      <td>0</td>\n",
       "      <td>0</td>\n",
       "      <td>6</td>\n",
       "      <td>0</td>\n",
       "      <td>...</td>\n",
       "      <td>0</td>\n",
       "      <td>0</td>\n",
       "      <td>31</td>\n",
       "      <td>3</td>\n",
       "      <td>201</td>\n",
       "      <td>0</td>\n",
       "      <td>0</td>\n",
       "      <td>8</td>\n",
       "      <td>1</td>\n",
       "      <td>1</td>\n",
       "    </tr>\n",
       "    <tr>\n",
       "      <th>8.0</th>\n",
       "      <td>1</td>\n",
       "      <td>2</td>\n",
       "      <td>2</td>\n",
       "      <td>1</td>\n",
       "      <td>1</td>\n",
       "      <td>3</td>\n",
       "      <td>0</td>\n",
       "      <td>3</td>\n",
       "      <td>13</td>\n",
       "      <td>1</td>\n",
       "      <td>...</td>\n",
       "      <td>2</td>\n",
       "      <td>0</td>\n",
       "      <td>45</td>\n",
       "      <td>2</td>\n",
       "      <td>232</td>\n",
       "      <td>0</td>\n",
       "      <td>2</td>\n",
       "      <td>12</td>\n",
       "      <td>3</td>\n",
       "      <td>2</td>\n",
       "    </tr>\n",
       "    <tr>\n",
       "      <th>9.0</th>\n",
       "      <td>1</td>\n",
       "      <td>5</td>\n",
       "      <td>2</td>\n",
       "      <td>0</td>\n",
       "      <td>1</td>\n",
       "      <td>2</td>\n",
       "      <td>0</td>\n",
       "      <td>1</td>\n",
       "      <td>22</td>\n",
       "      <td>0</td>\n",
       "      <td>...</td>\n",
       "      <td>0</td>\n",
       "      <td>0</td>\n",
       "      <td>44</td>\n",
       "      <td>4</td>\n",
       "      <td>226</td>\n",
       "      <td>2</td>\n",
       "      <td>1</td>\n",
       "      <td>11</td>\n",
       "      <td>0</td>\n",
       "      <td>9</td>\n",
       "    </tr>\n",
       "    <tr>\n",
       "      <th>10.0</th>\n",
       "      <td>0</td>\n",
       "      <td>2</td>\n",
       "      <td>6</td>\n",
       "      <td>1</td>\n",
       "      <td>0</td>\n",
       "      <td>0</td>\n",
       "      <td>0</td>\n",
       "      <td>2</td>\n",
       "      <td>23</td>\n",
       "      <td>1</td>\n",
       "      <td>...</td>\n",
       "      <td>2</td>\n",
       "      <td>0</td>\n",
       "      <td>58</td>\n",
       "      <td>1</td>\n",
       "      <td>218</td>\n",
       "      <td>2</td>\n",
       "      <td>3</td>\n",
       "      <td>4</td>\n",
       "      <td>0</td>\n",
       "      <td>5</td>\n",
       "    </tr>\n",
       "    <tr>\n",
       "      <th>11.0</th>\n",
       "      <td>1</td>\n",
       "      <td>3</td>\n",
       "      <td>2</td>\n",
       "      <td>8</td>\n",
       "      <td>2</td>\n",
       "      <td>0</td>\n",
       "      <td>1</td>\n",
       "      <td>3</td>\n",
       "      <td>36</td>\n",
       "      <td>3</td>\n",
       "      <td>...</td>\n",
       "      <td>1</td>\n",
       "      <td>1</td>\n",
       "      <td>47</td>\n",
       "      <td>1</td>\n",
       "      <td>185</td>\n",
       "      <td>0</td>\n",
       "      <td>4</td>\n",
       "      <td>8</td>\n",
       "      <td>0</td>\n",
       "      <td>0</td>\n",
       "    </tr>\n",
       "    <tr>\n",
       "      <th>12.0</th>\n",
       "      <td>2</td>\n",
       "      <td>3</td>\n",
       "      <td>0</td>\n",
       "      <td>3</td>\n",
       "      <td>1</td>\n",
       "      <td>2</td>\n",
       "      <td>1</td>\n",
       "      <td>0</td>\n",
       "      <td>47</td>\n",
       "      <td>1</td>\n",
       "      <td>...</td>\n",
       "      <td>8</td>\n",
       "      <td>4</td>\n",
       "      <td>57</td>\n",
       "      <td>2</td>\n",
       "      <td>214</td>\n",
       "      <td>2</td>\n",
       "      <td>2</td>\n",
       "      <td>8</td>\n",
       "      <td>4</td>\n",
       "      <td>2</td>\n",
       "    </tr>\n",
       "    <tr>\n",
       "      <th>13.0</th>\n",
       "      <td>0</td>\n",
       "      <td>2</td>\n",
       "      <td>1</td>\n",
       "      <td>7</td>\n",
       "      <td>0</td>\n",
       "      <td>0</td>\n",
       "      <td>1</td>\n",
       "      <td>3</td>\n",
       "      <td>65</td>\n",
       "      <td>0</td>\n",
       "      <td>...</td>\n",
       "      <td>2</td>\n",
       "      <td>0</td>\n",
       "      <td>70</td>\n",
       "      <td>5</td>\n",
       "      <td>225</td>\n",
       "      <td>4</td>\n",
       "      <td>1</td>\n",
       "      <td>10</td>\n",
       "      <td>0</td>\n",
       "      <td>8</td>\n",
       "    </tr>\n",
       "    <tr>\n",
       "      <th>14.0</th>\n",
       "      <td>1</td>\n",
       "      <td>5</td>\n",
       "      <td>0</td>\n",
       "      <td>0</td>\n",
       "      <td>1</td>\n",
       "      <td>0</td>\n",
       "      <td>0</td>\n",
       "      <td>0</td>\n",
       "      <td>58</td>\n",
       "      <td>1</td>\n",
       "      <td>...</td>\n",
       "      <td>4</td>\n",
       "      <td>2</td>\n",
       "      <td>103</td>\n",
       "      <td>6</td>\n",
       "      <td>230</td>\n",
       "      <td>4</td>\n",
       "      <td>11</td>\n",
       "      <td>14</td>\n",
       "      <td>1</td>\n",
       "      <td>8</td>\n",
       "    </tr>\n",
       "    <tr>\n",
       "      <th>15.0</th>\n",
       "      <td>2</td>\n",
       "      <td>4</td>\n",
       "      <td>6</td>\n",
       "      <td>2</td>\n",
       "      <td>1</td>\n",
       "      <td>3</td>\n",
       "      <td>0</td>\n",
       "      <td>6</td>\n",
       "      <td>53</td>\n",
       "      <td>3</td>\n",
       "      <td>...</td>\n",
       "      <td>5</td>\n",
       "      <td>1</td>\n",
       "      <td>114</td>\n",
       "      <td>1</td>\n",
       "      <td>224</td>\n",
       "      <td>6</td>\n",
       "      <td>6</td>\n",
       "      <td>10</td>\n",
       "      <td>1</td>\n",
       "      <td>9</td>\n",
       "    </tr>\n",
       "    <tr>\n",
       "      <th>16.0</th>\n",
       "      <td>2</td>\n",
       "      <td>4</td>\n",
       "      <td>1</td>\n",
       "      <td>2</td>\n",
       "      <td>4</td>\n",
       "      <td>2</td>\n",
       "      <td>0</td>\n",
       "      <td>6</td>\n",
       "      <td>88</td>\n",
       "      <td>2</td>\n",
       "      <td>...</td>\n",
       "      <td>3</td>\n",
       "      <td>0</td>\n",
       "      <td>172</td>\n",
       "      <td>2</td>\n",
       "      <td>251</td>\n",
       "      <td>4</td>\n",
       "      <td>2</td>\n",
       "      <td>21</td>\n",
       "      <td>11</td>\n",
       "      <td>7</td>\n",
       "    </tr>\n",
       "    <tr>\n",
       "      <th>17.0</th>\n",
       "      <td>1</td>\n",
       "      <td>5</td>\n",
       "      <td>3</td>\n",
       "      <td>5</td>\n",
       "      <td>1</td>\n",
       "      <td>1</td>\n",
       "      <td>0</td>\n",
       "      <td>6</td>\n",
       "      <td>77</td>\n",
       "      <td>3</td>\n",
       "      <td>...</td>\n",
       "      <td>0</td>\n",
       "      <td>2</td>\n",
       "      <td>217</td>\n",
       "      <td>10</td>\n",
       "      <td>238</td>\n",
       "      <td>0</td>\n",
       "      <td>3</td>\n",
       "      <td>12</td>\n",
       "      <td>4</td>\n",
       "      <td>7</td>\n",
       "    </tr>\n",
       "  </tbody>\n",
       "</table>\n",
       "<p>18 rows × 4123 columns</p>\n",
       "</div>"
      ],
      "text/plain": [
       "medicinalproduct  (METHOTREXATE)  .  ..  0.9% SODIUM CHLORIDE INJECTION  \\\n",
       "master_age                                                                \n",
       "0.0                            1  7   2                              12   \n",
       "1.0                            0  4   2                              11   \n",
       "2.0                            1  3   0                              11   \n",
       "3.0                            0  3   1                               2   \n",
       "4.0                            1  1   1                               2   \n",
       "5.0                            1  3   0                               6   \n",
       "6.0                            1  5   1                               0   \n",
       "7.0                            3  3   2                               2   \n",
       "8.0                            1  2   2                               1   \n",
       "9.0                            1  5   2                               0   \n",
       "10.0                           0  2   6                               1   \n",
       "11.0                           1  3   2                               8   \n",
       "12.0                           2  3   0                               3   \n",
       "13.0                           0  2   1                               7   \n",
       "14.0                           1  5   0                               0   \n",
       "15.0                           2  4   6                               2   \n",
       "16.0                           2  4   1                               2   \n",
       "17.0                           1  5   3                               5   \n",
       "\n",
       "medicinalproduct  1 CONCOMITANT DRUG  20% MANNITOL INJECTION  \\\n",
       "master_age                                                     \n",
       "0.0                                3                       1   \n",
       "1.0                                0                       0   \n",
       "2.0                                4                       0   \n",
       "3.0                                0                       2   \n",
       "4.0                                0                       0   \n",
       "5.0                                4                       3   \n",
       "6.0                                2                       0   \n",
       "7.0                                1                       2   \n",
       "8.0                                1                       3   \n",
       "9.0                                1                       2   \n",
       "10.0                               0                       0   \n",
       "11.0                               2                       0   \n",
       "12.0                               1                       2   \n",
       "13.0                               0                       0   \n",
       "14.0                               1                       0   \n",
       "15.0                               1                       3   \n",
       "16.0                               4                       2   \n",
       "17.0                               1                       1   \n",
       "\n",
       "medicinalproduct  5% GLUCOSE  INJECTION  5-AMINOSALICYLIC ACID  5-ASA  \\\n",
       "master_age                                                              \n",
       "0.0                                   6                      2      0   \n",
       "1.0                                   3                      0      0   \n",
       "2.0                                   4                      0      2   \n",
       "3.0                                   5                      0      2   \n",
       "4.0                                   3                      0      3   \n",
       "5.0                                   1                      0     15   \n",
       "6.0                                   0                      0      7   \n",
       "7.0                                   0                      0      6   \n",
       "8.0                                   0                      3     13   \n",
       "9.0                                   0                      1     22   \n",
       "10.0                                  0                      2     23   \n",
       "11.0                                  1                      3     36   \n",
       "12.0                                  1                      0     47   \n",
       "13.0                                  1                      3     65   \n",
       "14.0                                  0                      0     58   \n",
       "15.0                                  0                      6     53   \n",
       "16.0                                  0                      6     88   \n",
       "17.0                                  0                      6     77   \n",
       "\n",
       "medicinalproduct  5-FLUOROURACIL  ...  ZYLORIC  ZYMAD  ZYPREXA  ZYPREXA ZYDIS  \\\n",
       "master_age                        ...                                           \n",
       "0.0                            2  ...        1     12      125              2   \n",
       "1.0                            2  ...        1      1       15              0   \n",
       "2.0                            4  ...        1      0        6              0   \n",
       "3.0                            0  ...        4      0       10              0   \n",
       "4.0                            1  ...        2      0        9              1   \n",
       "5.0                            0  ...        2      0       20              0   \n",
       "6.0                            0  ...        1      0       32              2   \n",
       "7.0                            0  ...        0      0       31              3   \n",
       "8.0                            1  ...        2      0       45              2   \n",
       "9.0                            0  ...        0      0       44              4   \n",
       "10.0                           1  ...        2      0       58              1   \n",
       "11.0                           3  ...        1      1       47              1   \n",
       "12.0                           1  ...        8      4       57              2   \n",
       "13.0                           0  ...        2      0       70              5   \n",
       "14.0                           1  ...        4      2      103              6   \n",
       "15.0                           3  ...        5      1      114              1   \n",
       "16.0                           2  ...        3      0      172              2   \n",
       "17.0                           3  ...        0      2      217             10   \n",
       "\n",
       "medicinalproduct  ZYRTEC  ZYRTEC 10MG IR TABLET  ZYRTEC-D  ZYVOX  ZYVOXID  \\\n",
       "master_age                                                                  \n",
       "0.0                   84                      0         0     21        4   \n",
       "1.0                  123                      0         0     10        1   \n",
       "2.0                  171                      2         0      4        2   \n",
       "3.0                  160                      2         0      8        1   \n",
       "4.0                  167                      0         0      5        0   \n",
       "5.0                  184                      0         0      6        3   \n",
       "6.0                  235                      0         0      7        0   \n",
       "7.0                  201                      0         0      8        1   \n",
       "8.0                  232                      0         2     12        3   \n",
       "9.0                  226                      2         1     11        0   \n",
       "10.0                 218                      2         3      4        0   \n",
       "11.0                 185                      0         4      8        0   \n",
       "12.0                 214                      2         2      8        4   \n",
       "13.0                 225                      4         1     10        0   \n",
       "14.0                 230                      4        11     14        1   \n",
       "15.0                 224                      6         6     10        1   \n",
       "16.0                 251                      4         2     21       11   \n",
       "17.0                 238                      0         3     12        4   \n",
       "\n",
       "medicinalproduct  [THERAPY UNSPECIFIED]  \n",
       "master_age                               \n",
       "0.0                                   7  \n",
       "1.0                                   5  \n",
       "2.0                                   3  \n",
       "3.0                                   3  \n",
       "4.0                                   5  \n",
       "5.0                                   4  \n",
       "6.0                                   3  \n",
       "7.0                                   1  \n",
       "8.0                                   2  \n",
       "9.0                                   9  \n",
       "10.0                                  5  \n",
       "11.0                                  0  \n",
       "12.0                                  2  \n",
       "13.0                                  8  \n",
       "14.0                                  8  \n",
       "15.0                                  9  \n",
       "16.0                                  7  \n",
       "17.0                                  7  \n",
       "\n",
       "[18 rows x 4123 columns]"
      ]
     },
     "metadata": {},
     "output_type": "display_data"
    }
   ],
   "source": [
    "df = (pediatric_patient_df.\n",
    " set_index('safetyreportid').\n",
    " join(\n",
    "     pediatric_patient_drug_df.\n",
    "     set_index('safetyreportid')\n",
    " ).\n",
    " loc[:,['master_age','medicinalproduct']].\n",
    "      query('master_age<18')\n",
    ")\n",
    "df['master_age'] = np.floor(df['master_age'])\n",
    "df['mem'] = 1.\n",
    "medproduct_freq_in_childhood = df.pivot_table(index='master_age',columns='medicinalproduct',\n",
    "                          values='mem',aggfunc=sum,fill_value=0)\n",
    "cols = medproduct_freq_in_childhood.columns[medproduct_freq_in_childhood.sum(axis=0)>medproduct_freq_in_childhood.shape[0]]\n",
    "display(medproduct_freq_in_childhood[cols])"
   ]
  },
  {
   "cell_type": "markdown",
   "metadata": {
    "heading_collapsed": true,
    "hidden": true
   },
   "source": [
    "## Drug administration route distribution"
   ]
  },
  {
   "cell_type": "code",
   "execution_count": 16,
   "metadata": {
    "hidden": true
   },
   "outputs": [],
   "source": [
    "patient_drug_df = (pd.read_csv('../../data/openFDA_drug_event/er_tables/drugcharacteristics.csv.gzip',\n",
    "                       compression='gzip',index_col=0))"
   ]
  },
  {
   "cell_type": "code",
   "execution_count": 17,
   "metadata": {
    "hidden": true
   },
   "outputs": [
    {
     "data": {
      "text/html": [
       "<div>\n",
       "<style scoped>\n",
       "    .dataframe tbody tr th:only-of-type {\n",
       "        vertical-align: middle;\n",
       "    }\n",
       "\n",
       "    .dataframe tbody tr th {\n",
       "        vertical-align: top;\n",
       "    }\n",
       "\n",
       "    .dataframe thead th {\n",
       "        text-align: right;\n",
       "    }\n",
       "</style>\n",
       "<table border=\"1\" class=\"dataframe\">\n",
       "  <thead>\n",
       "    <tr style=\"text-align: right;\">\n",
       "      <th></th>\n",
       "      <th>safetyreportid</th>\n",
       "      <th>medicinal_product</th>\n",
       "      <th>drug_characterization</th>\n",
       "      <th>drug_administration</th>\n",
       "    </tr>\n",
       "  </thead>\n",
       "  <tbody>\n",
       "    <tr>\n",
       "      <th>0</th>\n",
       "      <td>10003300</td>\n",
       "      <td>BONIVA</td>\n",
       "      <td>Suspect (the drug was considered by the report...</td>\n",
       "      <td>Intravenous (not otherwise specified)</td>\n",
       "    </tr>\n",
       "    <tr>\n",
       "      <th>1</th>\n",
       "      <td>10003301</td>\n",
       "      <td>IBUPROFEN</td>\n",
       "      <td>Suspect (the drug was considered by the report...</td>\n",
       "      <td>NaN</td>\n",
       "    </tr>\n",
       "    <tr>\n",
       "      <th>2</th>\n",
       "      <td>10003302</td>\n",
       "      <td>LYRICA</td>\n",
       "      <td>Suspect (the drug was considered by the report...</td>\n",
       "      <td>NaN</td>\n",
       "    </tr>\n",
       "    <tr>\n",
       "      <th>3</th>\n",
       "      <td>10003304</td>\n",
       "      <td>ASPIRIN</td>\n",
       "      <td>Suspect (the drug was considered by the report...</td>\n",
       "      <td>NaN</td>\n",
       "    </tr>\n",
       "    <tr>\n",
       "      <th>4</th>\n",
       "      <td>10003304</td>\n",
       "      <td>CODEINE</td>\n",
       "      <td>Suspect (the drug was considered by the report...</td>\n",
       "      <td>NaN</td>\n",
       "    </tr>\n",
       "  </tbody>\n",
       "</table>\n",
       "</div>"
      ],
      "text/plain": [
       "  safetyreportid medicinal_product  \\\n",
       "0       10003300            BONIVA   \n",
       "1       10003301         IBUPROFEN   \n",
       "2       10003302            LYRICA   \n",
       "3       10003304           ASPIRIN   \n",
       "4       10003304           CODEINE   \n",
       "\n",
       "                               drug_characterization  \\\n",
       "0  Suspect (the drug was considered by the report...   \n",
       "1  Suspect (the drug was considered by the report...   \n",
       "2  Suspect (the drug was considered by the report...   \n",
       "3  Suspect (the drug was considered by the report...   \n",
       "4  Suspect (the drug was considered by the report...   \n",
       "\n",
       "                     drug_administration  \n",
       "0  Intravenous (not otherwise specified)  \n",
       "1                                    NaN  \n",
       "2                                    NaN  \n",
       "3                                    NaN  \n",
       "4                                    NaN  "
      ]
     },
     "execution_count": 17,
     "metadata": {},
     "output_type": "execute_result"
    }
   ],
   "source": [
    "patient_drug_df.head()"
   ]
  },
  {
   "cell_type": "code",
   "execution_count": 18,
   "metadata": {
    "hidden": true
   },
   "outputs": [],
   "source": [
    "drug_route_counts = np.unique(patient_drug_df['drug_administration'].dropna().values,return_counts=True)"
   ]
  },
  {
   "cell_type": "code",
   "execution_count": 19,
   "metadata": {
    "hidden": true
   },
   "outputs": [
    {
     "name": "stdout",
     "output_type": "stream",
     "text": [
      "(array(['Auricular (otic)', 'Buccal', 'Cutaneous', 'Dental',\n",
      "       'Endocervical', 'Endosinusial', 'Endotracheal', 'Epidural',\n",
      "       'Extra-amniotic', 'Hemodialysis', 'Intra corpus cavernosum',\n",
      "       'Intra-amniotic', 'Intra-arterial', 'Intra-articular',\n",
      "       'Intra-uterine', 'Intracardiac', 'Intracavernous', 'Intracerebral',\n",
      "       'Intracervical', 'Intracisternal', 'Intracorneal', 'Intracoronary',\n",
      "       'Intradermal', 'Intradiscal (intraspinal)', 'Intrahepatic',\n",
      "       'Intralesional', 'Intralymphatic', 'Intramedullar (bone marrow)',\n",
      "       'Intrameningeal', 'Intramuscular', 'Intraocular',\n",
      "       'Intrapericardial', 'Intraperitoneal', 'Intrapleural',\n",
      "       'Intrasynovial', 'Intrathecal', 'Intrathoracic', 'Intratracheal',\n",
      "       'Intratumor', 'Intravenous (not otherwise specified)',\n",
      "       'Intravenous bolus', 'Intravenous drip', 'Intravesical',\n",
      "       'Iontophoresis', 'Nasal', 'Occlusive dressing technique',\n",
      "       'Ophthalmic', 'Oral', 'Oropharingeal', 'Other', 'Parenteral',\n",
      "       'Periarticular', 'Perineural', 'Rectal',\n",
      "       'Respiratory (inhalation)', 'Retrobulbar', 'Subcutaneous',\n",
      "       'Subdermal', 'Sublingual', 'Sunconjunctival', 'Topical',\n",
      "       'Transdermal', 'Transmammary', 'Transplacental', 'Unknown',\n",
      "       'Urethral', 'Vaginal'], dtype=object), array([   1401,   12475,    7686,    2103,    1498,     178,     343,\n",
      "          5361,      13,     923,     282,      62,    5655,    2929,\n",
      "        111208,     764,     811,     102,     110,      48,      83,\n",
      "           472,    4492,     770,     238,    2190,      26,     162,\n",
      "           172,  275881,   20629,      64,  179494,     237,      74,\n",
      "         42708,     316,     763,     157, 1325034,   24144,  174988,\n",
      "          3381,      68,   46442,     447,   97382, 7572351,    9348,\n",
      "         62364,   30487,     102,     740,   11065,  304909,     142,\n",
      "       1208665,   29884,   28047,     907,  266075,  169211,    2847,\n",
      "        155960, 6439834,    1478,   29934]))\n"
     ]
    },
    {
     "data": {
      "text/plain": [
       "67"
      ]
     },
     "execution_count": 19,
     "metadata": {},
     "output_type": "execute_result"
    }
   ],
   "source": [
    "print(drug_route_counts)\n",
    "len(drug_route_counts[0])"
   ]
  },
  {
   "cell_type": "code",
   "execution_count": 20,
   "metadata": {
    "hidden": true,
    "scrolled": false
   },
   "outputs": [
    {
     "data": {
      "image/png": "[encoded data removed]",
      "text/plain": [
       "<Figure size 1000x5000 with 1 Axes>"
      ]
     },
     "metadata": {
      "needs_background": "light"
     },
     "output_type": "display_data"
    }
   ],
   "source": [
    "plt.figure(figsize=(5,25),dpi=200)\n",
    "order = drug_route_counts[1].argsort()\n",
    "plt.barh(drug_route_counts[0][order],drug_route_counts[1][order])\n",
    "plt.xscale('log')"
   ]
  },
  {
   "cell_type": "code",
   "execution_count": null,
   "metadata": {
    "hidden": true
   },
   "outputs": [],
   "source": []
  }
 ],
 "metadata": {
  "kernelspec": {
   "display_name": "Python 3",
   "language": "python",
   "name": "python3"
  },
  "language_info": {
   "codemirror_mode": {
    "name": "ipython",
    "version": 3
   },
   "file_extension": ".py",
   "mimetype": "text/x-python",
   "name": "python",
   "nbconvert_exporter": "python",
   "pygments_lexer": "ipython3",
   "version": "3.7.3"
  },
  "toc": {
   "base_numbering": 1,
   "nav_menu": {},
   "number_sections": true,
   "sideBar": true,
   "skip_h1_title": false,
   "title_cell": "Table of Contents",
   "title_sidebar": "Contents",
   "toc_cell": false,
   "toc_position": {},
   "toc_section_display": true,
   "toc_window_display": true
  }
 },
 "nbformat": 4,
 "nbformat_minor": 2
}
