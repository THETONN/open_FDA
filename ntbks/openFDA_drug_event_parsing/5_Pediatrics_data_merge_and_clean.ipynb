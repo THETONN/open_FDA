{
 "cells": [
  {
   "cell_type": "markdown",
   "metadata": {},
   "source": [
    "### Merge Data"
   ]
  },
  {
   "cell_type": "markdown",
   "metadata": {},
   "source": [
    "#### Merge Pediatrics data with Drug and Reaction\n",
    "- Pediatrics data from 3_Pediatrics_data_merge.ipynb file\n",
    "- Raw Drug file from drugcharacteristics.csv.gz (Drug)\n",
    "- Reaction file from reactions.csv.gz (Meddra reaction PT)"
   ]
  },
  {
   "cell_type": "code",
   "execution_count": 54,
   "metadata": {},
   "outputs": [],
   "source": [
    "import pandas as pd\n",
    "import numpy as np\n",
    "import matplotlib.pyplot as plt\n",
    "import seaborn as sns"
   ]
  },
  {
   "cell_type": "markdown",
   "metadata": {},
   "source": [
    "#### Raw Data"
   ]
  },
  {
   "cell_type": "code",
   "execution_count": 55,
   "metadata": {},
   "outputs": [
    {
     "name": "stderr",
     "output_type": "stream",
     "text": [
      "/tmp/ipykernel_5505/852322303.py:1: DtypeWarning: Columns (6) have mixed types. Specify dtype option on import or set low_memory=False.\n",
      "  ped_report_data = pd.read_csv('../../data/pediatric_patients_report_serious_reporter.csv.gz',compression='gzip', index_col=0)\n"
     ]
    }
   ],
   "source": [
    "ped_report_data = pd.read_csv('../../data/pediatric_patients_report_serious_reporter.csv.gz',compression='gzip', index_col=0)"
   ]
  },
  {
   "cell_type": "code",
   "execution_count": 56,
   "metadata": {},
   "outputs": [
    {
     "name": "stderr",
     "output_type": "stream",
     "text": [
      "/tmp/ipykernel_5505/1365005143.py:1: DtypeWarning: Columns (4) have mixed types. Specify dtype option on import or set low_memory=False.\n",
      "  drug_characteristics_df = pd.read_csv('../../data/openFDA_drug_event/er_tables_memory_efficient/drugcharacteristics.csv.gz',compression='gzip',index_col=0)\n"
     ]
    }
   ],
   "source": [
    "drug_characteristics_df = pd.read_csv('../../data/openFDA_drug_event/er_tables_memory_efficient/drugcharacteristics.csv.gz',compression='gzip',index_col=0)"
   ]
  },
  {
   "cell_type": "code",
   "execution_count": 57,
   "metadata": {},
   "outputs": [],
   "source": [
    "reaction_df = pd.read_csv(\"../../data/openFDA_drug_event/er_tables_memory_efficient/reactions.csv.gz\", compression='gzip', low_memory=False, index_col=0)"
   ]
  },
  {
   "cell_type": "markdown",
   "metadata": {},
   "source": [
    "##### Merge Data"
   ]
  },
  {
   "cell_type": "code",
   "execution_count": 58,
   "metadata": {},
   "outputs": [],
   "source": [
    "ped_data = ped_report_data.copy()"
   ]
  },
  {
   "cell_type": "code",
   "execution_count": 59,
   "metadata": {},
   "outputs": [
    {
     "data": {
      "text/plain": [
       "(859343, 21)"
      ]
     },
     "execution_count": 59,
     "metadata": {},
     "output_type": "execute_result"
    }
   ],
   "source": [
    "# ped_report_data.isna().sum()\n",
    "ped_report_data.shape"
   ]
  },
  {
   "cell_type": "code",
   "execution_count": 60,
   "metadata": {},
   "outputs": [],
   "source": [
    "ped_data_merge = ped_report_data\\\n",
    "    .merge(drug_characteristics_df, on='safetyreportid', how='inner')\\\n",
    "    .merge(reaction_df, on='safetyreportid', how='inner')"
   ]
  },
  {
   "cell_type": "markdown",
   "metadata": {},
   "source": [
    "##### Pediatrics Data Merge"
   ]
  },
  {
   "cell_type": "code",
   "execution_count": 61,
   "metadata": {},
   "outputs": [
    {
     "name": "stdout",
     "output_type": "stream",
     "text": [
      "<class 'pandas.core.frame.DataFrame'>\n",
      "RangeIndex: 1754671 entries, 0 to 1754670\n",
      "Data columns (total 25 columns):\n",
      " #   Column                     Dtype  \n",
      "---  ------                     -----  \n",
      " 0   patient_custom_master_age  float64\n",
      " 1   patient_onsetage           float64\n",
      " 2   patient_onsetageunit       object \n",
      " 3   patient_sex                object \n",
      " 4   patient_weight             float64\n",
      " 5   safetyreportid             object \n",
      " 6   nichd                      object \n",
      " 7   ich_ema                    object \n",
      " 8   fda                        object \n",
      " 9   lastupdate_date            int64  \n",
      " 10  mostrecent_receive_date    int64  \n",
      " 11  receive_date               int64  \n",
      " 12  congenital_anomali         float64\n",
      " 13  death                      float64\n",
      " 14  disabling                  float64\n",
      " 15  life_threatening           float64\n",
      " 16  other                      float64\n",
      " 17  serious                    object \n",
      " 18  reporter_company           object \n",
      " 19  reporter_country           object \n",
      " 20  reporter_qualification     object \n",
      " 21  drug_characterization      object \n",
      " 22  drug_indication            object \n",
      " 23  medicinal_product          object \n",
      " 24  reaction_outcome           object \n",
      "dtypes: float64(8), int64(3), object(14)\n",
      "memory usage: 334.7+ MB\n"
     ]
    }
   ],
   "source": [
    "ped_data_merge.info()"
   ]
  },
  {
   "cell_type": "markdown",
   "metadata": {},
   "source": [
    "##### Missing Data"
   ]
  },
  {
   "cell_type": "code",
   "execution_count": 62,
   "metadata": {},
   "outputs": [
    {
     "data": {
      "text/plain": [
       "congenital_anomali           1718001\n",
       "disabling                    1654300\n",
       "reaction_outcome             1653173\n",
       "life_threatening             1537713\n",
       "death                        1429485\n",
       "patient_weight                906664\n",
       "drug_indication               873247\n",
       "other                         866181\n",
       "fda                           699833\n",
       "ich_ema                       479374\n",
       "reporter_country              292501\n",
       "reporter_qualification        288592\n",
       "reporter_company               99597\n",
       "patient_sex                    37526\n",
       "medicinal_product                 34\n",
       "patient_custom_master_age          0\n",
       "patient_onsetage                   0\n",
       "safetyreportid                     0\n",
       "nichd                              0\n",
       "patient_onsetageunit               0\n",
       "receive_date                       0\n",
       "mostrecent_receive_date            0\n",
       "lastupdate_date                    0\n",
       "serious                            0\n",
       "drug_characterization              0\n",
       "dtype: int64"
      ]
     },
     "execution_count": 62,
     "metadata": {},
     "output_type": "execute_result"
    }
   ],
   "source": [
    "missing_data_merge = ped_data_merge.isna().sum().sort_values(ascending=False)\n",
    "missing_data_merge"
   ]
  },
  {
   "cell_type": "markdown",
   "metadata": {},
   "source": [
    "#### Age Overview"
   ]
  },
  {
   "cell_type": "code",
   "execution_count": 63,
   "metadata": {},
   "outputs": [
    {
     "data": {
      "text/plain": [
       "patient_onsetageunit\n",
       "Year      1498240\n",
       "Month      157629\n",
       "Day         78514\n",
       "Week        13428\n",
       "Hour         5810\n",
       "Decade       1050\n",
       "Name: count, dtype: int64"
      ]
     },
     "execution_count": 63,
     "metadata": {},
     "output_type": "execute_result"
    }
   ],
   "source": [
    "# check  age unit\n",
    "ped_data_merge['patient_onsetageunit'].value_counts(ascending=False)"
   ]
  },
  {
   "cell_type": "code",
   "execution_count": 64,
   "metadata": {},
   "outputs": [
    {
     "data": {
      "text/html": [
       "<div>\n",
       "<style scoped>\n",
       "    .dataframe tbody tr th:only-of-type {\n",
       "        vertical-align: middle;\n",
       "    }\n",
       "\n",
       "    .dataframe tbody tr th {\n",
       "        vertical-align: top;\n",
       "    }\n",
       "\n",
       "    .dataframe thead th {\n",
       "        text-align: right;\n",
       "    }\n",
       "</style>\n",
       "<table border=\"1\" class=\"dataframe\">\n",
       "  <thead>\n",
       "    <tr style=\"text-align: right;\">\n",
       "      <th></th>\n",
       "      <th>patient_custom_master_age</th>\n",
       "      <th>patient_onsetage</th>\n",
       "      <th>patient_onsetageunit</th>\n",
       "    </tr>\n",
       "  </thead>\n",
       "  <tbody>\n",
       "    <tr>\n",
       "      <th>1224610</th>\n",
       "      <td>20.916667</td>\n",
       "      <td>251.0</td>\n",
       "      <td>Month</td>\n",
       "    </tr>\n",
       "    <tr>\n",
       "      <th>1162528</th>\n",
       "      <td>20.916667</td>\n",
       "      <td>251.0</td>\n",
       "      <td>Month</td>\n",
       "    </tr>\n",
       "    <tr>\n",
       "      <th>1162529</th>\n",
       "      <td>20.916667</td>\n",
       "      <td>251.0</td>\n",
       "      <td>Month</td>\n",
       "    </tr>\n",
       "    <tr>\n",
       "      <th>1162526</th>\n",
       "      <td>20.916667</td>\n",
       "      <td>251.0</td>\n",
       "      <td>Month</td>\n",
       "    </tr>\n",
       "    <tr>\n",
       "      <th>1162527</th>\n",
       "      <td>20.916667</td>\n",
       "      <td>251.0</td>\n",
       "      <td>Month</td>\n",
       "    </tr>\n",
       "    <tr>\n",
       "      <th>...</th>\n",
       "      <td>...</td>\n",
       "      <td>...</td>\n",
       "      <td>...</td>\n",
       "    </tr>\n",
       "    <tr>\n",
       "      <th>723418</th>\n",
       "      <td>0.083333</td>\n",
       "      <td>1.0</td>\n",
       "      <td>Month</td>\n",
       "    </tr>\n",
       "    <tr>\n",
       "      <th>723419</th>\n",
       "      <td>0.083333</td>\n",
       "      <td>1.0</td>\n",
       "      <td>Month</td>\n",
       "    </tr>\n",
       "    <tr>\n",
       "      <th>723420</th>\n",
       "      <td>0.083333</td>\n",
       "      <td>1.0</td>\n",
       "      <td>Month</td>\n",
       "    </tr>\n",
       "    <tr>\n",
       "      <th>723421</th>\n",
       "      <td>0.083333</td>\n",
       "      <td>1.0</td>\n",
       "      <td>Month</td>\n",
       "    </tr>\n",
       "    <tr>\n",
       "      <th>195595</th>\n",
       "      <td>0.083333</td>\n",
       "      <td>1.0</td>\n",
       "      <td>Month</td>\n",
       "    </tr>\n",
       "  </tbody>\n",
       "</table>\n",
       "<p>157629 rows × 3 columns</p>\n",
       "</div>"
      ],
      "text/plain": [
       "         patient_custom_master_age  patient_onsetage patient_onsetageunit\n",
       "1224610                  20.916667             251.0                Month\n",
       "1162528                  20.916667             251.0                Month\n",
       "1162529                  20.916667             251.0                Month\n",
       "1162526                  20.916667             251.0                Month\n",
       "1162527                  20.916667             251.0                Month\n",
       "...                            ...               ...                  ...\n",
       "723418                    0.083333               1.0                Month\n",
       "723419                    0.083333               1.0                Month\n",
       "723420                    0.083333               1.0                Month\n",
       "723421                    0.083333               1.0                Month\n",
       "195595                    0.083333               1.0                Month\n",
       "\n",
       "[157629 rows x 3 columns]"
      ]
     },
     "execution_count": 64,
     "metadata": {},
     "output_type": "execute_result"
    }
   ],
   "source": [
    "#Recheck Age after filter\n",
    "ped_data_merge.loc[(ped_data_merge['patient_onsetageunit'] == 'Month'),['patient_custom_master_age','patient_onsetage','patient_onsetageunit']].sort_values(by='patient_onsetage',ascending=False)"
   ]
  },
  {
   "cell_type": "code",
   "execution_count": 65,
   "metadata": {},
   "outputs": [],
   "source": [
    "# print(type(ped_data_merge))"
   ]
  },
  {
   "cell_type": "code",
   "execution_count": 66,
   "metadata": {},
   "outputs": [],
   "source": [
    "# print(ped_data_merge)"
   ]
  },
  {
   "cell_type": "code",
   "execution_count": 67,
   "metadata": {},
   "outputs": [],
   "source": [
    "# Add new column with 'Year' as the value for all rows\n",
    "ped_data_merge['patient_custom_master_age_unit'] = 'Year'\n",
    "\n",
    "# Reorder columns to place the new column after 'patient_custom_master_age'\n",
    "cols = list(ped_data_merge.columns)\n",
    "cols.insert(cols.index('patient_custom_master_age') + 1, cols.pop(cols.index('patient_custom_master_age_unit')))\n",
    "ped_data_merge = ped_data_merge[cols]"
   ]
  },
  {
   "cell_type": "code",
   "execution_count": 68,
   "metadata": {},
   "outputs": [
    {
     "data": {
      "text/plain": [
       "congenital_anomali                1718001\n",
       "disabling                         1654300\n",
       "reaction_outcome                  1653173\n",
       "life_threatening                  1537713\n",
       "death                             1429485\n",
       "patient_weight                     906664\n",
       "drug_indication                    873247\n",
       "other                              866181\n",
       "fda                                699833\n",
       "ich_ema                            479374\n",
       "reporter_country                   292501\n",
       "reporter_qualification             288592\n",
       "reporter_company                    99597\n",
       "patient_sex                         37526\n",
       "medicinal_product                      34\n",
       "patient_custom_master_age_unit          0\n",
       "patient_custom_master_age               0\n",
       "patient_onsetage                        0\n",
       "safetyreportid                          0\n",
       "nichd                                   0\n",
       "patient_onsetageunit                    0\n",
       "receive_date                            0\n",
       "mostrecent_receive_date                 0\n",
       "lastupdate_date                         0\n",
       "serious                                 0\n",
       "drug_characterization                   0\n",
       "dtype: int64"
      ]
     },
     "execution_count": 68,
     "metadata": {},
     "output_type": "execute_result"
    }
   ],
   "source": [
    "ped_data_merge.isna().sum().sort_values(ascending=False)"
   ]
  },
  {
   "cell_type": "code",
   "execution_count": 69,
   "metadata": {},
   "outputs": [
    {
     "data": {
      "text/plain": [
       "(1754671, 26)"
      ]
     },
     "execution_count": 69,
     "metadata": {},
     "output_type": "execute_result"
    }
   ],
   "source": [
    "ped_data_merge.shape"
   ]
  },
  {
   "cell_type": "markdown",
   "metadata": {},
   "source": [
    "#### Data Cleaning"
   ]
  },
  {
   "cell_type": "markdown",
   "metadata": {},
   "source": [
    "#### Fill NA and Unknow"
   ]
  },
  {
   "cell_type": "code",
   "execution_count": 70,
   "metadata": {},
   "outputs": [
    {
     "name": "stdout",
     "output_type": "stream",
     "text": [
      "[ 2.  1. nan]\n",
      "[ 2.  1. nan]\n",
      "[ 2.  1. nan]\n",
      "[ 2.  1. nan]\n",
      "[ 2.  1. nan]\n",
      "\n",
      "After filling NA : \n",
      "\n",
      "[2 1 0]\n",
      "[2 1 0]\n",
      "[2 1 0]\n",
      "[2 1 0]\n",
      "[2 1 0]\n"
     ]
    }
   ],
   "source": [
    "#fill NA in columns congenital_anomali,disabling,life_threatening,death,other\n",
    "cols = ['congenital_anomali','disabling','life_threatening','death','other']\n",
    "for i in cols:\n",
    "    print(ped_data_merge[i].unique())\n",
    "\n",
    "existing_cols = [col for col in cols if col in ped_data_merge.columns]\n",
    "\n",
    "for col in existing_cols:\n",
    "    ped_data_merge[col] = ped_data_merge[col].fillna(0).astype(int)\n",
    "    \n",
    "# After filling na\n",
    "print('')\n",
    "print('After filling NA : \\n')\n",
    "for i in cols:\n",
    "    print(ped_data_merge[i].unique())"
   ]
  },
  {
   "cell_type": "code",
   "execution_count": 71,
   "metadata": {},
   "outputs": [],
   "source": [
    "# fill unknown value in columns about patient\n",
    "categorical_cols_to_fill_unknown = ['patient_sex']\n",
    "for col in categorical_cols_to_fill_unknown:\n",
    "    ped_data_merge[col] = ped_data_merge[col].fillna('Unknown')"
   ]
  },
  {
   "cell_type": "code",
   "execution_count": 72,
   "metadata": {},
   "outputs": [],
   "source": [
    "# fill unknown value in columns about reporter\n",
    "categorical_cols_to_fill_unknown = ['reporter_company', 'reporter_qualification', 'reporter_country']\n",
    "for col in categorical_cols_to_fill_unknown:\n",
    "    ped_data_merge[col] = ped_data_merge[col].fillna('Unknown')"
   ]
  },
  {
   "cell_type": "code",
   "execution_count": 73,
   "metadata": {},
   "outputs": [],
   "source": [
    "# fill unknown value in columns about reaction\n",
    "categorical_cols_to_fill_unknown = ['reaction_outcome']\n",
    "for col in categorical_cols_to_fill_unknown:\n",
    "    ped_data_merge[col] = ped_data_merge[col].fillna('Unknown')"
   ]
  },
  {
   "cell_type": "code",
   "execution_count": 74,
   "metadata": {},
   "outputs": [
    {
     "data": {
      "text/plain": [
       "patient_weight                    906664\n",
       "drug_indication                   873247\n",
       "fda                               699833\n",
       "ich_ema                           479374\n",
       "medicinal_product                     34\n",
       "patient_custom_master_age              0\n",
       "patient_sex                            0\n",
       "patient_onsetageunit                   0\n",
       "patient_custom_master_age_unit         0\n",
       "patient_onsetage                       0\n",
       "safetyreportid                         0\n",
       "nichd                                  0\n",
       "lastupdate_date                        0\n",
       "mostrecent_receive_date                0\n",
       "death                                  0\n",
       "disabling                              0\n",
       "receive_date                           0\n",
       "congenital_anomali                     0\n",
       "other                                  0\n",
       "life_threatening                       0\n",
       "serious                                0\n",
       "reporter_company                       0\n",
       "reporter_qualification                 0\n",
       "reporter_country                       0\n",
       "drug_characterization                  0\n",
       "reaction_outcome                       0\n",
       "dtype: int64"
      ]
     },
     "execution_count": 74,
     "metadata": {},
     "output_type": "execute_result"
    }
   ],
   "source": [
    "ped_data_merge.isna().sum().sort_values(ascending=False)"
   ]
  },
  {
   "cell_type": "code",
   "execution_count": 75,
   "metadata": {},
   "outputs": [
    {
     "data": {
      "text/plain": [
       "(1754671, 26)"
      ]
     },
     "execution_count": 75,
     "metadata": {},
     "output_type": "execute_result"
    }
   ],
   "source": [
    "ped_data_merge.shape"
   ]
  },
  {
   "cell_type": "markdown",
   "metadata": {},
   "source": [
    "#### Droup Data"
   ]
  },
  {
   "cell_type": "code",
   "execution_count": 76,
   "metadata": {},
   "outputs": [],
   "source": [
    "# Droup medicinal_product because have missing 34 rows\n",
    "ped_data_merge = ped_data_merge.dropna(subset=['medicinal_product'])"
   ]
  },
  {
   "cell_type": "code",
   "execution_count": 77,
   "metadata": {},
   "outputs": [],
   "source": [
    "# ลบคอลัมน์ 'patient_weight'\n",
    "ped_data_merge = ped_data_merge.drop(columns=['patient_weight'])"
   ]
  },
  {
   "cell_type": "code",
   "execution_count": 78,
   "metadata": {},
   "outputs": [],
   "source": [
    "ped_data_merge =ped_data_merge.dropna(subset=['drug_indication'])"
   ]
  },
  {
   "cell_type": "code",
   "execution_count": 79,
   "metadata": {},
   "outputs": [
    {
     "data": {
      "text/plain": [
       "fda                               351537\n",
       "ich_ema                           241452\n",
       "patient_custom_master_age              0\n",
       "patient_custom_master_age_unit         0\n",
       "patient_onsetage                       0\n",
       "patient_sex                            0\n",
       "patient_onsetageunit                   0\n",
       "nichd                                  0\n",
       "safetyreportid                         0\n",
       "lastupdate_date                        0\n",
       "mostrecent_receive_date                0\n",
       "receive_date                           0\n",
       "congenital_anomali                     0\n",
       "death                                  0\n",
       "disabling                              0\n",
       "life_threatening                       0\n",
       "other                                  0\n",
       "serious                                0\n",
       "reporter_company                       0\n",
       "reporter_country                       0\n",
       "reporter_qualification                 0\n",
       "drug_characterization                  0\n",
       "drug_indication                        0\n",
       "medicinal_product                      0\n",
       "reaction_outcome                       0\n",
       "dtype: int64"
      ]
     },
     "execution_count": 79,
     "metadata": {},
     "output_type": "execute_result"
    }
   ],
   "source": [
    "ped_data_merge.isna().sum().sort_values(ascending=False)"
   ]
  },
  {
   "cell_type": "code",
   "execution_count": 80,
   "metadata": {},
   "outputs": [
    {
     "data": {
      "text/plain": [
       "(881424, 25)"
      ]
     },
     "execution_count": 80,
     "metadata": {},
     "output_type": "execute_result"
    }
   ],
   "source": [
    "ped_data_merge.shape"
   ]
  },
  {
   "cell_type": "markdown",
   "metadata": {},
   "source": [
    "#### Save Files"
   ]
  },
  {
   "cell_type": "code",
   "execution_count": 81,
   "metadata": {},
   "outputs": [],
   "source": [
    "ped_data_merge.to_csv('../../data/pediatric_patients_report_drug_reaction.csv.gz',compression='gzip')"
   ]
  },
  {
   "cell_type": "code",
   "execution_count": null,
   "metadata": {},
   "outputs": [],
   "source": []
  },
  {
   "cell_type": "code",
   "execution_count": null,
   "metadata": {},
   "outputs": [],
   "source": []
  }
 ],
 "metadata": {
  "kernelspec": {
   "display_name": "Python 3",
   "language": "python",
   "name": "python3"
  },
  "language_info": {
   "codemirror_mode": {
    "name": "ipython",
    "version": 3
   },
   "file_extension": ".py",
   "mimetype": "text/x-python",
   "name": "python",
   "nbconvert_exporter": "python",
   "pygments_lexer": "ipython3",
   "version": "3.12.8"
  }
 },
 "nbformat": 4,
 "nbformat_minor": 2
}
