{
 "cells": [
  {
   "cell_type": "markdown",
   "metadata": {},
   "source": [
    "### Merge Data"
   ]
  },
  {
   "cell_type": "markdown",
   "metadata": {},
   "source": [
    "#### Merge Pediatrics data with Drug and Reaction\n",
    "- Pediatrics data from 3_Pediatrics_data_merge.ipynb file\n",
    "- Raw Drug file from drugcharacteristics.csv.gz (Drug)\n",
    "- Reaction file from reactions.csv.gz (Meddra reaction PT)"
   ]
  },
  {
   "cell_type": "code",
   "execution_count": 10,
   "metadata": {},
   "outputs": [],
   "source": [
    "import pandas as pd\n",
    "import numpy as np\n",
    "import matplotlib.pyplot as plt\n",
    "import seaborn as sns\n",
    "from IPython.display import display"
   ]
  },
  {
   "cell_type": "markdown",
   "metadata": {},
   "source": [
    "#### Raw Data"
   ]
  },
  {
   "cell_type": "code",
   "execution_count": 12,
   "metadata": {},
   "outputs": [
    {
     "name": "stderr",
     "output_type": "stream",
     "text": [
      "/tmp/ipykernel_19135/852322303.py:1: DtypeWarning: Columns (6) have mixed types. Specify dtype option on import or set low_memory=False.\n",
      "  ped_report_data = pd.read_csv('../../data/pediatric_patients_report_serious_reporter.csv.gz',compression='gzip', index_col=0)\n"
     ]
    }
   ],
   "source": [
    "ped_report_data = pd.read_csv('../../data/pediatric_patients_report_serious_reporter.csv.gz',compression='gzip', index_col=0)"
   ]
  },
  {
   "cell_type": "code",
   "execution_count": 13,
   "metadata": {},
   "outputs": [
    {
     "name": "stderr",
     "output_type": "stream",
     "text": [
      "/tmp/ipykernel_19135/1365005143.py:1: DtypeWarning: Columns (4) have mixed types. Specify dtype option on import or set low_memory=False.\n",
      "  drug_characteristics_df = pd.read_csv('../../data/openFDA_drug_event/er_tables_memory_efficient/drugcharacteristics.csv.gz',compression='gzip',index_col=0)\n"
     ]
    }
   ],
   "source": [
    "drug_characteristics_df = pd.read_csv('../../data/openFDA_drug_event/er_tables_memory_efficient/drugcharacteristics.csv.gz',compression='gzip',index_col=0)"
   ]
  },
  {
   "cell_type": "code",
   "execution_count": 14,
   "metadata": {},
   "outputs": [],
   "source": [
    "reaction_df = pd.read_csv(\"../../data/openFDA_drug_event/er_tables_memory_efficient/reactions.csv.gz\", compression='gzip', low_memory=False, index_col=0)"
   ]
  },
  {
   "cell_type": "markdown",
   "metadata": {},
   "source": [
    "##### Merge Data"
   ]
  },
  {
   "cell_type": "code",
   "execution_count": 15,
   "metadata": {},
   "outputs": [],
   "source": [
    "ped_data = ped_report_data.copy()"
   ]
  },
  {
   "cell_type": "code",
   "execution_count": 16,
   "metadata": {},
   "outputs": [
    {
     "data": {
      "text/plain": [
       "(859343, 21)"
      ]
     },
     "execution_count": 16,
     "metadata": {},
     "output_type": "execute_result"
    }
   ],
   "source": [
    "# ped_report_data.isna().sum()\n",
    "ped_report_data.shape"
   ]
  },
  {
   "cell_type": "code",
   "execution_count": 17,
   "metadata": {},
   "outputs": [],
   "source": [
    "ped_data_merge = ped_report_data\\\n",
    "    .merge(drug_characteristics_df, on='safetyreportid', how='inner')\\\n",
    "    .merge(reaction_df, on='safetyreportid', how='inner')"
   ]
  },
  {
   "cell_type": "markdown",
   "metadata": {},
   "source": [
    "##### Pediatrics Data Merge"
   ]
  },
  {
   "cell_type": "code",
   "execution_count": 18,
   "metadata": {},
   "outputs": [
    {
     "name": "stdout",
     "output_type": "stream",
     "text": [
      "<class 'pandas.core.frame.DataFrame'>\n",
      "RangeIndex: 1754671 entries, 0 to 1754670\n",
      "Data columns (total 25 columns):\n",
      " #   Column                     Dtype  \n",
      "---  ------                     -----  \n",
      " 0   patient_custom_master_age  float64\n",
      " 1   patient_onsetage           float64\n",
      " 2   patient_onsetageunit       object \n",
      " 3   patient_sex                object \n",
      " 4   patient_weight             float64\n",
      " 5   safetyreportid             object \n",
      " 6   nichd                      object \n",
      " 7   ich_ema                    object \n",
      " 8   fda                        object \n",
      " 9   lastupdate_date            int64  \n",
      " 10  mostrecent_receive_date    int64  \n",
      " 11  receive_date               int64  \n",
      " 12  congenital_anomali         float64\n",
      " 13  death                      float64\n",
      " 14  disabling                  float64\n",
      " 15  life_threatening           float64\n",
      " 16  other                      float64\n",
      " 17  serious                    object \n",
      " 18  reporter_company           object \n",
      " 19  reporter_country           object \n",
      " 20  reporter_qualification     object \n",
      " 21  drug_characterization      object \n",
      " 22  drug_indication            object \n",
      " 23  medicinal_product          object \n",
      " 24  reaction_outcome           object \n",
      "dtypes: float64(8), int64(3), object(14)\n",
      "memory usage: 334.7+ MB\n"
     ]
    }
   ],
   "source": [
    "ped_data_merge.info()"
   ]
  },
  {
   "cell_type": "markdown",
   "metadata": {},
   "source": [
    "##### Missing Data"
   ]
  },
  {
   "cell_type": "code",
   "execution_count": 19,
   "metadata": {},
   "outputs": [
    {
     "data": {
      "text/plain": [
       "congenital_anomali           1718001\n",
       "disabling                    1654300\n",
       "reaction_outcome             1653173\n",
       "life_threatening             1537713\n",
       "death                        1429485\n",
       "patient_weight                906664\n",
       "drug_indication               873247\n",
       "other                         866181\n",
       "fda                           699833\n",
       "ich_ema                       479374\n",
       "reporter_country              292501\n",
       "reporter_qualification        288592\n",
       "reporter_company               99597\n",
       "patient_sex                    37526\n",
       "medicinal_product                 34\n",
       "patient_custom_master_age          0\n",
       "patient_onsetage                   0\n",
       "safetyreportid                     0\n",
       "nichd                              0\n",
       "patient_onsetageunit               0\n",
       "receive_date                       0\n",
       "mostrecent_receive_date            0\n",
       "lastupdate_date                    0\n",
       "serious                            0\n",
       "drug_characterization              0\n",
       "dtype: int64"
      ]
     },
     "execution_count": 19,
     "metadata": {},
     "output_type": "execute_result"
    }
   ],
   "source": [
    "missing_data_merge = ped_data_merge.isna().sum().sort_values(ascending=False)\n",
    "missing_data_merge"
   ]
  },
  {
   "cell_type": "markdown",
   "metadata": {},
   "source": [
    "#### Age Overview"
   ]
  },
  {
   "cell_type": "code",
   "execution_count": 20,
   "metadata": {},
   "outputs": [
    {
     "data": {
      "text/plain": [
       "patient_onsetageunit\n",
       "Year      1498240\n",
       "Month      157629\n",
       "Day         78514\n",
       "Week        13428\n",
       "Hour         5810\n",
       "Decade       1050\n",
       "Name: count, dtype: int64"
      ]
     },
     "execution_count": 20,
     "metadata": {},
     "output_type": "execute_result"
    }
   ],
   "source": [
    "# check  age unit\n",
    "ped_data_merge['patient_onsetageunit'].value_counts(ascending=False)"
   ]
  },
  {
   "cell_type": "code",
   "execution_count": 21,
   "metadata": {},
   "outputs": [
    {
     "data": {
      "text/html": [
       "<div>\n",
       "<style scoped>\n",
       "    .dataframe tbody tr th:only-of-type {\n",
       "        vertical-align: middle;\n",
       "    }\n",
       "\n",
       "    .dataframe tbody tr th {\n",
       "        vertical-align: top;\n",
       "    }\n",
       "\n",
       "    .dataframe thead th {\n",
       "        text-align: right;\n",
       "    }\n",
       "</style>\n",
       "<table border=\"1\" class=\"dataframe\">\n",
       "  <thead>\n",
       "    <tr style=\"text-align: right;\">\n",
       "      <th></th>\n",
       "      <th>patient_custom_master_age</th>\n",
       "      <th>patient_onsetage</th>\n",
       "      <th>patient_onsetageunit</th>\n",
       "    </tr>\n",
       "  </thead>\n",
       "  <tbody>\n",
       "    <tr>\n",
       "      <th>1224610</th>\n",
       "      <td>20.916667</td>\n",
       "      <td>251.0</td>\n",
       "      <td>Month</td>\n",
       "    </tr>\n",
       "    <tr>\n",
       "      <th>1162528</th>\n",
       "      <td>20.916667</td>\n",
       "      <td>251.0</td>\n",
       "      <td>Month</td>\n",
       "    </tr>\n",
       "    <tr>\n",
       "      <th>1162529</th>\n",
       "      <td>20.916667</td>\n",
       "      <td>251.0</td>\n",
       "      <td>Month</td>\n",
       "    </tr>\n",
       "    <tr>\n",
       "      <th>1162526</th>\n",
       "      <td>20.916667</td>\n",
       "      <td>251.0</td>\n",
       "      <td>Month</td>\n",
       "    </tr>\n",
       "    <tr>\n",
       "      <th>1162527</th>\n",
       "      <td>20.916667</td>\n",
       "      <td>251.0</td>\n",
       "      <td>Month</td>\n",
       "    </tr>\n",
       "    <tr>\n",
       "      <th>...</th>\n",
       "      <td>...</td>\n",
       "      <td>...</td>\n",
       "      <td>...</td>\n",
       "    </tr>\n",
       "    <tr>\n",
       "      <th>723418</th>\n",
       "      <td>0.083333</td>\n",
       "      <td>1.0</td>\n",
       "      <td>Month</td>\n",
       "    </tr>\n",
       "    <tr>\n",
       "      <th>723419</th>\n",
       "      <td>0.083333</td>\n",
       "      <td>1.0</td>\n",
       "      <td>Month</td>\n",
       "    </tr>\n",
       "    <tr>\n",
       "      <th>723420</th>\n",
       "      <td>0.083333</td>\n",
       "      <td>1.0</td>\n",
       "      <td>Month</td>\n",
       "    </tr>\n",
       "    <tr>\n",
       "      <th>723421</th>\n",
       "      <td>0.083333</td>\n",
       "      <td>1.0</td>\n",
       "      <td>Month</td>\n",
       "    </tr>\n",
       "    <tr>\n",
       "      <th>195595</th>\n",
       "      <td>0.083333</td>\n",
       "      <td>1.0</td>\n",
       "      <td>Month</td>\n",
       "    </tr>\n",
       "  </tbody>\n",
       "</table>\n",
       "<p>157629 rows × 3 columns</p>\n",
       "</div>"
      ],
      "text/plain": [
       "         patient_custom_master_age  patient_onsetage patient_onsetageunit\n",
       "1224610                  20.916667             251.0                Month\n",
       "1162528                  20.916667             251.0                Month\n",
       "1162529                  20.916667             251.0                Month\n",
       "1162526                  20.916667             251.0                Month\n",
       "1162527                  20.916667             251.0                Month\n",
       "...                            ...               ...                  ...\n",
       "723418                    0.083333               1.0                Month\n",
       "723419                    0.083333               1.0                Month\n",
       "723420                    0.083333               1.0                Month\n",
       "723421                    0.083333               1.0                Month\n",
       "195595                    0.083333               1.0                Month\n",
       "\n",
       "[157629 rows x 3 columns]"
      ]
     },
     "execution_count": 21,
     "metadata": {},
     "output_type": "execute_result"
    }
   ],
   "source": [
    "#Recheck Age after filter\n",
    "ped_data_merge.loc[(ped_data_merge['patient_onsetageunit'] == 'Month'),['patient_custom_master_age','patient_onsetage','patient_onsetageunit']].sort_values(by='patient_onsetage',ascending=False)"
   ]
  },
  {
   "cell_type": "code",
   "execution_count": 22,
   "metadata": {},
   "outputs": [],
   "source": [
    "# print(type(ped_data_merge))"
   ]
  },
  {
   "cell_type": "code",
   "execution_count": 23,
   "metadata": {},
   "outputs": [],
   "source": [
    "# print(ped_data_merge)"
   ]
  },
  {
   "cell_type": "code",
   "execution_count": 24,
   "metadata": {},
   "outputs": [],
   "source": [
    "# Add new column with 'Year' as the value for all rows\n",
    "ped_data_merge['patient_custom_master_age_unit'] = 'Year'\n",
    "\n",
    "# Reorder columns to place the new column after 'patient_custom_master_age'\n",
    "cols = list(ped_data_merge.columns)\n",
    "cols.insert(cols.index('patient_custom_master_age') + 1, cols.pop(cols.index('patient_custom_master_age_unit')))\n",
    "ped_data_merge = ped_data_merge[cols]"
   ]
  },
  {
   "cell_type": "code",
   "execution_count": 25,
   "metadata": {},
   "outputs": [
    {
     "data": {
      "text/plain": [
       "congenital_anomali                1718001\n",
       "disabling                         1654300\n",
       "reaction_outcome                  1653173\n",
       "life_threatening                  1537713\n",
       "death                             1429485\n",
       "patient_weight                     906664\n",
       "drug_indication                    873247\n",
       "other                              866181\n",
       "fda                                699833\n",
       "ich_ema                            479374\n",
       "reporter_country                   292501\n",
       "reporter_qualification             288592\n",
       "reporter_company                    99597\n",
       "patient_sex                         37526\n",
       "medicinal_product                      34\n",
       "patient_custom_master_age_unit          0\n",
       "patient_custom_master_age               0\n",
       "patient_onsetage                        0\n",
       "safetyreportid                          0\n",
       "nichd                                   0\n",
       "patient_onsetageunit                    0\n",
       "receive_date                            0\n",
       "mostrecent_receive_date                 0\n",
       "lastupdate_date                         0\n",
       "serious                                 0\n",
       "drug_characterization                   0\n",
       "dtype: int64"
      ]
     },
     "execution_count": 25,
     "metadata": {},
     "output_type": "execute_result"
    }
   ],
   "source": [
    "ped_data_merge.isna().sum().sort_values(ascending=False)"
   ]
  },
  {
   "cell_type": "code",
   "execution_count": 26,
   "metadata": {},
   "outputs": [
    {
     "data": {
      "text/plain": [
       "(1754671, 26)"
      ]
     },
     "execution_count": 26,
     "metadata": {},
     "output_type": "execute_result"
    }
   ],
   "source": [
    "ped_data_merge.shape"
   ]
  },
  {
   "cell_type": "markdown",
   "metadata": {},
   "source": [
    "### Data Cleaning"
   ]
  },
  {
   "cell_type": "markdown",
   "metadata": {},
   "source": [
    "#### Fill NA and Unknow"
   ]
  },
  {
   "cell_type": "code",
   "execution_count": 27,
   "metadata": {},
   "outputs": [
    {
     "name": "stdout",
     "output_type": "stream",
     "text": [
      "[ 2.  1. nan]\n",
      "[ 2.  1. nan]\n",
      "[ 2.  1. nan]\n",
      "[ 2.  1. nan]\n",
      "[ 2.  1. nan]\n",
      "\n",
      "After filling NA : \n",
      "\n",
      "[2 1 0]\n",
      "[2 1 0]\n",
      "[2 1 0]\n",
      "[2 1 0]\n",
      "[2 1 0]\n"
     ]
    }
   ],
   "source": [
    "#fill NA in columns congenital_anomali,disabling,life_threatening,death,other\n",
    "cols = ['congenital_anomali','disabling','life_threatening','death','other']\n",
    "for i in cols:\n",
    "    print(ped_data_merge[i].unique())\n",
    "\n",
    "existing_cols = [col for col in cols if col in ped_data_merge.columns]\n",
    "\n",
    "for col in existing_cols:\n",
    "    ped_data_merge[col] = ped_data_merge[col].fillna(0).astype(int)\n",
    "    \n",
    "# After filling na\n",
    "print('')\n",
    "print('After filling NA : \\n')\n",
    "for i in cols:\n",
    "    print(ped_data_merge[i].unique())"
   ]
  },
  {
   "cell_type": "code",
   "execution_count": 28,
   "metadata": {},
   "outputs": [],
   "source": [
    "# fill unknown value in columns about patient\n",
    "categorical_cols_to_fill_unknown = ['patient_sex']\n",
    "for col in categorical_cols_to_fill_unknown:\n",
    "    ped_data_merge[col] = ped_data_merge[col].fillna('Unknown')"
   ]
  },
  {
   "cell_type": "code",
   "execution_count": 29,
   "metadata": {},
   "outputs": [],
   "source": [
    "# fill unknown value in columns about reporter\n",
    "categorical_cols_to_fill_unknown = ['reporter_company', 'reporter_qualification', 'reporter_country']\n",
    "for col in categorical_cols_to_fill_unknown:\n",
    "    ped_data_merge[col] = ped_data_merge[col].fillna('Unknown')"
   ]
  },
  {
   "cell_type": "code",
   "execution_count": 30,
   "metadata": {},
   "outputs": [],
   "source": [
    "# fill unknown value in columns about reaction\n",
    "categorical_cols_to_fill_unknown = ['reaction_outcome']\n",
    "for col in categorical_cols_to_fill_unknown:\n",
    "    ped_data_merge[col] = ped_data_merge[col].fillna('Unknown')"
   ]
  },
  {
   "cell_type": "code",
   "execution_count": null,
   "metadata": {},
   "outputs": [],
   "source": []
  },
  {
   "cell_type": "code",
   "execution_count": 74,
   "metadata": {},
   "outputs": [
    {
     "data": {
      "text/plain": [
       "patient_weight                    906664\n",
       "drug_indication                   873247\n",
       "fda                               699833\n",
       "ich_ema                           479374\n",
       "medicinal_product                     34\n",
       "patient_custom_master_age              0\n",
       "patient_sex                            0\n",
       "patient_onsetageunit                   0\n",
       "patient_custom_master_age_unit         0\n",
       "patient_onsetage                       0\n",
       "safetyreportid                         0\n",
       "nichd                                  0\n",
       "lastupdate_date                        0\n",
       "mostrecent_receive_date                0\n",
       "death                                  0\n",
       "disabling                              0\n",
       "receive_date                           0\n",
       "congenital_anomali                     0\n",
       "other                                  0\n",
       "life_threatening                       0\n",
       "serious                                0\n",
       "reporter_company                       0\n",
       "reporter_qualification                 0\n",
       "reporter_country                       0\n",
       "drug_characterization                  0\n",
       "reaction_outcome                       0\n",
       "dtype: int64"
      ]
     },
     "execution_count": 74,
     "metadata": {},
     "output_type": "execute_result"
    }
   ],
   "source": [
    "ped_data_merge.isna().sum().sort_values(ascending=False)"
   ]
  },
  {
   "cell_type": "code",
   "execution_count": 32,
   "metadata": {},
   "outputs": [
    {
     "name": "stdout",
     "output_type": "stream",
     "text": [
      "<class 'pandas.core.frame.DataFrame'>\n",
      "RangeIndex: 1754671 entries, 0 to 1754670\n",
      "Data columns (total 26 columns):\n",
      " #   Column                          Dtype  \n",
      "---  ------                          -----  \n",
      " 0   patient_custom_master_age       float64\n",
      " 1   patient_custom_master_age_unit  object \n",
      " 2   patient_onsetage                float64\n",
      " 3   patient_onsetageunit            object \n",
      " 4   patient_sex                     object \n",
      " 5   patient_weight                  float64\n",
      " 6   safetyreportid                  object \n",
      " 7   nichd                           object \n",
      " 8   ich_ema                         object \n",
      " 9   fda                             object \n",
      " 10  lastupdate_date                 int64  \n",
      " 11  mostrecent_receive_date         int64  \n",
      " 12  receive_date                    int64  \n",
      " 13  congenital_anomali              int64  \n",
      " 14  death                           int64  \n",
      " 15  disabling                       int64  \n",
      " 16  life_threatening                int64  \n",
      " 17  other                           int64  \n",
      " 18  serious                         object \n",
      " 19  reporter_company                object \n",
      " 20  reporter_country                object \n",
      " 21  reporter_qualification          object \n",
      " 22  drug_characterization           object \n",
      " 23  drug_indication                 object \n",
      " 24  medicinal_product               object \n",
      " 25  reaction_outcome                object \n",
      "dtypes: float64(3), int64(8), object(15)\n",
      "memory usage: 348.1+ MB\n"
     ]
    }
   ],
   "source": [
    "ped_data_merge.info()"
   ]
  },
  {
   "cell_type": "markdown",
   "metadata": {},
   "source": [
    "#### Datetime format"
   ]
  },
  {
   "cell_type": "code",
   "execution_count": 33,
   "metadata": {},
   "outputs": [
    {
     "name": "stdout",
     "output_type": "stream",
     "text": [
      "   lastupdate_date  mostrecent_receive_date  receive_date\n",
      "0         20250409                 20250327      20250327\n",
      "1         20250409                 20250327      20250327\n",
      "2         20250409                 20250327      20250327\n",
      "3         20250409                 20250327      20250327\n",
      "4         20250409                 20250327      20250327\n"
     ]
    }
   ],
   "source": [
    "print(ped_data_merge[['lastupdate_date', 'mostrecent_receive_date', 'receive_date']].head())\n",
    "date_cols_to_convert = ['lastupdate_date', 'mostrecent_receive_date', 'receive_date']\n",
    "\n",
    "for col in date_cols_to_convert:\n",
    "    ped_data_merge[col] = pd.to_datetime(ped_data_merge[col].astype(str), format='%Y%m%d', errors='coerce')"
   ]
  },
  {
   "cell_type": "code",
   "execution_count": 34,
   "metadata": {},
   "outputs": [
    {
     "name": "stdout",
     "output_type": "stream",
     "text": [
      "  lastupdate_date mostrecent_receive_date receive_date\n",
      "0      2025-04-09              2025-03-27   2025-03-27\n",
      "1      2025-04-09              2025-03-27   2025-03-27\n",
      "2      2025-04-09              2025-03-27   2025-03-27\n",
      "3      2025-04-09              2025-03-27   2025-03-27\n",
      "4      2025-04-09              2025-03-27   2025-03-27\n",
      "<class 'pandas.core.frame.DataFrame'>\n",
      "RangeIndex: 1754671 entries, 0 to 1754670\n",
      "Data columns (total 26 columns):\n",
      " #   Column                          Dtype         \n",
      "---  ------                          -----         \n",
      " 0   patient_custom_master_age       float64       \n",
      " 1   patient_custom_master_age_unit  object        \n",
      " 2   patient_onsetage                float64       \n",
      " 3   patient_onsetageunit            object        \n",
      " 4   patient_sex                     object        \n",
      " 5   patient_weight                  float64       \n",
      " 6   safetyreportid                  object        \n",
      " 7   nichd                           object        \n",
      " 8   ich_ema                         object        \n",
      " 9   fda                             object        \n",
      " 10  lastupdate_date                 datetime64[ns]\n",
      " 11  mostrecent_receive_date         datetime64[ns]\n",
      " 12  receive_date                    datetime64[ns]\n",
      " 13  congenital_anomali              int64         \n",
      " 14  death                           int64         \n",
      " 15  disabling                       int64         \n",
      " 16  life_threatening                int64         \n",
      " 17  other                           int64         \n",
      " 18  serious                         object        \n",
      " 19  reporter_company                object        \n",
      " 20  reporter_country                object        \n",
      " 21  reporter_qualification          object        \n",
      " 22  drug_characterization           object        \n",
      " 23  drug_indication                 object        \n",
      " 24  medicinal_product               object        \n",
      " 25  reaction_outcome                object        \n",
      "dtypes: datetime64[ns](3), float64(3), int64(5), object(15)\n",
      "memory usage: 348.1+ MB\n",
      "None\n"
     ]
    }
   ],
   "source": [
    "print(ped_data_merge[['lastupdate_date', 'mostrecent_receive_date', 'receive_date']].head())\n",
    "print(ped_data_merge.info())"
   ]
  },
  {
   "cell_type": "code",
   "execution_count": null,
   "metadata": {},
   "outputs": [],
   "source": []
  },
  {
   "cell_type": "code",
   "execution_count": 35,
   "metadata": {},
   "outputs": [
    {
     "data": {
      "text/plain": [
       "(1754671, 26)"
      ]
     },
     "execution_count": 35,
     "metadata": {},
     "output_type": "execute_result"
    }
   ],
   "source": [
    "ped_data_merge.shape"
   ]
  },
  {
   "cell_type": "markdown",
   "metadata": {},
   "source": [
    "#### Droup Data"
   ]
  },
  {
   "cell_type": "code",
   "execution_count": 36,
   "metadata": {},
   "outputs": [],
   "source": [
    "# Droup medicinal_product because have missing 34 rows\n",
    "ped_data_merge = ped_data_merge.dropna(subset=['medicinal_product'])"
   ]
  },
  {
   "cell_type": "code",
   "execution_count": 37,
   "metadata": {},
   "outputs": [],
   "source": [
    "# ลบคอลัมน์ 'patient_weight'\n",
    "ped_data_merge = ped_data_merge.drop(columns=['patient_weight'])"
   ]
  },
  {
   "cell_type": "code",
   "execution_count": 38,
   "metadata": {},
   "outputs": [],
   "source": [
    "ped_data_merge =ped_data_merge.dropna(subset=['drug_indication'])"
   ]
  },
  {
   "cell_type": "code",
   "execution_count": 39,
   "metadata": {},
   "outputs": [
    {
     "data": {
      "text/plain": [
       "fda                               351537\n",
       "ich_ema                           241452\n",
       "mostrecent_receive_date               28\n",
       "patient_custom_master_age_unit         0\n",
       "patient_custom_master_age              0\n",
       "patient_sex                            0\n",
       "patient_onsetageunit                   0\n",
       "nichd                                  0\n",
       "patient_onsetage                       0\n",
       "safetyreportid                         0\n",
       "lastupdate_date                        0\n",
       "receive_date                           0\n",
       "congenital_anomali                     0\n",
       "death                                  0\n",
       "disabling                              0\n",
       "life_threatening                       0\n",
       "other                                  0\n",
       "serious                                0\n",
       "reporter_company                       0\n",
       "reporter_country                       0\n",
       "reporter_qualification                 0\n",
       "drug_characterization                  0\n",
       "drug_indication                        0\n",
       "medicinal_product                      0\n",
       "reaction_outcome                       0\n",
       "dtype: int64"
      ]
     },
     "execution_count": 39,
     "metadata": {},
     "output_type": "execute_result"
    }
   ],
   "source": [
    "ped_data_merge.isna().sum().sort_values(ascending=False)"
   ]
  },
  {
   "cell_type": "code",
   "execution_count": 40,
   "metadata": {},
   "outputs": [
    {
     "data": {
      "text/plain": [
       "(881424, 25)"
      ]
     },
     "execution_count": 40,
     "metadata": {},
     "output_type": "execute_result"
    }
   ],
   "source": [
    "ped_data_merge.shape"
   ]
  },
  {
   "cell_type": "markdown",
   "metadata": {},
   "source": [
    "#### Save Files"
   ]
  },
  {
   "cell_type": "code",
   "execution_count": 41,
   "metadata": {},
   "outputs": [],
   "source": [
    "ped_data_merge.to_csv('../../data/pediatric_patients_report_drug_reaction.csv.gz',compression='gzip')"
   ]
  },
  {
   "cell_type": "code",
   "execution_count": 42,
   "metadata": {},
   "outputs": [
    {
     "name": "stdout",
     "output_type": "stream",
     "text": [
      "ข้อมูลสุ่ม 1,000 แถว:\n",
      "\n",
      "จำนวนแถวและคอลัมน์: (1000, 25)\n",
      "\n",
      "คอลัมน์ทั้งหมด: ['patient_custom_master_age', 'patient_custom_master_age_unit', 'patient_onsetage', 'patient_onsetageunit', 'patient_sex', 'safetyreportid', 'nichd', 'ich_ema', 'fda', 'lastupdate_date', 'mostrecent_receive_date', 'receive_date', 'congenital_anomali', 'death', 'disabling', 'life_threatening', 'other', 'serious', 'reporter_company', 'reporter_country', 'reporter_qualification', 'drug_characterization', 'drug_indication', 'medicinal_product', 'reaction_outcome']\n"
     ]
    },
    {
     "data": {
      "text/html": [
       "<div>\n",
       "<style scoped>\n",
       "    .dataframe tbody tr th:only-of-type {\n",
       "        vertical-align: middle;\n",
       "    }\n",
       "\n",
       "    .dataframe tbody tr th {\n",
       "        vertical-align: top;\n",
       "    }\n",
       "\n",
       "    .dataframe thead th {\n",
       "        text-align: right;\n",
       "    }\n",
       "</style>\n",
       "<table border=\"1\" class=\"dataframe\">\n",
       "  <thead>\n",
       "    <tr style=\"text-align: right;\">\n",
       "      <th></th>\n",
       "      <th>patient_custom_master_age</th>\n",
       "      <th>patient_custom_master_age_unit</th>\n",
       "      <th>patient_onsetage</th>\n",
       "      <th>patient_onsetageunit</th>\n",
       "      <th>patient_sex</th>\n",
       "      <th>safetyreportid</th>\n",
       "      <th>nichd</th>\n",
       "      <th>ich_ema</th>\n",
       "      <th>fda</th>\n",
       "      <th>lastupdate_date</th>\n",
       "      <th>...</th>\n",
       "      <th>life_threatening</th>\n",
       "      <th>other</th>\n",
       "      <th>serious</th>\n",
       "      <th>reporter_company</th>\n",
       "      <th>reporter_country</th>\n",
       "      <th>reporter_qualification</th>\n",
       "      <th>drug_characterization</th>\n",
       "      <th>drug_indication</th>\n",
       "      <th>medicinal_product</th>\n",
       "      <th>reaction_outcome</th>\n",
       "    </tr>\n",
       "  </thead>\n",
       "  <tbody>\n",
       "    <tr>\n",
       "      <th>84619</th>\n",
       "      <td>2.00</td>\n",
       "      <td>Year</td>\n",
       "      <td>2.0</td>\n",
       "      <td>Year</td>\n",
       "      <td>Female</td>\n",
       "      <td>4368498-5</td>\n",
       "      <td>toddler</td>\n",
       "      <td>infants_and_toddlers</td>\n",
       "      <td>children</td>\n",
       "      <td>2005-01-07</td>\n",
       "      <td>...</td>\n",
       "      <td>0</td>\n",
       "      <td>0</td>\n",
       "      <td>The adverse event did not result in any of the...</td>\n",
       "      <td>US-GLAXOSMITHKLINE-A0441452A</td>\n",
       "      <td>Unknown</td>\n",
       "      <td>Consumer or non-health professional</td>\n",
       "      <td>Suspect (the drug was considered by the report...</td>\n",
       "      <td>EAR INFECTION</td>\n",
       "      <td>AUGMENTIN ES-600</td>\n",
       "      <td>Unknown</td>\n",
       "    </tr>\n",
       "    <tr>\n",
       "      <th>755635</th>\n",
       "      <td>21.00</td>\n",
       "      <td>Year</td>\n",
       "      <td>21.0</td>\n",
       "      <td>Year</td>\n",
       "      <td>Female</td>\n",
       "      <td>5812637-3</td>\n",
       "      <td>late_adolescence</td>\n",
       "      <td>NaN</td>\n",
       "      <td>NaN</td>\n",
       "      <td>2009-01-09</td>\n",
       "      <td>...</td>\n",
       "      <td>0</td>\n",
       "      <td>1</td>\n",
       "      <td>The adverse event resulted in death, a life th...</td>\n",
       "      <td>BR-BAYER-200815695LA</td>\n",
       "      <td>BRAZIL</td>\n",
       "      <td>Consumer or non-health professional</td>\n",
       "      <td>Concomitant (the drug was reported as being ta...</td>\n",
       "      <td>MULTIPLE SCLEROSIS</td>\n",
       "      <td>BACLOFEN</td>\n",
       "      <td>Unknown</td>\n",
       "    </tr>\n",
       "    <tr>\n",
       "      <th>1129059</th>\n",
       "      <td>13.00</td>\n",
       "      <td>Year</td>\n",
       "      <td>13.0</td>\n",
       "      <td>Year</td>\n",
       "      <td>Male</td>\n",
       "      <td>6845090-1</td>\n",
       "      <td>early_adolescence</td>\n",
       "      <td>adolescents</td>\n",
       "      <td>adolescents</td>\n",
       "      <td>2011-02-19</td>\n",
       "      <td>...</td>\n",
       "      <td>0</td>\n",
       "      <td>1</td>\n",
       "      <td>The adverse event resulted in death, a life th...</td>\n",
       "      <td>JP-PFIZER INC-2010081337</td>\n",
       "      <td>JAPAN</td>\n",
       "      <td>Physician</td>\n",
       "      <td>Suspect (the drug was considered by the report...</td>\n",
       "      <td>GLOMERULOSCLEROSIS</td>\n",
       "      <td>METHYLPREDNISOLONE SODIUM SUCCINATE</td>\n",
       "      <td>Unknown</td>\n",
       "    </tr>\n",
       "    <tr>\n",
       "      <th>1003489</th>\n",
       "      <td>17.00</td>\n",
       "      <td>Year</td>\n",
       "      <td>17.0</td>\n",
       "      <td>Year</td>\n",
       "      <td>Female</td>\n",
       "      <td>6466167-9</td>\n",
       "      <td>early_adolescence</td>\n",
       "      <td>adolescents</td>\n",
       "      <td>NaN</td>\n",
       "      <td>2010-05-25</td>\n",
       "      <td>...</td>\n",
       "      <td>0</td>\n",
       "      <td>0</td>\n",
       "      <td>The adverse event did not result in any of the...</td>\n",
       "      <td>20097640</td>\n",
       "      <td>UNITED STATES</td>\n",
       "      <td>Physician</td>\n",
       "      <td>Suspect (the drug was considered by the report...</td>\n",
       "      <td>MUSCLE SPASTICITY</td>\n",
       "      <td>LIORESAL</td>\n",
       "      <td>Unknown</td>\n",
       "    </tr>\n",
       "    <tr>\n",
       "      <th>582367</th>\n",
       "      <td>20.00</td>\n",
       "      <td>Year</td>\n",
       "      <td>20.0</td>\n",
       "      <td>Year</td>\n",
       "      <td>Female</td>\n",
       "      <td>5378133-5</td>\n",
       "      <td>late_adolescence</td>\n",
       "      <td>NaN</td>\n",
       "      <td>NaN</td>\n",
       "      <td>2008-01-15</td>\n",
       "      <td>...</td>\n",
       "      <td>0</td>\n",
       "      <td>1</td>\n",
       "      <td>The adverse event resulted in death, a life th...</td>\n",
       "      <td>PHEH2007US07534</td>\n",
       "      <td>UNITED STATES</td>\n",
       "      <td>Physician</td>\n",
       "      <td>Suspect (the drug was considered by the report...</td>\n",
       "      <td>IRRITABLE BOWEL SYNDROME</td>\n",
       "      <td>ZELNORM</td>\n",
       "      <td>Unknown</td>\n",
       "    </tr>\n",
       "    <tr>\n",
       "      <th>1366099</th>\n",
       "      <td>2.00</td>\n",
       "      <td>Year</td>\n",
       "      <td>2.0</td>\n",
       "      <td>Year</td>\n",
       "      <td>Female</td>\n",
       "      <td>7586805-7</td>\n",
       "      <td>toddler</td>\n",
       "      <td>infants_and_toddlers</td>\n",
       "      <td>children</td>\n",
       "      <td>2011-12-22</td>\n",
       "      <td>...</td>\n",
       "      <td>0</td>\n",
       "      <td>1</td>\n",
       "      <td>The adverse event resulted in death, a life th...</td>\n",
       "      <td>PHHY2011DK55933</td>\n",
       "      <td>DENMARK</td>\n",
       "      <td>Other health professional</td>\n",
       "      <td>Suspect (the drug was considered by the report...</td>\n",
       "      <td>CORNEAL OPACITY</td>\n",
       "      <td>CHLORAMPHENICOL</td>\n",
       "      <td>Unknown</td>\n",
       "    </tr>\n",
       "    <tr>\n",
       "      <th>538130</th>\n",
       "      <td>20.00</td>\n",
       "      <td>Year</td>\n",
       "      <td>20.0</td>\n",
       "      <td>Year</td>\n",
       "      <td>Male</td>\n",
       "      <td>5280765-X</td>\n",
       "      <td>late_adolescence</td>\n",
       "      <td>NaN</td>\n",
       "      <td>NaN</td>\n",
       "      <td>2007-07-07</td>\n",
       "      <td>...</td>\n",
       "      <td>0</td>\n",
       "      <td>1</td>\n",
       "      <td>The adverse event resulted in death, a life th...</td>\n",
       "      <td>US-PURDUE-USA_2007_0026594</td>\n",
       "      <td>UNITED STATES</td>\n",
       "      <td>Unknown</td>\n",
       "      <td>Suspect (the drug was considered by the report...</td>\n",
       "      <td>DRUG USE FOR UNKNOWN INDICATION</td>\n",
       "      <td>HYDROCODONE</td>\n",
       "      <td>Unknown</td>\n",
       "    </tr>\n",
       "    <tr>\n",
       "      <th>898948</th>\n",
       "      <td>1.75</td>\n",
       "      <td>Year</td>\n",
       "      <td>21.0</td>\n",
       "      <td>Month</td>\n",
       "      <td>Female</td>\n",
       "      <td>6183319-6</td>\n",
       "      <td>toddler</td>\n",
       "      <td>infants_and_toddlers</td>\n",
       "      <td>infants</td>\n",
       "      <td>2009-10-09</td>\n",
       "      <td>...</td>\n",
       "      <td>0</td>\n",
       "      <td>0</td>\n",
       "      <td>The adverse event resulted in death, a life th...</td>\n",
       "      <td>HK-BAXTER-2008BH001568</td>\n",
       "      <td>HONG KONG</td>\n",
       "      <td>Pharmacist</td>\n",
       "      <td>Concomitant (the drug was reported as being ta...</td>\n",
       "      <td>PYREXIA</td>\n",
       "      <td>ACETAMINOPHEN</td>\n",
       "      <td>Unknown</td>\n",
       "    </tr>\n",
       "    <tr>\n",
       "      <th>544560</th>\n",
       "      <td>15.00</td>\n",
       "      <td>Year</td>\n",
       "      <td>15.0</td>\n",
       "      <td>Year</td>\n",
       "      <td>Female</td>\n",
       "      <td>5294722-0</td>\n",
       "      <td>early_adolescence</td>\n",
       "      <td>adolescents</td>\n",
       "      <td>adolescents</td>\n",
       "      <td>2007-10-10</td>\n",
       "      <td>...</td>\n",
       "      <td>0</td>\n",
       "      <td>1</td>\n",
       "      <td>The adverse event resulted in death, a life th...</td>\n",
       "      <td>SPV1-2007-01631</td>\n",
       "      <td>UNITED STATES</td>\n",
       "      <td>Consumer or non-health professional</td>\n",
       "      <td>Suspect (the drug was considered by the report...</td>\n",
       "      <td>ATTENTION DEFICIT/HYPERACTIVITY DISORDER</td>\n",
       "      <td>ADDERALL XR(AMPHETAMINE ASPARTATE, AMPHETAMINE...</td>\n",
       "      <td>Unknown</td>\n",
       "    </tr>\n",
       "    <tr>\n",
       "      <th>783094</th>\n",
       "      <td>17.00</td>\n",
       "      <td>Year</td>\n",
       "      <td>17.0</td>\n",
       "      <td>Year</td>\n",
       "      <td>Male</td>\n",
       "      <td>5887522-1</td>\n",
       "      <td>early_adolescence</td>\n",
       "      <td>adolescents</td>\n",
       "      <td>NaN</td>\n",
       "      <td>2009-01-09</td>\n",
       "      <td>...</td>\n",
       "      <td>0</td>\n",
       "      <td>1</td>\n",
       "      <td>The adverse event resulted in death, a life th...</td>\n",
       "      <td>PHHY2008AU20749</td>\n",
       "      <td>AUSTRALIA</td>\n",
       "      <td>Consumer or non-health professional</td>\n",
       "      <td>Suspect (the drug was considered by the report...</td>\n",
       "      <td>ABNORMAL BEHAVIOUR</td>\n",
       "      <td>DEXAMFETAMINE</td>\n",
       "      <td>Unknown</td>\n",
       "    </tr>\n",
       "  </tbody>\n",
       "</table>\n",
       "<p>10 rows × 25 columns</p>\n",
       "</div>"
      ],
      "text/plain": [
       "         patient_custom_master_age patient_custom_master_age_unit  \\\n",
       "84619                         2.00                           Year   \n",
       "755635                       21.00                           Year   \n",
       "1129059                      13.00                           Year   \n",
       "1003489                      17.00                           Year   \n",
       "582367                       20.00                           Year   \n",
       "1366099                       2.00                           Year   \n",
       "538130                       20.00                           Year   \n",
       "898948                        1.75                           Year   \n",
       "544560                       15.00                           Year   \n",
       "783094                       17.00                           Year   \n",
       "\n",
       "         patient_onsetage patient_onsetageunit patient_sex safetyreportid  \\\n",
       "84619                 2.0                 Year      Female      4368498-5   \n",
       "755635               21.0                 Year      Female      5812637-3   \n",
       "1129059              13.0                 Year        Male      6845090-1   \n",
       "1003489              17.0                 Year      Female      6466167-9   \n",
       "582367               20.0                 Year      Female      5378133-5   \n",
       "1366099               2.0                 Year      Female      7586805-7   \n",
       "538130               20.0                 Year        Male      5280765-X   \n",
       "898948               21.0                Month      Female      6183319-6   \n",
       "544560               15.0                 Year      Female      5294722-0   \n",
       "783094               17.0                 Year        Male      5887522-1   \n",
       "\n",
       "                     nichd               ich_ema          fda lastupdate_date  \\\n",
       "84619              toddler  infants_and_toddlers     children      2005-01-07   \n",
       "755635    late_adolescence                   NaN          NaN      2009-01-09   \n",
       "1129059  early_adolescence           adolescents  adolescents      2011-02-19   \n",
       "1003489  early_adolescence           adolescents          NaN      2010-05-25   \n",
       "582367    late_adolescence                   NaN          NaN      2008-01-15   \n",
       "1366099            toddler  infants_and_toddlers     children      2011-12-22   \n",
       "538130    late_adolescence                   NaN          NaN      2007-07-07   \n",
       "898948             toddler  infants_and_toddlers      infants      2009-10-09   \n",
       "544560   early_adolescence           adolescents  adolescents      2007-10-10   \n",
       "783094   early_adolescence           adolescents          NaN      2009-01-09   \n",
       "\n",
       "         ... life_threatening other  \\\n",
       "84619    ...                0     0   \n",
       "755635   ...                0     1   \n",
       "1129059  ...                0     1   \n",
       "1003489  ...                0     0   \n",
       "582367   ...                0     1   \n",
       "1366099  ...                0     1   \n",
       "538130   ...                0     1   \n",
       "898948   ...                0     0   \n",
       "544560   ...                0     1   \n",
       "783094   ...                0     1   \n",
       "\n",
       "                                                   serious  \\\n",
       "84619    The adverse event did not result in any of the...   \n",
       "755635   The adverse event resulted in death, a life th...   \n",
       "1129059  The adverse event resulted in death, a life th...   \n",
       "1003489  The adverse event did not result in any of the...   \n",
       "582367   The adverse event resulted in death, a life th...   \n",
       "1366099  The adverse event resulted in death, a life th...   \n",
       "538130   The adverse event resulted in death, a life th...   \n",
       "898948   The adverse event resulted in death, a life th...   \n",
       "544560   The adverse event resulted in death, a life th...   \n",
       "783094   The adverse event resulted in death, a life th...   \n",
       "\n",
       "                     reporter_company  reporter_country  \\\n",
       "84619    US-GLAXOSMITHKLINE-A0441452A           Unknown   \n",
       "755635           BR-BAYER-200815695LA            BRAZIL   \n",
       "1129059      JP-PFIZER INC-2010081337             JAPAN   \n",
       "1003489                      20097640     UNITED STATES   \n",
       "582367                PHEH2007US07534     UNITED STATES   \n",
       "1366099               PHHY2011DK55933           DENMARK   \n",
       "538130     US-PURDUE-USA_2007_0026594     UNITED STATES   \n",
       "898948         HK-BAXTER-2008BH001568         HONG KONG   \n",
       "544560                SPV1-2007-01631     UNITED STATES   \n",
       "783094                PHHY2008AU20749         AUSTRALIA   \n",
       "\n",
       "                      reporter_qualification  \\\n",
       "84619    Consumer or non-health professional   \n",
       "755635   Consumer or non-health professional   \n",
       "1129059                            Physician   \n",
       "1003489                            Physician   \n",
       "582367                             Physician   \n",
       "1366099            Other health professional   \n",
       "538130                               Unknown   \n",
       "898948                            Pharmacist   \n",
       "544560   Consumer or non-health professional   \n",
       "783094   Consumer or non-health professional   \n",
       "\n",
       "                                     drug_characterization  \\\n",
       "84619    Suspect (the drug was considered by the report...   \n",
       "755635   Concomitant (the drug was reported as being ta...   \n",
       "1129059  Suspect (the drug was considered by the report...   \n",
       "1003489  Suspect (the drug was considered by the report...   \n",
       "582367   Suspect (the drug was considered by the report...   \n",
       "1366099  Suspect (the drug was considered by the report...   \n",
       "538130   Suspect (the drug was considered by the report...   \n",
       "898948   Concomitant (the drug was reported as being ta...   \n",
       "544560   Suspect (the drug was considered by the report...   \n",
       "783094   Suspect (the drug was considered by the report...   \n",
       "\n",
       "                                  drug_indication  \\\n",
       "84619                               EAR INFECTION   \n",
       "755635                         MULTIPLE SCLEROSIS   \n",
       "1129059                        GLOMERULOSCLEROSIS   \n",
       "1003489                         MUSCLE SPASTICITY   \n",
       "582367                   IRRITABLE BOWEL SYNDROME   \n",
       "1366099                           CORNEAL OPACITY   \n",
       "538130            DRUG USE FOR UNKNOWN INDICATION   \n",
       "898948                                    PYREXIA   \n",
       "544560   ATTENTION DEFICIT/HYPERACTIVITY DISORDER   \n",
       "783094                         ABNORMAL BEHAVIOUR   \n",
       "\n",
       "                                         medicinal_product reaction_outcome  \n",
       "84619                                     AUGMENTIN ES-600          Unknown  \n",
       "755635                                            BACLOFEN          Unknown  \n",
       "1129059                METHYLPREDNISOLONE SODIUM SUCCINATE          Unknown  \n",
       "1003489                                           LIORESAL          Unknown  \n",
       "582367                                             ZELNORM          Unknown  \n",
       "1366099                                    CHLORAMPHENICOL          Unknown  \n",
       "538130                                         HYDROCODONE          Unknown  \n",
       "898948                                       ACETAMINOPHEN          Unknown  \n",
       "544560   ADDERALL XR(AMPHETAMINE ASPARTATE, AMPHETAMINE...          Unknown  \n",
       "783094                                       DEXAMFETAMINE          Unknown  \n",
       "\n",
       "[10 rows x 25 columns]"
      ]
     },
     "metadata": {},
     "output_type": "display_data"
    }
   ],
   "source": [
    "data = pd.read_csv(\n",
    "    '../../data/pediatric_patients_report_drug_reaction.csv.gz',\n",
    "    compression='gzip',\n",
    "    low_memory=False,\n",
    "    index_col=0\n",
    ")\n",
    "\n",
    "sampled_data = data.sample(n=1000, random_state=42)\n",
    "\n",
    "print(\"ข้อมูลสุ่ม 1,000 แถว:\")\n",
    "print(\"\\nจำนวนแถวและคอลัมน์:\", sampled_data.shape)\n",
    "print(\"\\nคอลัมน์ทั้งหมด:\", sampled_data.columns.tolist())\n",
    "display(sampled_data.head(10))\n",
    "\n",
    "\n",
    "sampled_data.to_csv('../../data/sampled_pediatric_data.csv', index=False)\n",
    "sampled_data.to_excel('../../data/sampled_pediatric_data.xlsx', index=False)"
   ]
  },
  {
   "cell_type": "code",
   "execution_count": null,
   "metadata": {},
   "outputs": [],
   "source": []
  }
 ],
 "metadata": {
  "kernelspec": {
   "display_name": "Python 3",
   "language": "python",
   "name": "python3"
  },
  "language_info": {
   "codemirror_mode": {
    "name": "ipython",
    "version": 3
   },
   "file_extension": ".py",
   "mimetype": "text/x-python",
   "name": "python",
   "nbconvert_exporter": "python",
   "pygments_lexer": "ipython3",
   "version": "3.12.8"
  }
 },
 "nbformat": 4,
 "nbformat_minor": 2
}
