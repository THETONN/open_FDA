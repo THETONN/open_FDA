{
 "cells": [
  {
   "cell_type": "code",
   "execution_count": null,
   "metadata": {},
   "outputs": [],
   "source": [
    "import glob\n",
    "import numpy as np\n",
    "import pandas as pd\n",
    "from dask import delayed, compute\n",
    "import dask.dataframe as dd\n",
    "import pickle\n",
    "import os\n",
    "\n",
    "data_dir = \"../../data/openFDA_drug_event/\"\n",
    "er_dir = data_dir+'er_tables/'\n",
    "\n",
    "try:\n",
    "    os.mkdir(er_dir)\n",
    "except:\n",
    "    print(er_dir+\" exists\")"
   ]
  },
  {
   "cell_type": "markdown",
   "metadata": {},
   "source": [
    "## functions"
   ]
  },
  {
   "cell_type": "code",
   "execution_count": null,
   "metadata": {},
   "outputs": [],
   "source": [
    "primarykey = 'safetyreportid'\n",
    "\n",
    "def read_file(file):\n",
    "    return pd.read_csv(file,compression='gzip',index_col=0,dtype={primarykey : 'str'})"
   ]
  },
  {
   "cell_type": "markdown",
   "metadata": {},
   "source": [
    "## ER tables"
   ]
  },
  {
   "cell_type": "markdown",
   "metadata": {
    "heading_collapsed": true
   },
   "source": [
    "### report"
   ]
  },
  {
   "cell_type": "markdown",
   "metadata": {
    "heading_collapsed": true,
    "hidden": true
   },
   "source": [
    "#### report_df"
   ]
  },
  {
   "cell_type": "code",
   "execution_count": null,
   "metadata": {
    "hidden": true,
    "scrolled": true
   },
   "outputs": [],
   "source": [
    "dir_ = data_dir+'report/'\n",
    "files = glob.glob(dir_+'*.csv.gzip')\n",
    "results = []\n",
    "for file in files:\n",
    "    df = delayed(read_file)(file)\n",
    "    results.append(df)\n",
    "report_df = (pd.concat(compute(*results),sort=True))\n",
    "report_df[primarykey] = (report_df[primarykey].astype(str))\n",
    "print(report_df.columns.values)\n",
    "report_df.head()"
   ]
  },
  {
   "cell_type": "markdown",
   "metadata": {
    "heading_collapsed": true,
    "hidden": true
   },
   "source": [
    "#### report_er_df"
   ]
  },
  {
   "cell_type": "code",
   "execution_count": null,
   "metadata": {
    "code_folding": [],
    "hidden": true
   },
   "outputs": [],
   "source": [
    "columns = [primarykey,'receiptdate',\n",
    "           'receivedate',\n",
    "           'transmissiondate']\n",
    "rename_columns = {'receiptdate' : 'mostrecent_receive_date',\n",
    "                  'receivedate' : 'receive_date',\n",
    "                  'transmissiondate' : 'lastupdate_date'}\n",
    "\n",
    "report_er_df = (report_df[columns].\n",
    "                rename(columns=rename_columns).\n",
    "                set_index(primarykey).\n",
    "                sort_index().\n",
    "                reset_index().\n",
    "                dropna(subset=[primarykey]).\n",
    "                drop_duplicates()\n",
    "               )\n",
    "report_er_df = report_er_df.reindex(np.sort(report_er_df.columns),axis=1)\n",
    "report_er_df[primarykey] = report_er_df[primarykey].astype(str)       \n",
    "report_er_df = report_er_df.reindex(np.sort(report_er_df.columns),axis=1)\n",
    "print(report_er_df.info())\n",
    "report_er_df.head()"
   ]
  },
  {
   "cell_type": "code",
   "execution_count": null,
   "metadata": {
    "hidden": true
   },
   "outputs": [],
   "source": [
    "(report_er_df.\n",
    " groupby(primarykey).\n",
    " agg(max).\n",
    " reset_index().\n",
    " dropna(subset=[primarykey])\n",
    ").to_csv(er_dir+'report.csv.gz',compression='gzip',index=False)"
   ]
  },
  {
   "cell_type": "code",
   "execution_count": null,
   "metadata": {
    "hidden": true
   },
   "outputs": [],
   "source": [
    "del report_er_df"
   ]
  },
  {
   "cell_type": "markdown",
   "metadata": {
    "heading_collapsed": true
   },
   "source": [
    "### report_serious"
   ]
  },
  {
   "cell_type": "code",
   "execution_count": null,
   "metadata": {
    "hidden": true
   },
   "outputs": [],
   "source": [
    "columns = [primarykey,'serious',\n",
    "           'seriousnesscongenitalanomali',\n",
    "           'seriousnesslifethreatening',\n",
    "          'seriousnessdisabling',\n",
    "          'seriousnessdeath',\n",
    "          'seriousnessother']\n",
    "rename_columns = {           \n",
    "    'seriousnesscongenitalanomali' : 'congenital_anomali',\n",
    "    'seriousnesslifethreatening' : 'life_threatening',\n",
    "    'seriousnessdisabling' : 'disabling',\n",
    "    'seriousnessdeath' : 'death',\n",
    "    'seriousnessother' : 'other'}\n",
    "\n",
    "report_serious_er_df = (report_df[columns].\n",
    "                        rename(columns=rename_columns).\n",
    "                        set_index(primarykey).\n",
    "                        sort_index().\n",
    "                        reset_index().\n",
    "                        dropna(subset=[primarykey]).\n",
    "                        drop_duplicates().\n",
    "                        groupby(primarykey).\n",
    "                        first().\n",
    "                        reset_index().\n",
    "                        dropna(subset=[primarykey])\n",
    "                       )\n",
    "report_serious_er_df[primarykey] = report_serious_er_df[primarykey].astype(str)       \n",
    "report_serious_er_df = report_serious_er_df.reindex(np.sort(report_serious_er_df.columns),axis=1)\n",
    "print(report_serious_er_df.info())\n",
    "report_serious_er_df.head()"
   ]
  },
  {
   "cell_type": "code",
   "execution_count": null,
   "metadata": {
    "hidden": true
   },
   "outputs": [],
   "source": [
    "(report_serious_er_df).to_csv(er_dir+'report_serious.csv.gz',compression='gzip',index=False)"
   ]
  },
  {
   "cell_type": "markdown",
   "metadata": {
    "heading_collapsed": true
   },
   "source": [
    "### reporter"
   ]
  },
  {
   "cell_type": "code",
   "execution_count": null,
   "metadata": {
    "hidden": true
   },
   "outputs": [],
   "source": [
    "columns = [primarykey,'companynumb',\n",
    "           'primarysource.qualification',\n",
    "           'primarysource.reportercountry']\n",
    "rename_columns = {'companynumb' : 'reporter_company',\n",
    "                  'primarysource.qualification' : 'reporter_qualification',\n",
    "                  'primarysource.reportercountry' : 'reporter_country'}\n",
    "\n",
    "reporter_er_df = (report_df[columns].\n",
    "                  rename(columns=rename_columns).\n",
    "                  set_index(primarykey).\n",
    "                  sort_index().\n",
    "                  reset_index().\n",
    "                  dropna(subset=[primarykey]).\n",
    "                  drop_duplicates().\n",
    "                  groupby(primarykey).\n",
    "                  first().\n",
    "                  reset_index().\n",
    "                  dropna(subset=[primarykey])\n",
    "                 )\n",
    "reporter_er_df[primarykey] = reporter_er_df[primarykey].astype(str)  \n",
    "reporter_er_df = reporter_er_df.reindex(np.sort(reporter_er_df.columns),axis=1)\n",
    "print(reporter_er_df.info())\n",
    "reporter_er_df.head()"
   ]
  },
  {
   "cell_type": "code",
   "execution_count": null,
   "metadata": {
    "hidden": true
   },
   "outputs": [],
   "source": [
    "(reporter_er_df).to_csv(er_dir+'reporter.csv.gz',compression='gzip',index=False)"
   ]
  },
  {
   "cell_type": "code",
   "execution_count": null,
   "metadata": {
    "hidden": true
   },
   "outputs": [],
   "source": [
    "try:\n",
    "    del df\n",
    "except:\n",
    "    pass\n",
    "try:\n",
    "    del report_df\n",
    "except:\n",
    "    pass\n",
    "try:\n",
    "    del report_serious_er_df\n",
    "except:\n",
    "    pass\n",
    "try:\n",
    "    del report_er_df\n",
    "except:\n",
    "    pass\n",
    "try:\n",
    "    del reporter_er_df\n",
    "except:\n",
    "    pass"
   ]
  },
  {
   "cell_type": "markdown",
   "metadata": {
    "heading_collapsed": true
   },
   "source": [
    "### patient"
   ]
  },
  {
   "cell_type": "markdown",
   "metadata": {
    "heading_collapsed": true,
    "hidden": true
   },
   "source": [
    "#### patient_df"
   ]
  },
  {
   "cell_type": "code",
   "execution_count": null,
   "metadata": {
    "hidden": true
   },
   "outputs": [],
   "source": [
    "dir_ = data_dir+'patient/'\n",
    "files = glob.glob(dir_+'*.csv.gzip')\n",
    "results = []\n",
    "for file in files:\n",
    "    df = delayed(read_file)(file)\n",
    "    results.append(df)\n",
    "patient_df = (pd.concat(compute(*results),sort=True))\n",
    "patient_df[primarykey] = (patient_df[primarykey].astype(str))\n",
    "print(patient_df.columns.values)\n",
    "patient_df.head()"
   ]
  },
  {
   "cell_type": "markdown",
   "metadata": {
    "heading_collapsed": true,
    "hidden": true
   },
   "source": [
    "#### patient_er_df"
   ]
  },
  {
   "cell_type": "code",
   "execution_count": null,
   "metadata": {
    "hidden": true
   },
   "outputs": [],
   "source": [
    "columns = [primarykey,\n",
    "              'patient.patientonsetage',\n",
    "              'patient.patientonsetageunit',\n",
    "              'master_age',\n",
    "              'patient.patientsex',\n",
    "              'patient.patientweight'\n",
    "             ]\n",
    "rename_columns = {\n",
    "              'patient.patientonsetage' : 'patient_onsetage',\n",
    "              'patient.patientonsetageunit' : 'patient_onsetageunit',\n",
    "              'master_age': 'patient_custom_master_age',\n",
    "              'patient.patientsex' : 'patient_sex',\n",
    "              'patient.patientweight' : 'patient_weight'\n",
    "}\n",
    "\n",
    "patient_er_df = (patient_df[columns].\n",
    "                 rename(columns=rename_columns).\n",
    "                 set_index(primarykey).\n",
    "                 sort_index().\n",
    "                 reset_index().\n",
    "                 dropna(subset=[primarykey]).\n",
    "                 drop_duplicates().\n",
    "                 groupby(primarykey).\n",
    "                 first().\n",
    "                 reset_index().\n",
    "                 dropna(subset=[primarykey])\n",
    "                )\n",
    "patient_er_df = patient_er_df.reindex(np.sort(patient_er_df.columns),axis=1)\n",
    "print(patient_er_df.info())\n",
    "patient_er_df.head()"
   ]
  },
  {
   "cell_type": "code",
   "execution_count": null,
   "metadata": {
    "hidden": true
   },
   "outputs": [],
   "source": [
    "(patient_er_df).to_csv(er_dir+'patient.csv.gz',compression='gzip',index=False)"
   ]
  },
  {
   "cell_type": "code",
   "execution_count": null,
   "metadata": {
    "hidden": true
   },
   "outputs": [],
   "source": [
    "del df \n",
    "del patient_df"
   ]
  },
  {
   "cell_type": "markdown",
   "metadata": {
    "heading_collapsed": true
   },
   "source": [
    "### drug_characteristics"
   ]
  },
  {
   "cell_type": "markdown",
   "metadata": {
    "heading_collapsed": true,
    "hidden": true
   },
   "source": [
    "#### patient.drug"
   ]
  },
  {
   "cell_type": "code",
   "execution_count": null,
   "metadata": {
    "hidden": true,
    "scrolled": true
   },
   "outputs": [],
   "source": [
    "dir_ = data_dir+'patient_drug/'\n",
    "files = glob.glob(dir_+'*.csv.gzip')\n",
    "results = []\n",
    "for file in files:\n",
    "    df = delayed(read_file)(file)\n",
    "    results.append(df)\n",
    "patient_drug_df = (pd.concat(compute(*results),sort=True))\n",
    "patient_drug_df[primarykey] = (patient_drug_df[primarykey].astype(str))\n",
    "print(patient_drug_df.columns.values)\n",
    "patient_drug_df.head()"
   ]
  },
  {
   "cell_type": "markdown",
   "metadata": {
    "heading_collapsed": true,
    "hidden": true
   },
   "source": [
    "#### drugcharacteristics_er_df"
   ]
  },
  {
   "cell_type": "code",
   "execution_count": null,
   "metadata": {
    "hidden": true
   },
   "outputs": [],
   "source": [
    "columns = [primarykey,\n",
    "           'medicinalproduct',\n",
    "           'drugcharacterization',\n",
    "           'drugadministrationroute',\n",
    "           'drugindication'\n",
    "          ]\n",
    "rename_columns = {\n",
    "              'medicinalproduct' : 'medicinal_product',\n",
    "              'drugcharacterization' : 'drug_characterization',\n",
    "              'drugadministrationroute': 'drug_administration',\n",
    "    'drugindication' : 'drug_indication'\n",
    "}\n",
    "\n",
    "drugcharacteristics_er_df = (patient_drug_df[columns].\n",
    "                             rename(columns=rename_columns).\n",
    "                             set_index(primarykey).\n",
    "                             sort_index().\n",
    "                             reset_index().\n",
    "                             drop_duplicates().\n",
    "                             dropna(subset=[primarykey])\n",
    "                            )\n",
    "drugcharacteristics_er_df = (drugcharacteristics_er_df.\n",
    "                             reindex(np.sort(drugcharacteristics_er_df.columns),axis=1))\n",
    "print(drugcharacteristics_er_df.info())\n",
    "drugcharacteristics_er_df.head()"
   ]
  },
  {
   "cell_type": "code",
   "execution_count": null,
   "metadata": {
    "hidden": true
   },
   "outputs": [],
   "source": [
    "(drugcharacteristics_er_df\n",
    ").to_csv(er_dir+'drugcharacteristics.csv.gz',compression='gzip',index=False)"
   ]
  },
  {
   "cell_type": "code",
   "execution_count": null,
   "metadata": {
    "hidden": true
   },
   "outputs": [],
   "source": [
    "del drugcharacteristics_er_df\n",
    "del patient_drug_df\n",
    "del df"
   ]
  },
  {
   "cell_type": "markdown",
   "metadata": {
    "heading_collapsed": true
   },
   "source": [
    "### drugs"
   ]
  },
  {
   "cell_type": "markdown",
   "metadata": {
    "heading_collapsed": true,
    "hidden": true
   },
   "source": [
    "#### patient.drug.openfda.rxcui_df"
   ]
  },
  {
   "cell_type": "code",
   "execution_count": null,
   "metadata": {
    "hidden": true
   },
   "outputs": [],
   "source": [
    "dir_ = data_dir+'patient_drug_openfda_rxcui/'\n",
    "files = glob.glob(dir_+'*.csv.gzip')\n",
    "results = []\n",
    "for file in files:\n",
    "    df = delayed(read_file)(file)\n",
    "    results.append(df)\n",
    "patient_drug_openfda_rxcui_df = (pd.concat(compute(*results),sort=True))\n",
    "print(patient_drug_openfda_rxcui_df.columns.values)\n",
    "patient_drug_openfda_rxcui_df[primarykey] = (patient_drug_openfda_rxcui_df[primarykey].\n",
    "                                       astype(str))\n",
    "patient_drug_openfda_rxcui_df.value = (patient_drug_openfda_rxcui_df.\n",
    "                                 value.astype(int))\n",
    "patient_drug_openfda_rxcui_df.head()"
   ]
  },
  {
   "cell_type": "markdown",
   "metadata": {
    "heading_collapsed": true,
    "hidden": true
   },
   "source": [
    "#### drugs_er_df"
   ]
  },
  {
   "cell_type": "code",
   "execution_count": null,
   "metadata": {
    "hidden": true
   },
   "outputs": [],
   "source": [
    "columns = [primarykey,\n",
    "              'value'\n",
    "             ]\n",
    "rename_columns = {\n",
    "              'value' : 'rxcui'\n",
    "}\n",
    "\n",
    "drugs_er_df = (patient_drug_openfda_rxcui_df[columns].\n",
    "               rename(columns=rename_columns).\n",
    "               set_index(primarykey).\n",
    "               sort_index().\n",
    "               reset_index().\n",
    "               drop_duplicates().\n",
    "               dropna(subset=[primarykey])\n",
    "              )\n",
    "drugs_er_df = drugs_er_df.reindex(np.sort(drugs_er_df.columns),axis=1)\n",
    "print(drugs_er_df.info())\n",
    "drugs_er_df.head()"
   ]
  },
  {
   "cell_type": "code",
   "execution_count": null,
   "metadata": {
    "hidden": true
   },
   "outputs": [],
   "source": [
    "drugs_er_df['rxcui'] = drugs_er_df['rxcui'].astype(int)"
   ]
  },
  {
   "cell_type": "code",
   "execution_count": null,
   "metadata": {
    "hidden": true
   },
   "outputs": [],
   "source": [
    "drugs_er_df[primarykey] = drugs_er_df[primarykey].astype(str)"
   ]
  },
  {
   "cell_type": "code",
   "execution_count": null,
   "metadata": {
    "hidden": true
   },
   "outputs": [],
   "source": [
    "(drugs_er_df).to_csv(er_dir+'drugs.csv.gz',compression='gzip',index=False)"
   ]
  },
  {
   "cell_type": "code",
   "execution_count": null,
   "metadata": {
    "hidden": true
   },
   "outputs": [],
   "source": [
    "del patient_drug_openfda_rxcui_df\n",
    "del drugs_er_df\n",
    "del df"
   ]
  },
  {
   "cell_type": "markdown",
   "metadata": {
    "heading_collapsed": true
   },
   "source": [
    "### reactions"
   ]
  },
  {
   "cell_type": "markdown",
   "metadata": {
    "heading_collapsed": true,
    "hidden": true
   },
   "source": [
    "#### patient.reaction_df"
   ]
  },
  {
   "cell_type": "code",
   "execution_count": null,
   "metadata": {
    "hidden": true
   },
   "outputs": [],
   "source": [
    "dir_ = data_dir+'patient_reaction/'\n",
    "files = glob.glob(dir_+'*.csv.gzip')\n",
    "results = []\n",
    "for file in files:\n",
    "    df = delayed(read_file)(file)\n",
    "    results.append(df)\n",
    "patient_reaction_df = (pd.concat(compute(*results),sort=True))\n",
    "patient_reaction_df[primarykey] = (patient_reaction_df[primarykey].astype(str))\n",
    "print(patient_reaction_df.columns.values)\n",
    "patient_reaction_df.head()"
   ]
  },
  {
   "cell_type": "markdown",
   "metadata": {
    "heading_collapsed": true,
    "hidden": true
   },
   "source": [
    "#### patient_reaction_er_df"
   ]
  },
  {
   "cell_type": "code",
   "execution_count": null,
   "metadata": {
    "hidden": true
   },
   "outputs": [],
   "source": [
    "columns = [primarykey,\n",
    "              'reactionmeddrapt',\n",
    "           'reactionoutcome'\n",
    "             ]\n",
    "rename_columns = {\n",
    "              'reactionmeddrapt' : 'reaction_meddrapt',\n",
    "    'reactionoutcome' : 'reaction_outcome'\n",
    "}\n",
    "\n",
    "reactions_er_df = (patient_reaction_df[columns].\n",
    "                   rename(columns=rename_columns).\n",
    "                   set_index(primarykey).\n",
    "                   sort_index().\n",
    "                   reset_index().\n",
    "                   dropna(subset=[primarykey]).\n",
    "                   drop_duplicates()\n",
    "                  )\n",
    "reactions_er_df[primarykey] = reactions_er_df[primarykey].astype(str)\n",
    "reactions_er_df = reactions_er_df.reindex(np.sort(reactions_er_df.columns),axis=1)\n",
    "print(reactions_er_df.info())\n",
    "reactions_er_df.head()"
   ]
  },
  {
   "cell_type": "code",
   "execution_count": null,
   "metadata": {
    "hidden": true
   },
   "outputs": [],
   "source": [
    "(reactions_er_df).to_csv(er_dir+'reactions.csv.gz',compression='gzip',index=False)"
   ]
  },
  {
   "cell_type": "code",
   "execution_count": null,
   "metadata": {
    "hidden": true
   },
   "outputs": [],
   "source": [
    "del patient_reaction_df\n",
    "del reactions_er_df\n",
    "del df"
   ]
  },
  {
   "cell_type": "markdown",
   "metadata": {
    "heading_collapsed": true
   },
   "source": [
    "### omop tables for joining"
   ]
  },
  {
   "cell_type": "code",
   "execution_count": null,
   "metadata": {
    "hidden": true
   },
   "outputs": [],
   "source": [
    "concept = (pd.read_csv('../../vocabulary_SNOMED_MEDDRA_RxNorm_ATC/CONCEPT.csv',sep='\\t',\n",
    "                      dtype={\n",
    "                          'concept_id' : 'int'\n",
    "                      }))\n",
    "concept.head()"
   ]
  },
  {
   "cell_type": "code",
   "execution_count": null,
   "metadata": {
    "hidden": true
   },
   "outputs": [],
   "source": [
    "concept_relationship = (pd.\n",
    "                        read_csv('../../vocabulary_SNOMED_MEDDRA_RxNorm_ATC/'+\n",
    "                                 'CONCEPT_RELATIONSHIP.csv',sep='\\t',\n",
    "                                dtype={\n",
    "                                    'concept_id_1' : 'int',\n",
    "                                    'concept_id_2' : 'int'\n",
    "                                }))\n",
    "concept_relationship.head()"
   ]
  },
  {
   "cell_type": "markdown",
   "metadata": {
    "heading_collapsed": true
   },
   "source": [
    "### standard_drugs"
   ]
  },
  {
   "cell_type": "code",
   "execution_count": null,
   "metadata": {
    "hidden": true
   },
   "outputs": [],
   "source": [
    "drugs = (pd.read_csv(\n",
    "    er_dir+'drugs.csv.gz',\n",
    "    compression='gzip',\n",
    "    dtype={\n",
    "        'safetyreportid' : 'str'\n",
    "    }\n",
    ")\n",
    "        )"
   ]
  },
  {
   "cell_type": "code",
   "execution_count": null,
   "metadata": {
    "hidden": true
   },
   "outputs": [],
   "source": [
    "drugs['rxcui'] = drugs['rxcui'].astype(int)"
   ]
  },
  {
   "cell_type": "code",
   "execution_count": null,
   "metadata": {
    "hidden": true
   },
   "outputs": [],
   "source": [
    "urxcuis = drugs['rxcui'].unique()"
   ]
  },
  {
   "cell_type": "code",
   "execution_count": null,
   "metadata": {
    "hidden": true
   },
   "outputs": [],
   "source": [
    "print(len(urxcuis))\n",
    "urxcuis[:5]"
   ]
  },
  {
   "cell_type": "code",
   "execution_count": null,
   "metadata": {
    "hidden": true
   },
   "outputs": [],
   "source": [
    "rxnorm_concept = concept.query('vocabulary_id==\"RxNorm\"')"
   ]
  },
  {
   "cell_type": "code",
   "execution_count": null,
   "metadata": {
    "hidden": true
   },
   "outputs": [],
   "source": [
    "concept_codes = rxnorm_concept['concept_code'].astype(int).unique()\n",
    "print(len(concept_codes))\n",
    "print(len(urxcuis))\n",
    "\n",
    "intersect = np.intersect1d(concept_codes,urxcuis)\n",
    "\n",
    "print(len(intersect))\n",
    "print(len(intersect)/len(urxcuis))"
   ]
  },
  {
   "cell_type": "code",
   "execution_count": null,
   "metadata": {
    "hidden": true
   },
   "outputs": [],
   "source": [
    "del urxcuis\n",
    "del concept_codes"
   ]
  },
  {
   "cell_type": "code",
   "execution_count": null,
   "metadata": {
    "hidden": true
   },
   "outputs": [],
   "source": [
    "rxnorm_concept = concept.query('vocabulary_id==\"RxNorm\"')\n",
    "\n",
    "rxnorm_concept_ids = (rxnorm_concept.\n",
    "                      query('concept_code in @intersect')['concept_id'].\n",
    "                      astype(int).\n",
    "                      unique()\n",
    "                     )\n",
    "all_rxnorm_concept_ids = (rxnorm_concept['concept_id'].\n",
    "                          unique()\n",
    "                         )\n",
    "\n",
    "r = (concept_relationship.\n",
    "     copy().\n",
    "     loc[:,['concept_id_1','concept_id_2','relationship_id']].\n",
    "     drop_duplicates()\n",
    "    )\n",
    "c = rxnorm_concept.copy()\n",
    "c['concept_id'] = c['concept_id'].astype(int)\n",
    "c['concept_code'] = c['concept_code'].astype(int)\n",
    "\n",
    "joined = (drugs.\n",
    "          set_index('rxcui').\n",
    "          join(\n",
    "              c. \n",
    "              query('vocabulary_id==\"RxNorm\"').\n",
    "              loc[:,['concept_id','concept_code','concept_name','concept_class_id']].\n",
    "              drop_duplicates().\n",
    "              set_index('concept_code')\n",
    "          ).\n",
    "          dropna().\n",
    "          rename_axis('RxNorm_concept_code').\n",
    "          reset_index().\n",
    "          rename(\n",
    "              columns={\n",
    "                  'concept_class_id' : 'RxNorm_concept_class_id',\n",
    "                  'concept_name' : 'RxNorm_concept_name',\n",
    "                  'concept_id' : 'RxNorm_concept_id'\n",
    "              }\n",
    "          ).\n",
    "          dropna(subset=['RxNorm_concept_id']).\n",
    "          drop_duplicates()\n",
    "         )\n",
    "joined = (joined.\n",
    "          reindex(np.sort(joined.columns),axis=1)\n",
    "         )\n",
    "print(joined.shape)\n",
    "print(joined.head())"
   ]
  },
  {
   "cell_type": "code",
   "execution_count": null,
   "metadata": {
    "hidden": true
   },
   "outputs": [],
   "source": [
    "len(np.intersect1d(joined.RxNorm_concept_code.unique(),intersect))/len(intersect)"
   ]
  },
  {
   "cell_type": "code",
   "execution_count": null,
   "metadata": {
    "hidden": true
   },
   "outputs": [],
   "source": [
    "ids = joined.RxNorm_concept_id.dropna().astype(int).unique()"
   ]
  },
  {
   "cell_type": "code",
   "execution_count": null,
   "metadata": {
    "hidden": true
   },
   "outputs": [],
   "source": [
    "pickle.dump(\n",
    "    ids,\n",
    "    open('../../data/all_openFDA_rxnorm_concept_ids.pkl','wb')\n",
    ")"
   ]
  },
  {
   "cell_type": "code",
   "execution_count": null,
   "metadata": {
    "hidden": true
   },
   "outputs": [],
   "source": [
    "(joined.to_csv(er_dir+'standard_drugs.csv.gz',compression='gzip',index=False))"
   ]
  },
  {
   "cell_type": "code",
   "execution_count": null,
   "metadata": {
    "hidden": true
   },
   "outputs": [],
   "source": [
    "del joined"
   ]
  },
  {
   "cell_type": "markdown",
   "metadata": {
    "heading_collapsed": true
   },
   "source": [
    "### standard_reactions"
   ]
  },
  {
   "cell_type": "code",
   "execution_count": null,
   "metadata": {
    "hidden": true
   },
   "outputs": [],
   "source": [
    "patient_reaction_df = (pd.read_csv(\n",
    "    er_dir+'reactions.csv.gz',\n",
    "    compression='gzip',\n",
    "                               dtype={\n",
    "                                   'safetyreportid' : 'str'\n",
    "                               }\n",
    "                              ))\n",
    "all_reports = patient_reaction_df.safetyreportid.unique()\n",
    "print(patient_reaction_df.columns)\n",
    "print(patient_reaction_df.safetyreportid.nunique())\n",
    "print(patient_reaction_df.reaction_meddrapt.nunique())"
   ]
  },
  {
   "cell_type": "code",
   "execution_count": null,
   "metadata": {
    "hidden": true
   },
   "outputs": [],
   "source": [
    "patient_reaction_df.head()"
   ]
  },
  {
   "cell_type": "code",
   "execution_count": null,
   "metadata": {
    "hidden": true
   },
   "outputs": [],
   "source": [
    "meddra_concept = concept.query('vocabulary_id==\"MedDRA\"')\n",
    "meddra_concept.head()"
   ]
  },
  {
   "cell_type": "code",
   "execution_count": null,
   "metadata": {
    "hidden": true
   },
   "outputs": [],
   "source": [
    "reactions = patient_reaction_df.reaction_meddrapt.copy().astype(str).str.title().unique()\n",
    "print(len(reactions))\n",
    "concept_names = meddra_concept.concept_name.astype(str).str.title().unique()\n",
    "print(len(concept_names))\n",
    "\n",
    "intersect_title = np.intersect1d(reactions,concept_names)\n",
    "print(len(intersect_title))\n",
    "\n",
    "print(len(intersect_title)/len(reactions))"
   ]
  },
  {
   "cell_type": "code",
   "execution_count": null,
   "metadata": {
    "hidden": true
   },
   "outputs": [],
   "source": [
    "patient_reaction_df['reaction_meddrapt'] = (patient_reaction_df['reaction_meddrapt'].\n",
    "                                            astype(str).\n",
    "                                            str.\n",
    "                                            title())\n",
    "meddra_concept['concept_name'] = (meddra_concept['concept_name'].\n",
    "                                  astype(str).\n",
    "                                  str.\n",
    "                                  title())\n",
    "print(patient_reaction_df.shape[0])\n",
    "\n",
    "joined = ((patient_reaction_df.\n",
    "  set_index('reaction_meddrapt').\n",
    "  join(\n",
    "      meddra_concept.\n",
    "      query('concept_class_id==\"PT\"').\n",
    "      loc[:,['concept_id','concept_name','concept_code','concept_class_id']].\n",
    "      drop_duplicates().\n",
    "      set_index('concept_name')\n",
    "  ).\n",
    "           rename(columns={'concept_id' : 'MedDRA_concept_id',\n",
    "                          'concept_code' : 'MedDRA_concept_code',\n",
    "                          'concept_class_id' : 'MedDRA_concept_class_id'}).\n",
    "           drop_duplicates()\n",
    " )\n",
    ").rename_axis('MedDRA_concept_name').reset_index()\n",
    "joined = joined.reindex(np.sort(joined.columns),axis=1)\n",
    "print(joined.shape[0])\n",
    "print(joined.head())"
   ]
  },
  {
   "cell_type": "code",
   "execution_count": null,
   "metadata": {
    "hidden": true
   },
   "outputs": [],
   "source": [
    "del meddra_concept\n",
    "del patient_reaction_df"
   ]
  },
  {
   "cell_type": "code",
   "execution_count": null,
   "metadata": {
    "hidden": true
   },
   "outputs": [],
   "source": [
    "joined_notnull = joined[joined.MedDRA_concept_id.notnull()]\n",
    "print(joined_notnull.shape[0])\n",
    "joined_notnull['MedDRA_concept_id'] = joined_notnull['MedDRA_concept_id'].astype(int)\n",
    "print(joined_notnull.head())"
   ]
  },
  {
   "cell_type": "code",
   "execution_count": null,
   "metadata": {
    "hidden": true
   },
   "outputs": [],
   "source": [
    "print(\n",
    "    len(\n",
    "        np.intersect1d(\n",
    "            all_reports,\n",
    "            joined_notnull.safetyreportid.astype(str).unique()\n",
    "        )\n",
    "    )/len(all_reports)\n",
    ")"
   ]
  },
  {
   "cell_type": "code",
   "execution_count": null,
   "metadata": {
    "hidden": true
   },
   "outputs": [],
   "source": [
    "print(joined_notnull.MedDRA_concept_class_id.value_counts())\n",
    "print(joined_notnull.safetyreportid.nunique())\n",
    "print(joined_notnull.MedDRA_concept_id.nunique())"
   ]
  },
  {
   "cell_type": "code",
   "execution_count": null,
   "metadata": {
    "hidden": true
   },
   "outputs": [],
   "source": [
    "pickle.dump(\n",
    "    joined_notnull.MedDRA_concept_id.astype(int).unique,\n",
    "    open('../../data/all_openFDA_meddra_concept_ids.pkl','wb')\n",
    ")"
   ]
  },
  {
   "cell_type": "code",
   "execution_count": null,
   "metadata": {
    "hidden": true
   },
   "outputs": [],
   "source": [
    "(joined_notnull.to_csv(er_dir+'standard_reactions.csv.gz',compression='gzip',index=False))"
   ]
  },
  {
   "cell_type": "code",
   "execution_count": null,
   "metadata": {
    "hidden": true
   },
   "outputs": [],
   "source": [
    "del joined_notnull"
   ]
  },
  {
   "cell_type": "code",
   "execution_count": null,
   "metadata": {
    "hidden": true
   },
   "outputs": [],
   "source": [
    "del joined"
   ]
  },
  {
   "cell_type": "markdown",
   "metadata": {
    "heading_collapsed": true
   },
   "source": [
    "### standard_drugs_atc"
   ]
  },
  {
   "cell_type": "code",
   "execution_count": null,
   "metadata": {
    "hidden": true
   },
   "outputs": [],
   "source": [
    "standard_drugs = (pd.read_csv(\n",
    "    er_dir+'standard_drugs.csv.gz',\n",
    "    compression='gzip',\n",
    "    dtype={\n",
    "        'safetyreportid' : 'str'\n",
    "    }\n",
    "))"
   ]
  },
  {
   "cell_type": "code",
   "execution_count": null,
   "metadata": {
    "hidden": true
   },
   "outputs": [],
   "source": [
    "all_reports = standard_drugs.safetyreportid.unique()\n",
    "len(all_reports)"
   ]
  },
  {
   "cell_type": "code",
   "execution_count": null,
   "metadata": {
    "hidden": true
   },
   "outputs": [],
   "source": [
    "standard_drugs.RxNorm_concept_id = standard_drugs.RxNorm_concept_id.astype(int)"
   ]
  },
  {
   "cell_type": "code",
   "execution_count": null,
   "metadata": {
    "hidden": true
   },
   "outputs": [],
   "source": [
    "standard_drugs.head()"
   ]
  },
  {
   "cell_type": "code",
   "execution_count": null,
   "metadata": {
    "hidden": true
   },
   "outputs": [],
   "source": [
    "rxnorm_concept = concept.query('vocabulary_id==\"RxNorm\"')\n",
    "rxnorm_concept_ids = rxnorm_concept['concept_id'].unique()"
   ]
  },
  {
   "cell_type": "code",
   "execution_count": null,
   "metadata": {
    "hidden": true
   },
   "outputs": [],
   "source": [
    "openfda_concept_ids = standard_drugs.RxNorm_concept_id.dropna().astype(int).unique()"
   ]
  },
  {
   "cell_type": "code",
   "execution_count": null,
   "metadata": {
    "hidden": true
   },
   "outputs": [],
   "source": [
    "atc_concept = concept.query('vocabulary_id==\"ATC\" & concept_class_id==\"ATC 5th\"')\n",
    "\n",
    "r = (concept_relationship.\n",
    "     copy().\n",
    "     loc[:,['concept_id_1','concept_id_2','relationship_id']].\n",
    "     drop_duplicates()\n",
    "    )\n",
    "                            \n",
    "r['concept_id_1'] = r['concept_id_1'].astype(int)\n",
    "r['concept_id_2'] = r['concept_id_2'].astype(int)\n",
    "ac = atc_concept.copy()\n",
    "ac['concept_id'] = ac['concept_id'].astype(int)\n",
    "atc_concept_ids = ac['concept_id'].unique()\n",
    "rc = rxnorm_concept.copy()\n",
    "rc['concept_id'] = rc['concept_id'].astype(int)\n",
    "rxnorm_concept_ids = rc['concept_id'].unique()"
   ]
  },
  {
   "cell_type": "code",
   "execution_count": null,
   "metadata": {
    "hidden": true
   },
   "outputs": [],
   "source": [
    "rxnorm_to_atc_relationships = (r.\n",
    "                         query('concept_id_1 in @openfda_concept_ids & '\\\n",
    "                               'concept_id_2 in @atc_concept_ids').\n",
    "                         set_index('concept_id_1').\n",
    "                         join(\n",
    "                             rc. # standard concepts for 1\n",
    "                             loc[:,['concept_id','concept_code',\n",
    "                                    'concept_name','concept_class_id']].\n",
    "                             drop_duplicates().\n",
    "                             set_index('concept_id')\n",
    "                         ).\n",
    "                         rename_axis('RxNorm_concept_id').\n",
    "                         reset_index().\n",
    "                         dropna().\n",
    "                         rename(\n",
    "                             columns={\n",
    "                                 'concept_code' : 'RxNorm_concept_code',\n",
    "                                 'concept_class_id' : 'RxNorm_concept_class_id',\n",
    "                                 'concept_name' : 'RxNorm_concept_name',\n",
    "                                 'concept_id_2' : 'ATC_concept_id',\n",
    "                             }\n",
    "                         ).\n",
    "                         set_index('ATC_concept_id').\n",
    "                         join(\n",
    "                             ac. # standard concepts for 2\n",
    "                             loc[:,['concept_id','concept_code',\n",
    "                                    'concept_name','concept_class_id']].\n",
    "                             drop_duplicates().\n",
    "                             set_index('concept_id')\n",
    "                         ).\n",
    "                         dropna().\n",
    "                         rename_axis('ATC_concept_id').\n",
    "                         reset_index().\n",
    "                         rename(\n",
    "                             columns={\n",
    "                                 'concept_code' : 'ATC_concept_code',\n",
    "                                 'concept_class_id' : 'ATC_concept_class_id',\n",
    "                                 'concept_name' : 'ATC_concept_name'\n",
    "                             }\n",
    "                         )\n",
    "                        )\n",
    "rxnorm_to_atc_relationships.RxNorm_concept_id = \\\n",
    "(rxnorm_to_atc_relationships.RxNorm_concept_id.\n",
    "astype(int))\n",
    "rxnorm_to_atc_relationships.ATC_concept_id = \\\n",
    "(rxnorm_to_atc_relationships.ATC_concept_id.\n",
    "astype(int))\n",
    "\n",
    "rxnorm_to_atc_relationships = (rxnorm_to_atc_relationships.\n",
    "                            reindex(np.sort(rxnorm_to_atc_relationships.columns),axis=1)\n",
    "                           )\n",
    "print(rxnorm_to_atc_relationships.shape)\n",
    "print(rxnorm_to_atc_relationships.head())"
   ]
  },
  {
   "cell_type": "code",
   "execution_count": null,
   "metadata": {
    "hidden": true
   },
   "outputs": [],
   "source": [
    "rxnorm_to_atc_relationships.ATC_concept_class_id.value_counts()"
   ]
  },
  {
   "cell_type": "code",
   "execution_count": null,
   "metadata": {
    "hidden": true
   },
   "outputs": [],
   "source": [
    "del r\n",
    "del ac\n",
    "del rc"
   ]
  },
  {
   "cell_type": "code",
   "execution_count": null,
   "metadata": {
    "hidden": true
   },
   "outputs": [],
   "source": [
    "standard_drugs_atc = (standard_drugs.\n",
    "                      loc[:,['RxNorm_concept_id','safetyreportid']].\n",
    "                      drop_duplicates().\n",
    "                      set_index('RxNorm_concept_id').\n",
    "                      join(rxnorm_to_atc_relationships.\n",
    "                           set_index('RxNorm_concept_id')\n",
    "                          ).\n",
    "                      drop_duplicates().\n",
    "                      reset_index(drop=True).\n",
    "                      drop(['RxNorm_concept_code','RxNorm_concept_name',\n",
    "                            'RxNorm_concept_class_id','relationship_id'],axis=1).\n",
    "                      dropna(subset=['ATC_concept_id']).\n",
    "                      drop_duplicates()\n",
    "                     )\n",
    "\n",
    "standard_drugs_atc = \\\n",
    "standard_drugs_atc.reindex(np.sort(standard_drugs_atc.columns),axis=1)\n",
    "standard_drugs_atc.ATC_concept_id = standard_drugs_atc.ATC_concept_id.astype(int)\n",
    "print(len(\n",
    "    np.intersect1d(all_reports,\n",
    "                   standard_drugs_atc.safetyreportid.unique()\n",
    "                  )\n",
    ")/len(all_reports))\n",
    "print(standard_drugs_atc.shape)\n",
    "print(standard_drugs_atc.info())\n",
    "print(standard_drugs_atc.head())"
   ]
  },
  {
   "cell_type": "code",
   "execution_count": null,
   "metadata": {
    "hidden": true
   },
   "outputs": [],
   "source": [
    "del standard_drugs\n",
    "del rxnorm_to_atc_relationships"
   ]
  },
  {
   "cell_type": "code",
   "execution_count": null,
   "metadata": {
    "hidden": true
   },
   "outputs": [],
   "source": [
    "standard_drugs_atc.to_csv(er_dir+'standard_drugs_atc.csv.gz',compression='gzip',index=False)"
   ]
  },
  {
   "cell_type": "code",
   "execution_count": null,
   "metadata": {
    "hidden": true
   },
   "outputs": [],
   "source": [
    "del standard_drugs_atc"
   ]
  },
  {
   "cell_type": "markdown",
   "metadata": {
    "heading_collapsed": true
   },
   "source": [
    "### standard_drugs_rxnorm_ingredients\n",
    "\n",
    "https://www.nlm.nih.gov/research/umls/rxnorm/overview.html"
   ]
  },
  {
   "cell_type": "code",
   "execution_count": null,
   "metadata": {
    "hidden": true
   },
   "outputs": [],
   "source": [
    "all_openFDA_rxnorm_concept_ids = pickle.load(\n",
    "    open('../../data/all_openFDA_rxnorm_concept_ids.pkl','rb')\n",
    ")"
   ]
  },
  {
   "cell_type": "code",
   "execution_count": null,
   "metadata": {
    "hidden": true
   },
   "outputs": [],
   "source": [
    "all_openFDA_rxnorm_concept_ids"
   ]
  },
  {
   "cell_type": "code",
   "execution_count": null,
   "metadata": {
    "hidden": true
   },
   "outputs": [],
   "source": [
    "all_rxnorm_concept_ids = (concept.\n",
    "                          query('vocabulary_id==\"RxNorm\"').\n",
    "                          concept_id.\n",
    "                          astype(int).\n",
    "                          unique()\n",
    "                         )"
   ]
  },
  {
   "cell_type": "code",
   "execution_count": null,
   "metadata": {
    "hidden": true
   },
   "outputs": [],
   "source": [
    "r = (concept_relationship.\n",
    "     loc[:,['concept_id_1','concept_id_2','relationship_id']].\n",
    "    drop_duplicates().\n",
    "    dropna().\n",
    "     copy()\n",
    "    )\n",
    "r.concept_id_1 = r.concept_id_1.astype(int)\n",
    "r.concept_id_2 = r.concept_id_2.astype(int)"
   ]
  },
  {
   "cell_type": "code",
   "execution_count": null,
   "metadata": {
    "hidden": true
   },
   "outputs": [],
   "source": [
    "c = (concept.\n",
    "    query('vocabulary_id==\"RxNorm\" & standard_concept==\"S\"').\n",
    "    loc[:,['concept_id','concept_code',\n",
    "          'concept_class_id','concept_name']].\n",
    "    drop_duplicates().\n",
    "    dropna().\n",
    "     copy()\n",
    "    )\n",
    "c.concept_id = c.concept_id.astype(int).copy()"
   ]
  },
  {
   "cell_type": "code",
   "execution_count": null,
   "metadata": {
    "hidden": true
   },
   "outputs": [],
   "source": [
    "all_rxnorm_concept_ids = concept.query('vocabulary_id==\"RxNorm\"').concept_id.astype(int).unique()\n",
    "rxnorm_relationships = (r.\n",
    " query('concept_id_1 in @all_rxnorm_concept_ids & '+\n",
    "       'concept_id_2 in @all_rxnorm_concept_ids').\n",
    " relationship_id.\n",
    " value_counts()\n",
    ")\n",
    "rxnorm_relationships"
   ]
  },
  {
   "cell_type": "code",
   "execution_count": null,
   "metadata": {
    "hidden": true
   },
   "outputs": [],
   "source": [
    "first_second_relations = (r.\n",
    "                          query('concept_id_1 in @all_openFDA_rxnorm_concept_ids').\n",
    "                          set_index('concept_id_1').\n",
    "                          join(c.\n",
    "                               set_index('concept_id')).\n",
    "                          rename(\n",
    "                              columns={\n",
    "                                  'concept_id_1' : 'RxNorm_concept_id_1',\n",
    "                                  'concept_code' : 'RxNorm_concept_code_1',\n",
    "                                  'concept_class_id' : 'RxNorm_concept_class_id_1',\n",
    "                                  'concept_name' : 'RxNorm_concept_name_1'\n",
    "                              }\n",
    "                          ).\n",
    "                          rename_axis('RxNorm_concept_id_1').\n",
    "                          reset_index().\n",
    "                          set_index('concept_id_2').\n",
    "                          join(c.\n",
    "                               set_index('concept_id')\n",
    "                              ).\n",
    "                          rename(\n",
    "                              columns={'concept_id_2' : 'RxNorm_concept_id_2',\n",
    "                                       'concept_code' : 'RxNorm_concept_code_2',\n",
    "                                       'concept_class_id' : 'RxNorm_concept_class_id_2',\n",
    "                                       'concept_name' : 'RxNorm_concept_name_2',\n",
    "                                       'relationship_id' :'relationship_id_12'\n",
    "                                      }\n",
    "                          ).\n",
    "                          rename_axis('RxNorm_concept_id_2').\n",
    "                          reset_index().\n",
    "                          dropna().\n",
    "                          drop_duplicates()\n",
    "                         )\n",
    "first_second_relations = first_second_relations[\n",
    "    first_second_relations.RxNorm_concept_id_1!=first_second_relations.RxNorm_concept_id_2\n",
    "]\n",
    "print(first_second_relations.shape)\n",
    "first_second_relations = (first_second_relations.\n",
    "                          reindex(np.sort(first_second_relations.columns),\n",
    "                                  axis=1)\n",
    "                         )\n",
    "print(first_second_relations.head())"
   ]
  },
  {
   "cell_type": "code",
   "execution_count": null,
   "metadata": {
    "hidden": true
   },
   "outputs": [],
   "source": [
    "(first_second_relations.loc[:,['RxNorm_concept_class_id_1','RxNorm_concept_class_id_2']].\n",
    "groupby(['RxNorm_concept_class_id_1','RxNorm_concept_class_id_2']).\n",
    " count()\n",
    ")"
   ]
  },
  {
   "cell_type": "code",
   "execution_count": null,
   "metadata": {
    "hidden": true
   },
   "outputs": [],
   "source": [
    "ids = first_second_relations.RxNorm_concept_id_2.astype(int).unique()\n",
    "\n",
    "second_third_relations = (r.\n",
    "                          query('concept_id_1 in @ids').\n",
    "                          set_index('concept_id_1').\n",
    "                          join(c.\n",
    "                               set_index('concept_id')).\n",
    "                          rename(\n",
    "                              columns={\n",
    "                                  'concept_id_1' : 'RxNorm_concept_id_2',\n",
    "                                  'concept_code' : 'RxNorm_concept_code_2',\n",
    "                                  'concept_class_id' : 'RxNorm_concept_class_id_2',\n",
    "                                  'concept_name' : 'RxNorm_concept_name_2'\n",
    "                              }\n",
    "                          ).\n",
    "                          rename_axis('RxNorm_concept_id_2').\n",
    "                          reset_index().\n",
    "                          set_index('concept_id_2').\n",
    "                          join(c.\n",
    "                               set_index('concept_id')\n",
    "                              ).\n",
    "                          rename(\n",
    "                              columns={'concept_id_2' : 'RxNorm_concept_id_3',\n",
    "                                       'concept_code' : 'RxNorm_concept_code_3',\n",
    "                                       'concept_class_id' : 'RxNorm_concept_class_id_3',\n",
    "                                       'concept_name' : 'RxNorm_concept_name_3',\n",
    "                                       'relationship_id' :'relationship_id_23'\n",
    "                                      }\n",
    "                          ).\n",
    "                          rename_axis('RxNorm_concept_id_3').\n",
    "                          reset_index().\n",
    "                          dropna().\n",
    "                          drop_duplicates()\n",
    "                         )\n",
    "second_third_relations = second_third_relations[\n",
    "    second_third_relations.RxNorm_concept_id_2!=second_third_relations.RxNorm_concept_id_3\n",
    "]\n",
    "print(second_third_relations.shape)\n",
    "second_third_relations = (second_third_relations.\n",
    "                          reindex(np.sort(second_third_relations.columns),\n",
    "                                  axis=1)\n",
    "                         )\n",
    "print(second_third_relations.head())"
   ]
  },
  {
   "cell_type": "code",
   "execution_count": null,
   "metadata": {
    "hidden": true
   },
   "outputs": [],
   "source": [
    "(second_third_relations.loc[:,['RxNorm_concept_class_id_2','RxNorm_concept_class_id_3']].\n",
    "groupby(['RxNorm_concept_class_id_2','RxNorm_concept_class_id_3']).\n",
    " count()\n",
    ")"
   ]
  },
  {
   "cell_type": "code",
   "execution_count": null,
   "metadata": {
    "hidden": true
   },
   "outputs": [],
   "source": [
    "ids = second_third_relations.RxNorm_concept_id_3.astype(int).unique()\n",
    "\n",
    "third_fourth_relations = (r.\n",
    "                          query('concept_id_1 in @ids').\n",
    "                          set_index('concept_id_1').\n",
    "                          join(c.\n",
    "                               set_index('concept_id')).\n",
    "                          rename(\n",
    "                              columns={\n",
    "                                  'concept_id_1' : 'RxNorm_concept_id_3',\n",
    "                                  'concept_code' : 'RxNorm_concept_code_3',\n",
    "                                  'concept_class_id' : 'RxNorm_concept_class_id_3',\n",
    "                                  'concept_name' : 'RxNorm_concept_name_3'\n",
    "                              }\n",
    "                          ).\n",
    "                          rename_axis('RxNorm_concept_id_3').\n",
    "                          reset_index().\n",
    "                          set_index('concept_id_2').\n",
    "                          join(c.\n",
    "                               set_index('concept_id')\n",
    "                              ).\n",
    "                          rename(\n",
    "                              columns={'concept_id_2' : 'RxNorm_concept_id_4',\n",
    "                                       'concept_code' : 'RxNorm_concept_code_4',\n",
    "                                       'concept_class_id' : 'RxNorm_concept_class_id_4',\n",
    "                                       'concept_name' : 'RxNorm_concept_name_4',\n",
    "                                       'relationship_id' :'relationship_id_34'\n",
    "                                      }\n",
    "                          ).\n",
    "                          rename_axis('RxNorm_concept_id_4').\n",
    "                          reset_index().\n",
    "                          dropna().\n",
    "                          drop_duplicates()\n",
    "                         )\n",
    "third_fourth_relations = third_fourth_relations[\n",
    "    third_fourth_relations.RxNorm_concept_id_3!=third_fourth_relations.RxNorm_concept_id_4\n",
    "]\n",
    "print(third_fourth_relations.shape)\n",
    "third_fourth_relations = (third_fourth_relations.\n",
    "                          reindex(np.sort(third_fourth_relations.columns),\n",
    "                                  axis=1)\n",
    "                         )\n",
    "print(third_fourth_relations.head())"
   ]
  },
  {
   "cell_type": "code",
   "execution_count": null,
   "metadata": {
    "hidden": true
   },
   "outputs": [],
   "source": [
    "(third_fourth_relations.loc[:,['RxNorm_concept_class_id_3','RxNorm_concept_class_id_4']].\n",
    "groupby(['RxNorm_concept_class_id_3','RxNorm_concept_class_id_4']).\n",
    " count()\n",
    ")"
   ]
  },
  {
   "cell_type": "code",
   "execution_count": null,
   "metadata": {
    "hidden": true
   },
   "outputs": [],
   "source": [
    "ids = third_fourth_relations.RxNorm_concept_id_4.astype(int).unique()\n",
    "\n",
    "fourth_fifth_relations = (r.\n",
    "                          query('concept_id_1 in @ids').\n",
    "                          set_index('concept_id_1').\n",
    "                          join(c.\n",
    "                               set_index('concept_id')).\n",
    "                          rename(\n",
    "                              columns={\n",
    "                                  'concept_id_1' : 'RxNorm_concept_id_4',\n",
    "                                  'concept_code' : 'RxNorm_concept_code_4',\n",
    "                                  'concept_class_id' : 'RxNorm_concept_class_id_4',\n",
    "                                  'concept_name' : 'RxNorm_concept_name_4'\n",
    "                              }\n",
    "                          ).\n",
    "                          rename_axis('RxNorm_concept_id_4').\n",
    "                          reset_index().\n",
    "                          set_index('concept_id_2').\n",
    "                          join(c.\n",
    "                               set_index('concept_id')\n",
    "                              ).\n",
    "                          rename(\n",
    "                              columns={'concept_id_2' : 'RxNorm_concept_id_5',\n",
    "                                       'concept_code' : 'RxNorm_concept_code_5',\n",
    "                                       'concept_class_id' : 'RxNorm_concept_class_id_5',\n",
    "                                       'concept_name' : 'RxNorm_concept_name_5',\n",
    "                                       'relationship_id' :'relationship_id_45'\n",
    "                                      }\n",
    "                          ).\n",
    "                          rename_axis('RxNorm_concept_id_5').\n",
    "                          reset_index().\n",
    "                          dropna().\n",
    "                          drop_duplicates()\n",
    "                         )\n",
    "fourth_fifth_relations = fourth_fifth_relations[\n",
    "    fourth_fifth_relations.RxNorm_concept_id_4!=fourth_fifth_relations.RxNorm_concept_id_5\n",
    "]\n",
    "print(fourth_fifth_relations.shape)\n",
    "fourth_fifth_relations = (fourth_fifth_relations.\n",
    "                          reindex(np.sort(fourth_fifth_relations.columns),\n",
    "                                  axis=1)\n",
    "                         )\n",
    "print(fourth_fifth_relations.head())"
   ]
  },
  {
   "cell_type": "code",
   "execution_count": null,
   "metadata": {
    "hidden": true
   },
   "outputs": [],
   "source": [
    "(fourth_fifth_relations.loc[:,['RxNorm_concept_class_id_4','RxNorm_concept_class_id_5']].\n",
    "groupby(['RxNorm_concept_class_id_4','RxNorm_concept_class_id_5']).\n",
    " count()\n",
    ")"
   ]
  },
  {
   "cell_type": "code",
   "execution_count": null,
   "metadata": {
    "hidden": true
   },
   "outputs": [],
   "source": [
    "ids = fourth_fifth_relations.RxNorm_concept_id_4.astype(int).unique()\n",
    "\n",
    "fifth_sixth_relations = (r.\n",
    "                          query('concept_id_1 in @ids').\n",
    "                          set_index('concept_id_1').\n",
    "                          join(c.\n",
    "                               set_index('concept_id')).\n",
    "                          rename(\n",
    "                              columns={\n",
    "                                  'concept_id_1' : 'RxNorm_concept_id_5',\n",
    "                                  'concept_code' : 'RxNorm_concept_code_5',\n",
    "                                  'concept_class_id' : 'RxNorm_concept_class_id_5',\n",
    "                                  'concept_name' : 'RxNorm_concept_name_5'\n",
    "                              }\n",
    "                          ).\n",
    "                          rename_axis('RxNorm_concept_id_5').\n",
    "                          reset_index().\n",
    "                          set_index('concept_id_2').\n",
    "                          join(c.\n",
    "                               set_index('concept_id')\n",
    "                              ).\n",
    "                          rename(\n",
    "                              columns={'concept_id_2' : 'RxNorm_concept_id_6',\n",
    "                                       'concept_code' : 'RxNorm_concept_code_6',\n",
    "                                       'concept_class_id' : 'RxNorm_concept_class_id_6',\n",
    "                                       'concept_name' : 'RxNorm_concept_name_6',\n",
    "                                       'relationship_id' :'relationship_id_56'\n",
    "                                      }\n",
    "                          ).\n",
    "                          rename_axis('RxNorm_concept_id_6').\n",
    "                          reset_index().\n",
    "                          dropna().\n",
    "                          drop_duplicates()\n",
    "                         )\n",
    "fifth_sixth_relations = fifth_sixth_relations[\n",
    "    fifth_sixth_relations.RxNorm_concept_id_5!= fifth_sixth_relations.RxNorm_concept_id_6\n",
    "]\n",
    "print(fifth_sixth_relations.shape)\n",
    "fifth_sixth_relations = (fifth_sixth_relations.\n",
    "                          reindex(np.sort(fifth_sixth_relations.columns),\n",
    "                                  axis=1)\n",
    "                         )\n",
    "print(fifth_sixth_relations.head())"
   ]
  },
  {
   "cell_type": "code",
   "execution_count": null,
   "metadata": {
    "hidden": true
   },
   "outputs": [],
   "source": [
    "(fifth_sixth_relations.loc[:,['RxNorm_concept_class_id_5','RxNorm_concept_class_id_6']].\n",
    "groupby(['RxNorm_concept_class_id_5','RxNorm_concept_class_id_6']).\n",
    " count()\n",
    ")"
   ]
  },
  {
   "cell_type": "code",
   "execution_count": null,
   "metadata": {
    "hidden": true
   },
   "outputs": [],
   "source": [
    "rxnorm_to_ings123 = (first_second_relations.\n",
    " set_index(['RxNorm_concept_id_2','RxNorm_concept_code_2',\n",
    "            'RxNorm_concept_name_2','RxNorm_concept_class_id_2']).\n",
    " join(second_third_relations.\n",
    "      set_index(['RxNorm_concept_id_2','RxNorm_concept_code_2',\n",
    "                 'RxNorm_concept_name_2','RxNorm_concept_class_id_2'])\n",
    "     ).\n",
    " query('RxNorm_concept_class_id_3==\"Ingredient\" & '+\n",
    "       '(RxNorm_concept_class_id_1!=RxNorm_concept_class_id_3)').\n",
    "                  reset_index()\n",
    ")\n",
    "print(rxnorm_to_ings123.shape)\n",
    "print(rxnorm_to_ings123.head())"
   ]
  },
  {
   "cell_type": "code",
   "execution_count": null,
   "metadata": {
    "hidden": true
   },
   "outputs": [],
   "source": [
    "len(np.intersect1d(\n",
    "    rxnorm_to_ings123.RxNorm_concept_id_1.dropna().astype(int).unique(),\n",
    "    all_openFDA_rxnorm_concept_ids\n",
    "))/len(all_openFDA_rxnorm_concept_ids)"
   ]
  },
  {
   "cell_type": "code",
   "execution_count": null,
   "metadata": {
    "hidden": true
   },
   "outputs": [],
   "source": [
    "(rxnorm_to_ings123.\n",
    "loc[:,['RxNorm_concept_name_1','RxNorm_concept_name_3']].\n",
    "drop_duplicates()\n",
    ").head()"
   ]
  },
  {
   "cell_type": "code",
   "execution_count": null,
   "metadata": {
    "hidden": true
   },
   "outputs": [],
   "source": [
    "(rxnorm_to_ings123.\n",
    "loc[:,['RxNorm_concept_class_id_1','RxNorm_concept_class_id_2',\n",
    "       'RxNorm_concept_class_id_3']].\n",
    " drop_duplicates()\n",
    ")"
   ]
  },
  {
   "cell_type": "code",
   "execution_count": null,
   "metadata": {
    "hidden": true
   },
   "outputs": [],
   "source": [
    "rxnorm_to_ings123_to_add = (rxnorm_to_ings123.\n",
    "loc[:,['RxNorm_concept_id_1','RxNorm_concept_code_1',\n",
    "       'RxNorm_concept_name_1','RxNorm_concept_class_id_1',\n",
    "       'RxNorm_concept_id_3','RxNorm_concept_code_3',\n",
    "       'RxNorm_concept_name_3','RxNorm_concept_class_id_3']].\n",
    " drop_duplicates().\n",
    " rename(\n",
    "     columns={\n",
    "         'RxNorm_concept_id_3' : 'RxNorm_concept_id_2',\n",
    "         'RxNorm_concept_code_3' : 'RxNorm_concept_code_2',\n",
    "         'RxNorm_concept_name_3' : 'RxNorm_concept_name_2',\n",
    "         'RxNorm_concept_class_id_3' : 'RxNorm_concept_class_id_2'\n",
    "     })\n",
    "                            .drop_duplicates()\n",
    ")\n",
    "print(rxnorm_to_ings123_to_add.shape)\n",
    "rxnorm_to_ings123_to_add.head()"
   ]
  },
  {
   "cell_type": "code",
   "execution_count": null,
   "metadata": {
    "hidden": true
   },
   "outputs": [],
   "source": [
    "rxnorm_to_ings1234 = (first_second_relations.\n",
    " set_index(['RxNorm_concept_id_2','RxNorm_concept_code_2',\n",
    "            'RxNorm_concept_name_2','RxNorm_concept_class_id_2']).\n",
    " join(second_third_relations.\n",
    "      set_index(['RxNorm_concept_id_2','RxNorm_concept_code_2',\n",
    "                 'RxNorm_concept_name_2','RxNorm_concept_class_id_2'])\n",
    "     ).\n",
    " query('RxNorm_concept_class_id_3!=\"Ingredient\" & '+\n",
    "       '(RxNorm_concept_class_id_1!=RxNorm_concept_class_id_3)').\n",
    "                  reset_index().\n",
    "                      set_index(\n",
    "                          ['RxNorm_concept_id_3','RxNorm_concept_code_3',\n",
    "                           'RxNorm_concept_name_3','RxNorm_concept_class_id_3']\n",
    "                      ).\n",
    "                      join(third_fourth_relations.\n",
    "                          set_index(\n",
    "                          ['RxNorm_concept_id_3','RxNorm_concept_code_3',\n",
    "                           'RxNorm_concept_name_3','RxNorm_concept_class_id_3']\n",
    "                          )\n",
    "                          ).\n",
    " query('RxNorm_concept_class_id_4==\"Ingredient\"').\n",
    "                      reset_index()\n",
    ")\n",
    "rxnorm_to_ings1234 = rxnorm_to_ings1234.reindex(np.sort(rxnorm_to_ings1234.columns),axis=1)\n",
    "print(rxnorm_to_ings1234.shape)\n",
    "rxnorm_to_ings1234.head()"
   ]
  },
  {
   "cell_type": "code",
   "execution_count": null,
   "metadata": {
    "hidden": true
   },
   "outputs": [],
   "source": [
    "(rxnorm_to_ings1234.\n",
    "loc[:,['RxNorm_concept_name_1','RxNorm_concept_name_4']].\n",
    "drop_duplicates()\n",
    ").head()\n",
    "len(np.intersect1d(rxnorm_to_ings1234.RxNorm_concept_id_1.dropna().astype(int).unique(),\n",
    "                  all_openFDA_rxnorm_concept_ids\n",
    "                  ))/len(all_openFDA_rxnorm_concept_ids)"
   ]
  },
  {
   "cell_type": "code",
   "execution_count": null,
   "metadata": {
    "hidden": true
   },
   "outputs": [],
   "source": [
    "(rxnorm_to_ings1234.\n",
    "loc[:,['RxNorm_concept_class_id_1','RxNorm_concept_class_id_2',\n",
    "       'RxNorm_concept_class_id_3','RxNorm_concept_class_id_4']].\n",
    " drop_duplicates()\n",
    ")"
   ]
  },
  {
   "cell_type": "code",
   "execution_count": null,
   "metadata": {
    "hidden": true
   },
   "outputs": [],
   "source": [
    "rxnorm_to_ings1234_to_add = (rxnorm_to_ings1234.\n",
    "loc[:,['RxNorm_concept_id_1','RxNorm_concept_code_1',\n",
    "       'RxNorm_concept_name_1','RxNorm_concept_class_id_1',\n",
    "       'RxNorm_concept_id_4','RxNorm_concept_code_4',\n",
    "       'RxNorm_concept_name_4','RxNorm_concept_class_id_4']].\n",
    " drop_duplicates().\n",
    " rename(\n",
    "     columns={\n",
    "         'RxNorm_concept_id_4' : 'RxNorm_concept_id_2',\n",
    "         'RxNorm_concept_code_4' : 'RxNorm_concept_code_2',\n",
    "         'RxNorm_concept_name_4' : 'RxNorm_concept_name_2',\n",
    "         'RxNorm_concept_class_id_4' : 'RxNorm_concept_class_id_2'\n",
    "     })\n",
    "                            .drop_duplicates()\n",
    ")\n",
    "print(rxnorm_to_ings1234_to_add.shape)\n",
    "rxnorm_to_ings1234_to_add.head()"
   ]
  },
  {
   "cell_type": "code",
   "execution_count": null,
   "metadata": {
    "hidden": true
   },
   "outputs": [],
   "source": [
    "len(\n",
    "    np.intersect1d(\n",
    "        np.union1d(\n",
    "            rxnorm_to_ings123.RxNorm_concept_id_1.dropna().astype(int).unique(),\n",
    "            rxnorm_to_ings1234.RxNorm_concept_id_1.dropna().astype(int).unique()\n",
    "        ),\n",
    "        all_openFDA_rxnorm_concept_ids\n",
    "    )\n",
    "                  )/len(all_openFDA_rxnorm_concept_ids)"
   ]
  },
  {
   "cell_type": "code",
   "execution_count": null,
   "metadata": {
    "hidden": true
   },
   "outputs": [],
   "source": [
    "rxnorm_to_ings12345 = (first_second_relations.\n",
    " set_index(['RxNorm_concept_id_2','RxNorm_concept_code_2',\n",
    "            'RxNorm_concept_name_2','RxNorm_concept_class_id_2']).\n",
    " join(second_third_relations.\n",
    "      set_index(['RxNorm_concept_id_2','RxNorm_concept_code_2',\n",
    "                 'RxNorm_concept_name_2','RxNorm_concept_class_id_2'])\n",
    "     ).\n",
    " query('RxNorm_concept_class_id_3!=\"Ingredient\" & '+\n",
    "       '(RxNorm_concept_class_id_1!=RxNorm_concept_class_id_3)').\n",
    "                  reset_index().\n",
    "                      set_index(\n",
    "                          ['RxNorm_concept_id_3','RxNorm_concept_code_3',\n",
    "                           'RxNorm_concept_name_3','RxNorm_concept_class_id_3']\n",
    "                      ).\n",
    "                      join(third_fourth_relations.\n",
    "                          set_index(\n",
    "                          ['RxNorm_concept_id_3','RxNorm_concept_code_3',\n",
    "                           'RxNorm_concept_name_3','RxNorm_concept_class_id_3']\n",
    "                          )\n",
    "                          ).\n",
    " query('RxNorm_concept_class_id_4!=\"Ingredient\" & '+\n",
    "       '(RxNorm_concept_class_id_2!=RxNorm_concept_class_id_4)').\n",
    "                      reset_index().\n",
    "                      set_index(\n",
    "                          ['RxNorm_concept_id_4','RxNorm_concept_code_4',\n",
    "                           'RxNorm_concept_name_4','RxNorm_concept_class_id_4']\n",
    "                      ).\n",
    "                      join(fourth_fifth_relations.\n",
    "                          set_index(\n",
    "                          ['RxNorm_concept_id_4','RxNorm_concept_code_4',\n",
    "                           'RxNorm_concept_name_4','RxNorm_concept_class_id_4']\n",
    "                          )\n",
    "                          ).\n",
    " query('RxNorm_concept_class_id_5==\"Ingredient\"').\n",
    "                      reset_index()\n",
    ")\n",
    "rxnorm_to_ings12345 = rxnorm_to_ings12345.reindex(np.sort(rxnorm_to_ings12345.columns),axis=1)\n",
    "print(rxnorm_to_ings12345.shape)\n",
    "rxnorm_to_ings12345.head()"
   ]
  },
  {
   "cell_type": "code",
   "execution_count": null,
   "metadata": {
    "hidden": true
   },
   "outputs": [],
   "source": [
    "(rxnorm_to_ings12345.\n",
    "loc[:,['RxNorm_concept_name_1','RxNorm_concept_name_5']].\n",
    "drop_duplicates()\n",
    ").head()\n",
    "len(np.intersect1d(rxnorm_to_ings12345.RxNorm_concept_id_1.dropna().astype(int).unique(),\n",
    "                  all_openFDA_rxnorm_concept_ids\n",
    "                  ))/len(all_openFDA_rxnorm_concept_ids)"
   ]
  },
  {
   "cell_type": "code",
   "execution_count": null,
   "metadata": {
    "hidden": true
   },
   "outputs": [],
   "source": [
    "(rxnorm_to_ings12345.\n",
    "loc[:,['RxNorm_concept_class_id_1','RxNorm_concept_class_id_2',\n",
    "       'RxNorm_concept_class_id_3','RxNorm_concept_class_id_4',\n",
    "       'RxNorm_concept_class_id_5']].\n",
    " drop_duplicates()\n",
    ")"
   ]
  },
  {
   "cell_type": "code",
   "execution_count": null,
   "metadata": {
    "hidden": true
   },
   "outputs": [],
   "source": [
    "rxnorm_to_ings12345_to_add = (rxnorm_to_ings12345.\n",
    "loc[:,['RxNorm_concept_id_1','RxNorm_concept_code_1',\n",
    "       'RxNorm_concept_name_1','RxNorm_concept_class_id_1',\n",
    "       'RxNorm_concept_id_5','RxNorm_concept_code_5',\n",
    "       'RxNorm_concept_name_5','RxNorm_concept_class_id_5']].\n",
    " drop_duplicates().\n",
    " rename(\n",
    "     columns={\n",
    "         'RxNorm_concept_id_5' : 'RxNorm_concept_id_2',\n",
    "         'RxNorm_concept_code_5' : 'RxNorm_concept_code_2',\n",
    "         'RxNorm_concept_name_5' : 'RxNorm_concept_name_2',\n",
    "         'RxNorm_concept_class_id_5' : 'RxNorm_concept_class_id_2'\n",
    "     })\n",
    "                            .drop_duplicates()\n",
    ")\n",
    "print(rxnorm_to_ings12345_to_add.shape)\n",
    "rxnorm_to_ings12345_to_add.head()"
   ]
  },
  {
   "cell_type": "code",
   "execution_count": null,
   "metadata": {
    "hidden": true
   },
   "outputs": [],
   "source": [
    "len(\n",
    "    np.intersect1d(\n",
    "        np.union1d(\n",
    "            np.union1d(\n",
    "                rxnorm_to_ings123.RxNorm_concept_id_1.dropna().astype(int).unique(),\n",
    "                rxnorm_to_ings1234.RxNorm_concept_id_1.dropna().astype(int).unique()\n",
    "            ),\n",
    "            rxnorm_to_ings12345.RxNorm_concept_id_1.dropna().astype(int).unique()\n",
    "        ),\n",
    "        all_openFDA_rxnorm_concept_ids\n",
    "    )\n",
    "                  )/len(all_openFDA_rxnorm_concept_ids)"
   ]
  },
  {
   "cell_type": "code",
   "execution_count": null,
   "metadata": {
    "hidden": true
   },
   "outputs": [],
   "source": [
    "np.setdiff1d(\n",
    "        all_openFDA_rxnorm_concept_ids,\n",
    "    np.union1d(\n",
    "            np.union1d(\n",
    "                rxnorm_to_ings123.RxNorm_concept_id_1.dropna().astype(int).unique(),\n",
    "                rxnorm_to_ings1234.RxNorm_concept_id_1.dropna().astype(int).unique()\n",
    "            ),\n",
    "            rxnorm_to_ings12345.RxNorm_concept_id_1.dropna().astype(int).unique()\n",
    "        )\n",
    "    )"
   ]
  },
  {
   "cell_type": "code",
   "execution_count": null,
   "metadata": {
    "hidden": true
   },
   "outputs": [],
   "source": [
    "rxnorm_to_ings123456 = (first_second_relations.\n",
    " set_index(['RxNorm_concept_id_2','RxNorm_concept_code_2',\n",
    "            'RxNorm_concept_name_2','RxNorm_concept_class_id_2']).\n",
    " join(second_third_relations.\n",
    "      set_index(['RxNorm_concept_id_2','RxNorm_concept_code_2',\n",
    "                 'RxNorm_concept_name_2','RxNorm_concept_class_id_2'])\n",
    "     ).\n",
    " query('RxNorm_concept_class_id_3!=\"Ingredient\" & '+\n",
    "       '(RxNorm_concept_class_id_1!=RxNorm_concept_class_id_3)').\n",
    "                  reset_index().\n",
    "                      set_index(\n",
    "                          ['RxNorm_concept_id_3','RxNorm_concept_code_3',\n",
    "                           'RxNorm_concept_name_3','RxNorm_concept_class_id_3']\n",
    "                      ).\n",
    "                      join(third_fourth_relations.\n",
    "                          set_index(\n",
    "                          ['RxNorm_concept_id_3','RxNorm_concept_code_3',\n",
    "                           'RxNorm_concept_name_3','RxNorm_concept_class_id_3']\n",
    "                          )\n",
    "                          ).\n",
    " query('RxNorm_concept_class_id_4!=\"Ingredient\" & '+\n",
    "       '(RxNorm_concept_class_id_2!=RxNorm_concept_class_id_4)').\n",
    "                      reset_index().\n",
    "                      set_index(\n",
    "                          ['RxNorm_concept_id_4','RxNorm_concept_code_4',\n",
    "                           'RxNorm_concept_name_4','RxNorm_concept_class_id_4']\n",
    "                      ).\n",
    "                      join(fourth_fifth_relations.\n",
    "                          set_index(\n",
    "                          ['RxNorm_concept_id_4','RxNorm_concept_code_4',\n",
    "                           'RxNorm_concept_name_4','RxNorm_concept_class_id_4']\n",
    "                          )\n",
    "                          ).\n",
    " query('RxNorm_concept_class_id_5!=\"Ingredient\" & '+\n",
    "       '(RxNorm_concept_class_id_3!=RxNorm_concept_class_id_5)').\n",
    "                      reset_index().\n",
    "                      set_index(\n",
    "                          ['RxNorm_concept_id_5','RxNorm_concept_code_5',\n",
    "                           'RxNorm_concept_name_5','RxNorm_concept_class_id_5']\n",
    "                      ).\n",
    "                      join(fifth_sixth_relations.\n",
    "                          set_index(\n",
    "                          ['RxNorm_concept_id_5','RxNorm_concept_code_5',\n",
    "                           'RxNorm_concept_name_5','RxNorm_concept_class_id_5']\n",
    "                          )\n",
    "                          ).\n",
    " query('RxNorm_concept_class_id_6==\"Ingredient\"').\n",
    "                      reset_index()\n",
    ")\n",
    "rxnorm_to_ings123456 = rxnorm_to_ings123456.reindex(np.sort(rxnorm_to_ings123456.columns),axis=1)\n",
    "print(rxnorm_to_ings123456.shape)\n",
    "rxnorm_to_ings123456.head()"
   ]
  },
  {
   "cell_type": "code",
   "execution_count": null,
   "metadata": {
    "hidden": true
   },
   "outputs": [],
   "source": [
    "(rxnorm_to_ings123456.\n",
    "loc[:,['RxNorm_concept_name_1','RxNorm_concept_name_6']].\n",
    "drop_duplicates()\n",
    ").head()\n",
    "len(np.intersect1d(rxnorm_to_ings123456.RxNorm_concept_id_1.dropna().astype(int).unique(),\n",
    "                  all_openFDA_rxnorm_concept_ids\n",
    "                  ))/len(all_openFDA_rxnorm_concept_ids)"
   ]
  },
  {
   "cell_type": "code",
   "execution_count": null,
   "metadata": {
    "hidden": true
   },
   "outputs": [],
   "source": [
    "(rxnorm_to_ings123456.\n",
    "loc[:,['RxNorm_concept_class_id_1','RxNorm_concept_class_id_2',\n",
    "       'RxNorm_concept_class_id_3','RxNorm_concept_class_id_4',\n",
    "       'RxNorm_concept_class_id_5','RxNorm_concept_class_id_6']].\n",
    " drop_duplicates()\n",
    ")"
   ]
  },
  {
   "cell_type": "code",
   "execution_count": null,
   "metadata": {
    "hidden": true
   },
   "outputs": [],
   "source": [
    "rxnorm_to_ings123456_to_add = (rxnorm_to_ings123456.\n",
    "loc[:,['RxNorm_concept_id_1','RxNorm_concept_code_1',\n",
    "       'RxNorm_concept_name_1','RxNorm_concept_class_id_1',\n",
    "       'RxNorm_concept_id_6','RxNorm_concept_code_6',\n",
    "       'RxNorm_concept_name_6','RxNorm_concept_class_id_6']].\n",
    " drop_duplicates().\n",
    " rename(\n",
    "     columns={\n",
    "         'RxNorm_concept_id_6' : 'RxNorm_concept_id_2',\n",
    "         'RxNorm_concept_code_6' : 'RxNorm_concept_code_2',\n",
    "         'RxNorm_concept_name_6' : 'RxNorm_concept_name_2',\n",
    "         'RxNorm_concept_class_id_6' : 'RxNorm_concept_class_id_2'\n",
    "     }).\n",
    "                            drop_duplicates()\n",
    ")\n",
    "print(rxnorm_to_ings123456_to_add.shape)\n",
    "rxnorm_to_ings123456_to_add.head()"
   ]
  },
  {
   "cell_type": "code",
   "execution_count": null,
   "metadata": {
    "hidden": true
   },
   "outputs": [],
   "source": [
    "len(\n",
    "    np.intersect1d(\n",
    "        np.union1d(\n",
    "            np.union1d(\n",
    "                np.union1d(\n",
    "                    rxnorm_to_ings123.RxNorm_concept_id_1.dropna().astype(int).unique(),\n",
    "                    rxnorm_to_ings1234.RxNorm_concept_id_1.dropna().astype(int).unique()\n",
    "                ),\n",
    "                rxnorm_to_ings12345.RxNorm_concept_id_1.dropna().astype(int).unique()\n",
    "            ),\n",
    "            rxnorm_to_ings123456.RxNorm_concept_id_1.dropna().astype(int).unique()\n",
    "        ),\n",
    "        all_openFDA_rxnorm_concept_ids\n",
    "    )\n",
    "                  )/len(all_openFDA_rxnorm_concept_ids)"
   ]
  },
  {
   "cell_type": "code",
   "execution_count": null,
   "metadata": {
    "hidden": true
   },
   "outputs": [],
   "source": [
    "np.setdiff1d(\n",
    "        all_openFDA_rxnorm_concept_ids,\n",
    "        np.union1d(\n",
    "            np.union1d(\n",
    "                np.union1d(\n",
    "                    rxnorm_to_ings123.RxNorm_concept_id_1.dropna().astype(int).unique(),\n",
    "                    rxnorm_to_ings1234.RxNorm_concept_id_1.dropna().astype(int).unique()\n",
    "                ),\n",
    "                rxnorm_to_ings12345.RxNorm_concept_id_1.dropna().astype(int).unique()\n",
    "            ),\n",
    "            rxnorm_to_ings123456.RxNorm_concept_id_1.dropna().astype(int).unique()\n",
    "        )\n",
    ")"
   ]
  },
  {
   "cell_type": "code",
   "execution_count": null,
   "metadata": {
    "hidden": true
   },
   "outputs": [],
   "source": [
    "rxnorm_to_ings_all = pd.concat(\n",
    "    [\n",
    "        rxnorm_to_ings123_to_add,\n",
    "        rxnorm_to_ings1234_to_add,\n",
    "        rxnorm_to_ings12345_to_add,\n",
    "        rxnorm_to_ings123456_to_add\n",
    "    ]\n",
    ").dropna().drop_duplicates()\n",
    "rxnorm_to_ings_all.RxNorm_concept_id_2 = rxnorm_to_ings_all.RxNorm_concept_id_2.astype(int)\n",
    "print(rxnorm_to_ings_all.shape)\n",
    "rxnorm_to_ings_all.head()"
   ]
  },
  {
   "cell_type": "code",
   "execution_count": null,
   "metadata": {
    "hidden": true
   },
   "outputs": [],
   "source": [
    "len(\n",
    "    np.intersect1d(\n",
    "        rxnorm_to_ings_all.RxNorm_concept_id_1,\n",
    "        all_openFDA_rxnorm_concept_ids\n",
    "    )\n",
    ")/len(all_openFDA_rxnorm_concept_ids)"
   ]
  },
  {
   "cell_type": "code",
   "execution_count": null,
   "metadata": {
    "hidden": true
   },
   "outputs": [],
   "source": [
    "standard_drug = (pd.\n",
    "                 read_csv(er_dir+'standard_drugs.csv.gz',\n",
    "                          compression='gzip',\n",
    "                          dtype={\n",
    "                              'safetyreportid' : 'str'\n",
    "                          })\n",
    "                )\n",
    "standard_drug.RxNorm_concept_id = standard_drug.RxNorm_concept_id.astype(int)\n",
    "all_reports = standard_drug.safetyreportid.astype(str).unique()\n",
    "print(standard_drug.shape)\n",
    "standard_drug.head()"
   ]
  },
  {
   "cell_type": "code",
   "execution_count": null,
   "metadata": {
    "hidden": true
   },
   "outputs": [],
   "source": [
    "standard_drug_ingredients = ((standard_drug.\n",
    "  loc[:,['RxNorm_concept_id','safetyreportid']].\n",
    "  drop_duplicates().\n",
    "set_index(\n",
    "    [\n",
    "        'RxNorm_concept_id'\n",
    "    ]\n",
    ")\n",
    ").join(rxnorm_to_ings_all.\n",
    "       loc[:,['RxNorm_concept_id_1','RxNorm_concept_id_2',\n",
    "             'RxNorm_concept_code_2','RxNorm_concept_name_2',\n",
    "             'RxNorm_concept_class_id_2']].\n",
    "       drop_duplicates().\n",
    "set_index(\n",
    "    [\n",
    "        'RxNorm_concept_id_1'\n",
    "    ]\n",
    ")\n",
    ").drop_duplicates().\n",
    " rename(\n",
    "     columns={\n",
    "         'RxNorm_concept_id_2':'RxNorm_concept_id',\n",
    "         'RxNorm_concept_code_2':'RxNorm_concept_code',\n",
    "         'RxNorm_concept_name_2':'RxNorm_concept_name',\n",
    "         'RxNorm_concept_class_id_2':'RxNorm_concept_class_id'\n",
    "     }).\n",
    "                             reset_index(drop=True).\n",
    "                             dropna().\n",
    "                             drop_duplicates()\n",
    "       )\n",
    "standard_drug_ingredients = (standard_drug_ingredients.\n",
    "                             reindex(np.sort(standard_drug_ingredients.columns),axis=1)\n",
    "                            )\n",
    "print(standard_drug_ingredients.shape)\n",
    "standard_drug_ingredients.head()"
   ]
  },
  {
   "cell_type": "code",
   "execution_count": null,
   "metadata": {
    "hidden": true
   },
   "outputs": [],
   "source": [
    "print(len(\n",
    "    np.intersect1d(\n",
    "        standard_drug_ingredients.safetyreportid.astype(str).unique(),\n",
    "        all_reports\n",
    "    )\n",
    ")/len(all_reports))"
   ]
  },
  {
   "cell_type": "code",
   "execution_count": null,
   "metadata": {
    "hidden": true
   },
   "outputs": [],
   "source": [
    "(standard_drug_ingredients.\n",
    " to_csv(er_dir+'standard_drugs_rxnorm_ingredients.csv.gz',compression='gzip',index=False))"
   ]
  },
  {
   "cell_type": "markdown",
   "metadata": {
    "heading_collapsed": true
   },
   "source": [
    "### standard_reactions_meddra_relationships"
   ]
  },
  {
   "cell_type": "code",
   "execution_count": null,
   "metadata": {
    "hidden": true
   },
   "outputs": [],
   "source": [
    "standard_reactions = (pd.\n",
    "                      read_csv(er_dir+'standard_reactions.csv.gz',\n",
    "                               compression=\"gzip\",\n",
    "                               dtype={\n",
    "                                   'safetyreportid' : 'str'\n",
    "                               }\n",
    "                              )\n",
    "                     )\n",
    "all_reports = (standard_reactions.safetyreportid.unique())\n",
    "print(standard_reactions.shape)\n",
    "print(standard_reactions.head())"
   ]
  },
  {
   "cell_type": "code",
   "execution_count": null,
   "metadata": {
    "hidden": true
   },
   "outputs": [],
   "source": [
    "reactions = standard_reactions.MedDRA_concept_id.astype(int).unique()\n",
    "print(len(reactions))\n",
    "meddra_concept_ids = concept.query('vocabulary_id==\"MedDRA\"').concept_id.astype(int).unique()\n",
    "len(meddra_concept_ids)\n",
    "\n",
    "intersect = np.intersect1d(reactions,meddra_concept_ids)\n",
    "print(len(intersect))\n",
    "print(len(intersect)/len(reactions))"
   ]
  },
  {
   "cell_type": "code",
   "execution_count": null,
   "metadata": {
    "hidden": true
   },
   "outputs": [],
   "source": [
    "meddra_concept = concept.query('vocabulary_id==\"MedDRA\"')\n",
    "meddra_concept.concept_id = meddra_concept.concept_id.astype(int)\n",
    "all_meddra_concept_ids = meddra_concept.concept_id.unique()\n",
    "\n",
    "r = (concept_relationship.\n",
    "     copy().\n",
    "     loc[:,['concept_id_1','concept_id_2','relationship_id']].\n",
    "     drop_duplicates()\n",
    "    )\n",
    "r.concept_id_1 = r.concept_id_1.astype(int)\n",
    "r.concept_id_2 = r.concept_id_2.astype(int)\n"
   ]
  },
  {
   "cell_type": "code",
   "execution_count": null,
   "metadata": {
    "hidden": true
   },
   "outputs": [],
   "source": [
    "(r.\n",
    "query('concept_id_1 in @all_meddra_concept_ids & '+\n",
    "     'concept_id_2 in @all_meddra_concept_ids').\n",
    "relationship_id.value_counts()\n",
    ")"
   ]
  },
  {
   "cell_type": "code",
   "execution_count": null,
   "metadata": {
    "hidden": true
   },
   "outputs": [],
   "source": [
    "c = meddra_concept.copy()\n",
    "\n",
    "all_meddra_relationships = (r.\n",
    " query('concept_id_1 in @meddra_concept_ids & '+\\\n",
    "       'concept_id_2 in @meddra_concept_ids').\n",
    " set_index('concept_id_1').\n",
    " join(\n",
    "     c. # standard concepts for 1\n",
    "     query('vocabulary_id==\"MedDRA\"').\n",
    "     loc[:,['concept_id','concept_code','concept_name','concept_class_id']].\n",
    "     drop_duplicates().\n",
    "     set_index('concept_id')\n",
    "    ).\n",
    " rename_axis('MedDRA_concept_id_1').\n",
    " reset_index().\n",
    " rename(\n",
    "     columns={\n",
    "         'concept_code' : 'MedDRA_concept_code_1',\n",
    "         'concept_class_id' : 'MedDRA_concept_class_id_1',\n",
    "         'concept_name' : 'MedDRA_concept_name_1',\n",
    "         'concept_id_2' : 'MedDRA_concept_id_2',\n",
    "         'relationship_id' : 'relationship_id_12'\n",
    "     }\n",
    " ).\n",
    "set_index('MedDRA_concept_id_2').\n",
    " join(\n",
    "     c. # standard concepts for 2\n",
    "     query('vocabulary_id==\"MedDRA\"').\n",
    "     loc[:,['concept_id','concept_code','concept_name','concept_class_id']].\n",
    "     drop_duplicates().\n",
    "     set_index('concept_id')\n",
    "    ).\n",
    " rename_axis('MedDRA_concept_id_2').\n",
    " reset_index().\n",
    " rename(\n",
    "     columns={\n",
    "         'concept_code' : 'MedDRA_concept_code_2',\n",
    "         'concept_class_id' : 'MedDRA_concept_class_id_2',\n",
    "         'concept_name' : 'MedDRA_concept_name_2'\n",
    "     }\n",
    " ))\n",
    "all_meddra_relationships = (all_meddra_relationships.\n",
    "                            reindex(np.sort(all_meddra_relationships.columns),axis=1)\n",
    "                           )\n",
    "print(all_meddra_relationships.shape)\n",
    "print(all_meddra_relationships.head())"
   ]
  },
  {
   "cell_type": "code",
   "execution_count": null,
   "metadata": {
    "hidden": true
   },
   "outputs": [],
   "source": [
    "print(all_meddra_relationships.MedDRA_concept_class_id_1.value_counts())\n",
    "print(all_meddra_relationships.MedDRA_concept_class_id_2.value_counts())"
   ]
  },
  {
   "cell_type": "code",
   "execution_count": null,
   "metadata": {
    "hidden": true
   },
   "outputs": [],
   "source": [
    "all_meddra_relationships.MedDRA_concept_id_1 = (all_meddra_relationships.\n",
    "                                                  MedDRA_concept_id_1.\n",
    "                                                  astype(int)\n",
    "                                                 )\n",
    "all_meddra_relationships.MedDRA_concept_code_1 = (all_meddra_relationships.\n",
    "                                                  MedDRA_concept_code_1.\n",
    "                                                  astype(int)\n",
    "                                                 )\n",
    "all_meddra_relationships.MedDRA_concept_id_2 = (all_meddra_relationships.\n",
    "                                                  MedDRA_concept_id_2.\n",
    "                                                  astype(int)\n",
    "                                                 )\n",
    "all_meddra_relationships.MedDRA_concept_code_2 = (all_meddra_relationships.\n",
    "                                                  MedDRA_concept_code_2.\n",
    "                                                  astype(int)\n",
    "                                                 )"
   ]
  },
  {
   "cell_type": "code",
   "execution_count": null,
   "metadata": {
    "hidden": true
   },
   "outputs": [],
   "source": [
    "first_rxs = reactions\n",
    "first_relations = (all_meddra_relationships.\n",
    "                   query('MedDRA_concept_id_1 in @first_rxs & '+\n",
    "                         'MedDRA_concept_class_id_2==\"HLT\"')\n",
    "                  ).reset_index(drop=True)\n",
    "first_relations = (first_relations[\n",
    "    first_relations.MedDRA_concept_id_1!=first_relations.MedDRA_concept_id_2\n",
    "])\n",
    "print(first_relations.shape)\n",
    "print(first_relations.head())\n",
    "print(first_relations.MedDRA_concept_class_id_2.value_counts())"
   ]
  },
  {
   "cell_type": "code",
   "execution_count": null,
   "metadata": {
    "hidden": true
   },
   "outputs": [],
   "source": [
    "second_rxs = first_relations.MedDRA_concept_id_2.unique()\n",
    "second_relations = (all_meddra_relationships.\n",
    "                    query('MedDRA_concept_id_1 in @second_rxs & '+\n",
    "                         'MedDRA_concept_class_id_2==\"HLGT\"').\n",
    "                    rename(columns={\n",
    "                        'MedDRA_concept_id_2' : 'MedDRA_concept_id_3',\n",
    "                        'MedDRA_concept_code_2' : 'MedDRA_concept_code_3',\n",
    "                        'MedDRA_concept_name_2' : 'MedDRA_concept_name_3',\n",
    "                        'MedDRA_concept_class_id_2' : 'MedDRA_concept_class_id_3',\n",
    "                        'MedDRA_concept_id_1' : 'MedDRA_concept_id_2',\n",
    "                        'MedDRA_concept_code_1' : 'MedDRA_concept_code_2',\n",
    "                        'MedDRA_concept_name_1' : 'MedDRA_concept_name_2',\n",
    "                        'MedDRA_concept_class_id_1' : 'MedDRA_concept_class_id_2',\n",
    "                        'relationship_id_12' : 'relationship_id_23'\n",
    "                    }\n",
    "                          )\n",
    "                  ).reset_index(drop=True)\n",
    "second_relations = (second_relations[\n",
    "    second_relations.MedDRA_concept_id_2!=second_relations.MedDRA_concept_id_3\n",
    "])\n",
    "print(second_relations.shape)\n",
    "print(second_relations.head())\n",
    "print(second_relations.MedDRA_concept_class_id_2.value_counts())\n",
    "print(second_relations.MedDRA_concept_class_id_3.value_counts())"
   ]
  },
  {
   "cell_type": "code",
   "execution_count": null,
   "metadata": {
    "hidden": true
   },
   "outputs": [],
   "source": [
    "third_rxs = second_relations.MedDRA_concept_id_3.unique()\n",
    "third_relations = (all_meddra_relationships.\n",
    "                    query('MedDRA_concept_id_1 in @third_rxs & '+\n",
    "                         'MedDRA_concept_class_id_2==\"SOC\"').\n",
    "                    rename(columns={\n",
    "                        'MedDRA_concept_id_2' : 'MedDRA_concept_id_4',\n",
    "                        'MedDRA_concept_code_2' : 'MedDRA_concept_code_4',\n",
    "                        'MedDRA_concept_name_2' : 'MedDRA_concept_name_4',\n",
    "                        'MedDRA_concept_class_id_2' : 'MedDRA_concept_class_id_4',\n",
    "                        'MedDRA_concept_id_1' : 'MedDRA_concept_id_3',\n",
    "                        'MedDRA_concept_code_1' : 'MedDRA_concept_code_3',\n",
    "                        'MedDRA_concept_name_1' : 'MedDRA_concept_name_3',\n",
    "                        'MedDRA_concept_class_id_1' : 'MedDRA_concept_class_id_3',\n",
    "                        'relationship_id_12' : 'relationship_id_34'\n",
    "                    }\n",
    "                          )\n",
    "                  ).reset_index(drop=True)\n",
    "third_relations = (third_relations[\n",
    "    third_relations.MedDRA_concept_id_3!=third_relations.MedDRA_concept_id_4\n",
    "])\n",
    "print(third_relations.shape)\n",
    "print(third_relations.head())\n",
    "print(third_relations.MedDRA_concept_class_id_3.value_counts())\n",
    "print(third_relations.MedDRA_concept_class_id_4.value_counts())"
   ]
  },
  {
   "cell_type": "code",
   "execution_count": null,
   "metadata": {
    "hidden": true
   },
   "outputs": [],
   "source": [
    "first_second_third_relations = \\\n",
    "(first_relations.\n",
    " set_index('MedDRA_concept_id_2').\n",
    " join(second_relations.\n",
    "      loc[:,['MedDRA_concept_id_2','MedDRA_concept_id_3',\n",
    "             'MedDRA_concept_name_3','MedDRA_concept_class_id_3',\n",
    "             'MedDRA_concept_code_3','relationship_id_23']].\n",
    "      set_index('MedDRA_concept_id_2')\n",
    "     ).\n",
    " reset_index()\n",
    ")\n",
    "first_second_third_relations = \\\n",
    "(first_second_third_relations.\n",
    " reindex(np.sort(first_second_third_relations.columns),\n",
    "         axis=1)\n",
    ")\n",
    "first_second_third_relations['MedDRA_concept_id_3'] = \\\n",
    "first_second_third_relations['MedDRA_concept_id_3'].astype(int)\n",
    "print(first_second_third_relations.shape)\n",
    "print(first_second_third_relations.head())\n",
    "print(first_second_third_relations.MedDRA_concept_class_id_1.value_counts())\n",
    "print(first_second_third_relations.MedDRA_concept_class_id_2.value_counts())\n",
    "print(first_second_third_relations.MedDRA_concept_class_id_3.value_counts())"
   ]
  },
  {
   "cell_type": "code",
   "execution_count": null,
   "metadata": {
    "hidden": true
   },
   "outputs": [],
   "source": [
    "first_second_third_fourth_relations = \\\n",
    "(first_relations.\n",
    " set_index('MedDRA_concept_id_2').\n",
    " join(second_relations.\n",
    "      loc[:,['MedDRA_concept_id_2','MedDRA_concept_id_3',\n",
    "             'MedDRA_concept_name_3','MedDRA_concept_class_id_3',\n",
    "             'MedDRA_concept_code_3','relationship_id_23']].\n",
    "      drop_duplicates().\n",
    "      set_index('MedDRA_concept_id_2')\n",
    "     ).\n",
    " reset_index().\n",
    " set_index('MedDRA_concept_id_3').\n",
    " join(third_relations.\n",
    "      loc[:,['MedDRA_concept_id_3','MedDRA_concept_id_4',\n",
    "             'MedDRA_concept_name_4','MedDRA_concept_class_id_4',\n",
    "             'MedDRA_concept_code_4','relationship_id_34']].\n",
    "      drop_duplicates().\n",
    "      set_index('MedDRA_concept_id_3')\n",
    "     ).\n",
    " reset_index()\n",
    ")\n",
    "first_second_third_fourth_relations = \\\n",
    "(first_second_third_fourth_relations.\n",
    " reindex(np.sort(first_second_third_fourth_relations.columns),\n",
    "         axis=1)\n",
    ")\n",
    "first_second_third_fourth_relations['MedDRA_concept_id_4'] = \\\n",
    "first_second_third_fourth_relations['MedDRA_concept_id_4'].astype(int)\n",
    "print(first_second_third_fourth_relations.shape)\n",
    "print(first_second_third_fourth_relations.head())\n",
    "print(first_second_third_fourth_relations.MedDRA_concept_class_id_1.value_counts())\n",
    "print(first_second_third_fourth_relations.MedDRA_concept_class_id_2.value_counts())\n",
    "print(first_second_third_fourth_relations.MedDRA_concept_class_id_3.value_counts())\n",
    "print(first_second_third_fourth_relations.MedDRA_concept_class_id_4.value_counts())"
   ]
  },
  {
   "cell_type": "code",
   "execution_count": null,
   "metadata": {
    "hidden": true
   },
   "outputs": [],
   "source": [
    "len(np.setdiff1d(reactions,first_second_third_fourth_relations.MedDRA_concept_id_1.unique()))"
   ]
  },
  {
   "cell_type": "code",
   "execution_count": null,
   "metadata": {
    "hidden": true
   },
   "outputs": [],
   "source": [
    "left_over = np.setdiff1d(reactions,first_second_third_fourth_relations.MedDRA_concept_id_1.unique())\n",
    "\n",
    "all_meddra_relationships.query('MedDRA_concept_id_1 in @left_over')"
   ]
  },
  {
   "cell_type": "code",
   "execution_count": null,
   "metadata": {
    "hidden": true
   },
   "outputs": [],
   "source": [
    "df1 = (standard_reactions.\n",
    "       loc[:,['MedDRA_concept_id']].\n",
    "       drop_duplicates().\n",
    "       dropna().\n",
    "       set_index('MedDRA_concept_id')\n",
    "      )\n",
    "print(df1.shape)"
   ]
  },
  {
   "cell_type": "code",
   "execution_count": null,
   "metadata": {
    "hidden": true
   },
   "outputs": [],
   "source": [
    "df2 = (first_second_third_fourth_relations.\n",
    "       set_index('MedDRA_concept_id_1')\n",
    "      )\n",
    "print(df2.shape)"
   ]
  },
  {
   "cell_type": "code",
   "execution_count": null,
   "metadata": {
    "hidden": true
   },
   "outputs": [],
   "source": [
    "joined = df1.join(df2).rename_axis('MedDRA_concept_id_1').reset_index().dropna()\n",
    "joined = joined.reindex(np.sort(joined.columns),axis=1)\n",
    "joined.MedDRA_concept_id_1 = joined.MedDRA_concept_id_1.astype(int).copy()\n",
    "joined.MedDRA_concept_id_2 = joined.MedDRA_concept_id_2.astype(int).copy()\n",
    "joined.MedDRA_concept_id_3 = joined.MedDRA_concept_id_3.astype(int).copy()\n",
    "joined.MedDRA_concept_id_4 = joined.MedDRA_concept_id_4.astype(int).copy()\n",
    "joined.MedDRA_concept_code_1 = joined.MedDRA_concept_code_1.astype(int).copy()\n",
    "joined.MedDRA_concept_code_2 = joined.MedDRA_concept_code_2.astype(int).copy()\n",
    "joined.MedDRA_concept_code_3 = joined.MedDRA_concept_code_3.astype(int).copy()\n",
    "joined.MedDRA_concept_code_4 = joined.MedDRA_concept_code_4.astype(int).copy()\n",
    "print(joined.shape)\n",
    "print(joined.head())"
   ]
  },
  {
   "cell_type": "code",
   "execution_count": null,
   "metadata": {
    "hidden": true
   },
   "outputs": [],
   "source": [
    "print(joined.MedDRA_concept_class_id_1.value_counts())\n",
    "print(joined.MedDRA_concept_class_id_2.value_counts())\n",
    "print(joined.MedDRA_concept_class_id_3.value_counts())\n",
    "print(joined.MedDRA_concept_class_id_4.value_counts())"
   ]
  },
  {
   "cell_type": "code",
   "execution_count": null,
   "metadata": {
    "hidden": true
   },
   "outputs": [],
   "source": [
    "(joined.\n",
    " to_csv(er_dir+'standard_reactions_meddra_relationships.csv.gz',\n",
    "        compression='gzip',index=False)\n",
    ")"
   ]
  },
  {
   "cell_type": "code",
   "execution_count": null,
   "metadata": {
    "hidden": true
   },
   "outputs": [],
   "source": [
    "pt_to_soc = (joined.\n",
    "loc[:,['MedDRA_concept_id_1','MedDRA_concept_code_1',\n",
    "       'MedDRA_concept_name_1','MedDRA_concept_class_id_1',\n",
    "       'MedDRA_concept_id_4','MedDRA_concept_code_4',\n",
    "       'MedDRA_concept_name_4','MedDRA_concept_class_id_4']].\n",
    "query('MedDRA_concept_class_id_4==\"SOC\"').\n",
    "              drop_duplicates()\n",
    ")\n",
    "print(pt_to_soc.shape)\n",
    "print(pt_to_soc.head())"
   ]
  },
  {
   "cell_type": "code",
   "execution_count": null,
   "metadata": {
    "hidden": true
   },
   "outputs": [],
   "source": [
    "pt_to_hlgt = (joined.\n",
    "loc[:,['MedDRA_concept_id_1','MedDRA_concept_code_1',\n",
    "       'MedDRA_concept_name_1','MedDRA_concept_class_id_1',\n",
    "       'MedDRA_concept_id_3','MedDRA_concept_code_3',\n",
    "       'MedDRA_concept_name_3','MedDRA_concept_class_id_3']].\n",
    "query('MedDRA_concept_class_id_3==\"HLGT\"').\n",
    "              drop_duplicates()\n",
    ")\n",
    "print(pt_to_hlgt.shape)\n",
    "print(pt_to_hlgt.head())"
   ]
  },
  {
   "cell_type": "code",
   "execution_count": null,
   "metadata": {
    "hidden": true
   },
   "outputs": [],
   "source": [
    "pt_to_hlt = (joined.\n",
    "loc[:,['MedDRA_concept_id_1','MedDRA_concept_code_1',\n",
    "       'MedDRA_concept_name_1','MedDRA_concept_class_id_1',\n",
    "       'MedDRA_concept_id_2','MedDRA_concept_code_2',\n",
    "       'MedDRA_concept_name_2','MedDRA_concept_class_id_2']].\n",
    "query('MedDRA_concept_class_id_2==\"HLT\"').\n",
    "             drop_duplicates()\n",
    ")\n",
    "print(pt_to_hlt.shape)\n",
    "print(pt_to_hlt.head())"
   ]
  },
  {
   "cell_type": "code",
   "execution_count": null,
   "metadata": {
    "hidden": true
   },
   "outputs": [],
   "source": [
    "standard_reactions_pt_to_hlt = \\\n",
    "(standard_reactions.\n",
    " loc[:,['safetyreportid','MedDRA_concept_id']].\n",
    " drop_duplicates().\n",
    " set_index(['MedDRA_concept_id']).\n",
    " join(pt_to_hlt.\n",
    "      loc[:,['MedDRA_concept_id_1','MedDRA_concept_id_2',\n",
    "           'MedDRA_concept_code_2','MedDRA_concept_name_2',\n",
    "           'MedDRA_concept_class_id_2']].\n",
    "      set_index('MedDRA_concept_id_1')\n",
    "     ).\n",
    " reset_index(drop=True).\n",
    " rename(\n",
    "     columns={\n",
    "         'MedDRA_concept_id_2' : 'MedDRA_concept_id',\n",
    "         'MedDRA_concept_code_2' : 'MedDRA_concept_code',\n",
    "         'MedDRA_concept_name_2' : 'MedDRA_concept_name',\n",
    "         'MedDRA_concept_class_id_2' : 'MedDRA_concept_class_id'\n",
    "     }\n",
    " ).\n",
    " dropna().\n",
    " drop_duplicates()\n",
    ")\n",
    "standard_reactions_pt_to_hlt = (standard_reactions_pt_to_hlt.\n",
    "                               reindex(np.sort(standard_reactions_pt_to_hlt.columns),axis=1)\n",
    "                               )\n",
    "print(standard_reactions_pt_to_hlt.shape)\n",
    "print(standard_reactions_pt_to_hlt.head())"
   ]
  },
  {
   "cell_type": "code",
   "execution_count": null,
   "metadata": {
    "hidden": true
   },
   "outputs": [],
   "source": [
    "print(\n",
    "    len(\n",
    "        np.intersect1d(\n",
    "            all_reports,\n",
    "            standard_reactions_pt_to_hlt.safetyreportid.astype(str).unique()\n",
    "                        )\n",
    "    )/len(all_reports)\n",
    ")"
   ]
  },
  {
   "cell_type": "code",
   "execution_count": null,
   "metadata": {
    "hidden": true
   },
   "outputs": [],
   "source": [
    "(standard_reactions_pt_to_hlt.\n",
    " to_csv(er_dir+'standard_reactions_meddra_hlt.csv.gz',\n",
    "        compression='gzip',index=False)\n",
    ")"
   ]
  },
  {
   "cell_type": "code",
   "execution_count": null,
   "metadata": {
    "hidden": true
   },
   "outputs": [],
   "source": [
    "standard_reactions_pt_to_hlgt = \\\n",
    "(standard_reactions.\n",
    " loc[:,['safetyreportid','MedDRA_concept_id']].\n",
    " drop_duplicates().\n",
    " set_index(['MedDRA_concept_id']).\n",
    " join(pt_to_hlgt.\n",
    "      loc[:,['MedDRA_concept_id_1','MedDRA_concept_id_3',\n",
    "           'MedDRA_concept_code_3','MedDRA_concept_name_3',\n",
    "           'MedDRA_concept_class_id_3']].\n",
    "      set_index('MedDRA_concept_id_1')\n",
    "     ).\n",
    " reset_index(drop=True).\n",
    " rename(\n",
    "     columns={\n",
    "         'MedDRA_concept_id_3' : 'MedDRA_concept_id',\n",
    "         'MedDRA_concept_code_3' : 'MedDRA_concept_code',\n",
    "         'MedDRA_concept_name_3' : 'MedDRA_concept_name',\n",
    "         'MedDRA_concept_class_id_3' : 'MedDRA_concept_class_id'\n",
    "     }\n",
    " ).\n",
    " dropna().\n",
    " drop_duplicates()\n",
    ")\n",
    "standard_reactions_pt_to_hlgt = (standard_reactions_pt_to_hlgt.\n",
    "                               reindex(np.sort(standard_reactions_pt_to_hlgt.columns),axis=1)\n",
    "                               )\n",
    "print(standard_reactions_pt_to_hlgt.shape)\n",
    "print(standard_reactions_pt_to_hlgt.head())"
   ]
  },
  {
   "cell_type": "code",
   "execution_count": null,
   "metadata": {
    "hidden": true
   },
   "outputs": [],
   "source": [
    "print(\n",
    "    len(\n",
    "        np.intersect1d(\n",
    "            all_reports,\n",
    "            standard_reactions_pt_to_hlgt.safetyreportid.astype(str).unique()\n",
    "                        )\n",
    "    )/len(all_reports)\n",
    ")"
   ]
  },
  {
   "cell_type": "code",
   "execution_count": null,
   "metadata": {
    "hidden": true
   },
   "outputs": [],
   "source": [
    "(standard_reactions_pt_to_hlgt.\n",
    " to_csv(er_dir+'standard_reactions_meddra_hlgt.csv.gz',\n",
    "        compression='gzip',index=False)\n",
    ")"
   ]
  },
  {
   "cell_type": "code",
   "execution_count": null,
   "metadata": {
    "hidden": true
   },
   "outputs": [],
   "source": [
    "standard_reactions_pt_to_soc = \\\n",
    "(standard_reactions.\n",
    " loc[:,['safetyreportid','MedDRA_concept_id']].\n",
    " drop_duplicates().\n",
    " set_index(['MedDRA_concept_id']).\n",
    " join(pt_to_soc.\n",
    "      loc[:,['MedDRA_concept_id_1','MedDRA_concept_id_4',\n",
    "           'MedDRA_concept_code_4','MedDRA_concept_name_4',\n",
    "           'MedDRA_concept_class_id_4']].\n",
    "      set_index('MedDRA_concept_id_1')\n",
    "     ).\n",
    " reset_index(drop=True).\n",
    " rename(\n",
    "     columns={\n",
    "         'MedDRA_concept_id_4' : 'MedDRA_concept_id',\n",
    "         'MedDRA_concept_code_4' : 'MedDRA_concept_code',\n",
    "         'MedDRA_concept_name_4' : 'MedDRA_concept_name',\n",
    "         'MedDRA_concept_class_id_4' : 'MedDRA_concept_class_id'\n",
    "     }\n",
    " ).\n",
    " dropna().\n",
    " drop_duplicates()\n",
    ")\n",
    "standard_reactions_pt_to_soc = (standard_reactions_pt_to_soc.\n",
    "                               reindex(np.sort(standard_reactions_pt_to_soc.columns),axis=1)\n",
    "                               )\n",
    "print(standard_reactions_pt_to_soc.shape)\n",
    "print(standard_reactions_pt_to_soc.head())"
   ]
  },
  {
   "cell_type": "code",
   "execution_count": null,
   "metadata": {
    "hidden": true
   },
   "outputs": [],
   "source": [
    "print(\n",
    "    len(\n",
    "        np.intersect1d(\n",
    "            all_reports,\n",
    "            standard_reactions_pt_to_soc.safetyreportid.astype(str).unique()\n",
    "                        )\n",
    "    )/len(all_reports)\n",
    ")"
   ]
  },
  {
   "cell_type": "code",
   "execution_count": null,
   "metadata": {
    "hidden": true
   },
   "outputs": [],
   "source": [
    "(standard_reactions_pt_to_soc.\n",
    " to_csv(er_dir+'standard_reactions_meddra_soc.csv.gz',\n",
    "        compression='gzip',index=False)\n",
    ")"
   ]
  },
  {
   "cell_type": "code",
   "execution_count": null,
   "metadata": {
    "hidden": true
   },
   "outputs": [],
   "source": [
    "del c\n",
    "del r\n",
    "del first_relations\n",
    "del second_relations\n",
    "del first_second_third_relations\n",
    "del all_meddra_relationships\n",
    "del meddra_concept\n",
    "del df1\n",
    "del df2\n",
    "del joined\n",
    "del standard_reactions_pt_to_soc\n",
    "del standard_reactions_pt_to_hlgt\n",
    "del standard_reactions_pt_to_hlt"
   ]
  },
  {
   "cell_type": "markdown",
   "metadata": {},
   "source": [
    "### standard_reactions_snomed"
   ]
  },
  {
   "cell_type": "code",
   "execution_count": null,
   "metadata": {},
   "outputs": [],
   "source": [
    "standard_reactions_meddra_relationships = (pd.read_csv(\n",
    "    er_dir+'standard_reactions_meddra_relationships.csv.gz',\n",
    "    compression='gzip',\n",
    "    dtype={\n",
    "    'safetyreportid' : 'str'\n",
    "    })\n",
    "    )\n",
    "\n",
    "print(standard_reactions_meddra_relationships.MedDRA_concept_id_1.nunique())\n",
    "print(standard_reactions_meddra_relationships.MedDRA_concept_id_2.nunique())\n",
    "print(standard_reactions_meddra_relationships.MedDRA_concept_id_3.nunique())\n",
    "print(standard_reactions_meddra_relationships.MedDRA_concept_id_4.nunique())\n",
    "\n",
    "standard_reactions_meddra_relationships.MedDRA_concept_id_1 = \\\n",
    "standard_reactions_meddra_relationships.MedDRA_concept_id_1.astype(int)\n",
    "\n",
    "standard_reactions_meddra_relationships.MedDRA_concept_id_2 = \\\n",
    "standard_reactions_meddra_relationships.MedDRA_concept_id_2.astype(int)\n",
    "\n",
    "standard_reactions_meddra_relationships.MedDRA_concept_id_3 = \\\n",
    "standard_reactions_meddra_relationships.MedDRA_concept_id_3.astype(int)\n",
    "\n",
    "standard_reactions_meddra_relationships.MedDRA_concept_id_4 = \\\n",
    "standard_reactions_meddra_relationships.MedDRA_concept_id_4.astype(int)\n",
    "\n",
    "print(standard_reactions_meddra_relationships.shape)\n",
    "print(standard_reactions_meddra_relationships.head())"
   ]
  },
  {
   "cell_type": "code",
   "execution_count": null,
   "metadata": {},
   "outputs": [],
   "source": [
    "reactions = standard_reactions_meddra_relationships.MedDRA_concept_id_1.unique()\n",
    "print(len(reactions))\n",
    "meddra_concept_ids = concept.query('vocabulary_id==\"MedDRA\"').concept_id.astype(int).unique()\n",
    "len(meddra_concept_ids)\n",
    "\n",
    "intersect = np.intersect1d(reactions,meddra_concept_ids)\n",
    "print(len(intersect))\n",
    "print(len(intersect)/len(reactions))"
   ]
  },
  {
   "cell_type": "code",
   "execution_count": null,
   "metadata": {},
   "outputs": [],
   "source": [
    "m_to_s_r = (concept_relationship.\n",
    "            query('relationship_id==\"MedDRA - SNOMED eq\"').\n",
    "            loc[:,['concept_id_1','concept_id_2']].\n",
    "            drop_duplicates().\n",
    "            set_index('concept_id_2').\n",
    "            join(concept.\n",
    "                 query('vocabulary_id==\"SNOMED\"').\n",
    "                 loc[:,['concept_id','concept_code','concept_class_id','concept_name']].\n",
    "                 drop_duplicates().\n",
    "                 set_index('concept_id')\n",
    "                ).\n",
    "            rename_axis('SNOMED_concept_id').\n",
    "            reset_index().\n",
    "            rename(columns={\n",
    "                'concept_id_1' : 'MedDRA_concept_id',\n",
    "                'concept_name' : 'SNOMED_concept_name',\n",
    "                'concept_code' : 'SNOMED_concept_code',\n",
    "                'concept_class_id' : 'SNOMED_concept_class_id'\n",
    "            })\n",
    ")\n",
    "m_to_s_r.MedDRA_concept_id = m_to_s_r.MedDRA_concept_id.astype(int)\n",
    "m_to_s_r = m_to_s_r.reindex(np.sort(m_to_s_r.columns),axis=1)\n",
    "print(m_to_s_r.shape)\n",
    "print(m_to_s_r.SNOMED_concept_class_id.value_counts())\n",
    "print(m_to_s_r.head())"
   ]
  },
  {
   "cell_type": "code",
   "execution_count": null,
   "metadata": {},
   "outputs": [],
   "source": [
    "r2s = m_to_s_r.MedDRA_concept_id.unique()"
   ]
  },
  {
   "cell_type": "code",
   "execution_count": null,
   "metadata": {},
   "outputs": [],
   "source": [
    "pts = (standard_reactions_meddra_relationships.\n",
    "       query('MedDRA_concept_class_id_1==\"PT\"').\n",
    "       MedDRA_concept_id_1.\n",
    "       unique())\n",
    "print(len(np.intersect1d(pts,r2s))/len(pts))\n",
    "print(len(np.intersect1d(pts,r2s))/len(r2s))\n",
    "\n",
    "df = (standard_reactions_meddra_relationships.\n",
    "      query('MedDRA_concept_id_1 in @r2s'))\n",
    "\n",
    "print(df.shape)\n",
    "\n",
    "joinedpt = (df.\n",
    "           set_index('MedDRA_concept_id_1').\n",
    "           join(m_to_s_r.\n",
    "                query('MedDRA_concept_id in @pts').\n",
    "                set_index('MedDRA_concept_id')\n",
    "               ).\n",
    "           rename_axis('MedDRA_concept_id_1').\n",
    "           reset_index().\n",
    "           rename(columns={\n",
    "               'SNOMED_concept_id' : 'SNOMED_concept_id_1',\n",
    "               'SNOMED_concept_code' : 'SNOMED_concept_code_1',\n",
    "               'SNOMED_concept_name' : 'SNOMED_concept_name_1',\n",
    "               'SNOMED_concept_class_id' : 'SNOMED_concept_class_id_1',\n",
    "           }).\n",
    "           dropna()\n",
    "          )\n",
    "joinedpt = joinedpt.reindex(np.sort(joinedpt.columns),axis=1)\n",
    "print(joinedpt.shape)\n",
    "print(joinedpt.head())"
   ]
  },
  {
   "cell_type": "code",
   "execution_count": null,
   "metadata": {},
   "outputs": [],
   "source": [
    "hlts = (joinedpt.\n",
    "       query('MedDRA_concept_class_id_2==\"HLT\"').\n",
    "       MedDRA_concept_id_2.\n",
    "       unique())\n",
    "print(len(np.intersect1d(hlts,r2s))/len(hlts))\n",
    "print(len(np.intersect1d(hlts,r2s))/len(r2s))\n",
    "\n",
    "df = (joinedpt.copy())\n",
    "\n",
    "print(df.shape)\n",
    "print(df.head())\n",
    "\n",
    "\n",
    "joinedhlt = (df.\n",
    "           set_index('MedDRA_concept_id_2').\n",
    "           join(m_to_s_r.\n",
    "                query('MedDRA_concept_id in @hlts').\n",
    "                set_index('MedDRA_concept_id')\n",
    "               ).\n",
    "           rename_axis('MedDRA_concept_id_2').\n",
    "           reset_index().\n",
    "           rename(columns={\n",
    "               'SNOMED_concept_id' : 'SNOMED_concept_id_2',\n",
    "               'SNOMED_concept_code' : 'SNOMED_concept_code_2',\n",
    "               'SNOMED_concept_name' : 'SNOMED_concept_name_2',\n",
    "               'SNOMED_concept_class_id' : 'SNOMED_concept_class_id_2',\n",
    "           })\n",
    "          )\n",
    "joinedhlt = joinedhlt.reindex(np.sort(joinedhlt.columns),axis=1)\n",
    "print(joinedhlt.shape)\n",
    "print(joinedhlt.head())"
   ]
  },
  {
   "cell_type": "code",
   "execution_count": null,
   "metadata": {},
   "outputs": [],
   "source": [
    "hlgts = (joinedhlt.\n",
    "       query('MedDRA_concept_class_id_3==\"HLGT\"').\n",
    "       MedDRA_concept_id_3.\n",
    "       unique())\n",
    "print(len(np.intersect1d(hlgts,r2s))/len(hlgts))\n",
    "print(len(np.intersect1d(hlgts,r2s))/len(r2s))\n",
    "\n",
    "df = (joinedhlt.copy())\n",
    "\n",
    "print(df.shape)\n",
    "\n",
    "joinedhlgt = (df.\n",
    "           set_index('MedDRA_concept_id_3').\n",
    "           join(m_to_s_r.\n",
    "                query('MedDRA_concept_id in @hlgts').\n",
    "                set_index('MedDRA_concept_id')\n",
    "               ).\n",
    "           rename_axis('MedDRA_concept_id_3').\n",
    "           reset_index().\n",
    "           drop_duplicates().\n",
    "           rename(columns={\n",
    "               'SNOMED_concept_id' : 'SNOMED_concept_id_3',\n",
    "               'SNOMED_concept_code' : 'SNOMED_concept_code_3',\n",
    "               'SNOMED_concept_name' : 'SNOMED_concept_name_3',\n",
    "               'SNOMED_concept_class_id' : 'SNOMED_concept_class_id_3',\n",
    "           })\n",
    "          )\n",
    "joinedhlgt = joinedhlgt.reindex(np.sort(joinedhlgt.columns),axis=1)\n",
    "print(joinedhlgt.shape)\n",
    "print(joinedhlgt.head())"
   ]
  },
  {
   "cell_type": "code",
   "execution_count": null,
   "metadata": {},
   "outputs": [],
   "source": [
    "socs = (joinedhlgt.\n",
    "       query('MedDRA_concept_class_id_4==\"SOC\"').\n",
    "       MedDRA_concept_id_4.\n",
    "       unique())\n",
    "print(len(np.intersect1d(socs,r2s))/len(socs))\n",
    "print(len(np.intersect1d(socs,r2s))/len(r2s))\n",
    "\n",
    "df = (joinedhlgt.copy())\n",
    "\n",
    "print(df.shape)\n",
    "print(df.head())\n",
    "print(m_to_s_r.shape)\n",
    "print(m_to_s_r.head())\n",
    "\n",
    "joinedsoc = (df.\n",
    "           set_index('MedDRA_concept_id_4').\n",
    "           join(m_to_s_r.\n",
    "                query('MedDRA_concept_id in @socs').\n",
    "                set_index('MedDRA_concept_id')\n",
    "               ).\n",
    "           rename_axis('MedDRA_concept_id_4').\n",
    "           reset_index().\n",
    "           drop_duplicates().\n",
    "           rename(columns={\n",
    "               'SNOMED_concept_id' : 'SNOMED_concept_id_4',\n",
    "               'SNOMED_concept_code' : 'SNOMED_concept_code_4',\n",
    "               'SNOMED_concept_name' : 'SNOMED_concept_name_4',\n",
    "               'SNOMED_concept_class_id' : 'SNOMED_concept_class_id_4',\n",
    "           })\n",
    "          )\n",
    "joinedsoc = joinedsoc.reindex(np.sort(joinedsoc.columns),axis=1)\n",
    "print(joinedsoc.shape)\n",
    "print(joinedsoc.head())"
   ]
  },
  {
   "cell_type": "code",
   "execution_count": null,
   "metadata": {},
   "outputs": [],
   "source": [
    "smeddraconcepts = joinedpt.MedDRA_concept_id_1.unique()\n",
    "print(len(smeddraconcepts))\n",
    "allmeddraconcepts = (standard_reactions_meddra_relationships.\n",
    "                     query('MedDRA_concept_class_id_1==\"PT\"').\n",
    "                     MedDRA_concept_id_1.\n",
    "                     unique())\n",
    "print(len(allmeddraconcepts))\n",
    "\n",
    "print(len(np.intersect1d(smeddraconcepts,allmeddraconcepts))/len(smeddraconcepts))\n",
    "print(len(np.intersect1d(smeddraconcepts,allmeddraconcepts))/len(allmeddraconcepts))"
   ]
  },
  {
   "cell_type": "code",
   "execution_count": null,
   "metadata": {},
   "outputs": [],
   "source": [
    "smeddraconcepts = joinedhlt.MedDRA_concept_id_2.unique()\n",
    "print(len(smeddraconcepts))\n",
    "allmeddraconcepts = (standard_reactions_meddra_relationships.\n",
    "                     query('MedDRA_concept_class_id_2==\"HLT\"').\n",
    "                     MedDRA_concept_id_2.\n",
    "                     unique())\n",
    "print(len(allmeddraconcepts))\n",
    "\n",
    "print(len(np.intersect1d(smeddraconcepts,allmeddraconcepts))/len(smeddraconcepts))\n",
    "print(len(np.intersect1d(smeddraconcepts,allmeddraconcepts))/len(allmeddraconcepts))"
   ]
  },
  {
   "cell_type": "code",
   "execution_count": null,
   "metadata": {},
   "outputs": [],
   "source": [
    "smeddraconcepts = joinedhlgt.MedDRA_concept_id_3.unique()\n",
    "print(len(smeddraconcepts))\n",
    "allmeddraconcepts = (standard_reactions_meddra_relationships.\n",
    "                     query('MedDRA_concept_class_id_3==\"HLGT\"').\n",
    "                     MedDRA_concept_id_3.\n",
    "                     unique())\n",
    "print(len(allmeddraconcepts))\n",
    "\n",
    "print(len(np.intersect1d(smeddraconcepts,allmeddraconcepts))/len(smeddraconcepts))\n",
    "print(len(np.intersect1d(smeddraconcepts,allmeddraconcepts))/len(allmeddraconcepts))"
   ]
  },
  {
   "cell_type": "code",
   "execution_count": null,
   "metadata": {},
   "outputs": [],
   "source": [
    "smeddraconcepts = joinedsoc.MedDRA_concept_id_4.unique()\n",
    "print(len(smeddraconcepts))\n",
    "allmeddraconcepts = (standard_reactions_meddra_relationships.\n",
    "                     query('MedDRA_concept_class_id_4==\"SOC\"').\n",
    "                     MedDRA_concept_id_4.\n",
    "                     unique())\n",
    "print(len(allmeddraconcepts))\n",
    "\n",
    "print(len(np.intersect1d(smeddraconcepts,allmeddraconcepts))/len(smeddraconcepts))\n",
    "print(len(np.intersect1d(smeddraconcepts,allmeddraconcepts))/len(allmeddraconcepts))"
   ]
  },
  {
   "cell_type": "code",
   "execution_count": null,
   "metadata": {},
   "outputs": [],
   "source": [
    "print(joinedsoc.head())\n",
    "print(joinedsoc.shape)\n",
    "print(joinedsoc[joinedsoc.SNOMED_concept_id_1.notnull()].shape)\n",
    "print(joinedsoc.SNOMED_concept_id_1.nunique())\n",
    "print(joinedsoc[joinedsoc.SNOMED_concept_id_2.notnull()].shape)\n",
    "print(joinedsoc.SNOMED_concept_id_2.nunique())\n",
    "print(joinedsoc[joinedsoc.SNOMED_concept_id_3.notnull()].shape)\n",
    "print(joinedsoc.SNOMED_concept_id_3.nunique())\n",
    "print(joinedsoc[joinedsoc.SNOMED_concept_id_4.notnull()].shape)\n",
    "print(joinedsoc.SNOMED_concept_id_4.nunique())"
   ]
  },
  {
   "cell_type": "code",
   "execution_count": null,
   "metadata": {},
   "outputs": [],
   "source": [
    "joinedsoc.SNOMED_concept_code_1 = joinedsoc.SNOMED_concept_code_1.astype(int)\n",
    "joinedsoc.SNOMED_concept_code_2 = joinedsoc.SNOMED_concept_code_2.astype(float)\n",
    "joinedsoc.SNOMED_concept_code_3 = joinedsoc.SNOMED_concept_code_3.astype(float)\n",
    "joinedsoc.SNOMED_concept_code_4 = joinedsoc.SNOMED_concept_code_4.astype(float)"
   ]
  },
  {
   "cell_type": "code",
   "execution_count": null,
   "metadata": {},
   "outputs": [],
   "source": [
    "standard_reactions = (pd.\n",
    "                      read_csv(er_dir+'standard_reactions.csv.gz',\n",
    "                               compression=\"gzip\",\n",
    "                              dtype={\n",
    "                                  'safetyreportid' : 'str'\n",
    "                              })\n",
    "                     )\n",
    "all_reports = (standard_reactions.safetyreportid.unique())\n",
    "print(standard_reactions.shape)\n",
    "print(standard_reactions.head())"
   ]
  },
  {
   "cell_type": "code",
   "execution_count": null,
   "metadata": {},
   "outputs": [],
   "source": [
    "standard_reactions_meddrapt_to_snomed = \\\n",
    "(joinedsoc.\n",
    " loc[:,['MedDRA_concept_id_1','SNOMED_concept_id_1',\n",
    "   'SNOMED_concept_code_1','SNOMED_concept_name_1',\n",
    "   'SNOMED_concept_class_id_1']].\n",
    " drop_duplicates().\n",
    " rename(\n",
    "     columns={\n",
    "         'SNOMED_concept_id_1' : 'SNOMED_concept_id',\n",
    "         'SNOMED_concept_code_1' : 'SNOMED_concept_code',\n",
    "         'SNOMED_concept_name_1' : 'SNOMED_concept_name',\n",
    "         'SNOMED_concept_class_id_1' : 'SNOMED_concept_class_id'\n",
    "     }\n",
    " ).\n",
    " set_index('MedDRA_concept_id_1').\n",
    " join(standard_reactions.\n",
    "      drop_duplicates().\n",
    "      set_index('MedDRA_concept_id')\n",
    "     ).\n",
    " reset_index(drop=True).\n",
    " drop(['MedDRA_concept_code','MedDRA_concept_name',\n",
    "      'MedDRA_concept_class_id'],axis=1).\n",
    " dropna()\n",
    ")\n",
    "standard_reactions_meddrapt_to_snomed = \\\n",
    "(standard_reactions_meddrapt_to_snomed.\n",
    " reindex(np.sort(standard_reactions_meddrapt_to_snomed.columns),\n",
    "         axis=1))\n",
    "print(standard_reactions_meddrapt_to_snomed.shape)\n",
    "print(standard_reactions_meddrapt_to_snomed.head())"
   ]
  },
  {
   "cell_type": "code",
   "execution_count": null,
   "metadata": {},
   "outputs": [],
   "source": [
    "print(\n",
    "    len(\n",
    "        np.intersect1d(\n",
    "            all_reports,\n",
    "            standard_reactions_meddrapt_to_snomed.safetyreportid.astype(str).unique()\n",
    "        )\n",
    "    )/len(all_reports)\n",
    ")"
   ]
  },
  {
   "cell_type": "code",
   "execution_count": null,
   "metadata": {},
   "outputs": [],
   "source": [
    "(standard_reactions_meddrapt_to_snomed.\n",
    " to_csv(er_dir+'standard_reactions_snomed.csv.gz',\n",
    "        compression='gzip',index=False)\n",
    ")"
   ]
  },
  {
   "cell_type": "code",
   "execution_count": null,
   "metadata": {},
   "outputs": [],
   "source": [
    "standard_reactions_meddrahlt_to_snomed = \\\n",
    "(joinedsoc.\n",
    " query('MedDRA_concept_class_id_2==\"HLT\"').\n",
    " loc[:,['MedDRA_concept_id_1','SNOMED_concept_id_2',\n",
    "   'SNOMED_concept_code_2','SNOMED_concept_name_2',\n",
    "   'SNOMED_concept_class_id_2']].\n",
    " drop_duplicates().\n",
    " rename(\n",
    "     columns={\n",
    "         'SNOMED_concept_id_2' : 'SNOMED_concept_id',\n",
    "         'SNOMED_concept_code_2' : 'SNOMED_concept_code',\n",
    "         'SNOMED_concept_name_2' : 'SNOMED_concept_name',\n",
    "         'SNOMED_concept_class_id_2' : 'SNOMED_concept_class_id'\n",
    "     }\n",
    " ).\n",
    " set_index('MedDRA_concept_id_1').\n",
    " join(standard_reactions.\n",
    "      drop_duplicates().\n",
    "      set_index('MedDRA_concept_id')\n",
    "     ).\n",
    " rename_axis('MedDRA_concept_id').\n",
    " reset_index().\n",
    " dropna(subset=['MedDRA_concept_id','SNOMED_concept_id','safetyreportid'])\n",
    ")\n",
    "standard_reactions_meddrahlt_to_snomed = \\\n",
    "(standard_reactions_meddrahlt_to_snomed.\n",
    " reindex(np.sort(standard_reactions_meddrahlt_to_snomed.columns),\n",
    "         axis=1))\n",
    "print(standard_reactions_meddrahlt_to_snomed.shape)\n",
    "print(standard_reactions_meddrahlt_to_snomed.head())"
   ]
  },
  {
   "cell_type": "code",
   "execution_count": null,
   "metadata": {},
   "outputs": [],
   "source": [
    "print(\n",
    "    len(\n",
    "        np.intersect1d(\n",
    "            all_reports,\n",
    "            standard_reactions_meddrahlt_to_snomed.safetyreportid.astype(str).unique()\n",
    "        )\n",
    "    )/len(all_reports)\n",
    ")"
   ]
  },
  {
   "cell_type": "code",
   "execution_count": null,
   "metadata": {},
   "outputs": [],
   "source": [
    "joinedsoc"
   ]
  },
  {
   "cell_type": "code",
   "execution_count": null,
   "metadata": {},
   "outputs": [],
   "source": [
    "standard_reactions_meddrahlgt_to_snomed = \\\n",
    "(joinedsoc.\n",
    " query('MedDRA_concept_class_id_2==\"HLGT\"').\n",
    " loc[:,['MedDRA_concept_id_1','SNOMED_concept_id_3',\n",
    "   'SNOMED_concept_code_3','SNOMED_concept_name_3',\n",
    "   'SNOMED_concept_class_id_2']].\n",
    " drop_duplicates().\n",
    " rename(\n",
    "     columns={\n",
    "         'SNOMED_concept_id_3' : 'SNOMED_concept_id',\n",
    "         'SNOMED_concept_code_3' : 'SNOMED_concept_code',\n",
    "         'SNOMED_concept_name_3' : 'SNOMED_concept_name',\n",
    "         'SNOMED_concept_class_id_3' : 'SNOMED_concept_class_id'\n",
    "     }\n",
    " ).\n",
    " set_index('MedDRA_concept_id_1').\n",
    " join(standard_reactions.\n",
    "      drop_duplicates().\n",
    "      set_index('MedDRA_concept_id')\n",
    "     ).\n",
    " rename_axis('MedDRA_concept_id').\n",
    " reset_index().\n",
    " dropna(subset=['MedDRA_concept_id','SNOMED_concept_id','safetyreportid'])\n",
    ")\n",
    "standard_reactions_meddrahlgt_to_snomed = \\\n",
    "(standard_reactions_meddrahlgt_to_snomed.\n",
    " reindex(np.sort(standard_reactions_meddrahlgt_to_snomed.columns),\n",
    "         axis=1))\n",
    "print(standard_reactions_meddrahlgt_to_snomed.shape)\n",
    "print(standard_reactions_meddrahlgt_to_snomed.head())"
   ]
  },
  {
   "cell_type": "code",
   "execution_count": null,
   "metadata": {},
   "outputs": [],
   "source": [
    "print(\n",
    "    len(\n",
    "        np.intersect1d(\n",
    "            all_reports,\n",
    "            standard_reactions_meddrahlgt_to_snomed.safetyreportid.astype(str).unique()\n",
    "        )\n",
    "    )/len(all_reports)\n",
    ")"
   ]
  },
  {
   "cell_type": "code",
   "execution_count": null,
   "metadata": {},
   "outputs": [],
   "source": [
    "standard_reactions_meddrasoc_to_snomed = \\\n",
    "(joinedsoc.\n",
    " query('MedDRA_concept_class_id_4==\"SOC\"').\n",
    " loc[:,['MedDRA_concept_id_1','SNOMED_concept_id_4',\n",
    "   'SNOMED_concept_code_4','SNOMED_concept_name_34',\n",
    "   'SNOMED_concept_class_id_4']].\n",
    " drop_duplicates().\n",
    " rename(\n",
    "     columns={\n",
    "         'SNOMED_concept_id_4' : 'SNOMED_concept_id',\n",
    "         'SNOMED_concept_code_4' : 'SNOMED_concept_code',\n",
    "         'SNOMED_concept_name_4' : 'SNOMED_concept_name',\n",
    "         'SNOMED_concept_class_id_4' : 'SNOMED_concept_class_id'\n",
    "     }\n",
    " ).\n",
    " set_index('MedDRA_concept_id_1').\n",
    " join(standard_reactions.\n",
    "      drop_duplicates().\n",
    "      set_index('MedDRA_concept_id')\n",
    "     ).\n",
    " rename_axis('MedDRA_concept_id').\n",
    " reset_index().\n",
    " dropna(subset=['MedDRA_concept_id','SNOMED_concept_id','safetyreportid'])\n",
    ")\n",
    "standard_reactions_meddrasoc_to_snomed = \\\n",
    "(standard_reactions_meddrasoc_to_snomed.\n",
    " reindex(np.sort(standard_reactions_meddrasoc_to_snomed.columns),\n",
    "         axis=1))\n",
    "print(standard_reactions_meddrasoc_to_snomed.shape)\n",
    "print(standard_reactions_meddrasoc_to_snomed.head())"
   ]
  },
  {
   "cell_type": "code",
   "execution_count": null,
   "metadata": {},
   "outputs": [],
   "source": [
    "print(\n",
    "    len(\n",
    "        np.intersect1d(\n",
    "            all_reports,\n",
    "            standard_reactions_meddrasoc_to_snomed.safetyreportid.astype(str).unique()\n",
    "        )\n",
    "    )/len(all_reports)\n",
    ")"
   ]
  },
  {
   "cell_type": "code",
   "execution_count": null,
   "metadata": {},
   "outputs": [],
   "source": [
    "del m_to_s_r\n",
    "del df\n",
    "del joinedpt\n",
    "del joinedhlt\n",
    "del joinedhlgt\n",
    "del joinedsoc\n",
    "del all_reports\n",
    "del standard_reactions\n",
    "del standard_reactions_meddrapt_to_snomed\n",
    "del standard_reactions_meddrahlt_to_snomed\n",
    "del standard_reactions_meddrahlgt_to_snomed\n",
    "del standard_reactions_meddra_relationships"
   ]
  }
 ],
 "metadata": {
  "kernelspec": {
   "display_name": "Python 3",
   "language": "python",
   "name": "python3"
  },
  "language_info": {
   "codemirror_mode": {
    "name": "ipython",
    "version": 3
   },
   "file_extension": ".py",
   "mimetype": "text/x-python",
   "name": "python",
   "nbconvert_exporter": "python",
   "pygments_lexer": "ipython3",
   "version": "3.7.7"
  },
  "toc": {
   "base_numbering": 1,
   "nav_menu": {},
   "number_sections": true,
   "sideBar": true,
   "skip_h1_title": false,
   "title_cell": "Table of Contents",
   "title_sidebar": "Contents",
   "toc_cell": false,
   "toc_position": {},
   "toc_section_display": true,
   "toc_window_display": true
  }
 },
 "nbformat": 4,
 "nbformat_minor": 2
}
