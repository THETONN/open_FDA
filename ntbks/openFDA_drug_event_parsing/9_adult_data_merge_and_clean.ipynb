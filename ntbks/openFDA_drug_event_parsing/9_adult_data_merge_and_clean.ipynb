{
 "cells": [
  {
   "cell_type": "markdown",
   "metadata": {},
   "source": [
    "### Merge Data"
   ]
  },
  {
   "cell_type": "markdown",
   "metadata": {},
   "source": [
    "#### Merge Pediatrics data with Drug and Reaction\n",
    "- Pediatrics data from 3_Pediatrics_data_merge.ipynb file\n",
    "- Raw Drug file from drugcharacteristics.csv.gz (Drug)\n",
    "- Reaction file from reactions.csv.gz (Meddra reaction PT)"
   ]
  },
  {
   "cell_type": "code",
   "execution_count": 1,
   "metadata": {},
   "outputs": [],
   "source": [
    "import pandas as pd\n",
    "import numpy as np\n",
    "import matplotlib.pyplot as plt\n",
    "import seaborn as sns\n",
    "from IPython.display import display"
   ]
  },
  {
   "cell_type": "markdown",
   "metadata": {},
   "source": [
    "#### Raw Data"
   ]
  },
  {
   "cell_type": "code",
   "execution_count": 2,
   "metadata": {},
   "outputs": [
    {
     "name": "stderr",
     "output_type": "stream",
     "text": [
      "/tmp/ipykernel_1881/3067837061.py:1: DtypeWarning: Columns (6,18) have mixed types. Specify dtype option on import or set low_memory=False.\n",
      "  adult_report_data = pd.read_csv('../../data/adult_report_resious_reporter.csv.gz',compression='gzip', index_col=0)\n"
     ]
    }
   ],
   "source": [
    "adult_report_data = pd.read_csv('../../data/adult_report_resious_reporter.csv.gz',compression='gzip', index_col=0)"
   ]
  },
  {
   "cell_type": "code",
   "execution_count": 3,
   "metadata": {},
   "outputs": [
    {
     "name": "stderr",
     "output_type": "stream",
     "text": [
      "/tmp/ipykernel_1881/195607322.py:1: DtypeWarning: Columns (4) have mixed types. Specify dtype option on import or set low_memory=False.\n",
      "  drug_characteristics_df = pd.read_csv('../../data/openFDA_drug_event/er_tables_memory_efficient/drugcharacteristics.csv.gz',compression='gzip')\n"
     ]
    }
   ],
   "source": [
    "drug_characteristics_df = pd.read_csv('../../data/openFDA_drug_event/er_tables_memory_efficient/drugcharacteristics.csv.gz',compression='gzip')"
   ]
  },
  {
   "cell_type": "code",
   "execution_count": 4,
   "metadata": {},
   "outputs": [
    {
     "data": {
      "text/html": [
       "<div>\n",
       "<style scoped>\n",
       "    .dataframe tbody tr th:only-of-type {\n",
       "        vertical-align: middle;\n",
       "    }\n",
       "\n",
       "    .dataframe tbody tr th {\n",
       "        vertical-align: top;\n",
       "    }\n",
       "\n",
       "    .dataframe thead th {\n",
       "        text-align: right;\n",
       "    }\n",
       "</style>\n",
       "<table border=\"1\" class=\"dataframe\">\n",
       "  <thead>\n",
       "    <tr style=\"text-align: right;\">\n",
       "      <th></th>\n",
       "      <th>drug_administration</th>\n",
       "      <th>drug_characterization</th>\n",
       "      <th>drug_indication</th>\n",
       "      <th>medicinal_product</th>\n",
       "      <th>safetyreportid</th>\n",
       "    </tr>\n",
       "  </thead>\n",
       "  <tbody>\n",
       "    <tr>\n",
       "      <th>0</th>\n",
       "      <td>Intravenous (not otherwise specified)</td>\n",
       "      <td>Suspect (the drug was considered by the report...</td>\n",
       "      <td>OSTEOPOROSIS</td>\n",
       "      <td>BONIVA</td>\n",
       "      <td>10003300</td>\n",
       "    </tr>\n",
       "    <tr>\n",
       "      <th>1</th>\n",
       "      <td>NaN</td>\n",
       "      <td>Suspect (the drug was considered by the report...</td>\n",
       "      <td>PRODUCT USED FOR UNKNOWN INDICATION</td>\n",
       "      <td>IBUPROFEN</td>\n",
       "      <td>10003301</td>\n",
       "    </tr>\n",
       "    <tr>\n",
       "      <th>2</th>\n",
       "      <td>NaN</td>\n",
       "      <td>Suspect (the drug was considered by the report...</td>\n",
       "      <td>NaN</td>\n",
       "      <td>LYRICA</td>\n",
       "      <td>10003302</td>\n",
       "    </tr>\n",
       "    <tr>\n",
       "      <th>3</th>\n",
       "      <td>NaN</td>\n",
       "      <td>Suspect (the drug was considered by the report...</td>\n",
       "      <td>NaN</td>\n",
       "      <td>FIORINAL</td>\n",
       "      <td>10003304</td>\n",
       "    </tr>\n",
       "    <tr>\n",
       "      <th>4</th>\n",
       "      <td>NaN</td>\n",
       "      <td>Suspect (the drug was considered by the report...</td>\n",
       "      <td>NaN</td>\n",
       "      <td>DOXYCYCLINE HYCLATE</td>\n",
       "      <td>10003304</td>\n",
       "    </tr>\n",
       "    <tr>\n",
       "      <th>...</th>\n",
       "      <td>...</td>\n",
       "      <td>...</td>\n",
       "      <td>...</td>\n",
       "      <td>...</td>\n",
       "      <td>...</td>\n",
       "    </tr>\n",
       "    <tr>\n",
       "      <th>64177915</th>\n",
       "      <td>Oral</td>\n",
       "      <td>Suspect (the drug was considered by the report...</td>\n",
       "      <td>PRODUCT USED FOR UNKNOWN INDICATION</td>\n",
       "      <td>LETAIRIS</td>\n",
       "      <td>9999996</td>\n",
       "    </tr>\n",
       "    <tr>\n",
       "      <th>64177916</th>\n",
       "      <td>NaN</td>\n",
       "      <td>Suspect (the drug was considered by the report...</td>\n",
       "      <td>NaN</td>\n",
       "      <td>VENTAVIS</td>\n",
       "      <td>9999997</td>\n",
       "    </tr>\n",
       "    <tr>\n",
       "      <th>64177917</th>\n",
       "      <td>NaN</td>\n",
       "      <td>Suspect (the drug was considered by the report...</td>\n",
       "      <td>COR PULMONALE CHRONIC</td>\n",
       "      <td>LETAIRIS</td>\n",
       "      <td>9999997</td>\n",
       "    </tr>\n",
       "    <tr>\n",
       "      <th>64177918</th>\n",
       "      <td>Oral</td>\n",
       "      <td>Suspect (the drug was considered by the report...</td>\n",
       "      <td>PRODUCT USED FOR UNKNOWN INDICATION</td>\n",
       "      <td>LETAIRIS</td>\n",
       "      <td>9999998</td>\n",
       "    </tr>\n",
       "    <tr>\n",
       "      <th>64177919</th>\n",
       "      <td>Oral</td>\n",
       "      <td>Suspect (the drug was considered by the report...</td>\n",
       "      <td>PULMONARY ARTERIAL HYPERTENSION</td>\n",
       "      <td>LETAIRIS</td>\n",
       "      <td>9999999</td>\n",
       "    </tr>\n",
       "  </tbody>\n",
       "</table>\n",
       "<p>64177920 rows × 5 columns</p>\n",
       "</div>"
      ],
      "text/plain": [
       "                            drug_administration  \\\n",
       "0         Intravenous (not otherwise specified)   \n",
       "1                                           NaN   \n",
       "2                                           NaN   \n",
       "3                                           NaN   \n",
       "4                                           NaN   \n",
       "...                                         ...   \n",
       "64177915                                   Oral   \n",
       "64177916                                    NaN   \n",
       "64177917                                    NaN   \n",
       "64177918                                   Oral   \n",
       "64177919                                   Oral   \n",
       "\n",
       "                                      drug_characterization  \\\n",
       "0         Suspect (the drug was considered by the report...   \n",
       "1         Suspect (the drug was considered by the report...   \n",
       "2         Suspect (the drug was considered by the report...   \n",
       "3         Suspect (the drug was considered by the report...   \n",
       "4         Suspect (the drug was considered by the report...   \n",
       "...                                                     ...   \n",
       "64177915  Suspect (the drug was considered by the report...   \n",
       "64177916  Suspect (the drug was considered by the report...   \n",
       "64177917  Suspect (the drug was considered by the report...   \n",
       "64177918  Suspect (the drug was considered by the report...   \n",
       "64177919  Suspect (the drug was considered by the report...   \n",
       "\n",
       "                              drug_indication    medicinal_product  \\\n",
       "0                                OSTEOPOROSIS               BONIVA   \n",
       "1         PRODUCT USED FOR UNKNOWN INDICATION            IBUPROFEN   \n",
       "2                                         NaN               LYRICA   \n",
       "3                                         NaN             FIORINAL   \n",
       "4                                         NaN  DOXYCYCLINE HYCLATE   \n",
       "...                                       ...                  ...   \n",
       "64177915  PRODUCT USED FOR UNKNOWN INDICATION             LETAIRIS   \n",
       "64177916                                  NaN             VENTAVIS   \n",
       "64177917                COR PULMONALE CHRONIC             LETAIRIS   \n",
       "64177918  PRODUCT USED FOR UNKNOWN INDICATION             LETAIRIS   \n",
       "64177919      PULMONARY ARTERIAL HYPERTENSION             LETAIRIS   \n",
       "\n",
       "         safetyreportid  \n",
       "0              10003300  \n",
       "1              10003301  \n",
       "2              10003302  \n",
       "3              10003304  \n",
       "4              10003304  \n",
       "...                 ...  \n",
       "64177915        9999996  \n",
       "64177916        9999997  \n",
       "64177917        9999997  \n",
       "64177918        9999998  \n",
       "64177919        9999999  \n",
       "\n",
       "[64177920 rows x 5 columns]"
      ]
     },
     "execution_count": 4,
     "metadata": {},
     "output_type": "execute_result"
    }
   ],
   "source": [
    "drug_characteristics_df"
   ]
  },
  {
   "cell_type": "code",
   "execution_count": 5,
   "metadata": {},
   "outputs": [],
   "source": [
    "reaction_df = pd.read_csv(\"../../data/openFDA_drug_event/er_tables_memory_efficient/reactions.csv.gz\", compression='gzip', low_memory=False)"
   ]
  },
  {
   "cell_type": "code",
   "execution_count": 6,
   "metadata": {},
   "outputs": [
    {
     "data": {
      "text/html": [
       "<div>\n",
       "<style scoped>\n",
       "    .dataframe tbody tr th:only-of-type {\n",
       "        vertical-align: middle;\n",
       "    }\n",
       "\n",
       "    .dataframe tbody tr th {\n",
       "        vertical-align: top;\n",
       "    }\n",
       "\n",
       "    .dataframe thead th {\n",
       "        text-align: right;\n",
       "    }\n",
       "</style>\n",
       "<table border=\"1\" class=\"dataframe\">\n",
       "  <thead>\n",
       "    <tr style=\"text-align: right;\">\n",
       "      <th></th>\n",
       "      <th>reaction_meddrapt</th>\n",
       "      <th>reaction_outcome</th>\n",
       "      <th>safetyreportid</th>\n",
       "    </tr>\n",
       "  </thead>\n",
       "  <tbody>\n",
       "    <tr>\n",
       "      <th>0</th>\n",
       "      <td>Diarrhoea</td>\n",
       "      <td>NaN</td>\n",
       "      <td>10003300</td>\n",
       "    </tr>\n",
       "    <tr>\n",
       "      <th>1</th>\n",
       "      <td>Arthralgia</td>\n",
       "      <td>NaN</td>\n",
       "      <td>10003300</td>\n",
       "    </tr>\n",
       "    <tr>\n",
       "      <th>2</th>\n",
       "      <td>Headache</td>\n",
       "      <td>NaN</td>\n",
       "      <td>10003300</td>\n",
       "    </tr>\n",
       "    <tr>\n",
       "      <th>3</th>\n",
       "      <td>Vomiting</td>\n",
       "      <td>NaN</td>\n",
       "      <td>10003300</td>\n",
       "    </tr>\n",
       "    <tr>\n",
       "      <th>4</th>\n",
       "      <td>Dyspepsia</td>\n",
       "      <td>NaN</td>\n",
       "      <td>10003301</td>\n",
       "    </tr>\n",
       "    <tr>\n",
       "      <th>...</th>\n",
       "      <td>...</td>\n",
       "      <td>...</td>\n",
       "      <td>...</td>\n",
       "    </tr>\n",
       "    <tr>\n",
       "      <th>56821719</th>\n",
       "      <td>Dizziness</td>\n",
       "      <td>Unknown</td>\n",
       "      <td>9999997</td>\n",
       "    </tr>\n",
       "    <tr>\n",
       "      <th>56821720</th>\n",
       "      <td>Cough</td>\n",
       "      <td>Unknown</td>\n",
       "      <td>9999997</td>\n",
       "    </tr>\n",
       "    <tr>\n",
       "      <th>56821721</th>\n",
       "      <td>Oedema</td>\n",
       "      <td>Unknown</td>\n",
       "      <td>9999998</td>\n",
       "    </tr>\n",
       "    <tr>\n",
       "      <th>56821722</th>\n",
       "      <td>Chest pain</td>\n",
       "      <td>Unknown</td>\n",
       "      <td>9999999</td>\n",
       "    </tr>\n",
       "    <tr>\n",
       "      <th>56821723</th>\n",
       "      <td>Middle insomnia</td>\n",
       "      <td>Unknown</td>\n",
       "      <td>9999999</td>\n",
       "    </tr>\n",
       "  </tbody>\n",
       "</table>\n",
       "<p>56821724 rows × 3 columns</p>\n",
       "</div>"
      ],
      "text/plain": [
       "         reaction_meddrapt reaction_outcome safetyreportid\n",
       "0                Diarrhoea              NaN       10003300\n",
       "1               Arthralgia              NaN       10003300\n",
       "2                 Headache              NaN       10003300\n",
       "3                 Vomiting              NaN       10003300\n",
       "4                Dyspepsia              NaN       10003301\n",
       "...                    ...              ...            ...\n",
       "56821719         Dizziness          Unknown        9999997\n",
       "56821720             Cough          Unknown        9999997\n",
       "56821721            Oedema          Unknown        9999998\n",
       "56821722        Chest pain          Unknown        9999999\n",
       "56821723   Middle insomnia          Unknown        9999999\n",
       "\n",
       "[56821724 rows x 3 columns]"
      ]
     },
     "execution_count": 6,
     "metadata": {},
     "output_type": "execute_result"
    }
   ],
   "source": [
    "reaction_df"
   ]
  },
  {
   "cell_type": "markdown",
   "metadata": {},
   "source": [
    "##### Merge Data"
   ]
  },
  {
   "cell_type": "code",
   "execution_count": 10,
   "metadata": {},
   "outputs": [],
   "source": [
    "adult_data = adult_report_data.copy()"
   ]
  },
  {
   "cell_type": "code",
   "execution_count": 9,
   "metadata": {},
   "outputs": [
    {
     "data": {
      "text/plain": [
       "(1519713, 19)"
      ]
     },
     "execution_count": 9,
     "metadata": {},
     "output_type": "execute_result"
    }
   ],
   "source": [
    "adult_data.shape"
   ]
  },
  {
   "cell_type": "code",
   "execution_count": 11,
   "metadata": {},
   "outputs": [],
   "source": [
    "adult_data_merge = adult_report_data\\\n",
    "    .merge(drug_characteristics_df, on='safetyreportid', how='inner')\\\n",
    "    .merge(reaction_df, on='safetyreportid', how='inner')"
   ]
  },
  {
   "cell_type": "markdown",
   "metadata": {},
   "source": [
    "##### Adult Data Merge"
   ]
  },
  {
   "cell_type": "code",
   "execution_count": 12,
   "metadata": {},
   "outputs": [
    {
     "name": "stdout",
     "output_type": "stream",
     "text": [
      "<class 'pandas.core.frame.DataFrame'>\n",
      "RangeIndex: 30436709 entries, 0 to 30436708\n",
      "Data columns (total 25 columns):\n",
      " #   Column                     Dtype  \n",
      "---  ------                     -----  \n",
      " 0   patient_custom_master_age  float64\n",
      " 1   patient_onsetage           float64\n",
      " 2   patient_onsetageunit       object \n",
      " 3   patient_sex                object \n",
      " 4   patient_weight             float64\n",
      " 5   safetyreportid             object \n",
      " 6   lastupdate_date            int64  \n",
      " 7   mostrecent_receive_date    int64  \n",
      " 8   receive_date               int64  \n",
      " 9   congenital_anomali         float64\n",
      " 10  death                      float64\n",
      " 11  disabling                  float64\n",
      " 12  hospitalization            float64\n",
      " 13  life_threatening           float64\n",
      " 14  other                      float64\n",
      " 15  serious                    object \n",
      " 16  reporter_company           object \n",
      " 17  reporter_country           object \n",
      " 18  reporter_qualification     object \n",
      " 19  drug_administration        object \n",
      " 20  drug_characterization      object \n",
      " 21  drug_indication            object \n",
      " 22  medicinal_product          object \n",
      " 23  reaction_meddrapt          object \n",
      " 24  reaction_outcome           object \n",
      "dtypes: float64(9), int64(3), object(13)\n",
      "memory usage: 5.7+ GB\n"
     ]
    }
   ],
   "source": [
    "adult_data_merge.info()"
   ]
  },
  {
   "cell_type": "markdown",
   "metadata": {},
   "source": [
    "##### Missing Data"
   ]
  },
  {
   "cell_type": "code",
   "execution_count": 13,
   "metadata": {},
   "outputs": [
    {
     "data": {
      "text/plain": [
       "congenital_anomali           30206698\n",
       "disabling                    27681821\n",
       "life_threatening             27492832\n",
       "reaction_outcome             26950115\n",
       "death                        24404682\n",
       "drug_indication              19284860\n",
       "drug_administration          17829724\n",
       "other                        15152201\n",
       "patient_weight               14243331\n",
       "hospitalization              12524642\n",
       "reporter_qualification        5289857\n",
       "reporter_country              4452076\n",
       "reporter_company              1523616\n",
       "patient_sex                    199973\n",
       "medicinal_product                  60\n",
       "patient_custom_master_age           0\n",
       "patient_onsetageunit                0\n",
       "receive_date                        0\n",
       "mostrecent_receive_date             0\n",
       "lastupdate_date                     0\n",
       "safetyreportid                      0\n",
       "patient_onsetage                    0\n",
       "serious                             0\n",
       "drug_characterization               0\n",
       "reaction_meddrapt                   0\n",
       "dtype: int64"
      ]
     },
     "execution_count": 13,
     "metadata": {},
     "output_type": "execute_result"
    }
   ],
   "source": [
    "missing_data_merge = adult_data_merge.isna().sum().sort_values(ascending=False)\n",
    "missing_data_merge"
   ]
  },
  {
   "cell_type": "markdown",
   "metadata": {},
   "source": [
    "#### Age Overview"
   ]
  },
  {
   "cell_type": "code",
   "execution_count": 14,
   "metadata": {},
   "outputs": [
    {
     "data": {
      "text/plain": [
       "patient_onsetageunit\n",
       "Year      29706381\n",
       "Day         520327\n",
       "Month       183684\n",
       "Decade       25997\n",
       "Week           320\n",
       "Name: count, dtype: int64"
      ]
     },
     "execution_count": 14,
     "metadata": {},
     "output_type": "execute_result"
    }
   ],
   "source": [
    "# check  age unit\n",
    "adult_data_merge['patient_onsetageunit'].value_counts(ascending=False)"
   ]
  },
  {
   "cell_type": "code",
   "execution_count": 15,
   "metadata": {},
   "outputs": [
    {
     "data": {
      "text/html": [
       "<div>\n",
       "<style scoped>\n",
       "    .dataframe tbody tr th:only-of-type {\n",
       "        vertical-align: middle;\n",
       "    }\n",
       "\n",
       "    .dataframe tbody tr th {\n",
       "        vertical-align: top;\n",
       "    }\n",
       "\n",
       "    .dataframe thead th {\n",
       "        text-align: right;\n",
       "    }\n",
       "</style>\n",
       "<table border=\"1\" class=\"dataframe\">\n",
       "  <thead>\n",
       "    <tr style=\"text-align: right;\">\n",
       "      <th></th>\n",
       "      <th>patient_custom_master_age</th>\n",
       "      <th>patient_onsetage</th>\n",
       "      <th>patient_onsetageunit</th>\n",
       "    </tr>\n",
       "  </thead>\n",
       "  <tbody>\n",
       "    <tr>\n",
       "      <th>25660020</th>\n",
       "      <td>98.166667</td>\n",
       "      <td>1178.0</td>\n",
       "      <td>Month</td>\n",
       "    </tr>\n",
       "    <tr>\n",
       "      <th>25660017</th>\n",
       "      <td>98.166667</td>\n",
       "      <td>1178.0</td>\n",
       "      <td>Month</td>\n",
       "    </tr>\n",
       "    <tr>\n",
       "      <th>25660016</th>\n",
       "      <td>98.166667</td>\n",
       "      <td>1178.0</td>\n",
       "      <td>Month</td>\n",
       "    </tr>\n",
       "    <tr>\n",
       "      <th>25660013</th>\n",
       "      <td>98.166667</td>\n",
       "      <td>1178.0</td>\n",
       "      <td>Month</td>\n",
       "    </tr>\n",
       "    <tr>\n",
       "      <th>25660015</th>\n",
       "      <td>98.166667</td>\n",
       "      <td>1178.0</td>\n",
       "      <td>Month</td>\n",
       "    </tr>\n",
       "    <tr>\n",
       "      <th>...</th>\n",
       "      <td>...</td>\n",
       "      <td>...</td>\n",
       "      <td>...</td>\n",
       "    </tr>\n",
       "    <tr>\n",
       "      <th>15527211</th>\n",
       "      <td>21.083333</td>\n",
       "      <td>253.0</td>\n",
       "      <td>Month</td>\n",
       "    </tr>\n",
       "    <tr>\n",
       "      <th>15527212</th>\n",
       "      <td>21.083333</td>\n",
       "      <td>253.0</td>\n",
       "      <td>Month</td>\n",
       "    </tr>\n",
       "    <tr>\n",
       "      <th>15527201</th>\n",
       "      <td>21.083333</td>\n",
       "      <td>253.0</td>\n",
       "      <td>Month</td>\n",
       "    </tr>\n",
       "    <tr>\n",
       "      <th>15527213</th>\n",
       "      <td>21.083333</td>\n",
       "      <td>253.0</td>\n",
       "      <td>Month</td>\n",
       "    </tr>\n",
       "    <tr>\n",
       "      <th>15527214</th>\n",
       "      <td>21.083333</td>\n",
       "      <td>253.0</td>\n",
       "      <td>Month</td>\n",
       "    </tr>\n",
       "  </tbody>\n",
       "</table>\n",
       "<p>183684 rows × 3 columns</p>\n",
       "</div>"
      ],
      "text/plain": [
       "          patient_custom_master_age  patient_onsetage patient_onsetageunit\n",
       "25660020                  98.166667            1178.0                Month\n",
       "25660017                  98.166667            1178.0                Month\n",
       "25660016                  98.166667            1178.0                Month\n",
       "25660013                  98.166667            1178.0                Month\n",
       "25660015                  98.166667            1178.0                Month\n",
       "...                             ...               ...                  ...\n",
       "15527211                  21.083333             253.0                Month\n",
       "15527212                  21.083333             253.0                Month\n",
       "15527201                  21.083333             253.0                Month\n",
       "15527213                  21.083333             253.0                Month\n",
       "15527214                  21.083333             253.0                Month\n",
       "\n",
       "[183684 rows x 3 columns]"
      ]
     },
     "execution_count": 15,
     "metadata": {},
     "output_type": "execute_result"
    }
   ],
   "source": [
    "#Recheck Age after filter\n",
    "adult_data_merge.loc[(adult_data_merge['patient_onsetageunit'] == 'Month'),['patient_custom_master_age','patient_onsetage','patient_onsetageunit']].sort_values(by='patient_onsetage',ascending=False)"
   ]
  },
  {
   "cell_type": "code",
   "execution_count": 14,
   "metadata": {},
   "outputs": [],
   "source": [
    "# print(type(adult_data_merge))"
   ]
  },
  {
   "cell_type": "code",
   "execution_count": 15,
   "metadata": {},
   "outputs": [],
   "source": [
    "# print(adult_data_merge)"
   ]
  },
  {
   "cell_type": "code",
   "execution_count": 16,
   "metadata": {},
   "outputs": [],
   "source": [
    "# Add new column with 'Year' as the value for all rows\n",
    "adult_data_merge['patient_custom_master_age_unit'] = 'Year'\n",
    "\n",
    "# Reorder columns to place the new column after 'patient_custom_master_age'\n",
    "cols = list(adult_data_merge.columns)\n",
    "cols.insert(cols.index('patient_custom_master_age') + 1, cols.pop(cols.index('patient_custom_master_age_unit')))\n",
    "adult_data_merge = adult_data_merge[cols]"
   ]
  },
  {
   "cell_type": "code",
   "execution_count": 17,
   "metadata": {},
   "outputs": [
    {
     "data": {
      "text/plain": [
       "congenital_anomali                30206698\n",
       "disabling                         27681821\n",
       "life_threatening                  27492832\n",
       "reaction_outcome                  26950115\n",
       "death                             24404682\n",
       "drug_indication                   19284860\n",
       "drug_administration               17829724\n",
       "other                             15152201\n",
       "patient_weight                    14243331\n",
       "hospitalization                   12524642\n",
       "reporter_qualification             5289857\n",
       "reporter_country                   4452076\n",
       "reporter_company                   1523616\n",
       "patient_sex                         199973\n",
       "medicinal_product                       60\n",
       "patient_onsetageunit                     0\n",
       "patient_custom_master_age                0\n",
       "patient_custom_master_age_unit           0\n",
       "receive_date                             0\n",
       "mostrecent_receive_date                  0\n",
       "lastupdate_date                          0\n",
       "safetyreportid                           0\n",
       "patient_onsetage                         0\n",
       "serious                                  0\n",
       "drug_characterization                    0\n",
       "reaction_meddrapt                        0\n",
       "dtype: int64"
      ]
     },
     "execution_count": 17,
     "metadata": {},
     "output_type": "execute_result"
    }
   ],
   "source": [
    "adult_data_merge.isna().sum().sort_values(ascending=False)"
   ]
  },
  {
   "cell_type": "code",
   "execution_count": 18,
   "metadata": {},
   "outputs": [
    {
     "data": {
      "text/plain": [
       "(30436709, 26)"
      ]
     },
     "execution_count": 18,
     "metadata": {},
     "output_type": "execute_result"
    }
   ],
   "source": [
    "adult_data_merge.shape"
   ]
  },
  {
   "cell_type": "markdown",
   "metadata": {},
   "source": [
    "### Data Cleaning"
   ]
  },
  {
   "cell_type": "markdown",
   "metadata": {},
   "source": [
    "#### Fill NA and Unknow"
   ]
  },
  {
   "cell_type": "code",
   "execution_count": 19,
   "metadata": {},
   "outputs": [],
   "source": [
    "# #fill NA in columns congenital_anomali,disabling,life_threatening,death,other\n",
    "# cols = ['congenital_anomali','disabling','life_threatening','death','other','hospitalization']\n",
    "# for i in cols:\n",
    "#     print(adult_data_merge[i].unique())\n",
    "\n",
    "# existing_cols = [col for col in cols if col in adult_data_merge.columns]\n",
    "\n",
    "# for col in existing_cols:\n",
    "#     adult_data_merge[col] = adult_data_merge[col].fillna(0).astype(int)\n",
    "    \n",
    "# # After filling na\n",
    "# print('')\n",
    "# print('After filling NA : \\n')\n",
    "# for i in cols:\n",
    "#     print(adult_data_merge[i].unique())"
   ]
  },
  {
   "cell_type": "markdown",
   "metadata": {},
   "source": [
    "##### fill 1:1, 2:0, nan:0"
   ]
  },
  {
   "cell_type": "code",
   "execution_count": 19,
   "metadata": {},
   "outputs": [
    {
     "name": "stdout",
     "output_type": "stream",
     "text": [
      "congenital_anomali [0 1]\n",
      "disabling [0 1]\n",
      "life_threatening [0 1]\n",
      "death [0 1]\n",
      "other [0 1]\n",
      "hospitalization [0 1]\n"
     ]
    }
   ],
   "source": [
    "cols = ['congenital_anomali','disabling','life_threatening','death','other','hospitalization']\n",
    "for c in cols:\n",
    "    adult_data_merge[c] = pd.to_numeric(adult_data_merge[c], errors='coerce')\n",
    "for c in cols:\n",
    "    adult_data_merge[c] = adult_data_merge[c].map({1:1}).fillna(0).astype(int)\n",
    "\n",
    "for c in cols:\n",
    "    print(c, adult_data_merge[c].unique())"
   ]
  },
  {
   "cell_type": "code",
   "execution_count": 20,
   "metadata": {},
   "outputs": [],
   "source": [
    "# fill unknown value in columns about patient\n",
    "categorical_cols_to_fill_unknown = ['patient_sex']\n",
    "for col in categorical_cols_to_fill_unknown:\n",
    "    adult_data_merge[col] = adult_data_merge[col].fillna('Unknown')"
   ]
  },
  {
   "cell_type": "code",
   "execution_count": 21,
   "metadata": {},
   "outputs": [],
   "source": [
    "# fill unknown value in columns about reporter\n",
    "categorical_cols_to_fill_unknown = ['reporter_company', 'reporter_qualification', 'reporter_country']\n",
    "for col in categorical_cols_to_fill_unknown:\n",
    "    adult_data_merge[col] = adult_data_merge[col].fillna('Unknown')"
   ]
  },
  {
   "cell_type": "code",
   "execution_count": 22,
   "metadata": {},
   "outputs": [],
   "source": [
    "# fill unknown value in columns about reaction\n",
    "categorical_cols_to_fill_unknown = ['reaction_outcome']\n",
    "for col in categorical_cols_to_fill_unknown:\n",
    "    adult_data_merge[col] = adult_data_merge[col].fillna('Unknown')"
   ]
  },
  {
   "cell_type": "code",
   "execution_count": 23,
   "metadata": {},
   "outputs": [],
   "source": [
    "# fill unknown value in columns drug_administration\n",
    "categorical_cols_to_fill_unknown = ['drug_administration']\n",
    "for col in categorical_cols_to_fill_unknown:\n",
    "    adult_data_merge[col] = adult_data_merge[col].fillna('Unknown')"
   ]
  },
  {
   "cell_type": "code",
   "execution_count": 24,
   "metadata": {},
   "outputs": [
    {
     "data": {
      "text/plain": [
       "drug_indication                   19284860\n",
       "patient_weight                    14243331\n",
       "medicinal_product                       60\n",
       "patient_onsetage                         0\n",
       "patient_custom_master_age_unit           0\n",
       "patient_sex                              0\n",
       "safetyreportid                           0\n",
       "lastupdate_date                          0\n",
       "patient_onsetageunit                     0\n",
       "patient_custom_master_age                0\n",
       "receive_date                             0\n",
       "mostrecent_receive_date                  0\n",
       "congenital_anomali                       0\n",
       "death                                    0\n",
       "life_threatening                         0\n",
       "other                                    0\n",
       "disabling                                0\n",
       "hospitalization                          0\n",
       "reporter_company                         0\n",
       "serious                                  0\n",
       "reporter_country                         0\n",
       "reporter_qualification                   0\n",
       "drug_characterization                    0\n",
       "drug_administration                      0\n",
       "reaction_meddrapt                        0\n",
       "reaction_outcome                         0\n",
       "dtype: int64"
      ]
     },
     "execution_count": 24,
     "metadata": {},
     "output_type": "execute_result"
    }
   ],
   "source": [
    "adult_data_merge.isna().sum().sort_values(ascending=False)"
   ]
  },
  {
   "cell_type": "code",
   "execution_count": 25,
   "metadata": {},
   "outputs": [
    {
     "name": "stdout",
     "output_type": "stream",
     "text": [
      "<class 'pandas.core.frame.DataFrame'>\n",
      "RangeIndex: 30436709 entries, 0 to 30436708\n",
      "Data columns (total 26 columns):\n",
      " #   Column                          Dtype  \n",
      "---  ------                          -----  \n",
      " 0   patient_custom_master_age       float64\n",
      " 1   patient_custom_master_age_unit  object \n",
      " 2   patient_onsetage                float64\n",
      " 3   patient_onsetageunit            object \n",
      " 4   patient_sex                     object \n",
      " 5   patient_weight                  float64\n",
      " 6   safetyreportid                  object \n",
      " 7   lastupdate_date                 int64  \n",
      " 8   mostrecent_receive_date         int64  \n",
      " 9   receive_date                    int64  \n",
      " 10  congenital_anomali              int64  \n",
      " 11  death                           int64  \n",
      " 12  disabling                       int64  \n",
      " 13  hospitalization                 int64  \n",
      " 14  life_threatening                int64  \n",
      " 15  other                           int64  \n",
      " 16  serious                         object \n",
      " 17  reporter_company                object \n",
      " 18  reporter_country                object \n",
      " 19  reporter_qualification          object \n",
      " 20  drug_administration             object \n",
      " 21  drug_characterization           object \n",
      " 22  drug_indication                 object \n",
      " 23  medicinal_product               object \n",
      " 24  reaction_meddrapt               object \n",
      " 25  reaction_outcome                object \n",
      "dtypes: float64(3), int64(9), object(14)\n",
      "memory usage: 5.9+ GB\n"
     ]
    }
   ],
   "source": [
    "adult_data_merge.info()"
   ]
  },
  {
   "cell_type": "markdown",
   "metadata": {},
   "source": [
    "#### Datetime format"
   ]
  },
  {
   "cell_type": "code",
   "execution_count": 26,
   "metadata": {},
   "outputs": [
    {
     "name": "stdout",
     "output_type": "stream",
     "text": [
      "   lastupdate_date  mostrecent_receive_date  receive_date\n",
      "0         20250409                 20250327      20250327\n",
      "1         20250409                 20250327      20250327\n",
      "2         20250408                 20250327      20250327\n",
      "3         20250409                 20250327      20250327\n",
      "4         20250409                 20250327      20250327\n"
     ]
    }
   ],
   "source": [
    "print(adult_data_merge[['lastupdate_date', 'mostrecent_receive_date', 'receive_date']].head())\n",
    "date_cols_to_convert = ['lastupdate_date', 'mostrecent_receive_date', 'receive_date']\n",
    "\n",
    "for col in date_cols_to_convert:\n",
    "    adult_data_merge[col] = pd.to_datetime(adult_data_merge[col].astype(str), format='%Y%m%d', errors='coerce')"
   ]
  },
  {
   "cell_type": "code",
   "execution_count": 27,
   "metadata": {},
   "outputs": [
    {
     "name": "stdout",
     "output_type": "stream",
     "text": [
      "  lastupdate_date mostrecent_receive_date receive_date\n",
      "0      2025-04-09              2025-03-27   2025-03-27\n",
      "1      2025-04-09              2025-03-27   2025-03-27\n",
      "2      2025-04-08              2025-03-27   2025-03-27\n",
      "3      2025-04-09              2025-03-27   2025-03-27\n",
      "4      2025-04-09              2025-03-27   2025-03-27\n",
      "<class 'pandas.core.frame.DataFrame'>\n",
      "RangeIndex: 30436709 entries, 0 to 30436708\n",
      "Data columns (total 26 columns):\n",
      " #   Column                          Dtype         \n",
      "---  ------                          -----         \n",
      " 0   patient_custom_master_age       float64       \n",
      " 1   patient_custom_master_age_unit  object        \n",
      " 2   patient_onsetage                float64       \n",
      " 3   patient_onsetageunit            object        \n",
      " 4   patient_sex                     object        \n",
      " 5   patient_weight                  float64       \n",
      " 6   safetyreportid                  object        \n",
      " 7   lastupdate_date                 datetime64[ns]\n",
      " 8   mostrecent_receive_date         datetime64[ns]\n",
      " 9   receive_date                    datetime64[ns]\n",
      " 10  congenital_anomali              int64         \n",
      " 11  death                           int64         \n",
      " 12  disabling                       int64         \n",
      " 13  hospitalization                 int64         \n",
      " 14  life_threatening                int64         \n",
      " 15  other                           int64         \n",
      " 16  serious                         object        \n",
      " 17  reporter_company                object        \n",
      " 18  reporter_country                object        \n",
      " 19  reporter_qualification          object        \n",
      " 20  drug_administration             object        \n",
      " 21  drug_characterization           object        \n",
      " 22  drug_indication                 object        \n",
      " 23  medicinal_product               object        \n",
      " 24  reaction_meddrapt               object        \n",
      " 25  reaction_outcome                object        \n",
      "dtypes: datetime64[ns](3), float64(3), int64(6), object(14)\n",
      "memory usage: 5.9+ GB\n",
      "None\n"
     ]
    }
   ],
   "source": [
    "print(adult_data_merge[['lastupdate_date', 'mostrecent_receive_date', 'receive_date']].head())\n",
    "print(adult_data_merge.info())"
   ]
  },
  {
   "cell_type": "code",
   "execution_count": null,
   "metadata": {},
   "outputs": [],
   "source": []
  },
  {
   "cell_type": "code",
   "execution_count": 28,
   "metadata": {},
   "outputs": [
    {
     "data": {
      "text/plain": [
       "(30436709, 26)"
      ]
     },
     "execution_count": 28,
     "metadata": {},
     "output_type": "execute_result"
    }
   ],
   "source": [
    "adult_data_merge.shape"
   ]
  },
  {
   "cell_type": "markdown",
   "metadata": {},
   "source": [
    "#### Droup Data"
   ]
  },
  {
   "cell_type": "code",
   "execution_count": 29,
   "metadata": {},
   "outputs": [],
   "source": [
    "# Droup medicinal_product because have missing 34 rows\n",
    "adult_data_merge = adult_data_merge.dropna(subset=['medicinal_product'])"
   ]
  },
  {
   "cell_type": "code",
   "execution_count": 30,
   "metadata": {},
   "outputs": [],
   "source": [
    "# ลบคอลัมน์ 'patient_weight'\n",
    "adult_data_merge = adult_data_merge.drop(columns=['patient_weight'])"
   ]
  },
  {
   "cell_type": "code",
   "execution_count": 32,
   "metadata": {},
   "outputs": [],
   "source": [
    "adult_data_merge =adult_data_merge.dropna(subset=['drug_indication'])"
   ]
  },
  {
   "cell_type": "code",
   "execution_count": 34,
   "metadata": {},
   "outputs": [],
   "source": [
    "adult_data_merge =adult_data_merge.dropna(subset=['mostrecent_receive_date'])"
   ]
  },
  {
   "cell_type": "code",
   "execution_count": 35,
   "metadata": {},
   "outputs": [
    {
     "data": {
      "text/plain": [
       "patient_custom_master_age         0\n",
       "patient_custom_master_age_unit    0\n",
       "patient_onsetage                  0\n",
       "patient_onsetageunit              0\n",
       "patient_sex                       0\n",
       "safetyreportid                    0\n",
       "lastupdate_date                   0\n",
       "mostrecent_receive_date           0\n",
       "receive_date                      0\n",
       "congenital_anomali                0\n",
       "death                             0\n",
       "disabling                         0\n",
       "hospitalization                   0\n",
       "life_threatening                  0\n",
       "other                             0\n",
       "serious                           0\n",
       "reporter_company                  0\n",
       "reporter_country                  0\n",
       "reporter_qualification            0\n",
       "drug_administration               0\n",
       "drug_characterization             0\n",
       "drug_indication                   0\n",
       "medicinal_product                 0\n",
       "reaction_meddrapt                 0\n",
       "reaction_outcome                  0\n",
       "dtype: int64"
      ]
     },
     "execution_count": 35,
     "metadata": {},
     "output_type": "execute_result"
    }
   ],
   "source": [
    "adult_data_merge.isna().sum().sort_values(ascending=False)"
   ]
  },
  {
   "cell_type": "code",
   "execution_count": null,
   "metadata": {},
   "outputs": [],
   "source": []
  },
  {
   "cell_type": "code",
   "execution_count": 36,
   "metadata": {},
   "outputs": [
    {
     "data": {
      "text/plain": [
       "(11151664, 25)"
      ]
     },
     "execution_count": 36,
     "metadata": {},
     "output_type": "execute_result"
    }
   ],
   "source": [
    "adult_data_merge.shape"
   ]
  },
  {
   "cell_type": "markdown",
   "metadata": {},
   "source": [
    "#### Polyphamacy"
   ]
  },
  {
   "cell_type": "code",
   "execution_count": 36,
   "metadata": {},
   "outputs": [],
   "source": [
    "# unique_drugs_per_report = ped_data_merge.groupby('safetyreportid')['medicinal_product'].nunique().reset_index()\n",
    "# unique_drugs_per_report.columns = ['safetyreportid', 'unique_drug_count']"
   ]
  },
  {
   "cell_type": "markdown",
   "metadata": {},
   "source": [
    "#### Save Files"
   ]
  },
  {
   "cell_type": "code",
   "execution_count": 37,
   "metadata": {},
   "outputs": [],
   "source": [
    "adult_data_merge.to_csv('../../data/adult_patients_report_drug_reaction.csv.gz',compression='gzip')"
   ]
  },
  {
   "cell_type": "code",
   "execution_count": 38,
   "metadata": {},
   "outputs": [
    {
     "name": "stdout",
     "output_type": "stream",
     "text": [
      "ข้อมูลสุ่ม 1,000 แถว:\n",
      "\n",
      "จำนวนแถวและคอลัมน์: (1000, 28)\n",
      "\n",
      "คอลัมน์ทั้งหมด: ['patient_custom_master_age', 'patient_custom_master_age_unit', 'patient_onsetage', 'patient_onsetageunit', 'patient_sex', 'safetyreportid', 'nichd', 'ich_ema', 'fda', 'lastupdate_date', 'mostrecent_receive_date', 'receive_date', 'congenital_anomali', 'death', 'disabling', 'hospitalization', 'life_threatening', 'other', 'serious', 'reporter_company', 'reporter_country', 'reporter_qualification', 'drug_administration', 'drug_characterization', 'drug_indication', 'medicinal_product', 'reaction_meddrapt', 'reaction_outcome']\n"
     ]
    },
    {
     "data": {
      "text/html": [
       "<div>\n",
       "<style scoped>\n",
       "    .dataframe tbody tr th:only-of-type {\n",
       "        vertical-align: middle;\n",
       "    }\n",
       "\n",
       "    .dataframe tbody tr th {\n",
       "        vertical-align: top;\n",
       "    }\n",
       "\n",
       "    .dataframe thead th {\n",
       "        text-align: right;\n",
       "    }\n",
       "</style>\n",
       "<table border=\"1\" class=\"dataframe\">\n",
       "  <thead>\n",
       "    <tr style=\"text-align: right;\">\n",
       "      <th></th>\n",
       "      <th>patient_custom_master_age</th>\n",
       "      <th>patient_custom_master_age_unit</th>\n",
       "      <th>patient_onsetage</th>\n",
       "      <th>patient_onsetageunit</th>\n",
       "      <th>patient_sex</th>\n",
       "      <th>safetyreportid</th>\n",
       "      <th>nichd</th>\n",
       "      <th>ich_ema</th>\n",
       "      <th>fda</th>\n",
       "      <th>lastupdate_date</th>\n",
       "      <th>...</th>\n",
       "      <th>serious</th>\n",
       "      <th>reporter_company</th>\n",
       "      <th>reporter_country</th>\n",
       "      <th>reporter_qualification</th>\n",
       "      <th>drug_administration</th>\n",
       "      <th>drug_characterization</th>\n",
       "      <th>drug_indication</th>\n",
       "      <th>medicinal_product</th>\n",
       "      <th>reaction_meddrapt</th>\n",
       "      <th>reaction_outcome</th>\n",
       "    </tr>\n",
       "  </thead>\n",
       "  <tbody>\n",
       "    <tr>\n",
       "      <th>92034</th>\n",
       "      <td>0.041096</td>\n",
       "      <td>Year</td>\n",
       "      <td>15.0</td>\n",
       "      <td>Day</td>\n",
       "      <td>Male</td>\n",
       "      <td>4381566-7</td>\n",
       "      <td>term_neonatal</td>\n",
       "      <td>term_newborn_infants</td>\n",
       "      <td>neonates</td>\n",
       "      <td>2005-01-07</td>\n",
       "      <td>...</td>\n",
       "      <td>The adverse event resulted in death, a life th...</td>\n",
       "      <td>HK-MERCK-0406HKG00006</td>\n",
       "      <td>Unknown</td>\n",
       "      <td>Physician</td>\n",
       "      <td>Intravenous (not otherwise specified)</td>\n",
       "      <td>Suspect (the drug was considered by the report...</td>\n",
       "      <td>PATENT DUCTUS ARTERIOSUS</td>\n",
       "      <td>INDOCIN I.V.</td>\n",
       "      <td>THROMBOCYTOPENIA</td>\n",
       "      <td>Unknown</td>\n",
       "    </tr>\n",
       "    <tr>\n",
       "      <th>760022</th>\n",
       "      <td>8.000000</td>\n",
       "      <td>Year</td>\n",
       "      <td>8.0</td>\n",
       "      <td>Year</td>\n",
       "      <td>Male</td>\n",
       "      <td>5822566-7</td>\n",
       "      <td>middle_childhood</td>\n",
       "      <td>children</td>\n",
       "      <td>children</td>\n",
       "      <td>2009-01-09</td>\n",
       "      <td>...</td>\n",
       "      <td>The adverse event resulted in death, a life th...</td>\n",
       "      <td>Unknown</td>\n",
       "      <td>UNITED STATES</td>\n",
       "      <td>Physician</td>\n",
       "      <td>Intravenous (not otherwise specified)</td>\n",
       "      <td>Suspect (the drug was considered by the report...</td>\n",
       "      <td>BRAIN NEOPLASM</td>\n",
       "      <td>CYCLOPHOSPHAMIDE</td>\n",
       "      <td>BODY TEMPERATURE DECREASED</td>\n",
       "      <td>Unknown</td>\n",
       "    </tr>\n",
       "    <tr>\n",
       "      <th>872536</th>\n",
       "      <td>1.583333</td>\n",
       "      <td>Year</td>\n",
       "      <td>19.0</td>\n",
       "      <td>Month</td>\n",
       "      <td>Female</td>\n",
       "      <td>6125174</td>\n",
       "      <td>toddler</td>\n",
       "      <td>infants_and_toddlers</td>\n",
       "      <td>infants</td>\n",
       "      <td>2023-04-18</td>\n",
       "      <td>...</td>\n",
       "      <td>The adverse event resulted in death, a life th...</td>\n",
       "      <td>FR-SANOFI-SYNTHELABO-A02200602217</td>\n",
       "      <td>FR</td>\n",
       "      <td>Other health professional</td>\n",
       "      <td>Intravenous (not otherwise specified)</td>\n",
       "      <td>Suspect (the drug was considered by the report...</td>\n",
       "      <td>Acute myeloid leukaemia</td>\n",
       "      <td>DAUNORUBICIN</td>\n",
       "      <td>Cardiac failure</td>\n",
       "      <td>Fatal</td>\n",
       "    </tr>\n",
       "    <tr>\n",
       "      <th>223633</th>\n",
       "      <td>20.000000</td>\n",
       "      <td>Year</td>\n",
       "      <td>20.0</td>\n",
       "      <td>Year</td>\n",
       "      <td>Male</td>\n",
       "      <td>4620495-8</td>\n",
       "      <td>late_adolescence</td>\n",
       "      <td>NaN</td>\n",
       "      <td>NaN</td>\n",
       "      <td>2005-07-27</td>\n",
       "      <td>...</td>\n",
       "      <td>The adverse event resulted in death, a life th...</td>\n",
       "      <td>Unknown</td>\n",
       "      <td>Unknown</td>\n",
       "      <td>Consumer or non-health professional</td>\n",
       "      <td>Unknown</td>\n",
       "      <td>Suspect (the drug was considered by the report...</td>\n",
       "      <td>ACNE CYSTIC</td>\n",
       "      <td>ACCUTANE</td>\n",
       "      <td>DRUG EFFECT DECREASED</td>\n",
       "      <td>Unknown</td>\n",
       "    </tr>\n",
       "    <tr>\n",
       "      <th>1306197</th>\n",
       "      <td>6.000000</td>\n",
       "      <td>Year</td>\n",
       "      <td>6.0</td>\n",
       "      <td>Year</td>\n",
       "      <td>Female</td>\n",
       "      <td>7443126-0</td>\n",
       "      <td>middle_childhood</td>\n",
       "      <td>children</td>\n",
       "      <td>children</td>\n",
       "      <td>2011-10-10</td>\n",
       "      <td>...</td>\n",
       "      <td>The adverse event resulted in death, a life th...</td>\n",
       "      <td>A0745211A</td>\n",
       "      <td>UNITED STATES</td>\n",
       "      <td>Consumer or non-health professional</td>\n",
       "      <td>Respiratory (inhalation)</td>\n",
       "      <td>Concomitant (the drug was reported as being ta...</td>\n",
       "      <td>ASTHMA</td>\n",
       "      <td>ALBUTEROL</td>\n",
       "      <td>DYSPNOEA EXERTIONAL</td>\n",
       "      <td>Unknown</td>\n",
       "    </tr>\n",
       "    <tr>\n",
       "      <th>233464</th>\n",
       "      <td>14.000000</td>\n",
       "      <td>Year</td>\n",
       "      <td>14.0</td>\n",
       "      <td>Year</td>\n",
       "      <td>Male</td>\n",
       "      <td>4637371-7</td>\n",
       "      <td>early_adolescence</td>\n",
       "      <td>adolescents</td>\n",
       "      <td>adolescents</td>\n",
       "      <td>2005-10-28</td>\n",
       "      <td>...</td>\n",
       "      <td>The adverse event did not result in any of the...</td>\n",
       "      <td>USA040977261</td>\n",
       "      <td>Unknown</td>\n",
       "      <td>Consumer or non-health professional</td>\n",
       "      <td>Unknown</td>\n",
       "      <td>Suspect (the drug was considered by the report...</td>\n",
       "      <td>ATTENTION DEFICIT/HYPERACTIVITY DISORDER</td>\n",
       "      <td>STRATTERA</td>\n",
       "      <td>HEADACHE</td>\n",
       "      <td>Unknown</td>\n",
       "    </tr>\n",
       "    <tr>\n",
       "      <th>1247316</th>\n",
       "      <td>0.416667</td>\n",
       "      <td>Year</td>\n",
       "      <td>5.0</td>\n",
       "      <td>Month</td>\n",
       "      <td>Male</td>\n",
       "      <td>7274900-1</td>\n",
       "      <td>infancy</td>\n",
       "      <td>infants_and_toddlers</td>\n",
       "      <td>infants</td>\n",
       "      <td>2011-08-31</td>\n",
       "      <td>...</td>\n",
       "      <td>The adverse event resulted in death, a life th...</td>\n",
       "      <td>Unknown</td>\n",
       "      <td>UNITED STATES</td>\n",
       "      <td>Unknown</td>\n",
       "      <td>Dental</td>\n",
       "      <td>Suspect (the drug was considered by the report...</td>\n",
       "      <td>TEETHING</td>\n",
       "      <td>HYLANS TEETHING TABLETS TEETHING TABLETS</td>\n",
       "      <td>PYREXIA</td>\n",
       "      <td>Unknown</td>\n",
       "    </tr>\n",
       "    <tr>\n",
       "      <th>164225</th>\n",
       "      <td>21.000000</td>\n",
       "      <td>Year</td>\n",
       "      <td>21.0</td>\n",
       "      <td>Year</td>\n",
       "      <td>Female</td>\n",
       "      <td>4506283-1</td>\n",
       "      <td>late_adolescence</td>\n",
       "      <td>NaN</td>\n",
       "      <td>NaN</td>\n",
       "      <td>2005-03-28</td>\n",
       "      <td>...</td>\n",
       "      <td>The adverse event resulted in death, a life th...</td>\n",
       "      <td>US-JNJFOC-20040101137</td>\n",
       "      <td>Unknown</td>\n",
       "      <td>Other health professional</td>\n",
       "      <td>Intravenous (not otherwise specified)</td>\n",
       "      <td>Suspect (the drug was considered by the report...</td>\n",
       "      <td>CROHN'S DISEASE</td>\n",
       "      <td>REMICADE</td>\n",
       "      <td>ANAPHYLACTIC REACTION</td>\n",
       "      <td>Unknown</td>\n",
       "    </tr>\n",
       "    <tr>\n",
       "      <th>760385</th>\n",
       "      <td>6.000000</td>\n",
       "      <td>Year</td>\n",
       "      <td>6.0</td>\n",
       "      <td>Year</td>\n",
       "      <td>Male</td>\n",
       "      <td>5823190-2</td>\n",
       "      <td>middle_childhood</td>\n",
       "      <td>children</td>\n",
       "      <td>children</td>\n",
       "      <td>2009-01-09</td>\n",
       "      <td>...</td>\n",
       "      <td>The adverse event resulted in death, a life th...</td>\n",
       "      <td>PHBS2008IT05182</td>\n",
       "      <td>ITALY</td>\n",
       "      <td>Other health professional</td>\n",
       "      <td>Oral</td>\n",
       "      <td>Suspect (the drug was considered by the report...</td>\n",
       "      <td>ACUTE LEUKAEMIA</td>\n",
       "      <td>CYTARABINE</td>\n",
       "      <td>SOMNOLENCE</td>\n",
       "      <td>Unknown</td>\n",
       "    </tr>\n",
       "    <tr>\n",
       "      <th>1752725</th>\n",
       "      <td>16.000000</td>\n",
       "      <td>Year</td>\n",
       "      <td>16.0</td>\n",
       "      <td>Year</td>\n",
       "      <td>Female</td>\n",
       "      <td>8640742</td>\n",
       "      <td>early_adolescence</td>\n",
       "      <td>adolescents</td>\n",
       "      <td>NaN</td>\n",
       "      <td>2013-06-27</td>\n",
       "      <td>...</td>\n",
       "      <td>The adverse event resulted in death, a life th...</td>\n",
       "      <td>US-JNJFOC-20120610126</td>\n",
       "      <td>US</td>\n",
       "      <td>Physician</td>\n",
       "      <td>Intravenous (not otherwise specified)</td>\n",
       "      <td>Suspect (the drug was considered by the report...</td>\n",
       "      <td>CROHN^S DISEASE</td>\n",
       "      <td>REMICADE</td>\n",
       "      <td>Failure to thrive</td>\n",
       "      <td>Recovered/resolved</td>\n",
       "    </tr>\n",
       "  </tbody>\n",
       "</table>\n",
       "<p>10 rows × 28 columns</p>\n",
       "</div>"
      ],
      "text/plain": [
       "         patient_custom_master_age patient_custom_master_age_unit  \\\n",
       "92034                     0.041096                           Year   \n",
       "760022                    8.000000                           Year   \n",
       "872536                    1.583333                           Year   \n",
       "223633                   20.000000                           Year   \n",
       "1306197                   6.000000                           Year   \n",
       "233464                   14.000000                           Year   \n",
       "1247316                   0.416667                           Year   \n",
       "164225                   21.000000                           Year   \n",
       "760385                    6.000000                           Year   \n",
       "1752725                  16.000000                           Year   \n",
       "\n",
       "         patient_onsetage patient_onsetageunit patient_sex safetyreportid  \\\n",
       "92034                15.0                  Day        Male      4381566-7   \n",
       "760022                8.0                 Year        Male      5822566-7   \n",
       "872536               19.0                Month      Female        6125174   \n",
       "223633               20.0                 Year        Male      4620495-8   \n",
       "1306197               6.0                 Year      Female      7443126-0   \n",
       "233464               14.0                 Year        Male      4637371-7   \n",
       "1247316               5.0                Month        Male      7274900-1   \n",
       "164225               21.0                 Year      Female      4506283-1   \n",
       "760385                6.0                 Year        Male      5823190-2   \n",
       "1752725              16.0                 Year      Female        8640742   \n",
       "\n",
       "                     nichd               ich_ema          fda lastupdate_date  \\\n",
       "92034        term_neonatal  term_newborn_infants     neonates      2005-01-07   \n",
       "760022    middle_childhood              children     children      2009-01-09   \n",
       "872536             toddler  infants_and_toddlers      infants      2023-04-18   \n",
       "223633    late_adolescence                   NaN          NaN      2005-07-27   \n",
       "1306197   middle_childhood              children     children      2011-10-10   \n",
       "233464   early_adolescence           adolescents  adolescents      2005-10-28   \n",
       "1247316            infancy  infants_and_toddlers      infants      2011-08-31   \n",
       "164225    late_adolescence                   NaN          NaN      2005-03-28   \n",
       "760385    middle_childhood              children     children      2009-01-09   \n",
       "1752725  early_adolescence           adolescents          NaN      2013-06-27   \n",
       "\n",
       "         ...                                            serious  \\\n",
       "92034    ...  The adverse event resulted in death, a life th...   \n",
       "760022   ...  The adverse event resulted in death, a life th...   \n",
       "872536   ...  The adverse event resulted in death, a life th...   \n",
       "223633   ...  The adverse event resulted in death, a life th...   \n",
       "1306197  ...  The adverse event resulted in death, a life th...   \n",
       "233464   ...  The adverse event did not result in any of the...   \n",
       "1247316  ...  The adverse event resulted in death, a life th...   \n",
       "164225   ...  The adverse event resulted in death, a life th...   \n",
       "760385   ...  The adverse event resulted in death, a life th...   \n",
       "1752725  ...  The adverse event resulted in death, a life th...   \n",
       "\n",
       "                          reporter_company  reporter_country  \\\n",
       "92034                HK-MERCK-0406HKG00006           Unknown   \n",
       "760022                             Unknown     UNITED STATES   \n",
       "872536   FR-SANOFI-SYNTHELABO-A02200602217                FR   \n",
       "223633                             Unknown           Unknown   \n",
       "1306197                          A0745211A     UNITED STATES   \n",
       "233464                        USA040977261           Unknown   \n",
       "1247316                            Unknown     UNITED STATES   \n",
       "164225               US-JNJFOC-20040101137           Unknown   \n",
       "760385                     PHBS2008IT05182             ITALY   \n",
       "1752725              US-JNJFOC-20120610126                US   \n",
       "\n",
       "                      reporter_qualification  \\\n",
       "92034                              Physician   \n",
       "760022                             Physician   \n",
       "872536             Other health professional   \n",
       "223633   Consumer or non-health professional   \n",
       "1306197  Consumer or non-health professional   \n",
       "233464   Consumer or non-health professional   \n",
       "1247316                              Unknown   \n",
       "164225             Other health professional   \n",
       "760385             Other health professional   \n",
       "1752725                            Physician   \n",
       "\n",
       "                           drug_administration  \\\n",
       "92034    Intravenous (not otherwise specified)   \n",
       "760022   Intravenous (not otherwise specified)   \n",
       "872536   Intravenous (not otherwise specified)   \n",
       "223633                                 Unknown   \n",
       "1306197               Respiratory (inhalation)   \n",
       "233464                                 Unknown   \n",
       "1247316                                 Dental   \n",
       "164225   Intravenous (not otherwise specified)   \n",
       "760385                                    Oral   \n",
       "1752725  Intravenous (not otherwise specified)   \n",
       "\n",
       "                                     drug_characterization  \\\n",
       "92034    Suspect (the drug was considered by the report...   \n",
       "760022   Suspect (the drug was considered by the report...   \n",
       "872536   Suspect (the drug was considered by the report...   \n",
       "223633   Suspect (the drug was considered by the report...   \n",
       "1306197  Concomitant (the drug was reported as being ta...   \n",
       "233464   Suspect (the drug was considered by the report...   \n",
       "1247316  Suspect (the drug was considered by the report...   \n",
       "164225   Suspect (the drug was considered by the report...   \n",
       "760385   Suspect (the drug was considered by the report...   \n",
       "1752725  Suspect (the drug was considered by the report...   \n",
       "\n",
       "                                  drug_indication  \\\n",
       "92034                    PATENT DUCTUS ARTERIOSUS   \n",
       "760022                             BRAIN NEOPLASM   \n",
       "872536                    Acute myeloid leukaemia   \n",
       "223633                                ACNE CYSTIC   \n",
       "1306197                                    ASTHMA   \n",
       "233464   ATTENTION DEFICIT/HYPERACTIVITY DISORDER   \n",
       "1247316                                  TEETHING   \n",
       "164225                            CROHN'S DISEASE   \n",
       "760385                            ACUTE LEUKAEMIA   \n",
       "1752725                           CROHN^S DISEASE   \n",
       "\n",
       "                                medicinal_product           reaction_meddrapt  \\\n",
       "92034                                INDOCIN I.V.            THROMBOCYTOPENIA   \n",
       "760022                           CYCLOPHOSPHAMIDE  BODY TEMPERATURE DECREASED   \n",
       "872536                               DAUNORUBICIN             Cardiac failure   \n",
       "223633                                   ACCUTANE       DRUG EFFECT DECREASED   \n",
       "1306197                                 ALBUTEROL         DYSPNOEA EXERTIONAL   \n",
       "233464                                  STRATTERA                    HEADACHE   \n",
       "1247316  HYLANS TEETHING TABLETS TEETHING TABLETS                     PYREXIA   \n",
       "164225                                   REMICADE       ANAPHYLACTIC REACTION   \n",
       "760385                                 CYTARABINE                  SOMNOLENCE   \n",
       "1752725                                  REMICADE           Failure to thrive   \n",
       "\n",
       "           reaction_outcome  \n",
       "92034               Unknown  \n",
       "760022              Unknown  \n",
       "872536                Fatal  \n",
       "223633              Unknown  \n",
       "1306197             Unknown  \n",
       "233464              Unknown  \n",
       "1247316             Unknown  \n",
       "164225              Unknown  \n",
       "760385              Unknown  \n",
       "1752725  Recovered/resolved  \n",
       "\n",
       "[10 rows x 28 columns]"
      ]
     },
     "metadata": {},
     "output_type": "display_data"
    }
   ],
   "source": [
    "data = pd.read_csv(\n",
    "    '../../data/adult_patients_report_drug_reaction.csv.gz',\n",
    "    compression='gzip',\n",
    "    low_memory=False,\n",
    "    index_col=0\n",
    ")\n",
    "\n",
    "sampled_data = data.sample(n=1000, random_state=42)\n",
    "\n",
    "print(\"ข้อมูลสุ่ม 1,000 แถว:\")\n",
    "print(\"\\nจำนวนแถวและคอลัมน์:\", sampled_data.shape)\n",
    "print(\"\\nคอลัมน์ทั้งหมด:\", sampled_data.columns.tolist())\n",
    "display(sampled_data.head(10))\n",
    "\n",
    "\n",
    "sampled_data.to_csv('../../data/sampled_adult_data.csv', index=False)\n",
    "sampled_data.to_excel('../../data/sampled_adult_data.xlsx', index=False)"
   ]
  },
  {
   "cell_type": "code",
   "execution_count": null,
   "metadata": {},
   "outputs": [],
   "source": []
  }
 ],
 "metadata": {
  "kernelspec": {
   "display_name": "Python 3",
   "language": "python",
   "name": "python3"
  },
  "language_info": {
   "codemirror_mode": {
    "name": "ipython",
    "version": 3
   },
   "file_extension": ".py",
   "mimetype": "text/x-python",
   "name": "python",
   "nbconvert_exporter": "python",
   "pygments_lexer": "ipython3",
   "version": "3.12.8"
  }
 },
 "nbformat": 4,
 "nbformat_minor": 2
}
