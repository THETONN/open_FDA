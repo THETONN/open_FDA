{
 "cells": [
  {
   "cell_type": "markdown",
   "metadata": {},
   "source": [
    "### Merge Data"
   ]
  },
  {
   "cell_type": "markdown",
   "metadata": {},
   "source": [
    "#### Merge Pediatrics data with Drug and Reaction\n",
    "- Pediatrics data from 3_Pediatrics_data_merge.ipynb file\n",
    "- Raw Drug file from drugcharacteristics.csv.gz (Drug)\n",
    "- Reaction file from reactions.csv.gz (Meddra reaction PT)"
   ]
  },
  {
   "cell_type": "code",
   "execution_count": 1,
   "metadata": {},
   "outputs": [],
   "source": [
    "import pandas as pd\n",
    "import numpy as np\n",
    "import matplotlib.pyplot as plt\n",
    "import seaborn as sns\n",
    "from IPython.display import display"
   ]
  },
  {
   "cell_type": "markdown",
   "metadata": {},
   "source": [
    "#### Raw Data"
   ]
  },
  {
   "cell_type": "code",
   "execution_count": 2,
   "metadata": {},
   "outputs": [
    {
     "name": "stderr",
     "output_type": "stream",
     "text": [
      "/tmp/ipykernel_9504/3067837061.py:1: DtypeWarning: Columns (6,18) have mixed types. Specify dtype option on import or set low_memory=False.\n",
      "  adult_report_data = pd.read_csv('../../data/adult_report_resious_reporter.csv.gz',compression='gzip', index_col=0)\n"
     ]
    }
   ],
   "source": [
    "adult_report_data = pd.read_csv('../../data/adult_report_resious_reporter.csv.gz',compression='gzip', index_col=0)"
   ]
  },
  {
   "cell_type": "code",
   "execution_count": 3,
   "metadata": {},
   "outputs": [
    {
     "name": "stderr",
     "output_type": "stream",
     "text": [
      "/tmp/ipykernel_9504/195607322.py:1: DtypeWarning: Columns (4) have mixed types. Specify dtype option on import or set low_memory=False.\n",
      "  drug_characteristics_df = pd.read_csv('../../data/openFDA_drug_event/er_tables_memory_efficient/drugcharacteristics.csv.gz',compression='gzip')\n"
     ]
    }
   ],
   "source": [
    "drug_characteristics_df = pd.read_csv('../../data/openFDA_drug_event/er_tables_memory_efficient/drugcharacteristics.csv.gz',compression='gzip')"
   ]
  },
  {
   "cell_type": "code",
   "execution_count": 4,
   "metadata": {},
   "outputs": [
    {
     "data": {
      "text/html": [
       "<div>\n",
       "<style scoped>\n",
       "    .dataframe tbody tr th:only-of-type {\n",
       "        vertical-align: middle;\n",
       "    }\n",
       "\n",
       "    .dataframe tbody tr th {\n",
       "        vertical-align: top;\n",
       "    }\n",
       "\n",
       "    .dataframe thead th {\n",
       "        text-align: right;\n",
       "    }\n",
       "</style>\n",
       "<table border=\"1\" class=\"dataframe\">\n",
       "  <thead>\n",
       "    <tr style=\"text-align: right;\">\n",
       "      <th></th>\n",
       "      <th>drug_administration</th>\n",
       "      <th>drug_characterization</th>\n",
       "      <th>drug_indication</th>\n",
       "      <th>medicinal_product</th>\n",
       "      <th>safetyreportid</th>\n",
       "    </tr>\n",
       "  </thead>\n",
       "  <tbody>\n",
       "    <tr>\n",
       "      <th>0</th>\n",
       "      <td>Intravenous (not otherwise specified)</td>\n",
       "      <td>Suspect (the drug was considered by the report...</td>\n",
       "      <td>OSTEOPOROSIS</td>\n",
       "      <td>BONIVA</td>\n",
       "      <td>10003300</td>\n",
       "    </tr>\n",
       "    <tr>\n",
       "      <th>1</th>\n",
       "      <td>NaN</td>\n",
       "      <td>Suspect (the drug was considered by the report...</td>\n",
       "      <td>PRODUCT USED FOR UNKNOWN INDICATION</td>\n",
       "      <td>IBUPROFEN</td>\n",
       "      <td>10003301</td>\n",
       "    </tr>\n",
       "    <tr>\n",
       "      <th>2</th>\n",
       "      <td>NaN</td>\n",
       "      <td>Suspect (the drug was considered by the report...</td>\n",
       "      <td>NaN</td>\n",
       "      <td>LYRICA</td>\n",
       "      <td>10003302</td>\n",
       "    </tr>\n",
       "    <tr>\n",
       "      <th>3</th>\n",
       "      <td>NaN</td>\n",
       "      <td>Suspect (the drug was considered by the report...</td>\n",
       "      <td>NaN</td>\n",
       "      <td>FIORINAL</td>\n",
       "      <td>10003304</td>\n",
       "    </tr>\n",
       "    <tr>\n",
       "      <th>4</th>\n",
       "      <td>NaN</td>\n",
       "      <td>Suspect (the drug was considered by the report...</td>\n",
       "      <td>NaN</td>\n",
       "      <td>DOXYCYCLINE HYCLATE</td>\n",
       "      <td>10003304</td>\n",
       "    </tr>\n",
       "    <tr>\n",
       "      <th>...</th>\n",
       "      <td>...</td>\n",
       "      <td>...</td>\n",
       "      <td>...</td>\n",
       "      <td>...</td>\n",
       "      <td>...</td>\n",
       "    </tr>\n",
       "    <tr>\n",
       "      <th>64177915</th>\n",
       "      <td>Oral</td>\n",
       "      <td>Suspect (the drug was considered by the report...</td>\n",
       "      <td>PRODUCT USED FOR UNKNOWN INDICATION</td>\n",
       "      <td>LETAIRIS</td>\n",
       "      <td>9999996</td>\n",
       "    </tr>\n",
       "    <tr>\n",
       "      <th>64177916</th>\n",
       "      <td>NaN</td>\n",
       "      <td>Suspect (the drug was considered by the report...</td>\n",
       "      <td>NaN</td>\n",
       "      <td>VENTAVIS</td>\n",
       "      <td>9999997</td>\n",
       "    </tr>\n",
       "    <tr>\n",
       "      <th>64177917</th>\n",
       "      <td>NaN</td>\n",
       "      <td>Suspect (the drug was considered by the report...</td>\n",
       "      <td>COR PULMONALE CHRONIC</td>\n",
       "      <td>LETAIRIS</td>\n",
       "      <td>9999997</td>\n",
       "    </tr>\n",
       "    <tr>\n",
       "      <th>64177918</th>\n",
       "      <td>Oral</td>\n",
       "      <td>Suspect (the drug was considered by the report...</td>\n",
       "      <td>PRODUCT USED FOR UNKNOWN INDICATION</td>\n",
       "      <td>LETAIRIS</td>\n",
       "      <td>9999998</td>\n",
       "    </tr>\n",
       "    <tr>\n",
       "      <th>64177919</th>\n",
       "      <td>Oral</td>\n",
       "      <td>Suspect (the drug was considered by the report...</td>\n",
       "      <td>PULMONARY ARTERIAL HYPERTENSION</td>\n",
       "      <td>LETAIRIS</td>\n",
       "      <td>9999999</td>\n",
       "    </tr>\n",
       "  </tbody>\n",
       "</table>\n",
       "<p>64177920 rows × 5 columns</p>\n",
       "</div>"
      ],
      "text/plain": [
       "                            drug_administration  \\\n",
       "0         Intravenous (not otherwise specified)   \n",
       "1                                           NaN   \n",
       "2                                           NaN   \n",
       "3                                           NaN   \n",
       "4                                           NaN   \n",
       "...                                         ...   \n",
       "64177915                                   Oral   \n",
       "64177916                                    NaN   \n",
       "64177917                                    NaN   \n",
       "64177918                                   Oral   \n",
       "64177919                                   Oral   \n",
       "\n",
       "                                      drug_characterization  \\\n",
       "0         Suspect (the drug was considered by the report...   \n",
       "1         Suspect (the drug was considered by the report...   \n",
       "2         Suspect (the drug was considered by the report...   \n",
       "3         Suspect (the drug was considered by the report...   \n",
       "4         Suspect (the drug was considered by the report...   \n",
       "...                                                     ...   \n",
       "64177915  Suspect (the drug was considered by the report...   \n",
       "64177916  Suspect (the drug was considered by the report...   \n",
       "64177917  Suspect (the drug was considered by the report...   \n",
       "64177918  Suspect (the drug was considered by the report...   \n",
       "64177919  Suspect (the drug was considered by the report...   \n",
       "\n",
       "                              drug_indication    medicinal_product  \\\n",
       "0                                OSTEOPOROSIS               BONIVA   \n",
       "1         PRODUCT USED FOR UNKNOWN INDICATION            IBUPROFEN   \n",
       "2                                         NaN               LYRICA   \n",
       "3                                         NaN             FIORINAL   \n",
       "4                                         NaN  DOXYCYCLINE HYCLATE   \n",
       "...                                       ...                  ...   \n",
       "64177915  PRODUCT USED FOR UNKNOWN INDICATION             LETAIRIS   \n",
       "64177916                                  NaN             VENTAVIS   \n",
       "64177917                COR PULMONALE CHRONIC             LETAIRIS   \n",
       "64177918  PRODUCT USED FOR UNKNOWN INDICATION             LETAIRIS   \n",
       "64177919      PULMONARY ARTERIAL HYPERTENSION             LETAIRIS   \n",
       "\n",
       "         safetyreportid  \n",
       "0              10003300  \n",
       "1              10003301  \n",
       "2              10003302  \n",
       "3              10003304  \n",
       "4              10003304  \n",
       "...                 ...  \n",
       "64177915        9999996  \n",
       "64177916        9999997  \n",
       "64177917        9999997  \n",
       "64177918        9999998  \n",
       "64177919        9999999  \n",
       "\n",
       "[64177920 rows x 5 columns]"
      ]
     },
     "execution_count": 4,
     "metadata": {},
     "output_type": "execute_result"
    }
   ],
   "source": [
    "drug_characteristics_df"
   ]
  },
  {
   "cell_type": "code",
   "execution_count": 5,
   "metadata": {},
   "outputs": [],
   "source": [
    "reaction_df = pd.read_csv(\"../../data/openFDA_drug_event/er_tables_memory_efficient/reactions.csv.gz\", compression='gzip', low_memory=False)"
   ]
  },
  {
   "cell_type": "code",
   "execution_count": 6,
   "metadata": {},
   "outputs": [
    {
     "data": {
      "text/html": [
       "<div>\n",
       "<style scoped>\n",
       "    .dataframe tbody tr th:only-of-type {\n",
       "        vertical-align: middle;\n",
       "    }\n",
       "\n",
       "    .dataframe tbody tr th {\n",
       "        vertical-align: top;\n",
       "    }\n",
       "\n",
       "    .dataframe thead th {\n",
       "        text-align: right;\n",
       "    }\n",
       "</style>\n",
       "<table border=\"1\" class=\"dataframe\">\n",
       "  <thead>\n",
       "    <tr style=\"text-align: right;\">\n",
       "      <th></th>\n",
       "      <th>reaction_meddrapt</th>\n",
       "      <th>reaction_outcome</th>\n",
       "      <th>safetyreportid</th>\n",
       "    </tr>\n",
       "  </thead>\n",
       "  <tbody>\n",
       "    <tr>\n",
       "      <th>0</th>\n",
       "      <td>Diarrhoea</td>\n",
       "      <td>NaN</td>\n",
       "      <td>10003300</td>\n",
       "    </tr>\n",
       "    <tr>\n",
       "      <th>1</th>\n",
       "      <td>Arthralgia</td>\n",
       "      <td>NaN</td>\n",
       "      <td>10003300</td>\n",
       "    </tr>\n",
       "    <tr>\n",
       "      <th>2</th>\n",
       "      <td>Headache</td>\n",
       "      <td>NaN</td>\n",
       "      <td>10003300</td>\n",
       "    </tr>\n",
       "    <tr>\n",
       "      <th>3</th>\n",
       "      <td>Vomiting</td>\n",
       "      <td>NaN</td>\n",
       "      <td>10003300</td>\n",
       "    </tr>\n",
       "    <tr>\n",
       "      <th>4</th>\n",
       "      <td>Dyspepsia</td>\n",
       "      <td>NaN</td>\n",
       "      <td>10003301</td>\n",
       "    </tr>\n",
       "    <tr>\n",
       "      <th>...</th>\n",
       "      <td>...</td>\n",
       "      <td>...</td>\n",
       "      <td>...</td>\n",
       "    </tr>\n",
       "    <tr>\n",
       "      <th>56821719</th>\n",
       "      <td>Dizziness</td>\n",
       "      <td>Unknown</td>\n",
       "      <td>9999997</td>\n",
       "    </tr>\n",
       "    <tr>\n",
       "      <th>56821720</th>\n",
       "      <td>Cough</td>\n",
       "      <td>Unknown</td>\n",
       "      <td>9999997</td>\n",
       "    </tr>\n",
       "    <tr>\n",
       "      <th>56821721</th>\n",
       "      <td>Oedema</td>\n",
       "      <td>Unknown</td>\n",
       "      <td>9999998</td>\n",
       "    </tr>\n",
       "    <tr>\n",
       "      <th>56821722</th>\n",
       "      <td>Chest pain</td>\n",
       "      <td>Unknown</td>\n",
       "      <td>9999999</td>\n",
       "    </tr>\n",
       "    <tr>\n",
       "      <th>56821723</th>\n",
       "      <td>Middle insomnia</td>\n",
       "      <td>Unknown</td>\n",
       "      <td>9999999</td>\n",
       "    </tr>\n",
       "  </tbody>\n",
       "</table>\n",
       "<p>56821724 rows × 3 columns</p>\n",
       "</div>"
      ],
      "text/plain": [
       "         reaction_meddrapt reaction_outcome safetyreportid\n",
       "0                Diarrhoea              NaN       10003300\n",
       "1               Arthralgia              NaN       10003300\n",
       "2                 Headache              NaN       10003300\n",
       "3                 Vomiting              NaN       10003300\n",
       "4                Dyspepsia              NaN       10003301\n",
       "...                    ...              ...            ...\n",
       "56821719         Dizziness          Unknown        9999997\n",
       "56821720             Cough          Unknown        9999997\n",
       "56821721            Oedema          Unknown        9999998\n",
       "56821722        Chest pain          Unknown        9999999\n",
       "56821723   Middle insomnia          Unknown        9999999\n",
       "\n",
       "[56821724 rows x 3 columns]"
      ]
     },
     "execution_count": 6,
     "metadata": {},
     "output_type": "execute_result"
    }
   ],
   "source": [
    "reaction_df"
   ]
  },
  {
   "cell_type": "markdown",
   "metadata": {},
   "source": [
    "##### Merge Data"
   ]
  },
  {
   "cell_type": "code",
   "execution_count": 7,
   "metadata": {},
   "outputs": [],
   "source": [
    "adult_data = adult_report_data.copy()"
   ]
  },
  {
   "cell_type": "code",
   "execution_count": 8,
   "metadata": {},
   "outputs": [
    {
     "data": {
      "text/plain": [
       "(1519713, 19)"
      ]
     },
     "execution_count": 8,
     "metadata": {},
     "output_type": "execute_result"
    }
   ],
   "source": [
    "adult_data.shape"
   ]
  },
  {
   "cell_type": "code",
   "execution_count": 9,
   "metadata": {},
   "outputs": [],
   "source": [
    "adult_data_merge = adult_report_data\\\n",
    "    .merge(drug_characteristics_df, on='safetyreportid', how='inner')\\\n",
    "    .merge(reaction_df, on='safetyreportid', how='inner')"
   ]
  },
  {
   "cell_type": "markdown",
   "metadata": {},
   "source": [
    "##### Adult Data Merge"
   ]
  },
  {
   "cell_type": "code",
   "execution_count": 10,
   "metadata": {},
   "outputs": [
    {
     "name": "stdout",
     "output_type": "stream",
     "text": [
      "<class 'pandas.core.frame.DataFrame'>\n",
      "RangeIndex: 30436709 entries, 0 to 30436708\n",
      "Data columns (total 25 columns):\n",
      " #   Column                     Dtype  \n",
      "---  ------                     -----  \n",
      " 0   patient_custom_master_age  float64\n",
      " 1   patient_onsetage           float64\n",
      " 2   patient_onsetageunit       object \n",
      " 3   patient_sex                object \n",
      " 4   patient_weight             float64\n",
      " 5   safetyreportid             object \n",
      " 6   lastupdate_date            int64  \n",
      " 7   mostrecent_receive_date    int64  \n",
      " 8   receive_date               int64  \n",
      " 9   congenital_anomali         float64\n",
      " 10  death                      float64\n",
      " 11  disabling                  float64\n",
      " 12  hospitalization            float64\n",
      " 13  life_threatening           float64\n",
      " 14  other                      float64\n",
      " 15  serious                    object \n",
      " 16  reporter_company           object \n",
      " 17  reporter_country           object \n",
      " 18  reporter_qualification     object \n",
      " 19  drug_administration        object \n",
      " 20  drug_characterization      object \n",
      " 21  drug_indication            object \n",
      " 22  medicinal_product          object \n",
      " 23  reaction_meddrapt          object \n",
      " 24  reaction_outcome           object \n",
      "dtypes: float64(9), int64(3), object(13)\n",
      "memory usage: 5.7+ GB\n"
     ]
    }
   ],
   "source": [
    "adult_data_merge.info()"
   ]
  },
  {
   "cell_type": "markdown",
   "metadata": {},
   "source": [
    "##### Missing Data"
   ]
  },
  {
   "cell_type": "code",
   "execution_count": 11,
   "metadata": {},
   "outputs": [
    {
     "data": {
      "text/plain": [
       "congenital_anomali           30206698\n",
       "disabling                    27681821\n",
       "life_threatening             27492832\n",
       "reaction_outcome             26950115\n",
       "death                        24404682\n",
       "drug_indication              19284860\n",
       "drug_administration          17829724\n",
       "other                        15152201\n",
       "patient_weight               14243331\n",
       "hospitalization              12524642\n",
       "reporter_qualification        5289857\n",
       "reporter_country              4452076\n",
       "reporter_company              1523616\n",
       "patient_sex                    199973\n",
       "medicinal_product                  60\n",
       "patient_custom_master_age           0\n",
       "patient_onsetageunit                0\n",
       "receive_date                        0\n",
       "mostrecent_receive_date             0\n",
       "lastupdate_date                     0\n",
       "safetyreportid                      0\n",
       "patient_onsetage                    0\n",
       "serious                             0\n",
       "drug_characterization               0\n",
       "reaction_meddrapt                   0\n",
       "dtype: int64"
      ]
     },
     "execution_count": 11,
     "metadata": {},
     "output_type": "execute_result"
    }
   ],
   "source": [
    "missing_data_merge = adult_data_merge.isna().sum().sort_values(ascending=False)\n",
    "missing_data_merge"
   ]
  },
  {
   "cell_type": "markdown",
   "metadata": {},
   "source": [
    "#### Age Overview"
   ]
  },
  {
   "cell_type": "code",
   "execution_count": 12,
   "metadata": {},
   "outputs": [
    {
     "data": {
      "text/plain": [
       "patient_onsetageunit\n",
       "Year      29706381\n",
       "Day         520327\n",
       "Month       183684\n",
       "Decade       25997\n",
       "Week           320\n",
       "Name: count, dtype: int64"
      ]
     },
     "execution_count": 12,
     "metadata": {},
     "output_type": "execute_result"
    }
   ],
   "source": [
    "# check  age unit\n",
    "adult_data_merge['patient_onsetageunit'].value_counts(ascending=False)"
   ]
  },
  {
   "cell_type": "code",
   "execution_count": 13,
   "metadata": {},
   "outputs": [
    {
     "data": {
      "text/html": [
       "<div>\n",
       "<style scoped>\n",
       "    .dataframe tbody tr th:only-of-type {\n",
       "        vertical-align: middle;\n",
       "    }\n",
       "\n",
       "    .dataframe tbody tr th {\n",
       "        vertical-align: top;\n",
       "    }\n",
       "\n",
       "    .dataframe thead th {\n",
       "        text-align: right;\n",
       "    }\n",
       "</style>\n",
       "<table border=\"1\" class=\"dataframe\">\n",
       "  <thead>\n",
       "    <tr style=\"text-align: right;\">\n",
       "      <th></th>\n",
       "      <th>patient_custom_master_age</th>\n",
       "      <th>patient_onsetage</th>\n",
       "      <th>patient_onsetageunit</th>\n",
       "    </tr>\n",
       "  </thead>\n",
       "  <tbody>\n",
       "    <tr>\n",
       "      <th>25660020</th>\n",
       "      <td>98.166667</td>\n",
       "      <td>1178.0</td>\n",
       "      <td>Month</td>\n",
       "    </tr>\n",
       "    <tr>\n",
       "      <th>25660017</th>\n",
       "      <td>98.166667</td>\n",
       "      <td>1178.0</td>\n",
       "      <td>Month</td>\n",
       "    </tr>\n",
       "    <tr>\n",
       "      <th>25660016</th>\n",
       "      <td>98.166667</td>\n",
       "      <td>1178.0</td>\n",
       "      <td>Month</td>\n",
       "    </tr>\n",
       "    <tr>\n",
       "      <th>25660013</th>\n",
       "      <td>98.166667</td>\n",
       "      <td>1178.0</td>\n",
       "      <td>Month</td>\n",
       "    </tr>\n",
       "    <tr>\n",
       "      <th>25660015</th>\n",
       "      <td>98.166667</td>\n",
       "      <td>1178.0</td>\n",
       "      <td>Month</td>\n",
       "    </tr>\n",
       "    <tr>\n",
       "      <th>...</th>\n",
       "      <td>...</td>\n",
       "      <td>...</td>\n",
       "      <td>...</td>\n",
       "    </tr>\n",
       "    <tr>\n",
       "      <th>15527211</th>\n",
       "      <td>21.083333</td>\n",
       "      <td>253.0</td>\n",
       "      <td>Month</td>\n",
       "    </tr>\n",
       "    <tr>\n",
       "      <th>15527212</th>\n",
       "      <td>21.083333</td>\n",
       "      <td>253.0</td>\n",
       "      <td>Month</td>\n",
       "    </tr>\n",
       "    <tr>\n",
       "      <th>15527201</th>\n",
       "      <td>21.083333</td>\n",
       "      <td>253.0</td>\n",
       "      <td>Month</td>\n",
       "    </tr>\n",
       "    <tr>\n",
       "      <th>15527213</th>\n",
       "      <td>21.083333</td>\n",
       "      <td>253.0</td>\n",
       "      <td>Month</td>\n",
       "    </tr>\n",
       "    <tr>\n",
       "      <th>15527214</th>\n",
       "      <td>21.083333</td>\n",
       "      <td>253.0</td>\n",
       "      <td>Month</td>\n",
       "    </tr>\n",
       "  </tbody>\n",
       "</table>\n",
       "<p>183684 rows × 3 columns</p>\n",
       "</div>"
      ],
      "text/plain": [
       "          patient_custom_master_age  patient_onsetage patient_onsetageunit\n",
       "25660020                  98.166667            1178.0                Month\n",
       "25660017                  98.166667            1178.0                Month\n",
       "25660016                  98.166667            1178.0                Month\n",
       "25660013                  98.166667            1178.0                Month\n",
       "25660015                  98.166667            1178.0                Month\n",
       "...                             ...               ...                  ...\n",
       "15527211                  21.083333             253.0                Month\n",
       "15527212                  21.083333             253.0                Month\n",
       "15527201                  21.083333             253.0                Month\n",
       "15527213                  21.083333             253.0                Month\n",
       "15527214                  21.083333             253.0                Month\n",
       "\n",
       "[183684 rows x 3 columns]"
      ]
     },
     "execution_count": 13,
     "metadata": {},
     "output_type": "execute_result"
    }
   ],
   "source": [
    "#Recheck Age after filter\n",
    "adult_data_merge.loc[(adult_data_merge['patient_onsetageunit'] == 'Month'),['patient_custom_master_age','patient_onsetage','patient_onsetageunit']].sort_values(by='patient_onsetage',ascending=False)"
   ]
  },
  {
   "cell_type": "code",
   "execution_count": 14,
   "metadata": {},
   "outputs": [],
   "source": [
    "# print(type(adult_data_merge))"
   ]
  },
  {
   "cell_type": "code",
   "execution_count": 15,
   "metadata": {},
   "outputs": [],
   "source": [
    "# print(adult_data_merge)"
   ]
  },
  {
   "cell_type": "code",
   "execution_count": 16,
   "metadata": {},
   "outputs": [],
   "source": [
    "# Add new column with 'Year' as the value for all rows\n",
    "adult_data_merge['patient_custom_master_age_unit'] = 'Year'\n",
    "\n",
    "# Reorder columns to place the new column after 'patient_custom_master_age'\n",
    "cols = list(adult_data_merge.columns)\n",
    "cols.insert(cols.index('patient_custom_master_age') + 1, cols.pop(cols.index('patient_custom_master_age_unit')))\n",
    "adult_data_merge = adult_data_merge[cols]"
   ]
  },
  {
   "cell_type": "code",
   "execution_count": 17,
   "metadata": {},
   "outputs": [
    {
     "data": {
      "text/plain": [
       "congenital_anomali                30206698\n",
       "disabling                         27681821\n",
       "life_threatening                  27492832\n",
       "reaction_outcome                  26950115\n",
       "death                             24404682\n",
       "drug_indication                   19284860\n",
       "drug_administration               17829724\n",
       "other                             15152201\n",
       "patient_weight                    14243331\n",
       "hospitalization                   12524642\n",
       "reporter_qualification             5289857\n",
       "reporter_country                   4452076\n",
       "reporter_company                   1523616\n",
       "patient_sex                         199973\n",
       "medicinal_product                       60\n",
       "patient_onsetageunit                     0\n",
       "patient_custom_master_age                0\n",
       "patient_custom_master_age_unit           0\n",
       "receive_date                             0\n",
       "mostrecent_receive_date                  0\n",
       "lastupdate_date                          0\n",
       "safetyreportid                           0\n",
       "patient_onsetage                         0\n",
       "serious                                  0\n",
       "drug_characterization                    0\n",
       "reaction_meddrapt                        0\n",
       "dtype: int64"
      ]
     },
     "execution_count": 17,
     "metadata": {},
     "output_type": "execute_result"
    }
   ],
   "source": [
    "adult_data_merge.isna().sum().sort_values(ascending=False)"
   ]
  },
  {
   "cell_type": "code",
   "execution_count": 18,
   "metadata": {},
   "outputs": [
    {
     "data": {
      "text/plain": [
       "(30436709, 26)"
      ]
     },
     "execution_count": 18,
     "metadata": {},
     "output_type": "execute_result"
    }
   ],
   "source": [
    "adult_data_merge.shape"
   ]
  },
  {
   "cell_type": "markdown",
   "metadata": {},
   "source": [
    "### Data Cleaning"
   ]
  },
  {
   "cell_type": "markdown",
   "metadata": {},
   "source": [
    "#### Fill NA and Unknow"
   ]
  },
  {
   "cell_type": "code",
   "execution_count": 19,
   "metadata": {},
   "outputs": [],
   "source": [
    "# #fill NA in columns congenital_anomali,disabling,life_threatening,death,other\n",
    "# cols = ['congenital_anomali','disabling','life_threatening','death','other','hospitalization']\n",
    "# for i in cols:\n",
    "#     print(adult_data_merge[i].unique())\n",
    "\n",
    "# existing_cols = [col for col in cols if col in adult_data_merge.columns]\n",
    "\n",
    "# for col in existing_cols:\n",
    "#     adult_data_merge[col] = adult_data_merge[col].fillna(0).astype(int)\n",
    "    \n",
    "# # After filling na\n",
    "# print('')\n",
    "# print('After filling NA : \\n')\n",
    "# for i in cols:\n",
    "#     print(adult_data_merge[i].unique())"
   ]
  },
  {
   "cell_type": "markdown",
   "metadata": {},
   "source": [
    "##### fill 1:1, 2:0, nan:0"
   ]
  },
  {
   "cell_type": "code",
   "execution_count": 20,
   "metadata": {},
   "outputs": [
    {
     "name": "stdout",
     "output_type": "stream",
     "text": [
      "congenital_anomali [0 1]\n",
      "disabling [0 1]\n",
      "life_threatening [0 1]\n",
      "death [0 1]\n",
      "other [0 1]\n",
      "hospitalization [0 1]\n"
     ]
    }
   ],
   "source": [
    "cols = ['congenital_anomali','disabling','life_threatening','death','other','hospitalization']\n",
    "for c in cols:\n",
    "    adult_data_merge[c] = pd.to_numeric(adult_data_merge[c], errors='coerce')\n",
    "for c in cols:\n",
    "    adult_data_merge[c] = adult_data_merge[c].map({1:1}).fillna(0).astype(int)\n",
    "\n",
    "for c in cols:\n",
    "    print(c, adult_data_merge[c].unique())"
   ]
  },
  {
   "cell_type": "code",
   "execution_count": 21,
   "metadata": {},
   "outputs": [],
   "source": [
    "# fill unknown value in columns about patient\n",
    "categorical_cols_to_fill_unknown = ['patient_sex']\n",
    "for col in categorical_cols_to_fill_unknown:\n",
    "    adult_data_merge[col] = adult_data_merge[col].fillna('Unknown')"
   ]
  },
  {
   "cell_type": "code",
   "execution_count": 22,
   "metadata": {},
   "outputs": [],
   "source": [
    "# fill unknown value in columns about reporter\n",
    "categorical_cols_to_fill_unknown = ['reporter_company', 'reporter_qualification', 'reporter_country']\n",
    "for col in categorical_cols_to_fill_unknown:\n",
    "    adult_data_merge[col] = adult_data_merge[col].fillna('Unknown')"
   ]
  },
  {
   "cell_type": "code",
   "execution_count": 23,
   "metadata": {},
   "outputs": [],
   "source": [
    "# fill unknown value in columns about reaction\n",
    "categorical_cols_to_fill_unknown = ['reaction_outcome']\n",
    "for col in categorical_cols_to_fill_unknown:\n",
    "    adult_data_merge[col] = adult_data_merge[col].fillna('Unknown')"
   ]
  },
  {
   "cell_type": "code",
   "execution_count": 24,
   "metadata": {},
   "outputs": [],
   "source": [
    "# fill unknown value in columns drug_administration\n",
    "categorical_cols_to_fill_unknown = ['drug_administration']\n",
    "for col in categorical_cols_to_fill_unknown:\n",
    "    adult_data_merge[col] = adult_data_merge[col].fillna('Unknown')"
   ]
  },
  {
   "cell_type": "code",
   "execution_count": 25,
   "metadata": {},
   "outputs": [
    {
     "data": {
      "text/plain": [
       "drug_indication                   19284860\n",
       "patient_weight                    14243331\n",
       "medicinal_product                       60\n",
       "patient_onsetage                         0\n",
       "patient_custom_master_age_unit           0\n",
       "patient_sex                              0\n",
       "safetyreportid                           0\n",
       "lastupdate_date                          0\n",
       "patient_onsetageunit                     0\n",
       "patient_custom_master_age                0\n",
       "receive_date                             0\n",
       "mostrecent_receive_date                  0\n",
       "congenital_anomali                       0\n",
       "death                                    0\n",
       "life_threatening                         0\n",
       "other                                    0\n",
       "disabling                                0\n",
       "hospitalization                          0\n",
       "reporter_company                         0\n",
       "serious                                  0\n",
       "reporter_country                         0\n",
       "reporter_qualification                   0\n",
       "drug_characterization                    0\n",
       "drug_administration                      0\n",
       "reaction_meddrapt                        0\n",
       "reaction_outcome                         0\n",
       "dtype: int64"
      ]
     },
     "execution_count": 25,
     "metadata": {},
     "output_type": "execute_result"
    }
   ],
   "source": [
    "adult_data_merge.isna().sum().sort_values(ascending=False)"
   ]
  },
  {
   "cell_type": "code",
   "execution_count": 26,
   "metadata": {},
   "outputs": [
    {
     "name": "stdout",
     "output_type": "stream",
     "text": [
      "<class 'pandas.core.frame.DataFrame'>\n",
      "RangeIndex: 30436709 entries, 0 to 30436708\n",
      "Data columns (total 26 columns):\n",
      " #   Column                          Dtype  \n",
      "---  ------                          -----  \n",
      " 0   patient_custom_master_age       float64\n",
      " 1   patient_custom_master_age_unit  object \n",
      " 2   patient_onsetage                float64\n",
      " 3   patient_onsetageunit            object \n",
      " 4   patient_sex                     object \n",
      " 5   patient_weight                  float64\n",
      " 6   safetyreportid                  object \n",
      " 7   lastupdate_date                 int64  \n",
      " 8   mostrecent_receive_date         int64  \n",
      " 9   receive_date                    int64  \n",
      " 10  congenital_anomali              int64  \n",
      " 11  death                           int64  \n",
      " 12  disabling                       int64  \n",
      " 13  hospitalization                 int64  \n",
      " 14  life_threatening                int64  \n",
      " 15  other                           int64  \n",
      " 16  serious                         object \n",
      " 17  reporter_company                object \n",
      " 18  reporter_country                object \n",
      " 19  reporter_qualification          object \n",
      " 20  drug_administration             object \n",
      " 21  drug_characterization           object \n",
      " 22  drug_indication                 object \n",
      " 23  medicinal_product               object \n",
      " 24  reaction_meddrapt               object \n",
      " 25  reaction_outcome                object \n",
      "dtypes: float64(3), int64(9), object(14)\n",
      "memory usage: 5.9+ GB\n"
     ]
    }
   ],
   "source": [
    "adult_data_merge.info()"
   ]
  },
  {
   "cell_type": "markdown",
   "metadata": {},
   "source": [
    "#### Datetime format"
   ]
  },
  {
   "cell_type": "code",
   "execution_count": 27,
   "metadata": {},
   "outputs": [
    {
     "name": "stdout",
     "output_type": "stream",
     "text": [
      "   lastupdate_date  mostrecent_receive_date  receive_date\n",
      "0         20250409                 20250327      20250327\n",
      "1         20250409                 20250327      20250327\n",
      "2         20250408                 20250327      20250327\n",
      "3         20250409                 20250327      20250327\n",
      "4         20250409                 20250327      20250327\n"
     ]
    }
   ],
   "source": [
    "print(adult_data_merge[['lastupdate_date', 'mostrecent_receive_date', 'receive_date']].head())\n",
    "date_cols_to_convert = ['lastupdate_date', 'mostrecent_receive_date', 'receive_date']\n",
    "\n",
    "for col in date_cols_to_convert:\n",
    "    adult_data_merge[col] = pd.to_datetime(adult_data_merge[col].astype(str), format='%Y%m%d', errors='coerce')"
   ]
  },
  {
   "cell_type": "code",
   "execution_count": 28,
   "metadata": {},
   "outputs": [
    {
     "name": "stdout",
     "output_type": "stream",
     "text": [
      "  lastupdate_date mostrecent_receive_date receive_date\n",
      "0      2025-04-09              2025-03-27   2025-03-27\n",
      "1      2025-04-09              2025-03-27   2025-03-27\n",
      "2      2025-04-08              2025-03-27   2025-03-27\n",
      "3      2025-04-09              2025-03-27   2025-03-27\n",
      "4      2025-04-09              2025-03-27   2025-03-27\n",
      "<class 'pandas.core.frame.DataFrame'>\n",
      "RangeIndex: 30436709 entries, 0 to 30436708\n",
      "Data columns (total 26 columns):\n",
      " #   Column                          Dtype         \n",
      "---  ------                          -----         \n",
      " 0   patient_custom_master_age       float64       \n",
      " 1   patient_custom_master_age_unit  object        \n",
      " 2   patient_onsetage                float64       \n",
      " 3   patient_onsetageunit            object        \n",
      " 4   patient_sex                     object        \n",
      " 5   patient_weight                  float64       \n",
      " 6   safetyreportid                  object        \n",
      " 7   lastupdate_date                 datetime64[ns]\n",
      " 8   mostrecent_receive_date         datetime64[ns]\n",
      " 9   receive_date                    datetime64[ns]\n",
      " 10  congenital_anomali              int64         \n",
      " 11  death                           int64         \n",
      " 12  disabling                       int64         \n",
      " 13  hospitalization                 int64         \n",
      " 14  life_threatening                int64         \n",
      " 15  other                           int64         \n",
      " 16  serious                         object        \n",
      " 17  reporter_company                object        \n",
      " 18  reporter_country                object        \n",
      " 19  reporter_qualification          object        \n",
      " 20  drug_administration             object        \n",
      " 21  drug_characterization           object        \n",
      " 22  drug_indication                 object        \n",
      " 23  medicinal_product               object        \n",
      " 24  reaction_meddrapt               object        \n",
      " 25  reaction_outcome                object        \n",
      "dtypes: datetime64[ns](3), float64(3), int64(6), object(14)\n",
      "memory usage: 5.9+ GB\n",
      "None\n"
     ]
    }
   ],
   "source": [
    "print(adult_data_merge[['lastupdate_date', 'mostrecent_receive_date', 'receive_date']].head())\n",
    "print(adult_data_merge.info())"
   ]
  },
  {
   "cell_type": "code",
   "execution_count": null,
   "metadata": {},
   "outputs": [],
   "source": []
  },
  {
   "cell_type": "code",
   "execution_count": 29,
   "metadata": {},
   "outputs": [
    {
     "data": {
      "text/plain": [
       "(30436709, 26)"
      ]
     },
     "execution_count": 29,
     "metadata": {},
     "output_type": "execute_result"
    }
   ],
   "source": [
    "adult_data_merge.shape"
   ]
  },
  {
   "cell_type": "markdown",
   "metadata": {},
   "source": [
    "#### Droup Data"
   ]
  },
  {
   "cell_type": "code",
   "execution_count": 30,
   "metadata": {},
   "outputs": [],
   "source": [
    "# Droup medicinal_product because have missing 34 rows\n",
    "adult_data_merge = adult_data_merge.dropna(subset=['medicinal_product'])"
   ]
  },
  {
   "cell_type": "code",
   "execution_count": 31,
   "metadata": {},
   "outputs": [],
   "source": [
    "# ลบคอลัมน์ 'patient_weight'\n",
    "adult_data_merge = adult_data_merge.drop(columns=['patient_weight'])"
   ]
  },
  {
   "cell_type": "code",
   "execution_count": 32,
   "metadata": {},
   "outputs": [],
   "source": [
    "adult_data_merge =adult_data_merge.dropna(subset=['drug_indication'])"
   ]
  },
  {
   "cell_type": "code",
   "execution_count": 33,
   "metadata": {},
   "outputs": [],
   "source": [
    "adult_data_merge =adult_data_merge.dropna(subset=['mostrecent_receive_date'])"
   ]
  },
  {
   "cell_type": "code",
   "execution_count": 34,
   "metadata": {},
   "outputs": [
    {
     "data": {
      "text/plain": [
       "patient_custom_master_age         0\n",
       "patient_custom_master_age_unit    0\n",
       "patient_onsetage                  0\n",
       "patient_onsetageunit              0\n",
       "patient_sex                       0\n",
       "safetyreportid                    0\n",
       "lastupdate_date                   0\n",
       "mostrecent_receive_date           0\n",
       "receive_date                      0\n",
       "congenital_anomali                0\n",
       "death                             0\n",
       "disabling                         0\n",
       "hospitalization                   0\n",
       "life_threatening                  0\n",
       "other                             0\n",
       "serious                           0\n",
       "reporter_company                  0\n",
       "reporter_country                  0\n",
       "reporter_qualification            0\n",
       "drug_administration               0\n",
       "drug_characterization             0\n",
       "drug_indication                   0\n",
       "medicinal_product                 0\n",
       "reaction_meddrapt                 0\n",
       "reaction_outcome                  0\n",
       "dtype: int64"
      ]
     },
     "execution_count": 34,
     "metadata": {},
     "output_type": "execute_result"
    }
   ],
   "source": [
    "adult_data_merge.isna().sum().sort_values(ascending=False)"
   ]
  },
  {
   "cell_type": "code",
   "execution_count": 35,
   "metadata": {},
   "outputs": [
    {
     "data": {
      "text/plain": [
       "19285044"
      ]
     },
     "execution_count": 35,
     "metadata": {},
     "output_type": "execute_result"
    }
   ],
   "source": [
    "missing = 30436708 - adult_data_merge.shape[0]\n",
    "missing"
   ]
  },
  {
   "cell_type": "code",
   "execution_count": 36,
   "metadata": {},
   "outputs": [
    {
     "data": {
      "text/plain": [
       "(11151664, 25)"
      ]
     },
     "execution_count": 36,
     "metadata": {},
     "output_type": "execute_result"
    }
   ],
   "source": [
    "adult_data_merge.shape"
   ]
  },
  {
   "cell_type": "markdown",
   "metadata": {},
   "source": [
    "#### Polyphamacy"
   ]
  },
  {
   "cell_type": "code",
   "execution_count": 37,
   "metadata": {},
   "outputs": [],
   "source": [
    "# unique_drugs_per_report = ped_data_merge.groupby('safetyreportid')['medicinal_product'].nunique().reset_index()\n",
    "# unique_drugs_per_report.columns = ['safetyreportid', 'unique_drug_count']"
   ]
  },
  {
   "cell_type": "markdown",
   "metadata": {},
   "source": [
    "#### Save Files"
   ]
  },
  {
   "cell_type": "code",
   "execution_count": 38,
   "metadata": {},
   "outputs": [],
   "source": [
    "adult_data_merge.to_csv('../../data/adult_patients_report_drug_reaction.csv.gz',compression='gzip')"
   ]
  },
  {
   "cell_type": "code",
   "execution_count": 39,
   "metadata": {},
   "outputs": [
    {
     "name": "stdout",
     "output_type": "stream",
     "text": [
      "ข้อมูลสุ่ม 1,000 แถว:\n",
      "\n",
      "จำนวนแถวและคอลัมน์: (1000, 25)\n",
      "\n",
      "คอลัมน์ทั้งหมด: ['patient_custom_master_age', 'patient_custom_master_age_unit', 'patient_onsetage', 'patient_onsetageunit', 'patient_sex', 'safetyreportid', 'lastupdate_date', 'mostrecent_receive_date', 'receive_date', 'congenital_anomali', 'death', 'disabling', 'hospitalization', 'life_threatening', 'other', 'serious', 'reporter_company', 'reporter_country', 'reporter_qualification', 'drug_administration', 'drug_characterization', 'drug_indication', 'medicinal_product', 'reaction_meddrapt', 'reaction_outcome']\n"
     ]
    },
    {
     "data": {
      "text/html": [
       "<div>\n",
       "<style scoped>\n",
       "    .dataframe tbody tr th:only-of-type {\n",
       "        vertical-align: middle;\n",
       "    }\n",
       "\n",
       "    .dataframe tbody tr th {\n",
       "        vertical-align: top;\n",
       "    }\n",
       "\n",
       "    .dataframe thead th {\n",
       "        text-align: right;\n",
       "    }\n",
       "</style>\n",
       "<table border=\"1\" class=\"dataframe\">\n",
       "  <thead>\n",
       "    <tr style=\"text-align: right;\">\n",
       "      <th></th>\n",
       "      <th>patient_custom_master_age</th>\n",
       "      <th>patient_custom_master_age_unit</th>\n",
       "      <th>patient_onsetage</th>\n",
       "      <th>patient_onsetageunit</th>\n",
       "      <th>patient_sex</th>\n",
       "      <th>safetyreportid</th>\n",
       "      <th>lastupdate_date</th>\n",
       "      <th>mostrecent_receive_date</th>\n",
       "      <th>receive_date</th>\n",
       "      <th>congenital_anomali</th>\n",
       "      <th>...</th>\n",
       "      <th>serious</th>\n",
       "      <th>reporter_company</th>\n",
       "      <th>reporter_country</th>\n",
       "      <th>reporter_qualification</th>\n",
       "      <th>drug_administration</th>\n",
       "      <th>drug_characterization</th>\n",
       "      <th>drug_indication</th>\n",
       "      <th>medicinal_product</th>\n",
       "      <th>reaction_meddrapt</th>\n",
       "      <th>reaction_outcome</th>\n",
       "    </tr>\n",
       "  </thead>\n",
       "  <tbody>\n",
       "    <tr>\n",
       "      <th>23771064</th>\n",
       "      <td>46.0</td>\n",
       "      <td>Year</td>\n",
       "      <td>46.0</td>\n",
       "      <td>Year</td>\n",
       "      <td>Male</td>\n",
       "      <td>7653634-5</td>\n",
       "      <td>2011-12-22</td>\n",
       "      <td>2011-08-03</td>\n",
       "      <td>2011-08-03</td>\n",
       "      <td>0</td>\n",
       "      <td>...</td>\n",
       "      <td>The adverse event resulted in death, a life th...</td>\n",
       "      <td>Unknown</td>\n",
       "      <td>UNITED STATES</td>\n",
       "      <td>Consumer or non-health professional</td>\n",
       "      <td>Unknown</td>\n",
       "      <td>Suspect (the drug was considered by the report...</td>\n",
       "      <td>BLOOD URIC ACID</td>\n",
       "      <td>RASBURICASE</td>\n",
       "      <td>DYSPNOEA</td>\n",
       "      <td>Unknown</td>\n",
       "    </tr>\n",
       "    <tr>\n",
       "      <th>8590345</th>\n",
       "      <td>77.0</td>\n",
       "      <td>Year</td>\n",
       "      <td>77.0</td>\n",
       "      <td>Year</td>\n",
       "      <td>Unknown</td>\n",
       "      <td>5105523-8</td>\n",
       "      <td>2006-12-08</td>\n",
       "      <td>2006-09-05</td>\n",
       "      <td>2006-09-15</td>\n",
       "      <td>0</td>\n",
       "      <td>...</td>\n",
       "      <td>The adverse event resulted in death, a life th...</td>\n",
       "      <td>US-JNJFOC-20060902016</td>\n",
       "      <td>UNITED STATES</td>\n",
       "      <td>Physician</td>\n",
       "      <td>Unknown</td>\n",
       "      <td>Suspect (the drug was considered by the report...</td>\n",
       "      <td>SUICIDE ATTEMPT</td>\n",
       "      <td>ACETAMINOPHEN</td>\n",
       "      <td>CARDIO-RESPIRATORY ARREST</td>\n",
       "      <td>Unknown</td>\n",
       "    </tr>\n",
       "    <tr>\n",
       "      <th>4274231</th>\n",
       "      <td>44.0</td>\n",
       "      <td>Year</td>\n",
       "      <td>44.0</td>\n",
       "      <td>Year</td>\n",
       "      <td>Female</td>\n",
       "      <td>4698150-8</td>\n",
       "      <td>2005-10-28</td>\n",
       "      <td>2005-06-14</td>\n",
       "      <td>2005-06-23</td>\n",
       "      <td>0</td>\n",
       "      <td>...</td>\n",
       "      <td>The adverse event resulted in death, a life th...</td>\n",
       "      <td>2005-06-0342</td>\n",
       "      <td>Unknown</td>\n",
       "      <td>Consumer or non-health professional</td>\n",
       "      <td>Unknown</td>\n",
       "      <td>Suspect (the drug was considered by the report...</td>\n",
       "      <td>DRUG USE FOR UNKNOWN INDICATION</td>\n",
       "      <td>ATIVAN</td>\n",
       "      <td>HEADACHE</td>\n",
       "      <td>Unknown</td>\n",
       "    </tr>\n",
       "    <tr>\n",
       "      <th>29172241</th>\n",
       "      <td>54.0</td>\n",
       "      <td>Year</td>\n",
       "      <td>54.0</td>\n",
       "      <td>Year</td>\n",
       "      <td>Female</td>\n",
       "      <td>8481615</td>\n",
       "      <td>2014-01-27</td>\n",
       "      <td>2013-01-10</td>\n",
       "      <td>2012-03-29</td>\n",
       "      <td>0</td>\n",
       "      <td>...</td>\n",
       "      <td>The adverse event resulted in death, a life th...</td>\n",
       "      <td>PHFR2012IE001952</td>\n",
       "      <td>IE</td>\n",
       "      <td>Physician</td>\n",
       "      <td>Oral</td>\n",
       "      <td>Concomitant (the drug was reported as being ta...</td>\n",
       "      <td>AFFECTIVE DISORDER</td>\n",
       "      <td>FLUOXETIN</td>\n",
       "      <td>Constipation</td>\n",
       "      <td>Recovered/resolved</td>\n",
       "    </tr>\n",
       "    <tr>\n",
       "      <th>24049351</th>\n",
       "      <td>35.0</td>\n",
       "      <td>Year</td>\n",
       "      <td>35.0</td>\n",
       "      <td>Year</td>\n",
       "      <td>Female</td>\n",
       "      <td>7715798-4</td>\n",
       "      <td>2011-12-22</td>\n",
       "      <td>2011-08-29</td>\n",
       "      <td>2011-08-29</td>\n",
       "      <td>0</td>\n",
       "      <td>...</td>\n",
       "      <td>The adverse event resulted in death, a life th...</td>\n",
       "      <td>Unknown</td>\n",
       "      <td>UNITED STATES</td>\n",
       "      <td>Consumer or non-health professional</td>\n",
       "      <td>Oral</td>\n",
       "      <td>Suspect (the drug was considered by the report...</td>\n",
       "      <td>DEPRESSION</td>\n",
       "      <td>LATUDA</td>\n",
       "      <td>NO THERAPEUTIC RESPONSE</td>\n",
       "      <td>Unknown</td>\n",
       "    </tr>\n",
       "    <tr>\n",
       "      <th>13051242</th>\n",
       "      <td>79.0</td>\n",
       "      <td>Year</td>\n",
       "      <td>79.0</td>\n",
       "      <td>Year</td>\n",
       "      <td>Female</td>\n",
       "      <td>5857446-4</td>\n",
       "      <td>2009-01-09</td>\n",
       "      <td>2008-04-07</td>\n",
       "      <td>2008-08-18</td>\n",
       "      <td>0</td>\n",
       "      <td>...</td>\n",
       "      <td>The adverse event did not result in any of the...</td>\n",
       "      <td>TPA2008A00457</td>\n",
       "      <td>UNITED STATES</td>\n",
       "      <td>Physician</td>\n",
       "      <td>Oral</td>\n",
       "      <td>Suspect (the drug was considered by the report...</td>\n",
       "      <td>INSOMNIA</td>\n",
       "      <td>ROZEREM</td>\n",
       "      <td>PHOTOPSIA</td>\n",
       "      <td>Unknown</td>\n",
       "    </tr>\n",
       "    <tr>\n",
       "      <th>22535354</th>\n",
       "      <td>47.0</td>\n",
       "      <td>Year</td>\n",
       "      <td>47.0</td>\n",
       "      <td>Year</td>\n",
       "      <td>Female</td>\n",
       "      <td>7471098-1</td>\n",
       "      <td>2011-10-10</td>\n",
       "      <td>2011-04-28</td>\n",
       "      <td>2011-05-10</td>\n",
       "      <td>0</td>\n",
       "      <td>...</td>\n",
       "      <td>The adverse event resulted in death, a life th...</td>\n",
       "      <td>BR-BAYER-200823304LA</td>\n",
       "      <td>BRAZIL</td>\n",
       "      <td>Consumer or non-health professional</td>\n",
       "      <td>Oral</td>\n",
       "      <td>Concomitant (the drug was reported as being ta...</td>\n",
       "      <td>OSTEOARTHRITIS</td>\n",
       "      <td>METHOTREXATE</td>\n",
       "      <td>FATIGUE</td>\n",
       "      <td>Unknown</td>\n",
       "    </tr>\n",
       "    <tr>\n",
       "      <th>10380931</th>\n",
       "      <td>46.0</td>\n",
       "      <td>Year</td>\n",
       "      <td>46.0</td>\n",
       "      <td>Year</td>\n",
       "      <td>Female</td>\n",
       "      <td>5363643-7</td>\n",
       "      <td>2007-10-10</td>\n",
       "      <td>2007-06-18</td>\n",
       "      <td>2007-06-18</td>\n",
       "      <td>0</td>\n",
       "      <td>...</td>\n",
       "      <td>The adverse event resulted in death, a life th...</td>\n",
       "      <td>Unknown</td>\n",
       "      <td>UNITED STATES</td>\n",
       "      <td>Other health professional</td>\n",
       "      <td>Unknown</td>\n",
       "      <td>Suspect (the drug was considered by the report...</td>\n",
       "      <td>DIABETES MELLITUS NON-INSULIN-DEPENDENT</td>\n",
       "      <td>AVANDIA</td>\n",
       "      <td>JOINT SWELLING</td>\n",
       "      <td>Unknown</td>\n",
       "    </tr>\n",
       "    <tr>\n",
       "      <th>12163107</th>\n",
       "      <td>48.0</td>\n",
       "      <td>Year</td>\n",
       "      <td>48.0</td>\n",
       "      <td>Year</td>\n",
       "      <td>Female</td>\n",
       "      <td>5704457-5</td>\n",
       "      <td>2008-10-10</td>\n",
       "      <td>2008-04-02</td>\n",
       "      <td>2008-04-09</td>\n",
       "      <td>0</td>\n",
       "      <td>...</td>\n",
       "      <td>The adverse event resulted in death, a life th...</td>\n",
       "      <td>2008SP002530</td>\n",
       "      <td>FRANCE</td>\n",
       "      <td>Consumer or non-health professional</td>\n",
       "      <td>Oral</td>\n",
       "      <td>Suspect (the drug was considered by the report...</td>\n",
       "      <td>CHOLECYSTECTOMY</td>\n",
       "      <td>DESLORATADINE</td>\n",
       "      <td>GASTROENTERITIS</td>\n",
       "      <td>Unknown</td>\n",
       "    </tr>\n",
       "    <tr>\n",
       "      <th>29798787</th>\n",
       "      <td>63.0</td>\n",
       "      <td>Year</td>\n",
       "      <td>63.0</td>\n",
       "      <td>Year</td>\n",
       "      <td>Male</td>\n",
       "      <td>8562422-7</td>\n",
       "      <td>2012-09-28</td>\n",
       "      <td>2012-07-23</td>\n",
       "      <td>2012-08-02</td>\n",
       "      <td>0</td>\n",
       "      <td>...</td>\n",
       "      <td>The adverse event did not result in any of the...</td>\n",
       "      <td>US-BAYER-2012-074834</td>\n",
       "      <td>UNITED STATES</td>\n",
       "      <td>Consumer or non-health professional</td>\n",
       "      <td>Unknown</td>\n",
       "      <td>Suspect (the drug was considered by the report...</td>\n",
       "      <td>PAIN</td>\n",
       "      <td>ALEVE (CAPLET)</td>\n",
       "      <td>NO ADVERSE EVENT</td>\n",
       "      <td>Unknown</td>\n",
       "    </tr>\n",
       "  </tbody>\n",
       "</table>\n",
       "<p>10 rows × 25 columns</p>\n",
       "</div>"
      ],
      "text/plain": [
       "          patient_custom_master_age patient_custom_master_age_unit  \\\n",
       "23771064                       46.0                           Year   \n",
       "8590345                        77.0                           Year   \n",
       "4274231                        44.0                           Year   \n",
       "29172241                       54.0                           Year   \n",
       "24049351                       35.0                           Year   \n",
       "13051242                       79.0                           Year   \n",
       "22535354                       47.0                           Year   \n",
       "10380931                       46.0                           Year   \n",
       "12163107                       48.0                           Year   \n",
       "29798787                       63.0                           Year   \n",
       "\n",
       "          patient_onsetage patient_onsetageunit patient_sex safetyreportid  \\\n",
       "23771064              46.0                 Year        Male      7653634-5   \n",
       "8590345               77.0                 Year     Unknown      5105523-8   \n",
       "4274231               44.0                 Year      Female      4698150-8   \n",
       "29172241              54.0                 Year      Female        8481615   \n",
       "24049351              35.0                 Year      Female      7715798-4   \n",
       "13051242              79.0                 Year      Female      5857446-4   \n",
       "22535354              47.0                 Year      Female      7471098-1   \n",
       "10380931              46.0                 Year      Female      5363643-7   \n",
       "12163107              48.0                 Year      Female      5704457-5   \n",
       "29798787              63.0                 Year        Male      8562422-7   \n",
       "\n",
       "         lastupdate_date mostrecent_receive_date receive_date  \\\n",
       "23771064      2011-12-22              2011-08-03   2011-08-03   \n",
       "8590345       2006-12-08              2006-09-05   2006-09-15   \n",
       "4274231       2005-10-28              2005-06-14   2005-06-23   \n",
       "29172241      2014-01-27              2013-01-10   2012-03-29   \n",
       "24049351      2011-12-22              2011-08-29   2011-08-29   \n",
       "13051242      2009-01-09              2008-04-07   2008-08-18   \n",
       "22535354      2011-10-10              2011-04-28   2011-05-10   \n",
       "10380931      2007-10-10              2007-06-18   2007-06-18   \n",
       "12163107      2008-10-10              2008-04-02   2008-04-09   \n",
       "29798787      2012-09-28              2012-07-23   2012-08-02   \n",
       "\n",
       "          congenital_anomali  ...  \\\n",
       "23771064                   0  ...   \n",
       "8590345                    0  ...   \n",
       "4274231                    0  ...   \n",
       "29172241                   0  ...   \n",
       "24049351                   0  ...   \n",
       "13051242                   0  ...   \n",
       "22535354                   0  ...   \n",
       "10380931                   0  ...   \n",
       "12163107                   0  ...   \n",
       "29798787                   0  ...   \n",
       "\n",
       "                                                    serious  \\\n",
       "23771064  The adverse event resulted in death, a life th...   \n",
       "8590345   The adverse event resulted in death, a life th...   \n",
       "4274231   The adverse event resulted in death, a life th...   \n",
       "29172241  The adverse event resulted in death, a life th...   \n",
       "24049351  The adverse event resulted in death, a life th...   \n",
       "13051242  The adverse event did not result in any of the...   \n",
       "22535354  The adverse event resulted in death, a life th...   \n",
       "10380931  The adverse event resulted in death, a life th...   \n",
       "12163107  The adverse event resulted in death, a life th...   \n",
       "29798787  The adverse event did not result in any of the...   \n",
       "\n",
       "               reporter_company  reporter_country  \\\n",
       "23771064                Unknown     UNITED STATES   \n",
       "8590345   US-JNJFOC-20060902016     UNITED STATES   \n",
       "4274231            2005-06-0342           Unknown   \n",
       "29172241       PHFR2012IE001952                IE   \n",
       "24049351                Unknown     UNITED STATES   \n",
       "13051242          TPA2008A00457     UNITED STATES   \n",
       "22535354   BR-BAYER-200823304LA            BRAZIL   \n",
       "10380931                Unknown     UNITED STATES   \n",
       "12163107           2008SP002530            FRANCE   \n",
       "29798787   US-BAYER-2012-074834     UNITED STATES   \n",
       "\n",
       "                       reporter_qualification  drug_administration  \\\n",
       "23771064  Consumer or non-health professional              Unknown   \n",
       "8590345                             Physician              Unknown   \n",
       "4274231   Consumer or non-health professional              Unknown   \n",
       "29172241                            Physician                 Oral   \n",
       "24049351  Consumer or non-health professional                 Oral   \n",
       "13051242                            Physician                 Oral   \n",
       "22535354  Consumer or non-health professional                 Oral   \n",
       "10380931            Other health professional              Unknown   \n",
       "12163107  Consumer or non-health professional                 Oral   \n",
       "29798787  Consumer or non-health professional              Unknown   \n",
       "\n",
       "                                      drug_characterization  \\\n",
       "23771064  Suspect (the drug was considered by the report...   \n",
       "8590345   Suspect (the drug was considered by the report...   \n",
       "4274231   Suspect (the drug was considered by the report...   \n",
       "29172241  Concomitant (the drug was reported as being ta...   \n",
       "24049351  Suspect (the drug was considered by the report...   \n",
       "13051242  Suspect (the drug was considered by the report...   \n",
       "22535354  Concomitant (the drug was reported as being ta...   \n",
       "10380931  Suspect (the drug was considered by the report...   \n",
       "12163107  Suspect (the drug was considered by the report...   \n",
       "29798787  Suspect (the drug was considered by the report...   \n",
       "\n",
       "                                  drug_indication medicinal_product  \\\n",
       "23771064                          BLOOD URIC ACID       RASBURICASE   \n",
       "8590345                           SUICIDE ATTEMPT     ACETAMINOPHEN   \n",
       "4274231           DRUG USE FOR UNKNOWN INDICATION            ATIVAN   \n",
       "29172241                       AFFECTIVE DISORDER         FLUOXETIN   \n",
       "24049351                               DEPRESSION            LATUDA   \n",
       "13051242                                 INSOMNIA           ROZEREM   \n",
       "22535354                           OSTEOARTHRITIS      METHOTREXATE   \n",
       "10380931  DIABETES MELLITUS NON-INSULIN-DEPENDENT           AVANDIA   \n",
       "12163107                          CHOLECYSTECTOMY     DESLORATADINE   \n",
       "29798787                                     PAIN    ALEVE (CAPLET)   \n",
       "\n",
       "                  reaction_meddrapt    reaction_outcome  \n",
       "23771064                   DYSPNOEA             Unknown  \n",
       "8590345   CARDIO-RESPIRATORY ARREST             Unknown  \n",
       "4274231                    HEADACHE             Unknown  \n",
       "29172241               Constipation  Recovered/resolved  \n",
       "24049351    NO THERAPEUTIC RESPONSE             Unknown  \n",
       "13051242                  PHOTOPSIA             Unknown  \n",
       "22535354                    FATIGUE             Unknown  \n",
       "10380931             JOINT SWELLING             Unknown  \n",
       "12163107            GASTROENTERITIS             Unknown  \n",
       "29798787           NO ADVERSE EVENT             Unknown  \n",
       "\n",
       "[10 rows x 25 columns]"
      ]
     },
     "metadata": {},
     "output_type": "display_data"
    }
   ],
   "source": [
    "data = pd.read_csv(\n",
    "    '../../data/adult_patients_report_drug_reaction.csv.gz',\n",
    "    compression='gzip',\n",
    "    low_memory=False,\n",
    "    index_col=0\n",
    ")\n",
    "\n",
    "sampled_data = data.sample(n=1000, random_state=42)\n",
    "\n",
    "print(\"ข้อมูลสุ่ม 1,000 แถว:\")\n",
    "print(\"\\nจำนวนแถวและคอลัมน์:\", sampled_data.shape)\n",
    "print(\"\\nคอลัมน์ทั้งหมด:\", sampled_data.columns.tolist())\n",
    "display(sampled_data.head(10))\n",
    "\n",
    "\n",
    "sampled_data.to_csv('../../data/sampled_adult_data.csv', index=False)\n",
    "sampled_data.to_excel('../../data/sampled_adult_data.xlsx', index=False)"
   ]
  },
  {
   "cell_type": "code",
   "execution_count": null,
   "metadata": {},
   "outputs": [],
   "source": []
  }
 ],
 "metadata": {
  "kernelspec": {
   "display_name": "Python 3",
   "language": "python",
   "name": "python3"
  },
  "language_info": {
   "codemirror_mode": {
    "name": "ipython",
    "version": 3
   },
   "file_extension": ".py",
   "mimetype": "text/x-python",
   "name": "python",
   "nbconvert_exporter": "python",
   "pygments_lexer": "ipython3",
   "version": "3.12.8"
  }
 },
 "nbformat": 4,
 "nbformat_minor": 2
}
